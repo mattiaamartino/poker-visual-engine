{
 "cells": [
  {
   "cell_type": "code",
   "execution_count": 62,
   "metadata": {},
   "outputs": [],
   "source": [
    "import cv2\n",
    "import os\n",
    "from tqdm import tqdm\n",
    "\n",
    "def remove_background_save(img_path, threshold=220):\n",
    "    img = cv2.imread(img_path)\n",
    "    gray = cv2.cvtColor(img, cv2.COLOR_BGR2GRAY)\n",
    "    _, mask = cv2.threshold(gray, threshold, 255, cv2.THRESH_BINARY_INV)\n",
    "    bgra = cv2.cvtColor(img, cv2.COLOR_BGR2BGRA)\n",
    "    bgra[:, :, 3] = mask\n",
    "    filename = img_path[:-3]\n",
    "    filename += 'png'\n",
    "    cv2.imwrite(filename, bgra)"
   ]
  },
  {
   "cell_type": "code",
   "execution_count": 63,
   "metadata": {},
   "outputs": [
    {
     "name": "stderr",
     "output_type": "stream",
     "text": [
      "  0%|          | 0/22 [00:00<?, ?it/s]"
     ]
    },
    {
     "name": "stderr",
     "output_type": "stream",
     "text": [
      "100%|██████████| 22/22 [00:00<00:00, 33.66it/s]\n"
     ]
    }
   ],
   "source": [
    "objects_path = \"../shared_data/objects\"\n",
    "\n",
    "for file in tqdm(os.listdir(objects_path)):\n",
    "    if file.endswith(\".jpg\"):\n",
    "        remove_background_save(objects_path + \"/\" + file)"
   ]
  },
  {
   "cell_type": "code",
   "execution_count": 64,
   "metadata": {},
   "outputs": [],
   "source": [
    "for file in os.listdir(objects_path):\n",
    "    if file.endswith(\".jpg\"):\n",
    "        os.remove(os.path.join(objects_path, file))"
   ]
  },
  {
   "cell_type": "code",
   "execution_count": 65,
   "metadata": {},
   "outputs": [],
   "source": [
    "def crop_non_transparent(image_path):\n",
    "    image = cv2.imread(image_path, cv2.IMREAD_UNCHANGED)\n",
    "    if image is None or image.shape[2] != 4:\n",
    "        return\n",
    "\n",
    "    alpha_channel = image[:, :, 3]\n",
    "    non_transparent_pixels = cv2.findNonZero(alpha_channel)\n",
    "    if non_transparent_pixels is None:\n",
    "        return\n",
    "\n",
    "    x, y, w, h = cv2.boundingRect(non_transparent_pixels)\n",
    "    cropped_image = image[y:y+h, x:x+w]\n",
    "\n",
    "    cv2.imwrite(image_path, cropped_image)\n",
    "\n",
    "for file in os.listdir(objects_path):\n",
    "    if file.endswith(\".png\"):\n",
    "        crop_non_transparent(os.path.join(objects_path, file))"
   ]
  }
 ],
 "metadata": {
  "kernelspec": {
   "display_name": "computer_vision_env",
   "language": "python",
   "name": "python3"
  },
  "language_info": {
   "codemirror_mode": {
    "name": "ipython",
    "version": 3
   },
   "file_extension": ".py",
   "mimetype": "text/x-python",
   "name": "python",
   "nbconvert_exporter": "python",
   "pygments_lexer": "ipython3",
   "version": "3.10.15"
  }
 },
 "nbformat": 4,
 "nbformat_minor": 2
}
