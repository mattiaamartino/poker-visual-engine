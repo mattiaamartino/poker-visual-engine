{
 "cells": [
  {
   "cell_type": "markdown",
   "metadata": {},
   "source": [
    "# Training on VM"
   ]
  },
  {
   "cell_type": "code",
   "execution_count": 1,
   "metadata": {},
   "outputs": [
    {
     "name": "stdout",
     "output_type": "stream",
     "text": [
      "GPU available: True\n",
      "Number of GPUs:  1\n"
     ]
    }
   ],
   "source": [
    "import torch\n",
    "from ultralytics import YOLO\n",
    "import matplotlib.pyplot as plt\n",
    "import pandas as pd\n",
    "import os\n",
    "%matplotlib inline\n",
    "\n",
    "print(\"GPU available:\", torch.cuda.is_available())\n",
    "print(\"Number of GPUs: \", torch.cuda.device_count())"
   ]
  },
  {
   "cell_type": "code",
   "execution_count": 2,
   "metadata": {},
   "outputs": [
    {
     "data": {
      "text/plain": [
       "'/users/eleves-b/2024/mattia.martino'"
      ]
     },
     "execution_count": 2,
     "metadata": {},
     "output_type": "execute_result"
    }
   ],
   "source": [
    "os.getcwd()"
   ]
  },
  {
   "cell_type": "code",
   "execution_count": 3,
   "metadata": {},
   "outputs": [],
   "source": [
    "model = YOLO('yolo11n.pt')"
   ]
  },
  {
   "cell_type": "code",
   "execution_count": 5,
   "metadata": {},
   "outputs": [
    {
     "name": "stdout",
     "output_type": "stream",
     "text": [
      "Deleted 0 images:\n"
     ]
    }
   ],
   "source": [
    "def delete_images_without_labels(dataset_path, image_extensions=('jpg', 'png'), label_extension='txt'):\n",
    "    \"\"\"\n",
    "    Deletes all images that do not have a corresponding label in the YOLO dataset.\n",
    "\n",
    "    Parameters:\n",
    "        dataset_path (str): Path to the dataset folder containing 'images' and 'labels' directories.\n",
    "        image_extensions (tuple): Allowed image file extensions.\n",
    "        label_extension (str): Extension of label files.\n",
    "\n",
    "    Returns:\n",
    "        list: A list of deleted image file paths.\n",
    "    \"\"\"\n",
    "    images_path = os.path.join(dataset_path, \"images\")\n",
    "    labels_path = os.path.join(dataset_path, \"labels\")\n",
    "\n",
    "    image_files = {os.path.splitext(f)[0]: os.path.join(images_path, f)\n",
    "                   for f in os.listdir(images_path) if f.split('.')[-1].lower() in image_extensions}\n",
    "    label_files = {os.path.splitext(f)[0]: os.path.join(labels_path, f)\n",
    "                   for f in os.listdir(labels_path) if f.endswith(label_extension)}\n",
    "\n",
    "    deleted_images = []\n",
    "\n",
    "    for img_name, img_path in image_files.items():\n",
    "        if img_name not in label_files:\n",
    "            try:\n",
    "                os.remove(img_path)\n",
    "                deleted_images.append(img_path)\n",
    "            except Exception as e:\n",
    "                print(f\"Failed to delete {img_path}: {e}\")\n",
    "\n",
    "    return deleted_images\n",
    "\n",
    "\n",
    "# Example usage\n",
    "dataset_path = \"synthetic_dataset_v2/train\"  # Replace with your dataset path\n",
    "deleted_files = delete_images_without_labels(dataset_path)\n",
    "\n",
    "# Print the results\n",
    "print(f\"Deleted {len(deleted_files)} images:\")\n",
    "for file in deleted_files:\n",
    "    print(f\" - {file}\")"
   ]
  },
  {
   "cell_type": "code",
   "execution_count": 4,
   "metadata": {},
   "outputs": [
    {
     "name": "stdout",
     "output_type": "stream",
     "text": [
      "New https://pypi.org/project/ultralytics/8.3.49 available 😃 Update with 'pip install -U ultralytics'\n",
      "Ultralytics 8.3.40 🚀 Python-3.12.2 torch-2.5.1 CUDA:0 (NVIDIA RTX A4000, 16080MiB)\n",
      "\u001b[34m\u001b[1mengine/trainer: \u001b[0mtask=detect, mode=train, model=yolo11n.pt, data=synthetic_dataset_v3/data_lr.yaml, epochs=20, time=None, patience=100, batch=8, imgsz=640, save=True, save_period=-1, cache=False, device=0, workers=8, project=None, name=train, exist_ok=False, pretrained=True, optimizer=auto, verbose=True, seed=0, deterministic=True, single_cls=False, rect=False, cos_lr=False, close_mosaic=10, resume=False, amp=True, fraction=1.0, profile=False, freeze=None, multi_scale=False, overlap_mask=True, mask_ratio=4, dropout=0.0, val=True, split=val, save_json=False, save_hybrid=False, conf=None, iou=0.7, max_det=300, half=False, dnn=False, plots=True, source=None, vid_stride=1, stream_buffer=False, visualize=False, augment=False, agnostic_nms=False, classes=None, retina_masks=False, embed=None, show=False, save_frames=False, save_txt=False, save_conf=False, save_crop=False, show_labels=True, show_conf=True, show_boxes=True, line_width=None, format=torchscript, keras=False, optimize=False, int8=False, dynamic=False, simplify=True, opset=None, workspace=None, nms=False, lr0=0.01, lrf=0.01, momentum=0.937, weight_decay=0.0005, warmup_epochs=3.0, warmup_momentum=0.8, warmup_bias_lr=0.1, box=7.5, cls=0.5, dfl=1.5, pose=12.0, kobj=1.0, nbs=64, hsv_h=0.015, hsv_s=0.7, hsv_v=0.4, degrees=0.0, translate=0.1, scale=0.5, shear=0.0, perspective=0.0, flipud=0.0, fliplr=0.5, bgr=0.0, mosaic=1.0, mixup=0.0, copy_paste=0.0, copy_paste_mode=flip, auto_augment=randaugment, erasing=0.4, crop_fraction=1.0, cfg=None, tracker=botsort.yaml, save_dir=runs/detect/train\n",
      "Overriding model.yaml nc=80 with nc=54\n",
      "\n",
      "                   from  n    params  module                                       arguments                     \n",
      "  0                  -1  1       464  ultralytics.nn.modules.conv.Conv             [3, 16, 3, 2]                 \n",
      "  1                  -1  1      4672  ultralytics.nn.modules.conv.Conv             [16, 32, 3, 2]                \n",
      "  2                  -1  1      6640  ultralytics.nn.modules.block.C3k2            [32, 64, 1, False, 0.25]      \n",
      "  3                  -1  1     36992  ultralytics.nn.modules.conv.Conv             [64, 64, 3, 2]                \n",
      "  4                  -1  1     26080  ultralytics.nn.modules.block.C3k2            [64, 128, 1, False, 0.25]     \n",
      "  5                  -1  1    147712  ultralytics.nn.modules.conv.Conv             [128, 128, 3, 2]              \n",
      "  6                  -1  1     87040  ultralytics.nn.modules.block.C3k2            [128, 128, 1, True]           \n",
      "  7                  -1  1    295424  ultralytics.nn.modules.conv.Conv             [128, 256, 3, 2]              \n",
      "  8                  -1  1    346112  ultralytics.nn.modules.block.C3k2            [256, 256, 1, True]           \n",
      "  9                  -1  1    164608  ultralytics.nn.modules.block.SPPF            [256, 256, 5]                 \n",
      " 10                  -1  1    249728  ultralytics.nn.modules.block.C2PSA           [256, 256, 1]                 \n",
      " 11                  -1  1         0  torch.nn.modules.upsampling.Upsample         [None, 2, 'nearest']          \n",
      " 12             [-1, 6]  1         0  ultralytics.nn.modules.conv.Concat           [1]                           \n",
      " 13                  -1  1    111296  ultralytics.nn.modules.block.C3k2            [384, 128, 1, False]          \n",
      " 14                  -1  1         0  torch.nn.modules.upsampling.Upsample         [None, 2, 'nearest']          \n",
      " 15             [-1, 4]  1         0  ultralytics.nn.modules.conv.Concat           [1]                           \n",
      " 16                  -1  1     32096  ultralytics.nn.modules.block.C3k2            [256, 64, 1, False]           \n",
      " 17                  -1  1     36992  ultralytics.nn.modules.conv.Conv             [64, 64, 3, 2]                \n",
      " 18            [-1, 13]  1         0  ultralytics.nn.modules.conv.Concat           [1]                           \n",
      " 19                  -1  1     86720  ultralytics.nn.modules.block.C3k2            [192, 128, 1, False]          \n",
      " 20                  -1  1    147712  ultralytics.nn.modules.conv.Conv             [128, 128, 3, 2]              \n",
      " 21            [-1, 10]  1         0  ultralytics.nn.modules.conv.Concat           [1]                           \n",
      " 22                  -1  1    378880  ultralytics.nn.modules.block.C3k2            [384, 256, 1, True]           \n",
      " 23        [16, 19, 22]  1    441202  ultralytics.nn.modules.head.Detect           [54, [64, 128, 256]]          \n",
      "YOLO11n summary: 319 layers, 2,600,370 parameters, 2,600,354 gradients\n",
      "\n",
      "Transferred 448/499 items from pretrained weights\n",
      "Freezing layer 'model.23.dfl.conv.weight'\n",
      "\u001b[34m\u001b[1mAMP: \u001b[0mrunning Automatic Mixed Precision (AMP) checks...\n",
      "\u001b[34m\u001b[1mAMP: \u001b[0mchecks passed ✅\n"
     ]
    },
    {
     "name": "stderr",
     "output_type": "stream",
     "text": [
      "\u001b[34m\u001b[1mtrain: \u001b[0mScanning /users/eleves-b/2024/mattia.martino/synthetic_dataset_v3/train/labels... 9477 images, 0 backgrounds, 379 corrupt: 100%|██████████| 9477/9477 [00:11<00:00, 823.04it/s] "
     ]
    },
    {
     "name": "stdout",
     "output_type": "stream",
     "text": [
      "\u001b[34m\u001b[1mtrain: \u001b[0mWARNING ⚠️ /users/eleves-b/2024/mattia.martino/synthetic_dataset_v3/train/images/image_00040.png: ignoring corrupt image/label: non-normalized or out of bounds coordinates [     1.0162      1.0821]\n",
      "\u001b[34m\u001b[1mtrain: \u001b[0mWARNING ⚠️ /users/eleves-b/2024/mattia.martino/synthetic_dataset_v3/train/images/image_00072.png: ignoring corrupt image/label: non-normalized or out of bounds coordinates [     1.0239]\n",
      "\u001b[34m\u001b[1mtrain: \u001b[0mWARNING ⚠️ /users/eleves-b/2024/mattia.martino/synthetic_dataset_v3/train/images/image_00079.png: ignoring corrupt image/label: non-normalized or out of bounds coordinates [     1.1233      1.0381]\n",
      "\u001b[34m\u001b[1mtrain: \u001b[0mWARNING ⚠️ /users/eleves-b/2024/mattia.martino/synthetic_dataset_v3/train/images/image_00094.png: ignoring corrupt image/label: non-normalized or out of bounds coordinates [     1.0123]\n",
      "\u001b[34m\u001b[1mtrain: \u001b[0mWARNING ⚠️ /users/eleves-b/2024/mattia.martino/synthetic_dataset_v3/train/images/image_00115.png: ignoring corrupt image/label: non-normalized or out of bounds coordinates [     1.0098]\n",
      "\u001b[34m\u001b[1mtrain: \u001b[0mWARNING ⚠️ /users/eleves-b/2024/mattia.martino/synthetic_dataset_v3/train/images/image_00195.png: ignoring corrupt image/label: non-normalized or out of bounds coordinates [     1.0118]\n",
      "\u001b[34m\u001b[1mtrain: \u001b[0mWARNING ⚠️ /users/eleves-b/2024/mattia.martino/synthetic_dataset_v3/train/images/image_00210.png: ignoring corrupt image/label: non-normalized or out of bounds coordinates [     1.0043      1.0046]\n",
      "\u001b[34m\u001b[1mtrain: \u001b[0mWARNING ⚠️ /users/eleves-b/2024/mattia.martino/synthetic_dataset_v3/train/images/image_00281.png: ignoring corrupt image/label: non-normalized or out of bounds coordinates [      1.015       1.073]\n",
      "\u001b[34m\u001b[1mtrain: \u001b[0mWARNING ⚠️ /users/eleves-b/2024/mattia.martino/synthetic_dataset_v3/train/images/image_00342.png: ignoring corrupt image/label: non-normalized or out of bounds coordinates [     1.1252       1.062]\n",
      "\u001b[34m\u001b[1mtrain: \u001b[0mWARNING ⚠️ /users/eleves-b/2024/mattia.martino/synthetic_dataset_v3/train/images/image_00394.png: ignoring corrupt image/label: non-normalized or out of bounds coordinates [     1.1072      1.0267]\n",
      "\u001b[34m\u001b[1mtrain: \u001b[0mWARNING ⚠️ /users/eleves-b/2024/mattia.martino/synthetic_dataset_v3/train/images/image_00414.png: ignoring corrupt image/label: non-normalized or out of bounds coordinates [     1.0929      1.0494]\n",
      "\u001b[34m\u001b[1mtrain: \u001b[0mWARNING ⚠️ /users/eleves-b/2024/mattia.martino/synthetic_dataset_v3/train/images/image_00430.png: ignoring corrupt image/label: non-normalized or out of bounds coordinates [     1.0028]\n",
      "\u001b[34m\u001b[1mtrain: \u001b[0mWARNING ⚠️ /users/eleves-b/2024/mattia.martino/synthetic_dataset_v3/train/images/image_00457.png: ignoring corrupt image/label: non-normalized or out of bounds coordinates [     1.0118      1.0036]\n",
      "\u001b[34m\u001b[1mtrain: \u001b[0mWARNING ⚠️ /users/eleves-b/2024/mattia.martino/synthetic_dataset_v3/train/images/image_00585.png: ignoring corrupt image/label: non-normalized or out of bounds coordinates [     1.0204]\n",
      "\u001b[34m\u001b[1mtrain: \u001b[0mWARNING ⚠️ /users/eleves-b/2024/mattia.martino/synthetic_dataset_v3/train/images/image_00610.png: ignoring corrupt image/label: non-normalized or out of bounds coordinates [     1.0873      1.0109]\n",
      "\u001b[34m\u001b[1mtrain: \u001b[0mWARNING ⚠️ /users/eleves-b/2024/mattia.martino/synthetic_dataset_v3/train/images/image_00611.png: ignoring corrupt image/label: non-normalized or out of bounds coordinates [      1.015]\n",
      "\u001b[34m\u001b[1mtrain: \u001b[0mWARNING ⚠️ /users/eleves-b/2024/mattia.martino/synthetic_dataset_v3/train/images/image_00670.png: ignoring corrupt image/label: non-normalized or out of bounds coordinates [     1.0041      1.0012]\n",
      "\u001b[34m\u001b[1mtrain: \u001b[0mWARNING ⚠️ /users/eleves-b/2024/mattia.martino/synthetic_dataset_v3/train/images/image_00682.png: ignoring corrupt image/label: non-normalized or out of bounds coordinates [     1.0069]\n",
      "\u001b[34m\u001b[1mtrain: \u001b[0mWARNING ⚠️ /users/eleves-b/2024/mattia.martino/synthetic_dataset_v3/train/images/image_00695.png: ignoring corrupt image/label: non-normalized or out of bounds coordinates [     1.0171      1.0275]\n",
      "\u001b[34m\u001b[1mtrain: \u001b[0mWARNING ⚠️ /users/eleves-b/2024/mattia.martino/synthetic_dataset_v3/train/images/image_00718.png: ignoring corrupt image/label: non-normalized or out of bounds coordinates [     1.0408       1.048]\n",
      "\u001b[34m\u001b[1mtrain: \u001b[0mWARNING ⚠️ /users/eleves-b/2024/mattia.martino/synthetic_dataset_v3/train/images/image_00746.png: ignoring corrupt image/label: non-normalized or out of bounds coordinates [     1.0377]\n",
      "\u001b[34m\u001b[1mtrain: \u001b[0mWARNING ⚠️ /users/eleves-b/2024/mattia.martino/synthetic_dataset_v3/train/images/image_00762.png: ignoring corrupt image/label: non-normalized or out of bounds coordinates [     1.1194      1.1291]\n",
      "\u001b[34m\u001b[1mtrain: \u001b[0mWARNING ⚠️ /users/eleves-b/2024/mattia.martino/synthetic_dataset_v3/train/images/image_00771.png: ignoring corrupt image/label: non-normalized or out of bounds coordinates [     1.0536      1.0279]\n",
      "\u001b[34m\u001b[1mtrain: \u001b[0mWARNING ⚠️ /users/eleves-b/2024/mattia.martino/synthetic_dataset_v3/train/images/image_00775.png: ignoring corrupt image/label: non-normalized or out of bounds coordinates [     1.0866      1.1355]\n",
      "\u001b[34m\u001b[1mtrain: \u001b[0mWARNING ⚠️ /users/eleves-b/2024/mattia.martino/synthetic_dataset_v3/train/images/image_00824.png: ignoring corrupt image/label: non-normalized or out of bounds coordinates [     1.0209]\n",
      "\u001b[34m\u001b[1mtrain: \u001b[0mWARNING ⚠️ /users/eleves-b/2024/mattia.martino/synthetic_dataset_v3/train/images/image_00863.png: ignoring corrupt image/label: non-normalized or out of bounds coordinates [     1.0685      1.0746]\n",
      "\u001b[34m\u001b[1mtrain: \u001b[0mWARNING ⚠️ /users/eleves-b/2024/mattia.martino/synthetic_dataset_v3/train/images/image_00893.png: ignoring corrupt image/label: non-normalized or out of bounds coordinates [     1.0429      1.1121]\n",
      "\u001b[34m\u001b[1mtrain: \u001b[0mWARNING ⚠️ /users/eleves-b/2024/mattia.martino/synthetic_dataset_v3/train/images/image_00900.png: ignoring corrupt image/label: non-normalized or out of bounds coordinates [      1.129      1.0282]\n",
      "\u001b[34m\u001b[1mtrain: \u001b[0mWARNING ⚠️ /users/eleves-b/2024/mattia.martino/synthetic_dataset_v3/train/images/image_00919.png: ignoring corrupt image/label: non-normalized or out of bounds coordinates [     1.0761      1.0893]\n",
      "\u001b[34m\u001b[1mtrain: \u001b[0mWARNING ⚠️ /users/eleves-b/2024/mattia.martino/synthetic_dataset_v3/train/images/image_00973.png: ignoring corrupt image/label: non-normalized or out of bounds coordinates [     1.0084]\n",
      "\u001b[34m\u001b[1mtrain: \u001b[0mWARNING ⚠️ /users/eleves-b/2024/mattia.martino/synthetic_dataset_v3/train/images/image_00988.png: ignoring corrupt image/label: non-normalized or out of bounds coordinates [      1.012]\n",
      "\u001b[34m\u001b[1mtrain: \u001b[0mWARNING ⚠️ /users/eleves-b/2024/mattia.martino/synthetic_dataset_v3/train/images/image_01043.png: ignoring corrupt image/label: non-normalized or out of bounds coordinates [     1.0017]\n",
      "\u001b[34m\u001b[1mtrain: \u001b[0mWARNING ⚠️ /users/eleves-b/2024/mattia.martino/synthetic_dataset_v3/train/images/image_01080.png: ignoring corrupt image/label: non-normalized or out of bounds coordinates [     1.0324]\n",
      "\u001b[34m\u001b[1mtrain: \u001b[0mWARNING ⚠️ /users/eleves-b/2024/mattia.martino/synthetic_dataset_v3/train/images/image_01122.png: ignoring corrupt image/label: non-normalized or out of bounds coordinates [     1.0458      1.0941]\n",
      "\u001b[34m\u001b[1mtrain: \u001b[0mWARNING ⚠️ /users/eleves-b/2024/mattia.martino/synthetic_dataset_v3/train/images/image_01165.png: ignoring corrupt image/label: non-normalized or out of bounds coordinates [     1.0866      1.0506]\n",
      "\u001b[34m\u001b[1mtrain: \u001b[0mWARNING ⚠️ /users/eleves-b/2024/mattia.martino/synthetic_dataset_v3/train/images/image_01182.png: ignoring corrupt image/label: non-normalized or out of bounds coordinates [     1.0754      1.1189]\n",
      "\u001b[34m\u001b[1mtrain: \u001b[0mWARNING ⚠️ /users/eleves-b/2024/mattia.martino/synthetic_dataset_v3/train/images/image_01210.png: ignoring corrupt image/label: non-normalized or out of bounds coordinates [     1.1027       1.176]\n",
      "\u001b[34m\u001b[1mtrain: \u001b[0mWARNING ⚠️ /users/eleves-b/2024/mattia.martino/synthetic_dataset_v3/train/images/image_01237.png: ignoring corrupt image/label: non-normalized or out of bounds coordinates [     1.0038]\n",
      "\u001b[34m\u001b[1mtrain: \u001b[0mWARNING ⚠️ /users/eleves-b/2024/mattia.martino/synthetic_dataset_v3/train/images/image_01295.png: ignoring corrupt image/label: non-normalized or out of bounds coordinates [     1.1207      1.0649]\n",
      "\u001b[34m\u001b[1mtrain: \u001b[0mWARNING ⚠️ /users/eleves-b/2024/mattia.martino/synthetic_dataset_v3/train/images/image_01316.png: ignoring corrupt image/label: non-normalized or out of bounds coordinates [     1.1234      1.0681]\n",
      "\u001b[34m\u001b[1mtrain: \u001b[0mWARNING ⚠️ /users/eleves-b/2024/mattia.martino/synthetic_dataset_v3/train/images/image_01345.png: ignoring corrupt image/label: non-normalized or out of bounds coordinates [     1.1452      1.0684]\n",
      "\u001b[34m\u001b[1mtrain: \u001b[0mWARNING ⚠️ /users/eleves-b/2024/mattia.martino/synthetic_dataset_v3/train/images/image_01388.png: ignoring corrupt image/label: non-normalized or out of bounds coordinates [     1.1417      1.1837]\n",
      "\u001b[34m\u001b[1mtrain: \u001b[0mWARNING ⚠️ /users/eleves-b/2024/mattia.martino/synthetic_dataset_v3/train/images/image_01395.png: ignoring corrupt image/label: non-normalized or out of bounds coordinates [     1.1129      1.1132]\n",
      "\u001b[34m\u001b[1mtrain: \u001b[0mWARNING ⚠️ /users/eleves-b/2024/mattia.martino/synthetic_dataset_v3/train/images/image_01430.png: ignoring corrupt image/label: non-normalized or out of bounds coordinates [     1.0007       1.001]\n",
      "\u001b[34m\u001b[1mtrain: \u001b[0mWARNING ⚠️ /users/eleves-b/2024/mattia.martino/synthetic_dataset_v3/train/images/image_01432.png: ignoring corrupt image/label: non-normalized or out of bounds coordinates [     1.1222      1.1272]\n",
      "\u001b[34m\u001b[1mtrain: \u001b[0mWARNING ⚠️ /users/eleves-b/2024/mattia.martino/synthetic_dataset_v3/train/images/image_01516.png: ignoring corrupt image/label: non-normalized or out of bounds coordinates [     1.0042      1.0135]\n",
      "\u001b[34m\u001b[1mtrain: \u001b[0mWARNING ⚠️ /users/eleves-b/2024/mattia.martino/synthetic_dataset_v3/train/images/image_01551.png: ignoring corrupt image/label: non-normalized or out of bounds coordinates [     1.1099      1.0466]\n",
      "\u001b[34m\u001b[1mtrain: \u001b[0mWARNING ⚠️ /users/eleves-b/2024/mattia.martino/synthetic_dataset_v3/train/images/image_01586.png: ignoring corrupt image/label: non-normalized or out of bounds coordinates [     1.1418      1.1326]\n",
      "\u001b[34m\u001b[1mtrain: \u001b[0mWARNING ⚠️ /users/eleves-b/2024/mattia.martino/synthetic_dataset_v3/train/images/image_01606.png: ignoring corrupt image/label: non-normalized or out of bounds coordinates [     1.0088]\n",
      "\u001b[34m\u001b[1mtrain: \u001b[0mWARNING ⚠️ /users/eleves-b/2024/mattia.martino/synthetic_dataset_v3/train/images/image_01666.png: ignoring corrupt image/label: non-normalized or out of bounds coordinates [     1.1245      1.1088]\n",
      "\u001b[34m\u001b[1mtrain: \u001b[0mWARNING ⚠️ /users/eleves-b/2024/mattia.martino/synthetic_dataset_v3/train/images/image_01761.png: ignoring corrupt image/label: non-normalized or out of bounds coordinates [      1.135      1.0548]\n",
      "\u001b[34m\u001b[1mtrain: \u001b[0mWARNING ⚠️ /users/eleves-b/2024/mattia.martino/synthetic_dataset_v3/train/images/image_01866.png: ignoring corrupt image/label: non-normalized or out of bounds coordinates [       1.07      1.0954]\n",
      "\u001b[34m\u001b[1mtrain: \u001b[0mWARNING ⚠️ /users/eleves-b/2024/mattia.martino/synthetic_dataset_v3/train/images/image_01868.png: ignoring corrupt image/label: non-normalized or out of bounds coordinates [     1.0306]\n",
      "\u001b[34m\u001b[1mtrain: \u001b[0mWARNING ⚠️ /users/eleves-b/2024/mattia.martino/synthetic_dataset_v3/train/images/image_01874.png: ignoring corrupt image/label: non-normalized or out of bounds coordinates [     1.0803      1.0429]\n",
      "\u001b[34m\u001b[1mtrain: \u001b[0mWARNING ⚠️ /users/eleves-b/2024/mattia.martino/synthetic_dataset_v3/train/images/image_01925.png: ignoring corrupt image/label: non-normalized or out of bounds coordinates [     1.0189]\n",
      "\u001b[34m\u001b[1mtrain: \u001b[0mWARNING ⚠️ /users/eleves-b/2024/mattia.martino/synthetic_dataset_v3/train/images/image_01945.png: ignoring corrupt image/label: non-normalized or out of bounds coordinates [     1.0817      1.1507]\n",
      "\u001b[34m\u001b[1mtrain: \u001b[0mWARNING ⚠️ /users/eleves-b/2024/mattia.martino/synthetic_dataset_v3/train/images/image_01950.png: ignoring corrupt image/label: non-normalized or out of bounds coordinates [     1.0092      1.0015]\n",
      "\u001b[34m\u001b[1mtrain: \u001b[0mWARNING ⚠️ /users/eleves-b/2024/mattia.martino/synthetic_dataset_v3/train/images/image_01951.png: ignoring corrupt image/label: non-normalized or out of bounds coordinates [     1.0657       1.089]\n",
      "\u001b[34m\u001b[1mtrain: \u001b[0mWARNING ⚠️ /users/eleves-b/2024/mattia.martino/synthetic_dataset_v3/train/images/image_01956.png: ignoring corrupt image/label: non-normalized or out of bounds coordinates [     1.0405      1.0805]\n",
      "\u001b[34m\u001b[1mtrain: \u001b[0mWARNING ⚠️ /users/eleves-b/2024/mattia.martino/synthetic_dataset_v3/train/images/image_01995.png: ignoring corrupt image/label: non-normalized or out of bounds coordinates [     1.0096]\n",
      "\u001b[34m\u001b[1mtrain: \u001b[0mWARNING ⚠️ /users/eleves-b/2024/mattia.martino/synthetic_dataset_v3/train/images/image_02012.png: ignoring corrupt image/label: non-normalized or out of bounds coordinates [     1.0043       1.016]\n",
      "\u001b[34m\u001b[1mtrain: \u001b[0mWARNING ⚠️ /users/eleves-b/2024/mattia.martino/synthetic_dataset_v3/train/images/image_02048.png: ignoring corrupt image/label: non-normalized or out of bounds coordinates [     1.0472      1.0763]\n",
      "\u001b[34m\u001b[1mtrain: \u001b[0mWARNING ⚠️ /users/eleves-b/2024/mattia.martino/synthetic_dataset_v3/train/images/image_02056.png: ignoring corrupt image/label: non-normalized or out of bounds coordinates [     1.0219      1.0088]\n",
      "\u001b[34m\u001b[1mtrain: \u001b[0mWARNING ⚠️ /users/eleves-b/2024/mattia.martino/synthetic_dataset_v3/train/images/image_02143.png: ignoring corrupt image/label: non-normalized or out of bounds coordinates [     1.1123      1.1477]\n",
      "\u001b[34m\u001b[1mtrain: \u001b[0mWARNING ⚠️ /users/eleves-b/2024/mattia.martino/synthetic_dataset_v3/train/images/image_02167.png: ignoring corrupt image/label: non-normalized or out of bounds coordinates [     1.0048]\n",
      "\u001b[34m\u001b[1mtrain: \u001b[0mWARNING ⚠️ /users/eleves-b/2024/mattia.martino/synthetic_dataset_v3/train/images/image_02206.png: ignoring corrupt image/label: non-normalized or out of bounds coordinates [      1.002]\n",
      "\u001b[34m\u001b[1mtrain: \u001b[0mWARNING ⚠️ /users/eleves-b/2024/mattia.martino/synthetic_dataset_v3/train/images/image_02243.png: ignoring corrupt image/label: non-normalized or out of bounds coordinates [        1.1       1.112]\n",
      "\u001b[34m\u001b[1mtrain: \u001b[0mWARNING ⚠️ /users/eleves-b/2024/mattia.martino/synthetic_dataset_v3/train/images/image_02246.png: ignoring corrupt image/label: non-normalized or out of bounds coordinates [     1.0098]\n",
      "\u001b[34m\u001b[1mtrain: \u001b[0mWARNING ⚠️ /users/eleves-b/2024/mattia.martino/synthetic_dataset_v3/train/images/image_02348.png: ignoring corrupt image/label: non-normalized or out of bounds coordinates [     1.0132]\n",
      "\u001b[34m\u001b[1mtrain: \u001b[0mWARNING ⚠️ /users/eleves-b/2024/mattia.martino/synthetic_dataset_v3/train/images/image_02380.png: ignoring corrupt image/label: non-normalized or out of bounds coordinates [     1.0772       1.063]\n",
      "\u001b[34m\u001b[1mtrain: \u001b[0mWARNING ⚠️ /users/eleves-b/2024/mattia.martino/synthetic_dataset_v3/train/images/image_02419.png: ignoring corrupt image/label: non-normalized or out of bounds coordinates [     1.1211        1.01]\n",
      "\u001b[34m\u001b[1mtrain: \u001b[0mWARNING ⚠️ /users/eleves-b/2024/mattia.martino/synthetic_dataset_v3/train/images/image_02468.png: ignoring corrupt image/label: non-normalized or out of bounds coordinates [      1.021]\n",
      "\u001b[34m\u001b[1mtrain: \u001b[0mWARNING ⚠️ /users/eleves-b/2024/mattia.martino/synthetic_dataset_v3/train/images/image_02483.png: ignoring corrupt image/label: non-normalized or out of bounds coordinates [     1.0031]\n",
      "\u001b[34m\u001b[1mtrain: \u001b[0mWARNING ⚠️ /users/eleves-b/2024/mattia.martino/synthetic_dataset_v3/train/images/image_02682.png: ignoring corrupt image/label: non-normalized or out of bounds coordinates [     1.0086      1.1195      1.0507]\n",
      "\u001b[34m\u001b[1mtrain: \u001b[0mWARNING ⚠️ /users/eleves-b/2024/mattia.martino/synthetic_dataset_v3/train/images/image_02688.png: ignoring corrupt image/label: non-normalized or out of bounds coordinates [     1.0306]\n",
      "\u001b[34m\u001b[1mtrain: \u001b[0mWARNING ⚠️ /users/eleves-b/2024/mattia.martino/synthetic_dataset_v3/train/images/image_02813.png: ignoring corrupt image/label: non-normalized or out of bounds coordinates [     1.0016]\n",
      "\u001b[34m\u001b[1mtrain: \u001b[0mWARNING ⚠️ /users/eleves-b/2024/mattia.martino/synthetic_dataset_v3/train/images/image_02888.png: ignoring corrupt image/label: non-normalized or out of bounds coordinates [     1.0812       1.083]\n",
      "\u001b[34m\u001b[1mtrain: \u001b[0mWARNING ⚠️ /users/eleves-b/2024/mattia.martino/synthetic_dataset_v3/train/images/image_02968.png: ignoring corrupt image/label: non-normalized or out of bounds coordinates [     1.0335]\n",
      "\u001b[34m\u001b[1mtrain: \u001b[0mWARNING ⚠️ /users/eleves-b/2024/mattia.martino/synthetic_dataset_v3/train/images/image_02985.png: ignoring corrupt image/label: non-normalized or out of bounds coordinates [      1.007]\n",
      "\u001b[34m\u001b[1mtrain: \u001b[0mWARNING ⚠️ /users/eleves-b/2024/mattia.martino/synthetic_dataset_v3/train/images/image_02989.png: ignoring corrupt image/label: non-normalized or out of bounds coordinates [     1.0011]\n",
      "\u001b[34m\u001b[1mtrain: \u001b[0mWARNING ⚠️ /users/eleves-b/2024/mattia.martino/synthetic_dataset_v3/train/images/image_03025.png: ignoring corrupt image/label: non-normalized or out of bounds coordinates [      1.066      1.1317]\n",
      "\u001b[34m\u001b[1mtrain: \u001b[0mWARNING ⚠️ /users/eleves-b/2024/mattia.martino/synthetic_dataset_v3/train/images/image_03109.png: ignoring corrupt image/label: non-normalized or out of bounds coordinates [     1.0118       1.006]\n",
      "\u001b[34m\u001b[1mtrain: \u001b[0mWARNING ⚠️ /users/eleves-b/2024/mattia.martino/synthetic_dataset_v3/train/images/image_03177.png: ignoring corrupt image/label: non-normalized or out of bounds coordinates [     1.0856      1.0147]\n",
      "\u001b[34m\u001b[1mtrain: \u001b[0mWARNING ⚠️ /users/eleves-b/2024/mattia.martino/synthetic_dataset_v3/train/images/image_03185.png: ignoring corrupt image/label: non-normalized or out of bounds coordinates [     1.0007]\n",
      "\u001b[34m\u001b[1mtrain: \u001b[0mWARNING ⚠️ /users/eleves-b/2024/mattia.martino/synthetic_dataset_v3/train/images/image_03186.png: ignoring corrupt image/label: non-normalized or out of bounds coordinates [     1.0046]\n",
      "\u001b[34m\u001b[1mtrain: \u001b[0mWARNING ⚠️ /users/eleves-b/2024/mattia.martino/synthetic_dataset_v3/train/images/image_03191.png: ignoring corrupt image/label: non-normalized or out of bounds coordinates [     1.0117]\n",
      "\u001b[34m\u001b[1mtrain: \u001b[0mWARNING ⚠️ /users/eleves-b/2024/mattia.martino/synthetic_dataset_v3/train/images/image_03210.png: ignoring corrupt image/label: non-normalized or out of bounds coordinates [     1.1371      1.0453]\n",
      "\u001b[34m\u001b[1mtrain: \u001b[0mWARNING ⚠️ /users/eleves-b/2024/mattia.martino/synthetic_dataset_v3/train/images/image_03215.png: ignoring corrupt image/label: non-normalized or out of bounds coordinates [     1.0229      1.0065]\n",
      "\u001b[34m\u001b[1mtrain: \u001b[0mWARNING ⚠️ /users/eleves-b/2024/mattia.martino/synthetic_dataset_v3/train/images/image_03220.png: ignoring corrupt image/label: non-normalized or out of bounds coordinates [     1.1011      1.1327]\n",
      "\u001b[34m\u001b[1mtrain: \u001b[0mWARNING ⚠️ /users/eleves-b/2024/mattia.martino/synthetic_dataset_v3/train/images/image_03238.png: ignoring corrupt image/label: non-normalized or out of bounds coordinates [     1.0589      1.1086]\n",
      "\u001b[34m\u001b[1mtrain: \u001b[0mWARNING ⚠️ /users/eleves-b/2024/mattia.martino/synthetic_dataset_v3/train/images/image_03240.png: ignoring corrupt image/label: non-normalized or out of bounds coordinates [     1.0097]\n",
      "\u001b[34m\u001b[1mtrain: \u001b[0mWARNING ⚠️ /users/eleves-b/2024/mattia.martino/synthetic_dataset_v3/train/images/image_03338.png: ignoring corrupt image/label: non-normalized or out of bounds coordinates [      1.004]\n",
      "\u001b[34m\u001b[1mtrain: \u001b[0mWARNING ⚠️ /users/eleves-b/2024/mattia.martino/synthetic_dataset_v3/train/images/image_03367.png: ignoring corrupt image/label: non-normalized or out of bounds coordinates [     1.0594      1.0883]\n",
      "\u001b[34m\u001b[1mtrain: \u001b[0mWARNING ⚠️ /users/eleves-b/2024/mattia.martino/synthetic_dataset_v3/train/images/image_03426.png: ignoring corrupt image/label: non-normalized or out of bounds coordinates [     1.0828      1.1745]\n",
      "\u001b[34m\u001b[1mtrain: \u001b[0mWARNING ⚠️ /users/eleves-b/2024/mattia.martino/synthetic_dataset_v3/train/images/image_03594.png: ignoring corrupt image/label: non-normalized or out of bounds coordinates [     1.0646      1.0108]\n",
      "\u001b[34m\u001b[1mtrain: \u001b[0mWARNING ⚠️ /users/eleves-b/2024/mattia.martino/synthetic_dataset_v3/train/images/image_03615.png: ignoring corrupt image/label: non-normalized or out of bounds coordinates [     1.0955      1.0015]\n",
      "\u001b[34m\u001b[1mtrain: \u001b[0mWARNING ⚠️ /users/eleves-b/2024/mattia.martino/synthetic_dataset_v3/train/images/image_03619.png: ignoring corrupt image/label: non-normalized or out of bounds coordinates [     1.0398      1.0921]\n",
      "\u001b[34m\u001b[1mtrain: \u001b[0mWARNING ⚠️ /users/eleves-b/2024/mattia.martino/synthetic_dataset_v3/train/images/image_03638.png: ignoring corrupt image/label: non-normalized or out of bounds coordinates [     1.0894      1.0448]\n",
      "\u001b[34m\u001b[1mtrain: \u001b[0mWARNING ⚠️ /users/eleves-b/2024/mattia.martino/synthetic_dataset_v3/train/images/image_03689.png: ignoring corrupt image/label: non-normalized or out of bounds coordinates [     1.0457       1.113]\n",
      "\u001b[34m\u001b[1mtrain: \u001b[0mWARNING ⚠️ /users/eleves-b/2024/mattia.martino/synthetic_dataset_v3/train/images/image_03730.png: ignoring corrupt image/label: non-normalized or out of bounds coordinates [     1.1466      1.1503]\n",
      "\u001b[34m\u001b[1mtrain: \u001b[0mWARNING ⚠️ /users/eleves-b/2024/mattia.martino/synthetic_dataset_v3/train/images/image_03853.png: ignoring corrupt image/label: non-normalized or out of bounds coordinates [     1.0193]\n",
      "\u001b[34m\u001b[1mtrain: \u001b[0mWARNING ⚠️ /users/eleves-b/2024/mattia.martino/synthetic_dataset_v3/train/images/image_03869.png: ignoring corrupt image/label: non-normalized or out of bounds coordinates [     1.0585      1.0121]\n",
      "\u001b[34m\u001b[1mtrain: \u001b[0mWARNING ⚠️ /users/eleves-b/2024/mattia.martino/synthetic_dataset_v3/train/images/image_03884.png: ignoring corrupt image/label: non-normalized or out of bounds coordinates [     1.0925      1.0723]\n",
      "\u001b[34m\u001b[1mtrain: \u001b[0mWARNING ⚠️ /users/eleves-b/2024/mattia.martino/synthetic_dataset_v3/train/images/image_03903.png: ignoring corrupt image/label: non-normalized or out of bounds coordinates [     1.0507      1.0907]\n",
      "\u001b[34m\u001b[1mtrain: \u001b[0mWARNING ⚠️ /users/eleves-b/2024/mattia.martino/synthetic_dataset_v3/train/images/image_03926.png: ignoring corrupt image/label: non-normalized or out of bounds coordinates [     1.0248]\n",
      "\u001b[34m\u001b[1mtrain: \u001b[0mWARNING ⚠️ /users/eleves-b/2024/mattia.martino/synthetic_dataset_v3/train/images/image_03954.png: ignoring corrupt image/label: non-normalized or out of bounds coordinates [     1.1133      1.0388]\n",
      "\u001b[34m\u001b[1mtrain: \u001b[0mWARNING ⚠️ /users/eleves-b/2024/mattia.martino/synthetic_dataset_v3/train/images/image_04095.png: ignoring corrupt image/label: non-normalized or out of bounds coordinates [     1.0056]\n",
      "\u001b[34m\u001b[1mtrain: \u001b[0mWARNING ⚠️ /users/eleves-b/2024/mattia.martino/synthetic_dataset_v3/train/images/image_04166.png: ignoring corrupt image/label: non-normalized or out of bounds coordinates [     1.0198      1.0055]\n",
      "\u001b[34m\u001b[1mtrain: \u001b[0mWARNING ⚠️ /users/eleves-b/2024/mattia.martino/synthetic_dataset_v3/train/images/image_04243.png: ignoring corrupt image/label: non-normalized or out of bounds coordinates [     1.1008      1.1197]\n",
      "\u001b[34m\u001b[1mtrain: \u001b[0mWARNING ⚠️ /users/eleves-b/2024/mattia.martino/synthetic_dataset_v3/train/images/image_04251.png: ignoring corrupt image/label: non-normalized or out of bounds coordinates [     1.1073       1.078]\n",
      "\u001b[34m\u001b[1mtrain: \u001b[0mWARNING ⚠️ /users/eleves-b/2024/mattia.martino/synthetic_dataset_v3/train/images/image_04276.png: ignoring corrupt image/label: non-normalized or out of bounds coordinates [      1.003]\n",
      "\u001b[34m\u001b[1mtrain: \u001b[0mWARNING ⚠️ /users/eleves-b/2024/mattia.martino/synthetic_dataset_v3/train/images/image_04326.png: ignoring corrupt image/label: non-normalized or out of bounds coordinates [      1.055      1.0111]\n",
      "\u001b[34m\u001b[1mtrain: \u001b[0mWARNING ⚠️ /users/eleves-b/2024/mattia.martino/synthetic_dataset_v3/train/images/image_04354.png: ignoring corrupt image/label: non-normalized or out of bounds coordinates [     1.0309]\n",
      "\u001b[34m\u001b[1mtrain: \u001b[0mWARNING ⚠️ /users/eleves-b/2024/mattia.martino/synthetic_dataset_v3/train/images/image_04365.png: ignoring corrupt image/label: non-normalized or out of bounds coordinates [     1.0079]\n",
      "\u001b[34m\u001b[1mtrain: \u001b[0mWARNING ⚠️ /users/eleves-b/2024/mattia.martino/synthetic_dataset_v3/train/images/image_04412.png: ignoring corrupt image/label: non-normalized or out of bounds coordinates [      1.132      1.1363]\n",
      "\u001b[34m\u001b[1mtrain: \u001b[0mWARNING ⚠️ /users/eleves-b/2024/mattia.martino/synthetic_dataset_v3/train/images/image_04434.png: ignoring corrupt image/label: non-normalized or out of bounds coordinates [     1.1542        1.13]\n",
      "\u001b[34m\u001b[1mtrain: \u001b[0mWARNING ⚠️ /users/eleves-b/2024/mattia.martino/synthetic_dataset_v3/train/images/image_04459.png: ignoring corrupt image/label: non-normalized or out of bounds coordinates [     1.0312       1.063]\n",
      "\u001b[34m\u001b[1mtrain: \u001b[0mWARNING ⚠️ /users/eleves-b/2024/mattia.martino/synthetic_dataset_v3/train/images/image_04488.png: ignoring corrupt image/label: non-normalized or out of bounds coordinates [     1.0405       1.081]\n",
      "\u001b[34m\u001b[1mtrain: \u001b[0mWARNING ⚠️ /users/eleves-b/2024/mattia.martino/synthetic_dataset_v3/train/images/image_04511.png: ignoring corrupt image/label: non-normalized or out of bounds coordinates [     1.0072]\n",
      "\u001b[34m\u001b[1mtrain: \u001b[0mWARNING ⚠️ /users/eleves-b/2024/mattia.martino/synthetic_dataset_v3/train/images/image_04525.png: ignoring corrupt image/label: non-normalized or out of bounds coordinates [     1.1053      1.0954]\n",
      "\u001b[34m\u001b[1mtrain: \u001b[0mWARNING ⚠️ /users/eleves-b/2024/mattia.martino/synthetic_dataset_v3/train/images/image_04568.png: ignoring corrupt image/label: non-normalized or out of bounds coordinates [      1.092      1.0336]\n",
      "\u001b[34m\u001b[1mtrain: \u001b[0mWARNING ⚠️ /users/eleves-b/2024/mattia.martino/synthetic_dataset_v3/train/images/image_04585.png: ignoring corrupt image/label: non-normalized or out of bounds coordinates [     1.0083]\n",
      "\u001b[34m\u001b[1mtrain: \u001b[0mWARNING ⚠️ /users/eleves-b/2024/mattia.martino/synthetic_dataset_v3/train/images/image_04624.png: ignoring corrupt image/label: non-normalized or out of bounds coordinates [     1.0549]\n",
      "\u001b[34m\u001b[1mtrain: \u001b[0mWARNING ⚠️ /users/eleves-b/2024/mattia.martino/synthetic_dataset_v3/train/images/image_04693.png: ignoring corrupt image/label: non-normalized or out of bounds coordinates [     1.0183      1.0312]\n",
      "\u001b[34m\u001b[1mtrain: \u001b[0mWARNING ⚠️ /users/eleves-b/2024/mattia.martino/synthetic_dataset_v3/train/images/image_04766.png: ignoring corrupt image/label: non-normalized or out of bounds coordinates [     1.0193       1.052]\n",
      "\u001b[34m\u001b[1mtrain: \u001b[0mWARNING ⚠️ /users/eleves-b/2024/mattia.martino/synthetic_dataset_v3/train/images/image_04782.png: ignoring corrupt image/label: non-normalized or out of bounds coordinates [     1.0771      1.0085]\n",
      "\u001b[34m\u001b[1mtrain: \u001b[0mWARNING ⚠️ /users/eleves-b/2024/mattia.martino/synthetic_dataset_v3/train/images/image_04863.png: ignoring corrupt image/label: non-normalized or out of bounds coordinates [     1.1197      1.0221]\n",
      "\u001b[34m\u001b[1mtrain: \u001b[0mWARNING ⚠️ /users/eleves-b/2024/mattia.martino/synthetic_dataset_v3/train/images/image_04883.png: ignoring corrupt image/label: non-normalized or out of bounds coordinates [     1.1224      1.1025]\n",
      "\u001b[34m\u001b[1mtrain: \u001b[0mWARNING ⚠️ /users/eleves-b/2024/mattia.martino/synthetic_dataset_v3/train/images/image_04932.png: ignoring corrupt image/label: non-normalized or out of bounds coordinates [     1.0011      1.0134]\n",
      "\u001b[34m\u001b[1mtrain: \u001b[0mWARNING ⚠️ /users/eleves-b/2024/mattia.martino/synthetic_dataset_v3/train/images/image_04966.png: ignoring corrupt image/label: non-normalized or out of bounds coordinates [      1.029      1.0882]\n",
      "\u001b[34m\u001b[1mtrain: \u001b[0mWARNING ⚠️ /users/eleves-b/2024/mattia.martino/synthetic_dataset_v3/train/images/image_04972.png: ignoring corrupt image/label: non-normalized or out of bounds coordinates [     1.1324      1.1071]\n",
      "\u001b[34m\u001b[1mtrain: \u001b[0mWARNING ⚠️ /users/eleves-b/2024/mattia.martino/synthetic_dataset_v3/train/images/image_05171.png: ignoring corrupt image/label: non-normalized or out of bounds coordinates [     1.0697      1.1176]\n",
      "\u001b[34m\u001b[1mtrain: \u001b[0mWARNING ⚠️ /users/eleves-b/2024/mattia.martino/synthetic_dataset_v3/train/images/image_05179.png: ignoring corrupt image/label: non-normalized or out of bounds coordinates [      1.014      1.0089]\n",
      "\u001b[34m\u001b[1mtrain: \u001b[0mWARNING ⚠️ /users/eleves-b/2024/mattia.martino/synthetic_dataset_v3/train/images/image_05238.png: ignoring corrupt image/label: non-normalized or out of bounds coordinates [      1.059      1.0898]\n",
      "\u001b[34m\u001b[1mtrain: \u001b[0mWARNING ⚠️ /users/eleves-b/2024/mattia.martino/synthetic_dataset_v3/train/images/image_05268.png: ignoring corrupt image/label: non-normalized or out of bounds coordinates [     1.0133]\n",
      "\u001b[34m\u001b[1mtrain: \u001b[0mWARNING ⚠️ /users/eleves-b/2024/mattia.martino/synthetic_dataset_v3/train/images/image_05325.png: ignoring corrupt image/label: non-normalized or out of bounds coordinates [     1.1245       1.085]\n",
      "\u001b[34m\u001b[1mtrain: \u001b[0mWARNING ⚠️ /users/eleves-b/2024/mattia.martino/synthetic_dataset_v3/train/images/image_05329.png: ignoring corrupt image/label: non-normalized or out of bounds coordinates [     1.0011      1.0412]\n",
      "\u001b[34m\u001b[1mtrain: \u001b[0mWARNING ⚠️ /users/eleves-b/2024/mattia.martino/synthetic_dataset_v3/train/images/image_05340.png: ignoring corrupt image/label: non-normalized or out of bounds coordinates [     1.0093]\n",
      "\u001b[34m\u001b[1mtrain: \u001b[0mWARNING ⚠️ /users/eleves-b/2024/mattia.martino/synthetic_dataset_v3/train/images/image_05379.png: ignoring corrupt image/label: non-normalized or out of bounds coordinates [     1.0738      1.0889]\n",
      "\u001b[34m\u001b[1mtrain: \u001b[0mWARNING ⚠️ /users/eleves-b/2024/mattia.martino/synthetic_dataset_v3/train/images/image_05384.png: ignoring corrupt image/label: non-normalized or out of bounds coordinates [     1.0697      1.1471]\n",
      "\u001b[34m\u001b[1mtrain: \u001b[0mWARNING ⚠️ /users/eleves-b/2024/mattia.martino/synthetic_dataset_v3/train/images/image_05386.png: ignoring corrupt image/label: non-normalized or out of bounds coordinates [     1.1152      1.1143]\n",
      "\u001b[34m\u001b[1mtrain: \u001b[0mWARNING ⚠️ /users/eleves-b/2024/mattia.martino/synthetic_dataset_v3/train/images/image_05412.png: ignoring corrupt image/label: non-normalized or out of bounds coordinates [     1.0708      1.0672]\n",
      "\u001b[34m\u001b[1mtrain: \u001b[0mWARNING ⚠️ /users/eleves-b/2024/mattia.martino/synthetic_dataset_v3/train/images/image_05441.png: ignoring corrupt image/label: non-normalized or out of bounds coordinates [     1.0469]\n",
      "\u001b[34m\u001b[1mtrain: \u001b[0mWARNING ⚠️ /users/eleves-b/2024/mattia.martino/synthetic_dataset_v3/train/images/image_05502.png: ignoring corrupt image/label: non-normalized or out of bounds coordinates [     1.0069]\n",
      "\u001b[34m\u001b[1mtrain: \u001b[0mWARNING ⚠️ /users/eleves-b/2024/mattia.martino/synthetic_dataset_v3/train/images/image_05505.png: ignoring corrupt image/label: non-normalized or out of bounds coordinates [     1.0428      1.1179]\n",
      "\u001b[34m\u001b[1mtrain: \u001b[0mWARNING ⚠️ /users/eleves-b/2024/mattia.martino/synthetic_dataset_v3/train/images/image_05606.png: ignoring corrupt image/label: non-normalized or out of bounds coordinates [      1.125      1.1244]\n",
      "\u001b[34m\u001b[1mtrain: \u001b[0mWARNING ⚠️ /users/eleves-b/2024/mattia.martino/synthetic_dataset_v3/train/images/image_05663.png: ignoring corrupt image/label: non-normalized or out of bounds coordinates [      1.011]\n",
      "\u001b[34m\u001b[1mtrain: \u001b[0mWARNING ⚠️ /users/eleves-b/2024/mattia.martino/synthetic_dataset_v3/train/images/image_05710.png: ignoring corrupt image/label: non-normalized or out of bounds coordinates [     1.1212      1.0438]\n",
      "\u001b[34m\u001b[1mtrain: \u001b[0mWARNING ⚠️ /users/eleves-b/2024/mattia.martino/synthetic_dataset_v3/train/images/image_05826.png: ignoring corrupt image/label: non-normalized or out of bounds coordinates [     1.0002      1.0167]\n",
      "\u001b[34m\u001b[1mtrain: \u001b[0mWARNING ⚠️ /users/eleves-b/2024/mattia.martino/synthetic_dataset_v3/train/images/image_05898.png: ignoring corrupt image/label: non-normalized or out of bounds coordinates [     1.0009]\n",
      "\u001b[34m\u001b[1mtrain: \u001b[0mWARNING ⚠️ /users/eleves-b/2024/mattia.martino/synthetic_dataset_v3/train/images/image_05921.png: ignoring corrupt image/label: non-normalized or out of bounds coordinates [     1.0059]\n",
      "\u001b[34m\u001b[1mtrain: \u001b[0mWARNING ⚠️ /users/eleves-b/2024/mattia.martino/synthetic_dataset_v3/train/images/image_05977.png: ignoring corrupt image/label: non-normalized or out of bounds coordinates [      1.015]\n",
      "\u001b[34m\u001b[1mtrain: \u001b[0mWARNING ⚠️ /users/eleves-b/2024/mattia.martino/synthetic_dataset_v3/train/images/image_06101.png: ignoring corrupt image/label: non-normalized or out of bounds coordinates [     1.0059]\n",
      "\u001b[34m\u001b[1mtrain: \u001b[0mWARNING ⚠️ /users/eleves-b/2024/mattia.martino/synthetic_dataset_v3/train/images/image_06115.png: ignoring corrupt image/label: non-normalized or out of bounds coordinates [     1.1043      1.1175]\n",
      "\u001b[34m\u001b[1mtrain: \u001b[0mWARNING ⚠️ /users/eleves-b/2024/mattia.martino/synthetic_dataset_v3/train/images/image_06143.png: ignoring corrupt image/label: non-normalized or out of bounds coordinates [     1.0188]\n",
      "\u001b[34m\u001b[1mtrain: \u001b[0mWARNING ⚠️ /users/eleves-b/2024/mattia.martino/synthetic_dataset_v3/train/images/image_06187.png: ignoring corrupt image/label: non-normalized or out of bounds coordinates [     1.0365      1.0872]\n",
      "\u001b[34m\u001b[1mtrain: \u001b[0mWARNING ⚠️ /users/eleves-b/2024/mattia.martino/synthetic_dataset_v3/train/images/image_06244.png: ignoring corrupt image/label: non-normalized or out of bounds coordinates [     1.0001]\n",
      "\u001b[34m\u001b[1mtrain: \u001b[0mWARNING ⚠️ /users/eleves-b/2024/mattia.martino/synthetic_dataset_v3/train/images/image_06272.png: ignoring corrupt image/label: non-normalized or out of bounds coordinates [     1.0942        1.09]\n",
      "\u001b[34m\u001b[1mtrain: \u001b[0mWARNING ⚠️ /users/eleves-b/2024/mattia.martino/synthetic_dataset_v3/train/images/image_06314.png: ignoring corrupt image/label: non-normalized or out of bounds coordinates [     1.1092]\n",
      "\u001b[34m\u001b[1mtrain: \u001b[0mWARNING ⚠️ /users/eleves-b/2024/mattia.martino/synthetic_dataset_v3/train/images/image_06348.png: ignoring corrupt image/label: non-normalized or out of bounds coordinates [     1.0369]\n",
      "\u001b[34m\u001b[1mtrain: \u001b[0mWARNING ⚠️ /users/eleves-b/2024/mattia.martino/synthetic_dataset_v3/train/images/image_06433.png: ignoring corrupt image/label: non-normalized or out of bounds coordinates [     1.0026]\n",
      "\u001b[34m\u001b[1mtrain: \u001b[0mWARNING ⚠️ /users/eleves-b/2024/mattia.martino/synthetic_dataset_v3/train/images/image_06453.png: ignoring corrupt image/label: non-normalized or out of bounds coordinates [     1.0131]\n",
      "\u001b[34m\u001b[1mtrain: \u001b[0mWARNING ⚠️ /users/eleves-b/2024/mattia.martino/synthetic_dataset_v3/train/images/image_06611.png: ignoring corrupt image/label: non-normalized or out of bounds coordinates [      1.149      1.0725]\n",
      "\u001b[34m\u001b[1mtrain: \u001b[0mWARNING ⚠️ /users/eleves-b/2024/mattia.martino/synthetic_dataset_v3/train/images/image_06632.png: ignoring corrupt image/label: non-normalized or out of bounds coordinates [      1.046      1.0177]\n",
      "\u001b[34m\u001b[1mtrain: \u001b[0mWARNING ⚠️ /users/eleves-b/2024/mattia.martino/synthetic_dataset_v3/train/images/image_06693.png: ignoring corrupt image/label: non-normalized or out of bounds coordinates [     1.0828      1.0757]\n",
      "\u001b[34m\u001b[1mtrain: \u001b[0mWARNING ⚠️ /users/eleves-b/2024/mattia.martino/synthetic_dataset_v3/train/images/image_06735.png: ignoring corrupt image/label: non-normalized or out of bounds coordinates [     1.0039]\n",
      "\u001b[34m\u001b[1mtrain: \u001b[0mWARNING ⚠️ /users/eleves-b/2024/mattia.martino/synthetic_dataset_v3/train/images/image_06802.png: ignoring corrupt image/label: non-normalized or out of bounds coordinates [     1.0301      1.0597]\n",
      "\u001b[34m\u001b[1mtrain: \u001b[0mWARNING ⚠️ /users/eleves-b/2024/mattia.martino/synthetic_dataset_v3/train/images/image_06824.png: ignoring corrupt image/label: non-normalized or out of bounds coordinates [     1.0037]\n",
      "\u001b[34m\u001b[1mtrain: \u001b[0mWARNING ⚠️ /users/eleves-b/2024/mattia.martino/synthetic_dataset_v3/train/images/image_06901.png: ignoring corrupt image/label: non-normalized or out of bounds coordinates [     1.0141]\n",
      "\u001b[34m\u001b[1mtrain: \u001b[0mWARNING ⚠️ /users/eleves-b/2024/mattia.martino/synthetic_dataset_v3/train/images/image_06924.png: ignoring corrupt image/label: non-normalized or out of bounds coordinates [      1.126      1.1497]\n",
      "\u001b[34m\u001b[1mtrain: \u001b[0mWARNING ⚠️ /users/eleves-b/2024/mattia.martino/synthetic_dataset_v3/train/images/image_06938.png: ignoring corrupt image/label: non-normalized or out of bounds coordinates [     1.0219      1.1341      1.1685]\n",
      "\u001b[34m\u001b[1mtrain: \u001b[0mWARNING ⚠️ /users/eleves-b/2024/mattia.martino/synthetic_dataset_v3/train/images/image_06961.png: ignoring corrupt image/label: non-normalized or out of bounds coordinates [     1.0959       1.033]\n",
      "\u001b[34m\u001b[1mtrain: \u001b[0mWARNING ⚠️ /users/eleves-b/2024/mattia.martino/synthetic_dataset_v3/train/images/image_06966.png: ignoring corrupt image/label: non-normalized or out of bounds coordinates [      1.119      1.0365]\n",
      "\u001b[34m\u001b[1mtrain: \u001b[0mWARNING ⚠️ /users/eleves-b/2024/mattia.martino/synthetic_dataset_v3/train/images/image_07013.png: ignoring corrupt image/label: non-normalized or out of bounds coordinates [     1.0004]\n",
      "\u001b[34m\u001b[1mtrain: \u001b[0mWARNING ⚠️ /users/eleves-b/2024/mattia.martino/synthetic_dataset_v3/train/images/image_07172.png: ignoring corrupt image/label: non-normalized or out of bounds coordinates [      1.002]\n",
      "\u001b[34m\u001b[1mtrain: \u001b[0mWARNING ⚠️ /users/eleves-b/2024/mattia.martino/synthetic_dataset_v3/train/images/image_07249.png: ignoring corrupt image/label: non-normalized or out of bounds coordinates [     1.1058      1.1467]\n",
      "\u001b[34m\u001b[1mtrain: \u001b[0mWARNING ⚠️ /users/eleves-b/2024/mattia.martino/synthetic_dataset_v3/train/images/image_07335.png: ignoring corrupt image/label: non-normalized or out of bounds coordinates [     1.0934      1.0731]\n",
      "\u001b[34m\u001b[1mtrain: \u001b[0mWARNING ⚠️ /users/eleves-b/2024/mattia.martino/synthetic_dataset_v3/train/images/image_07340.png: ignoring corrupt image/label: non-normalized or out of bounds coordinates [      1.003]\n",
      "\u001b[34m\u001b[1mtrain: \u001b[0mWARNING ⚠️ /users/eleves-b/2024/mattia.martino/synthetic_dataset_v3/train/images/image_07367.png: ignoring corrupt image/label: non-normalized or out of bounds coordinates [     1.1449      1.0667]\n",
      "\u001b[34m\u001b[1mtrain: \u001b[0mWARNING ⚠️ /users/eleves-b/2024/mattia.martino/synthetic_dataset_v3/train/images/image_07391.png: ignoring corrupt image/label: non-normalized or out of bounds coordinates [     1.0204]\n",
      "\u001b[34m\u001b[1mtrain: \u001b[0mWARNING ⚠️ /users/eleves-b/2024/mattia.martino/synthetic_dataset_v3/train/images/image_07396.png: ignoring corrupt image/label: non-normalized or out of bounds coordinates [     1.0441      1.0608]\n",
      "\u001b[34m\u001b[1mtrain: \u001b[0mWARNING ⚠️ /users/eleves-b/2024/mattia.martino/synthetic_dataset_v3/train/images/image_07407.png: ignoring corrupt image/label: non-normalized or out of bounds coordinates [     1.0758      1.1122]\n",
      "\u001b[34m\u001b[1mtrain: \u001b[0mWARNING ⚠️ /users/eleves-b/2024/mattia.martino/synthetic_dataset_v3/train/images/image_07414.png: ignoring corrupt image/label: non-normalized or out of bounds coordinates [     1.0748      1.0064]\n",
      "\u001b[34m\u001b[1mtrain: \u001b[0mWARNING ⚠️ /users/eleves-b/2024/mattia.martino/synthetic_dataset_v3/train/images/image_07441.png: ignoring corrupt image/label: non-normalized or out of bounds coordinates [     1.0721      1.0156]\n",
      "\u001b[34m\u001b[1mtrain: \u001b[0mWARNING ⚠️ /users/eleves-b/2024/mattia.martino/synthetic_dataset_v3/train/images/image_07460.png: ignoring corrupt image/label: non-normalized or out of bounds coordinates [     1.1348      1.0627]\n",
      "\u001b[34m\u001b[1mtrain: \u001b[0mWARNING ⚠️ /users/eleves-b/2024/mattia.martino/synthetic_dataset_v3/train/images/image_07463.png: ignoring corrupt image/label: non-normalized or out of bounds coordinates [     1.1021      1.0743]\n",
      "\u001b[34m\u001b[1mtrain: \u001b[0mWARNING ⚠️ /users/eleves-b/2024/mattia.martino/synthetic_dataset_v3/train/images/image_07555.png: ignoring corrupt image/label: non-normalized or out of bounds coordinates [     1.1161      1.0023]\n",
      "\u001b[34m\u001b[1mtrain: \u001b[0mWARNING ⚠️ /users/eleves-b/2024/mattia.martino/synthetic_dataset_v3/train/images/image_07573.png: ignoring corrupt image/label: non-normalized or out of bounds coordinates [     1.0368]\n",
      "\u001b[34m\u001b[1mtrain: \u001b[0mWARNING ⚠️ /users/eleves-b/2024/mattia.martino/synthetic_dataset_v3/train/images/image_07596.png: ignoring corrupt image/label: non-normalized or out of bounds coordinates [     1.0612      1.0652]\n",
      "\u001b[34m\u001b[1mtrain: \u001b[0mWARNING ⚠️ /users/eleves-b/2024/mattia.martino/synthetic_dataset_v3/train/images/image_07612.png: ignoring corrupt image/label: non-normalized or out of bounds coordinates [     1.0979       1.091]\n",
      "\u001b[34m\u001b[1mtrain: \u001b[0mWARNING ⚠️ /users/eleves-b/2024/mattia.martino/synthetic_dataset_v3/train/images/image_07617.png: ignoring corrupt image/label: non-normalized or out of bounds coordinates [     1.0204]\n",
      "\u001b[34m\u001b[1mtrain: \u001b[0mWARNING ⚠️ /users/eleves-b/2024/mattia.martino/synthetic_dataset_v3/train/images/image_07670.png: ignoring corrupt image/label: non-normalized or out of bounds coordinates [     1.0485      1.0253]\n",
      "\u001b[34m\u001b[1mtrain: \u001b[0mWARNING ⚠️ /users/eleves-b/2024/mattia.martino/synthetic_dataset_v3/train/images/image_07704.png: ignoring corrupt image/label: non-normalized or out of bounds coordinates [     1.0277]\n",
      "\u001b[34m\u001b[1mtrain: \u001b[0mWARNING ⚠️ /users/eleves-b/2024/mattia.martino/synthetic_dataset_v3/train/images/image_07718.png: ignoring corrupt image/label: non-normalized or out of bounds coordinates [     1.0019      1.1335      1.0591]\n",
      "\u001b[34m\u001b[1mtrain: \u001b[0mWARNING ⚠️ /users/eleves-b/2024/mattia.martino/synthetic_dataset_v3/train/images/image_07768.png: ignoring corrupt image/label: non-normalized or out of bounds coordinates [     1.0011]\n",
      "\u001b[34m\u001b[1mtrain: \u001b[0mWARNING ⚠️ /users/eleves-b/2024/mattia.martino/synthetic_dataset_v3/train/images/image_07814.png: ignoring corrupt image/label: non-normalized or out of bounds coordinates [     1.0054      1.0545       1.011]\n",
      "\u001b[34m\u001b[1mtrain: \u001b[0mWARNING ⚠️ /users/eleves-b/2024/mattia.martino/synthetic_dataset_v3/train/images/image_07836.png: ignoring corrupt image/label: non-normalized or out of bounds coordinates [     1.0237      1.0875]\n",
      "\u001b[34m\u001b[1mtrain: \u001b[0mWARNING ⚠️ /users/eleves-b/2024/mattia.martino/synthetic_dataset_v3/train/images/image_07843.png: ignoring corrupt image/label: non-normalized or out of bounds coordinates [     1.0147]\n",
      "\u001b[34m\u001b[1mtrain: \u001b[0mWARNING ⚠️ /users/eleves-b/2024/mattia.martino/synthetic_dataset_v3/train/images/image_07846.png: ignoring corrupt image/label: non-normalized or out of bounds coordinates [     1.1074      1.1207]\n",
      "\u001b[34m\u001b[1mtrain: \u001b[0mWARNING ⚠️ /users/eleves-b/2024/mattia.martino/synthetic_dataset_v3/train/images/image_07872.png: ignoring corrupt image/label: non-normalized or out of bounds coordinates [     1.0895      1.1447]\n",
      "\u001b[34m\u001b[1mtrain: \u001b[0mWARNING ⚠️ /users/eleves-b/2024/mattia.martino/synthetic_dataset_v3/train/images/image_07882.png: ignoring corrupt image/label: non-normalized or out of bounds coordinates [     1.0008]\n",
      "\u001b[34m\u001b[1mtrain: \u001b[0mWARNING ⚠️ /users/eleves-b/2024/mattia.martino/synthetic_dataset_v3/train/images/image_07926.png: ignoring corrupt image/label: non-normalized or out of bounds coordinates [     1.0092]\n",
      "\u001b[34m\u001b[1mtrain: \u001b[0mWARNING ⚠️ /users/eleves-b/2024/mattia.martino/synthetic_dataset_v3/train/images/image_07968.png: ignoring corrupt image/label: non-normalized or out of bounds coordinates [     1.0113]\n",
      "\u001b[34m\u001b[1mtrain: \u001b[0mWARNING ⚠️ /users/eleves-b/2024/mattia.martino/synthetic_dataset_v3/train/images/image_07971.png: ignoring corrupt image/label: non-normalized or out of bounds coordinates [     1.0009]\n",
      "\u001b[34m\u001b[1mtrain: \u001b[0mWARNING ⚠️ /users/eleves-b/2024/mattia.martino/synthetic_dataset_v3/train/images/image_08012.png: ignoring corrupt image/label: non-normalized or out of bounds coordinates [     1.0081]\n",
      "\u001b[34m\u001b[1mtrain: \u001b[0mWARNING ⚠️ /users/eleves-b/2024/mattia.martino/synthetic_dataset_v3/train/images/image_08177.png: ignoring corrupt image/label: non-normalized or out of bounds coordinates [     1.0466      1.0164]\n",
      "\u001b[34m\u001b[1mtrain: \u001b[0mWARNING ⚠️ /users/eleves-b/2024/mattia.martino/synthetic_dataset_v3/train/images/image_08212.png: ignoring corrupt image/label: non-normalized or out of bounds coordinates [     1.0363]\n",
      "\u001b[34m\u001b[1mtrain: \u001b[0mWARNING ⚠️ /users/eleves-b/2024/mattia.martino/synthetic_dataset_v3/train/images/image_08265.png: ignoring corrupt image/label: non-normalized or out of bounds coordinates [     1.1397         1.1]\n",
      "\u001b[34m\u001b[1mtrain: \u001b[0mWARNING ⚠️ /users/eleves-b/2024/mattia.martino/synthetic_dataset_v3/train/images/image_08302.png: ignoring corrupt image/label: non-normalized or out of bounds coordinates [     1.0193]\n",
      "\u001b[34m\u001b[1mtrain: \u001b[0mWARNING ⚠️ /users/eleves-b/2024/mattia.martino/synthetic_dataset_v3/train/images/image_08386.png: ignoring corrupt image/label: non-normalized or out of bounds coordinates [     1.1198       1.033]\n",
      "\u001b[34m\u001b[1mtrain: \u001b[0mWARNING ⚠️ /users/eleves-b/2024/mattia.martino/synthetic_dataset_v3/train/images/image_08388.png: ignoring corrupt image/label: non-normalized or out of bounds coordinates [     1.0637]\n",
      "\u001b[34m\u001b[1mtrain: \u001b[0mWARNING ⚠️ /users/eleves-b/2024/mattia.martino/synthetic_dataset_v3/train/images/image_08445.png: ignoring corrupt image/label: non-normalized or out of bounds coordinates [     1.1085      1.0027]\n",
      "\u001b[34m\u001b[1mtrain: \u001b[0mWARNING ⚠️ /users/eleves-b/2024/mattia.martino/synthetic_dataset_v3/train/images/image_08512.png: ignoring corrupt image/label: non-normalized or out of bounds coordinates [     1.0132]\n",
      "\u001b[34m\u001b[1mtrain: \u001b[0mWARNING ⚠️ /users/eleves-b/2024/mattia.martino/synthetic_dataset_v3/train/images/image_08544.png: ignoring corrupt image/label: non-normalized or out of bounds coordinates [     1.0043]\n",
      "\u001b[34m\u001b[1mtrain: \u001b[0mWARNING ⚠️ /users/eleves-b/2024/mattia.martino/synthetic_dataset_v3/train/images/image_08584.png: ignoring corrupt image/label: non-normalized or out of bounds coordinates [     1.0528       1.028]\n",
      "\u001b[34m\u001b[1mtrain: \u001b[0mWARNING ⚠️ /users/eleves-b/2024/mattia.martino/synthetic_dataset_v3/train/images/image_08586.png: ignoring corrupt image/label: non-normalized or out of bounds coordinates [     1.1199      1.0165]\n",
      "\u001b[34m\u001b[1mtrain: \u001b[0mWARNING ⚠️ /users/eleves-b/2024/mattia.martino/synthetic_dataset_v3/train/images/image_08637.png: ignoring corrupt image/label: non-normalized or out of bounds coordinates [     1.0903      1.0717]\n",
      "\u001b[34m\u001b[1mtrain: \u001b[0mWARNING ⚠️ /users/eleves-b/2024/mattia.martino/synthetic_dataset_v3/train/images/image_08669.png: ignoring corrupt image/label: non-normalized or out of bounds coordinates [     1.0452      1.0412]\n",
      "\u001b[34m\u001b[1mtrain: \u001b[0mWARNING ⚠️ /users/eleves-b/2024/mattia.martino/synthetic_dataset_v3/train/images/image_08703.png: ignoring corrupt image/label: non-normalized or out of bounds coordinates [     1.0061]\n",
      "\u001b[34m\u001b[1mtrain: \u001b[0mWARNING ⚠️ /users/eleves-b/2024/mattia.martino/synthetic_dataset_v3/train/images/image_08741.png: ignoring corrupt image/label: non-normalized or out of bounds coordinates [     1.0049]\n",
      "\u001b[34m\u001b[1mtrain: \u001b[0mWARNING ⚠️ /users/eleves-b/2024/mattia.martino/synthetic_dataset_v3/train/images/image_08758.png: ignoring corrupt image/label: non-normalized or out of bounds coordinates [     1.0153]\n",
      "\u001b[34m\u001b[1mtrain: \u001b[0mWARNING ⚠️ /users/eleves-b/2024/mattia.martino/synthetic_dataset_v3/train/images/image_08783.png: ignoring corrupt image/label: non-normalized or out of bounds coordinates [     1.0159      1.0894]\n",
      "\u001b[34m\u001b[1mtrain: \u001b[0mWARNING ⚠️ /users/eleves-b/2024/mattia.martino/synthetic_dataset_v3/train/images/image_08789.png: ignoring corrupt image/label: non-normalized or out of bounds coordinates [     1.0429      1.0735]\n",
      "\u001b[34m\u001b[1mtrain: \u001b[0mWARNING ⚠️ /users/eleves-b/2024/mattia.martino/synthetic_dataset_v3/train/images/image_08803.png: ignoring corrupt image/label: non-normalized or out of bounds coordinates [     1.0114]\n",
      "\u001b[34m\u001b[1mtrain: \u001b[0mWARNING ⚠️ /users/eleves-b/2024/mattia.martino/synthetic_dataset_v3/train/images/image_08839.png: ignoring corrupt image/label: non-normalized or out of bounds coordinates [     1.0042]\n",
      "\u001b[34m\u001b[1mtrain: \u001b[0mWARNING ⚠️ /users/eleves-b/2024/mattia.martino/synthetic_dataset_v3/train/images/image_08840.png: ignoring corrupt image/label: non-normalized or out of bounds coordinates [     1.0774      1.1141]\n",
      "\u001b[34m\u001b[1mtrain: \u001b[0mWARNING ⚠️ /users/eleves-b/2024/mattia.martino/synthetic_dataset_v3/train/images/image_08937.png: ignoring corrupt image/label: non-normalized or out of bounds coordinates [     1.1334       1.113]\n",
      "\u001b[34m\u001b[1mtrain: \u001b[0mWARNING ⚠️ /users/eleves-b/2024/mattia.martino/synthetic_dataset_v3/train/images/image_09018.png: ignoring corrupt image/label: non-normalized or out of bounds coordinates [     1.0328]\n",
      "\u001b[34m\u001b[1mtrain: \u001b[0mWARNING ⚠️ /users/eleves-b/2024/mattia.martino/synthetic_dataset_v3/train/images/image_09058.png: ignoring corrupt image/label: non-normalized or out of bounds coordinates [     1.0044]\n",
      "\u001b[34m\u001b[1mtrain: \u001b[0mWARNING ⚠️ /users/eleves-b/2024/mattia.martino/synthetic_dataset_v3/train/images/image_09086.png: ignoring corrupt image/label: non-normalized or out of bounds coordinates [     1.0715]\n",
      "\u001b[34m\u001b[1mtrain: \u001b[0mWARNING ⚠️ /users/eleves-b/2024/mattia.martino/synthetic_dataset_v3/train/images/image_09098.png: ignoring corrupt image/label: non-normalized or out of bounds coordinates [     1.0212      1.0808]\n",
      "\u001b[34m\u001b[1mtrain: \u001b[0mWARNING ⚠️ /users/eleves-b/2024/mattia.martino/synthetic_dataset_v3/train/images/image_09116.png: ignoring corrupt image/label: non-normalized or out of bounds coordinates [     1.0799      1.0336]\n",
      "\u001b[34m\u001b[1mtrain: \u001b[0mWARNING ⚠️ /users/eleves-b/2024/mattia.martino/synthetic_dataset_v3/train/images/image_09167.png: ignoring corrupt image/label: non-normalized or out of bounds coordinates [     1.0161      1.0211]\n",
      "\u001b[34m\u001b[1mtrain: \u001b[0mWARNING ⚠️ /users/eleves-b/2024/mattia.martino/synthetic_dataset_v3/train/images/image_09195.png: ignoring corrupt image/label: non-normalized or out of bounds coordinates [     1.1274      1.0341]\n",
      "\u001b[34m\u001b[1mtrain: \u001b[0mWARNING ⚠️ /users/eleves-b/2024/mattia.martino/synthetic_dataset_v3/train/images/image_09311.png: ignoring corrupt image/label: non-normalized or out of bounds coordinates [     1.0365      1.0231]\n",
      "\u001b[34m\u001b[1mtrain: \u001b[0mWARNING ⚠️ /users/eleves-b/2024/mattia.martino/synthetic_dataset_v3/train/images/image_09402.png: ignoring corrupt image/label: non-normalized or out of bounds coordinates [     1.0182]\n",
      "\u001b[34m\u001b[1mtrain: \u001b[0mWARNING ⚠️ /users/eleves-b/2024/mattia.martino/synthetic_dataset_v3/train/images/image_09427.png: ignoring corrupt image/label: non-normalized or out of bounds coordinates [     1.0109      1.0686]\n",
      "\u001b[34m\u001b[1mtrain: \u001b[0mWARNING ⚠️ /users/eleves-b/2024/mattia.martino/synthetic_dataset_v3/train/images/image_09452.png: ignoring corrupt image/label: non-normalized or out of bounds coordinates [     1.0072]\n",
      "\u001b[34m\u001b[1mtrain: \u001b[0mWARNING ⚠️ /users/eleves-b/2024/mattia.martino/synthetic_dataset_v3/train/images/image_09482.png: ignoring corrupt image/label: non-normalized or out of bounds coordinates [     1.0813      1.1137]\n",
      "\u001b[34m\u001b[1mtrain: \u001b[0mWARNING ⚠️ /users/eleves-b/2024/mattia.martino/synthetic_dataset_v3/train/images/image_09782.png: ignoring corrupt image/label: non-normalized or out of bounds coordinates [     1.0119]\n",
      "\u001b[34m\u001b[1mtrain: \u001b[0mWARNING ⚠️ /users/eleves-b/2024/mattia.martino/synthetic_dataset_v3/train/images/image_09838.png: ignoring corrupt image/label: non-normalized or out of bounds coordinates [     1.0279      1.0912]\n",
      "\u001b[34m\u001b[1mtrain: \u001b[0mWARNING ⚠️ /users/eleves-b/2024/mattia.martino/synthetic_dataset_v3/train/images/image_09910.png: ignoring corrupt image/label: non-normalized or out of bounds coordinates [     1.0105]\n",
      "\u001b[34m\u001b[1mtrain: \u001b[0mWARNING ⚠️ /users/eleves-b/2024/mattia.martino/synthetic_dataset_v3/train/images/image_09983.png: ignoring corrupt image/label: non-normalized or out of bounds coordinates [     1.1176      1.0849]\n",
      "\u001b[34m\u001b[1mtrain: \u001b[0mWARNING ⚠️ /users/eleves-b/2024/mattia.martino/synthetic_dataset_v3/train/images/image_10014.png: ignoring corrupt image/label: non-normalized or out of bounds coordinates [     1.0467]\n",
      "\u001b[34m\u001b[1mtrain: \u001b[0mWARNING ⚠️ /users/eleves-b/2024/mattia.martino/synthetic_dataset_v3/train/images/image_10054.png: ignoring corrupt image/label: non-normalized or out of bounds coordinates [      1.116      1.1175]\n",
      "\u001b[34m\u001b[1mtrain: \u001b[0mWARNING ⚠️ /users/eleves-b/2024/mattia.martino/synthetic_dataset_v3/train/images/image_10090.png: ignoring corrupt image/label: non-normalized or out of bounds coordinates [     1.0044]\n",
      "\u001b[34m\u001b[1mtrain: \u001b[0mWARNING ⚠️ /users/eleves-b/2024/mattia.martino/synthetic_dataset_v3/train/images/image_10138.png: ignoring corrupt image/label: non-normalized or out of bounds coordinates [     1.0037]\n",
      "\u001b[34m\u001b[1mtrain: \u001b[0mWARNING ⚠️ /users/eleves-b/2024/mattia.martino/synthetic_dataset_v3/train/images/image_10139.png: ignoring corrupt image/label: non-normalized or out of bounds coordinates [     1.1401      1.1147]\n",
      "\u001b[34m\u001b[1mtrain: \u001b[0mWARNING ⚠️ /users/eleves-b/2024/mattia.martino/synthetic_dataset_v3/train/images/image_10278.png: ignoring corrupt image/label: non-normalized or out of bounds coordinates [     1.0509      1.0089]\n",
      "\u001b[34m\u001b[1mtrain: \u001b[0mWARNING ⚠️ /users/eleves-b/2024/mattia.martino/synthetic_dataset_v3/train/images/image_10281.png: ignoring corrupt image/label: non-normalized or out of bounds coordinates [     1.0705      1.0182]\n",
      "\u001b[34m\u001b[1mtrain: \u001b[0mWARNING ⚠️ /users/eleves-b/2024/mattia.martino/synthetic_dataset_v3/train/images/image_10315.png: ignoring corrupt image/label: non-normalized or out of bounds coordinates [     1.0247]\n",
      "\u001b[34m\u001b[1mtrain: \u001b[0mWARNING ⚠️ /users/eleves-b/2024/mattia.martino/synthetic_dataset_v3/train/images/image_10353.png: ignoring corrupt image/label: non-normalized or out of bounds coordinates [     1.1311      1.1272]\n",
      "\u001b[34m\u001b[1mtrain: \u001b[0mWARNING ⚠️ /users/eleves-b/2024/mattia.martino/synthetic_dataset_v3/train/images/image_10374.png: ignoring corrupt image/label: non-normalized or out of bounds coordinates [     1.1107      1.1321]\n",
      "\u001b[34m\u001b[1mtrain: \u001b[0mWARNING ⚠️ /users/eleves-b/2024/mattia.martino/synthetic_dataset_v3/train/images/image_10398.png: ignoring corrupt image/label: non-normalized or out of bounds coordinates [     1.0032]\n",
      "\u001b[34m\u001b[1mtrain: \u001b[0mWARNING ⚠️ /users/eleves-b/2024/mattia.martino/synthetic_dataset_v3/train/images/image_10423.png: ignoring corrupt image/label: non-normalized or out of bounds coordinates [     1.0857      1.0348]\n",
      "\u001b[34m\u001b[1mtrain: \u001b[0mWARNING ⚠️ /users/eleves-b/2024/mattia.martino/synthetic_dataset_v3/train/images/image_10459.png: ignoring corrupt image/label: non-normalized or out of bounds coordinates [      1.019]\n",
      "\u001b[34m\u001b[1mtrain: \u001b[0mWARNING ⚠️ /users/eleves-b/2024/mattia.martino/synthetic_dataset_v3/train/images/image_10460.png: ignoring corrupt image/label: non-normalized or out of bounds coordinates [      1.008]\n",
      "\u001b[34m\u001b[1mtrain: \u001b[0mWARNING ⚠️ /users/eleves-b/2024/mattia.martino/synthetic_dataset_v3/train/images/image_10478.png: ignoring corrupt image/label: non-normalized or out of bounds coordinates [     1.0707      1.1257]\n",
      "\u001b[34m\u001b[1mtrain: \u001b[0mWARNING ⚠️ /users/eleves-b/2024/mattia.martino/synthetic_dataset_v3/train/images/image_10479.png: ignoring corrupt image/label: non-normalized or out of bounds coordinates [     1.0699      1.0362]\n",
      "\u001b[34m\u001b[1mtrain: \u001b[0mWARNING ⚠️ /users/eleves-b/2024/mattia.martino/synthetic_dataset_v3/train/images/image_10505.png: ignoring corrupt image/label: non-normalized or out of bounds coordinates [     1.1436      1.0976]\n",
      "\u001b[34m\u001b[1mtrain: \u001b[0mWARNING ⚠️ /users/eleves-b/2024/mattia.martino/synthetic_dataset_v3/train/images/image_10507.png: ignoring corrupt image/label: non-normalized or out of bounds coordinates [     1.0861      1.1157]\n",
      "\u001b[34m\u001b[1mtrain: \u001b[0mWARNING ⚠️ /users/eleves-b/2024/mattia.martino/synthetic_dataset_v3/train/images/image_10533.png: ignoring corrupt image/label: non-normalized or out of bounds coordinates [     1.1194      1.1485]\n",
      "\u001b[34m\u001b[1mtrain: \u001b[0mWARNING ⚠️ /users/eleves-b/2024/mattia.martino/synthetic_dataset_v3/train/images/image_10563.png: ignoring corrupt image/label: non-normalized or out of bounds coordinates [     1.0894      1.1103]\n",
      "\u001b[34m\u001b[1mtrain: \u001b[0mWARNING ⚠️ /users/eleves-b/2024/mattia.martino/synthetic_dataset_v3/train/images/image_10567.png: ignoring corrupt image/label: non-normalized or out of bounds coordinates [     1.0041]\n",
      "\u001b[34m\u001b[1mtrain: \u001b[0mWARNING ⚠️ /users/eleves-b/2024/mattia.martino/synthetic_dataset_v3/train/images/image_10606.png: ignoring corrupt image/label: non-normalized or out of bounds coordinates [     1.0118      1.0435]\n",
      "\u001b[34m\u001b[1mtrain: \u001b[0mWARNING ⚠️ /users/eleves-b/2024/mattia.martino/synthetic_dataset_v3/train/images/image_10609.png: ignoring corrupt image/label: non-normalized or out of bounds coordinates [     1.1034      1.0303]\n",
      "\u001b[34m\u001b[1mtrain: \u001b[0mWARNING ⚠️ /users/eleves-b/2024/mattia.martino/synthetic_dataset_v3/train/images/image_10674.png: ignoring corrupt image/label: non-normalized or out of bounds coordinates [     1.0141]\n",
      "\u001b[34m\u001b[1mtrain: \u001b[0mWARNING ⚠️ /users/eleves-b/2024/mattia.martino/synthetic_dataset_v3/train/images/image_10742.png: ignoring corrupt image/label: non-normalized or out of bounds coordinates [     1.0091]\n",
      "\u001b[34m\u001b[1mtrain: \u001b[0mWARNING ⚠️ /users/eleves-b/2024/mattia.martino/synthetic_dataset_v3/train/images/image_10771.png: ignoring corrupt image/label: non-normalized or out of bounds coordinates [     1.1034      1.1387]\n",
      "\u001b[34m\u001b[1mtrain: \u001b[0mWARNING ⚠️ /users/eleves-b/2024/mattia.martino/synthetic_dataset_v3/train/images/image_10809.png: ignoring corrupt image/label: non-normalized or out of bounds coordinates [     1.0045]\n",
      "\u001b[34m\u001b[1mtrain: \u001b[0mWARNING ⚠️ /users/eleves-b/2024/mattia.martino/synthetic_dataset_v3/train/images/image_10905.png: ignoring corrupt image/label: non-normalized or out of bounds coordinates [     1.0813      1.1523]\n",
      "\u001b[34m\u001b[1mtrain: \u001b[0mWARNING ⚠️ /users/eleves-b/2024/mattia.martino/synthetic_dataset_v3/train/images/image_11010.png: ignoring corrupt image/label: non-normalized or out of bounds coordinates [     1.1397      1.0763]\n",
      "\u001b[34m\u001b[1mtrain: \u001b[0mWARNING ⚠️ /users/eleves-b/2024/mattia.martino/synthetic_dataset_v3/train/images/image_11075.png: ignoring corrupt image/label: non-normalized or out of bounds coordinates [     1.0381      1.0707]\n",
      "\u001b[34m\u001b[1mtrain: \u001b[0mWARNING ⚠️ /users/eleves-b/2024/mattia.martino/synthetic_dataset_v3/train/images/image_11080.png: ignoring corrupt image/label: non-normalized or out of bounds coordinates [     1.1077      1.0815]\n",
      "\u001b[34m\u001b[1mtrain: \u001b[0mWARNING ⚠️ /users/eleves-b/2024/mattia.martino/synthetic_dataset_v3/train/images/image_11084.png: ignoring corrupt image/label: non-normalized or out of bounds coordinates [     1.0497      1.0771]\n",
      "\u001b[34m\u001b[1mtrain: \u001b[0mWARNING ⚠️ /users/eleves-b/2024/mattia.martino/synthetic_dataset_v3/train/images/image_11115.png: ignoring corrupt image/label: non-normalized or out of bounds coordinates [     1.1085      1.0968]\n",
      "\u001b[34m\u001b[1mtrain: \u001b[0mWARNING ⚠️ /users/eleves-b/2024/mattia.martino/synthetic_dataset_v3/train/images/image_11122.png: ignoring corrupt image/label: non-normalized or out of bounds coordinates [     1.0065]\n",
      "\u001b[34m\u001b[1mtrain: \u001b[0mWARNING ⚠️ /users/eleves-b/2024/mattia.martino/synthetic_dataset_v3/train/images/image_11145.png: ignoring corrupt image/label: non-normalized or out of bounds coordinates [     1.0714      1.1198]\n",
      "\u001b[34m\u001b[1mtrain: \u001b[0mWARNING ⚠️ /users/eleves-b/2024/mattia.martino/synthetic_dataset_v3/train/images/image_11170.png: ignoring corrupt image/label: non-normalized or out of bounds coordinates [     1.0418      1.0739]\n",
      "\u001b[34m\u001b[1mtrain: \u001b[0mWARNING ⚠️ /users/eleves-b/2024/mattia.martino/synthetic_dataset_v3/train/images/image_11174.png: ignoring corrupt image/label: non-normalized or out of bounds coordinates [     1.0288]\n",
      "\u001b[34m\u001b[1mtrain: \u001b[0mWARNING ⚠️ /users/eleves-b/2024/mattia.martino/synthetic_dataset_v3/train/images/image_11189.png: ignoring corrupt image/label: non-normalized or out of bounds coordinates [      1.074      1.0938]\n",
      "\u001b[34m\u001b[1mtrain: \u001b[0mWARNING ⚠️ /users/eleves-b/2024/mattia.martino/synthetic_dataset_v3/train/images/image_11243.png: ignoring corrupt image/label: non-normalized or out of bounds coordinates [      1.003]\n",
      "\u001b[34m\u001b[1mtrain: \u001b[0mWARNING ⚠️ /users/eleves-b/2024/mattia.martino/synthetic_dataset_v3/train/images/image_11268.png: ignoring corrupt image/label: non-normalized or out of bounds coordinates [     1.0599       1.128]\n",
      "\u001b[34m\u001b[1mtrain: \u001b[0mWARNING ⚠️ /users/eleves-b/2024/mattia.martino/synthetic_dataset_v3/train/images/image_11316.png: ignoring corrupt image/label: non-normalized or out of bounds coordinates [     1.0111]\n",
      "\u001b[34m\u001b[1mtrain: \u001b[0mWARNING ⚠️ /users/eleves-b/2024/mattia.martino/synthetic_dataset_v3/train/images/image_11320.png: ignoring corrupt image/label: non-normalized or out of bounds coordinates [     1.0178]\n",
      "\u001b[34m\u001b[1mtrain: \u001b[0mWARNING ⚠️ /users/eleves-b/2024/mattia.martino/synthetic_dataset_v3/train/images/image_11327.png: ignoring corrupt image/label: non-normalized or out of bounds coordinates [     1.0245]\n",
      "\u001b[34m\u001b[1mtrain: \u001b[0mWARNING ⚠️ /users/eleves-b/2024/mattia.martino/synthetic_dataset_v3/train/images/image_11336.png: ignoring corrupt image/label: non-normalized or out of bounds coordinates [     1.0179       1.074]\n",
      "\u001b[34m\u001b[1mtrain: \u001b[0mWARNING ⚠️ /users/eleves-b/2024/mattia.martino/synthetic_dataset_v3/train/images/image_11378.png: ignoring corrupt image/label: non-normalized or out of bounds coordinates [     1.0036]\n",
      "\u001b[34m\u001b[1mtrain: \u001b[0mWARNING ⚠️ /users/eleves-b/2024/mattia.martino/synthetic_dataset_v3/train/images/image_11399.png: ignoring corrupt image/label: non-normalized or out of bounds coordinates [     1.0163]\n",
      "\u001b[34m\u001b[1mtrain: \u001b[0mWARNING ⚠️ /users/eleves-b/2024/mattia.martino/synthetic_dataset_v3/train/images/image_11437.png: ignoring corrupt image/label: non-normalized or out of bounds coordinates [     1.0712      1.1132]\n",
      "\u001b[34m\u001b[1mtrain: \u001b[0mWARNING ⚠️ /users/eleves-b/2024/mattia.martino/synthetic_dataset_v3/train/images/image_11495.png: ignoring corrupt image/label: non-normalized or out of bounds coordinates [     1.1406      1.1167]\n",
      "\u001b[34m\u001b[1mtrain: \u001b[0mWARNING ⚠️ /users/eleves-b/2024/mattia.martino/synthetic_dataset_v3/train/images/image_11498.png: ignoring corrupt image/label: non-normalized or out of bounds coordinates [     1.0182]\n",
      "\u001b[34m\u001b[1mtrain: \u001b[0mWARNING ⚠️ /users/eleves-b/2024/mattia.martino/synthetic_dataset_v3/train/images/image_11519.png: ignoring corrupt image/label: non-normalized or out of bounds coordinates [     1.0883      1.1289]\n",
      "\u001b[34m\u001b[1mtrain: \u001b[0mWARNING ⚠️ /users/eleves-b/2024/mattia.martino/synthetic_dataset_v3/train/images/image_11531.png: ignoring corrupt image/label: non-normalized or out of bounds coordinates [     1.0057      1.0139]\n",
      "\u001b[34m\u001b[1mtrain: \u001b[0mWARNING ⚠️ /users/eleves-b/2024/mattia.martino/synthetic_dataset_v3/train/images/image_11575.png: ignoring corrupt image/label: non-normalized or out of bounds coordinates [      1.145      1.1706]\n",
      "\u001b[34m\u001b[1mtrain: \u001b[0mWARNING ⚠️ /users/eleves-b/2024/mattia.martino/synthetic_dataset_v3/train/images/image_11619.png: ignoring corrupt image/label: non-normalized or out of bounds coordinates [       1.06      1.0166]\n",
      "\u001b[34m\u001b[1mtrain: \u001b[0mWARNING ⚠️ /users/eleves-b/2024/mattia.martino/synthetic_dataset_v3/train/images/image_11640.png: ignoring corrupt image/label: non-normalized or out of bounds coordinates [     1.0826      1.0646]\n",
      "\u001b[34m\u001b[1mtrain: \u001b[0mWARNING ⚠️ /users/eleves-b/2024/mattia.martino/synthetic_dataset_v3/train/images/image_11653.png: ignoring corrupt image/label: non-normalized or out of bounds coordinates [     1.1074      1.1734]\n",
      "\u001b[34m\u001b[1mtrain: \u001b[0mWARNING ⚠️ /users/eleves-b/2024/mattia.martino/synthetic_dataset_v3/train/images/image_11682.png: ignoring corrupt image/label: non-normalized or out of bounds coordinates [     1.0294]\n",
      "\u001b[34m\u001b[1mtrain: \u001b[0mWARNING ⚠️ /users/eleves-b/2024/mattia.martino/synthetic_dataset_v3/train/images/image_11724.png: ignoring corrupt image/label: non-normalized or out of bounds coordinates [     1.0894       1.075]\n",
      "\u001b[34m\u001b[1mtrain: \u001b[0mWARNING ⚠️ /users/eleves-b/2024/mattia.martino/synthetic_dataset_v3/train/images/image_11734.png: ignoring corrupt image/label: non-normalized or out of bounds coordinates [     1.0001]\n",
      "\u001b[34m\u001b[1mtrain: \u001b[0mWARNING ⚠️ /users/eleves-b/2024/mattia.martino/synthetic_dataset_v3/train/images/image_11737.png: ignoring corrupt image/label: non-normalized or out of bounds coordinates [     1.0087      1.0141]\n",
      "\u001b[34m\u001b[1mtrain: \u001b[0mWARNING ⚠️ /users/eleves-b/2024/mattia.martino/synthetic_dataset_v3/train/images/image_11777.png: ignoring corrupt image/label: non-normalized or out of bounds coordinates [     1.0075]\n",
      "\u001b[34m\u001b[1mtrain: \u001b[0mWARNING ⚠️ /users/eleves-b/2024/mattia.martino/synthetic_dataset_v3/train/images/image_11789.png: ignoring corrupt image/label: non-normalized or out of bounds coordinates [     1.0162]\n",
      "\u001b[34m\u001b[1mtrain: \u001b[0mWARNING ⚠️ /users/eleves-b/2024/mattia.martino/synthetic_dataset_v3/train/images/image_11830.png: ignoring corrupt image/label: non-normalized or out of bounds coordinates [     1.0889      1.0211]\n",
      "\u001b[34m\u001b[1mtrain: \u001b[0mWARNING ⚠️ /users/eleves-b/2024/mattia.martino/synthetic_dataset_v3/train/images/image_11834.png: ignoring corrupt image/label: non-normalized or out of bounds coordinates [     1.0576      1.0575]\n",
      "\u001b[34m\u001b[1mtrain: \u001b[0mWARNING ⚠️ /users/eleves-b/2024/mattia.martino/synthetic_dataset_v3/train/images/image_11856.png: ignoring corrupt image/label: non-normalized or out of bounds coordinates [     1.0635      1.0244]\n",
      "\u001b[34m\u001b[1mtrain: \u001b[0mWARNING ⚠️ /users/eleves-b/2024/mattia.martino/synthetic_dataset_v3/train/images/image_11904.png: ignoring corrupt image/label: non-normalized or out of bounds coordinates [     1.0011]\n",
      "\u001b[34m\u001b[1mtrain: \u001b[0mWARNING ⚠️ /users/eleves-b/2024/mattia.martino/synthetic_dataset_v3/train/images/image_12011.png: ignoring corrupt image/label: non-normalized or out of bounds coordinates [      1.003]\n",
      "\u001b[34m\u001b[1mtrain: \u001b[0mWARNING ⚠️ /users/eleves-b/2024/mattia.martino/synthetic_dataset_v3/train/images/image_12047.png: ignoring corrupt image/label: non-normalized or out of bounds coordinates [     1.0049]\n",
      "\u001b[34m\u001b[1mtrain: \u001b[0mWARNING ⚠️ /users/eleves-b/2024/mattia.martino/synthetic_dataset_v3/train/images/image_12067.png: ignoring corrupt image/label: non-normalized or out of bounds coordinates [     1.0033]\n",
      "\u001b[34m\u001b[1mtrain: \u001b[0mWARNING ⚠️ /users/eleves-b/2024/mattia.martino/synthetic_dataset_v3/train/images/image_12112.png: ignoring corrupt image/label: non-normalized or out of bounds coordinates [     1.0697        1.09]\n",
      "\u001b[34m\u001b[1mtrain: \u001b[0mWARNING ⚠️ /users/eleves-b/2024/mattia.martino/synthetic_dataset_v3/train/images/image_12129.png: ignoring corrupt image/label: non-normalized or out of bounds coordinates [     1.1199      1.0031]\n",
      "\u001b[34m\u001b[1mtrain: \u001b[0mWARNING ⚠️ /users/eleves-b/2024/mattia.martino/synthetic_dataset_v3/train/images/image_12141.png: ignoring corrupt image/label: non-normalized or out of bounds coordinates [     1.0225]\n",
      "\u001b[34m\u001b[1mtrain: \u001b[0mWARNING ⚠️ /users/eleves-b/2024/mattia.martino/synthetic_dataset_v3/train/images/image_12167.png: ignoring corrupt image/label: non-normalized or out of bounds coordinates [     1.0853      1.0245]\n",
      "\u001b[34m\u001b[1mtrain: \u001b[0mWARNING ⚠️ /users/eleves-b/2024/mattia.martino/synthetic_dataset_v3/train/images/image_12188.png: ignoring corrupt image/label: non-normalized or out of bounds coordinates [     1.0056]\n",
      "\u001b[34m\u001b[1mtrain: \u001b[0mWARNING ⚠️ /users/eleves-b/2024/mattia.martino/synthetic_dataset_v3/train/images/image_12215.png: ignoring corrupt image/label: non-normalized or out of bounds coordinates [     1.0849      1.0318]\n",
      "\u001b[34m\u001b[1mtrain: \u001b[0mWARNING ⚠️ /users/eleves-b/2024/mattia.martino/synthetic_dataset_v3/train/images/image_12242.png: ignoring corrupt image/label: non-normalized or out of bounds coordinates [     1.0204      1.0056]\n",
      "\u001b[34m\u001b[1mtrain: \u001b[0mWARNING ⚠️ /users/eleves-b/2024/mattia.martino/synthetic_dataset_v3/train/images/image_12247.png: ignoring corrupt image/label: non-normalized or out of bounds coordinates [     1.0732      1.1358]\n",
      "\u001b[34m\u001b[1mtrain: \u001b[0mWARNING ⚠️ /users/eleves-b/2024/mattia.martino/synthetic_dataset_v3/train/images/image_12275.png: ignoring corrupt image/label: non-normalized or out of bounds coordinates [     1.0423]\n",
      "\u001b[34m\u001b[1mtrain: \u001b[0mWARNING ⚠️ /users/eleves-b/2024/mattia.martino/synthetic_dataset_v3/train/images/image_12305.png: ignoring corrupt image/label: non-normalized or out of bounds coordinates [      1.092      1.0404]\n",
      "\u001b[34m\u001b[1mtrain: \u001b[0mWARNING ⚠️ /users/eleves-b/2024/mattia.martino/synthetic_dataset_v3/train/images/image_12341.png: ignoring corrupt image/label: non-normalized or out of bounds coordinates [      1.036      1.0822]\n",
      "\u001b[34m\u001b[1mtrain: \u001b[0mWARNING ⚠️ /users/eleves-b/2024/mattia.martino/synthetic_dataset_v3/train/images/image_12350.png: ignoring corrupt image/label: non-normalized or out of bounds coordinates [     1.0401]\n",
      "\u001b[34m\u001b[1mtrain: \u001b[0mWARNING ⚠️ /users/eleves-b/2024/mattia.martino/synthetic_dataset_v3/train/images/image_12451.png: ignoring corrupt image/label: non-normalized or out of bounds coordinates [     1.0669      1.0036]\n",
      "\u001b[34m\u001b[1mtrain: \u001b[0mWARNING ⚠️ /users/eleves-b/2024/mattia.martino/synthetic_dataset_v3/train/images/image_12482.png: ignoring corrupt image/label: non-normalized or out of bounds coordinates [     1.1322      1.1878]\n",
      "\u001b[34m\u001b[1mtrain: \u001b[0mWARNING ⚠️ /users/eleves-b/2024/mattia.martino/synthetic_dataset_v3/train/images/image_12486.png: ignoring corrupt image/label: non-normalized or out of bounds coordinates [     1.0122]\n",
      "\u001b[34m\u001b[1mtrain: \u001b[0mWARNING ⚠️ /users/eleves-b/2024/mattia.martino/synthetic_dataset_v3/train/images/image_12511.png: ignoring corrupt image/label: non-normalized or out of bounds coordinates [      1.091      1.0988]\n",
      "\u001b[34m\u001b[1mtrain: \u001b[0mWARNING ⚠️ /users/eleves-b/2024/mattia.martino/synthetic_dataset_v3/train/images/image_12594.png: ignoring corrupt image/label: non-normalized or out of bounds coordinates [      1.004]\n",
      "\u001b[34m\u001b[1mtrain: \u001b[0mWARNING ⚠️ /users/eleves-b/2024/mattia.martino/synthetic_dataset_v3/train/images/image_12628.png: ignoring corrupt image/label: non-normalized or out of bounds coordinates [     1.0006]\n",
      "\u001b[34m\u001b[1mtrain: \u001b[0mWARNING ⚠️ /users/eleves-b/2024/mattia.martino/synthetic_dataset_v3/train/images/image_12682.png: ignoring corrupt image/label: non-normalized or out of bounds coordinates [     1.0405      1.0093]\n",
      "\u001b[34m\u001b[1mtrain: \u001b[0mWARNING ⚠️ /users/eleves-b/2024/mattia.martino/synthetic_dataset_v3/train/images/image_12692.png: ignoring corrupt image/label: non-normalized or out of bounds coordinates [     1.1388       1.081]\n",
      "\u001b[34m\u001b[1mtrain: \u001b[0mWARNING ⚠️ /users/eleves-b/2024/mattia.martino/synthetic_dataset_v3/train/images/image_12719.png: ignoring corrupt image/label: non-normalized or out of bounds coordinates [     1.0861      1.0927]\n",
      "\u001b[34m\u001b[1mtrain: \u001b[0mWARNING ⚠️ /users/eleves-b/2024/mattia.martino/synthetic_dataset_v3/train/images/image_12734.png: ignoring corrupt image/label: non-normalized or out of bounds coordinates [     1.0101]\n",
      "\u001b[34m\u001b[1mtrain: \u001b[0mWARNING ⚠️ /users/eleves-b/2024/mattia.martino/synthetic_dataset_v3/train/images/image_12751.png: ignoring corrupt image/label: non-normalized or out of bounds coordinates [     1.0153]\n",
      "\u001b[34m\u001b[1mtrain: \u001b[0mWARNING ⚠️ /users/eleves-b/2024/mattia.martino/synthetic_dataset_v3/train/images/image_12830.png: ignoring corrupt image/label: non-normalized or out of bounds coordinates [     1.0838      1.1257]\n",
      "\u001b[34m\u001b[1mtrain: \u001b[0mWARNING ⚠️ /users/eleves-b/2024/mattia.martino/synthetic_dataset_v3/train/images/image_12847.png: ignoring corrupt image/label: non-normalized or out of bounds coordinates [     1.0191]\n",
      "\u001b[34m\u001b[1mtrain: \u001b[0mWARNING ⚠️ /users/eleves-b/2024/mattia.martino/synthetic_dataset_v3/train/images/image_12998.png: ignoring corrupt image/label: non-normalized or out of bounds coordinates [     1.1264      1.1136]\n",
      "\u001b[34m\u001b[1mtrain: \u001b[0mWARNING ⚠️ /users/eleves-b/2024/mattia.martino/synthetic_dataset_v3/train/images/image_13189.png: ignoring corrupt image/label: non-normalized or out of bounds coordinates [      1.003      1.0033]\n",
      "\u001b[34m\u001b[1mtrain: \u001b[0mWARNING ⚠️ /users/eleves-b/2024/mattia.martino/synthetic_dataset_v3/train/images/image_13192.png: ignoring corrupt image/label: non-normalized or out of bounds coordinates [     1.0229]\n",
      "\u001b[34m\u001b[1mtrain: \u001b[0mWARNING ⚠️ /users/eleves-b/2024/mattia.martino/synthetic_dataset_v3/train/images/image_13241.png: ignoring corrupt image/label: non-normalized or out of bounds coordinates [     1.1117       1.025]\n",
      "\u001b[34m\u001b[1mtrain: \u001b[0mWARNING ⚠️ /users/eleves-b/2024/mattia.martino/synthetic_dataset_v3/train/images/image_13243.png: ignoring corrupt image/label: non-normalized or out of bounds coordinates [     1.0186      1.0222]\n",
      "\u001b[34m\u001b[1mtrain: \u001b[0mWARNING ⚠️ /users/eleves-b/2024/mattia.martino/synthetic_dataset_v3/train/images/image_13264.png: ignoring corrupt image/label: non-normalized or out of bounds coordinates [     1.0396]\n",
      "\u001b[34m\u001b[1mtrain: \u001b[0mWARNING ⚠️ /users/eleves-b/2024/mattia.martino/synthetic_dataset_v3/train/images/image_13279.png: ignoring corrupt image/label: non-normalized or out of bounds coordinates [     1.0118]\n",
      "\u001b[34m\u001b[1mtrain: \u001b[0mWARNING ⚠️ /users/eleves-b/2024/mattia.martino/synthetic_dataset_v3/train/images/image_13289.png: ignoring corrupt image/label: non-normalized or out of bounds coordinates [     1.1447      1.0753]\n",
      "\u001b[34m\u001b[1mtrain: \u001b[0mWARNING ⚠️ /users/eleves-b/2024/mattia.martino/synthetic_dataset_v3/train/images/image_13315.png: ignoring corrupt image/label: non-normalized or out of bounds coordinates [     1.0046]\n",
      "\u001b[34m\u001b[1mtrain: \u001b[0mWARNING ⚠️ /users/eleves-b/2024/mattia.martino/synthetic_dataset_v3/train/images/image_13409.png: ignoring corrupt image/label: non-normalized or out of bounds coordinates [     1.1285      1.1365]\n",
      "\u001b[34m\u001b[1mtrain: \u001b[0mWARNING ⚠️ /users/eleves-b/2024/mattia.martino/synthetic_dataset_v3/train/images/image_13429.png: ignoring corrupt image/label: non-normalized or out of bounds coordinates [     1.1352      1.0836]\n",
      "\u001b[34m\u001b[1mtrain: \u001b[0mWARNING ⚠️ /users/eleves-b/2024/mattia.martino/synthetic_dataset_v3/train/images/image_13467.png: ignoring corrupt image/label: non-normalized or out of bounds coordinates [     1.0066]\n",
      "\u001b[34m\u001b[1mtrain: \u001b[0mWARNING ⚠️ /users/eleves-b/2024/mattia.martino/synthetic_dataset_v3/train/images/image_13507.png: ignoring corrupt image/label: non-normalized or out of bounds coordinates [     1.0262      1.0723]\n",
      "\u001b[34m\u001b[1mtrain: \u001b[0mWARNING ⚠️ /users/eleves-b/2024/mattia.martino/synthetic_dataset_v3/train/images/image_13515.png: ignoring corrupt image/label: non-normalized or out of bounds coordinates [     1.0079]\n",
      "\u001b[34m\u001b[1mtrain: \u001b[0mWARNING ⚠️ /users/eleves-b/2024/mattia.martino/synthetic_dataset_v3/train/images/image_13519.png: ignoring corrupt image/label: non-normalized or out of bounds coordinates [     1.1486      1.1163]\n",
      "\u001b[34m\u001b[1mtrain: \u001b[0mWARNING ⚠️ /users/eleves-b/2024/mattia.martino/synthetic_dataset_v3/train/images/image_13605.png: ignoring corrupt image/label: non-normalized or out of bounds coordinates [     1.0469      1.0816]\n",
      "\u001b[34m\u001b[1mtrain: \u001b[0mWARNING ⚠️ /users/eleves-b/2024/mattia.martino/synthetic_dataset_v3/train/images/image_13609.png: ignoring corrupt image/label: non-normalized or out of bounds coordinates [     1.0045]\n",
      "\u001b[34m\u001b[1mtrain: \u001b[0mWARNING ⚠️ /users/eleves-b/2024/mattia.martino/synthetic_dataset_v3/train/images/image_13640.png: ignoring corrupt image/label: non-normalized or out of bounds coordinates [     1.1258      1.0508]\n",
      "\u001b[34m\u001b[1mtrain: \u001b[0mWARNING ⚠️ /users/eleves-b/2024/mattia.martino/synthetic_dataset_v3/train/images/image_13664.png: ignoring corrupt image/label: non-normalized or out of bounds coordinates [      1.006]\n",
      "\u001b[34m\u001b[1mtrain: \u001b[0mWARNING ⚠️ /users/eleves-b/2024/mattia.martino/synthetic_dataset_v3/train/images/image_13721.png: ignoring corrupt image/label: non-normalized or out of bounds coordinates [      1.003]\n",
      "\u001b[34m\u001b[1mtrain: \u001b[0mWARNING ⚠️ /users/eleves-b/2024/mattia.martino/synthetic_dataset_v3/train/images/image_13886.png: ignoring corrupt image/label: non-normalized or out of bounds coordinates [     1.1039      1.0822]\n",
      "\u001b[34m\u001b[1mtrain: \u001b[0mWARNING ⚠️ /users/eleves-b/2024/mattia.martino/synthetic_dataset_v3/train/images/image_13916.png: ignoring corrupt image/label: non-normalized or out of bounds coordinates [     1.0051]\n",
      "\u001b[34m\u001b[1mtrain: \u001b[0mWARNING ⚠️ /users/eleves-b/2024/mattia.martino/synthetic_dataset_v3/train/images/image_13995.png: ignoring corrupt image/label: non-normalized or out of bounds coordinates [     1.0001]\n",
      "\u001b[34m\u001b[1mtrain: \u001b[0mWARNING ⚠️ /users/eleves-b/2024/mattia.martino/synthetic_dataset_v3/train/images/image_14042.png: ignoring corrupt image/label: non-normalized or out of bounds coordinates [      1.008]\n",
      "\u001b[34m\u001b[1mtrain: \u001b[0mWARNING ⚠️ /users/eleves-b/2024/mattia.martino/synthetic_dataset_v3/train/images/image_14073.png: ignoring corrupt image/label: non-normalized or out of bounds coordinates [     1.0206]\n",
      "\u001b[34m\u001b[1mtrain: \u001b[0mWARNING ⚠️ /users/eleves-b/2024/mattia.martino/synthetic_dataset_v3/train/images/image_14273.png: ignoring corrupt image/label: non-normalized or out of bounds coordinates [     1.0027]\n",
      "\u001b[34m\u001b[1mtrain: \u001b[0mWARNING ⚠️ /users/eleves-b/2024/mattia.martino/synthetic_dataset_v3/train/images/image_14278.png: ignoring corrupt image/label: non-normalized or out of bounds coordinates [     1.0346      1.1221]\n",
      "\u001b[34m\u001b[1mtrain: \u001b[0mWARNING ⚠️ /users/eleves-b/2024/mattia.martino/synthetic_dataset_v3/train/images/image_14287.png: ignoring corrupt image/label: non-normalized or out of bounds coordinates [     1.0098]\n",
      "\u001b[34m\u001b[1mtrain: \u001b[0mWARNING ⚠️ /users/eleves-b/2024/mattia.martino/synthetic_dataset_v3/train/images/image_14305.png: ignoring corrupt image/label: non-normalized or out of bounds coordinates [     1.1559      1.1445]\n",
      "\u001b[34m\u001b[1mtrain: \u001b[0mWARNING ⚠️ /users/eleves-b/2024/mattia.martino/synthetic_dataset_v3/train/images/image_14310.png: ignoring corrupt image/label: non-normalized or out of bounds coordinates [     1.0243]\n",
      "\u001b[34m\u001b[1mtrain: \u001b[0mWARNING ⚠️ /users/eleves-b/2024/mattia.martino/synthetic_dataset_v3/train/images/image_14415.png: ignoring corrupt image/label: non-normalized or out of bounds coordinates [     1.1356      1.0411]\n",
      "\u001b[34m\u001b[1mtrain: \u001b[0mWARNING ⚠️ /users/eleves-b/2024/mattia.martino/synthetic_dataset_v3/train/images/image_14469.png: ignoring corrupt image/label: non-normalized or out of bounds coordinates [     1.0089]\n",
      "\u001b[34m\u001b[1mtrain: \u001b[0mWARNING ⚠️ /users/eleves-b/2024/mattia.martino/synthetic_dataset_v3/train/images/image_14616.png: ignoring corrupt image/label: non-normalized or out of bounds coordinates [     1.0806       1.008]\n",
      "\u001b[34m\u001b[1mtrain: \u001b[0mWARNING ⚠️ /users/eleves-b/2024/mattia.martino/synthetic_dataset_v3/train/images/image_14617.png: ignoring corrupt image/label: non-normalized or out of bounds coordinates [     1.0219      1.0095]\n",
      "\u001b[34m\u001b[1mtrain: \u001b[0mWARNING ⚠️ /users/eleves-b/2024/mattia.martino/synthetic_dataset_v3/train/images/image_14670.png: ignoring corrupt image/label: non-normalized or out of bounds coordinates [     1.0021]\n",
      "\u001b[34m\u001b[1mtrain: \u001b[0mWARNING ⚠️ /users/eleves-b/2024/mattia.martino/synthetic_dataset_v3/train/images/image_14709.png: ignoring corrupt image/label: non-normalized or out of bounds coordinates [     1.0445      1.1535]\n",
      "\u001b[34m\u001b[1mtrain: \u001b[0mWARNING ⚠️ /users/eleves-b/2024/mattia.martino/synthetic_dataset_v3/train/images/image_14729.png: ignoring corrupt image/label: non-normalized or out of bounds coordinates [     1.0287]\n",
      "\u001b[34m\u001b[1mtrain: \u001b[0mWARNING ⚠️ /users/eleves-b/2024/mattia.martino/synthetic_dataset_v3/train/images/image_14778.png: ignoring corrupt image/label: non-normalized or out of bounds coordinates [     1.0048        1.06]\n",
      "\u001b[34m\u001b[1mtrain: \u001b[0mWARNING ⚠️ /users/eleves-b/2024/mattia.martino/synthetic_dataset_v3/train/images/image_14783.png: ignoring corrupt image/label: non-normalized or out of bounds coordinates [     1.0084]\n",
      "\u001b[34m\u001b[1mtrain: \u001b[0mWARNING ⚠️ /users/eleves-b/2024/mattia.martino/synthetic_dataset_v3/train/images/image_14813.png: ignoring corrupt image/label: non-normalized or out of bounds coordinates [     1.1231       1.016]\n",
      "\u001b[34m\u001b[1mtrain: \u001b[0mWARNING ⚠️ /users/eleves-b/2024/mattia.martino/synthetic_dataset_v3/train/images/image_14831.png: ignoring corrupt image/label: non-normalized or out of bounds coordinates [     1.0202]\n",
      "\u001b[34m\u001b[1mtrain: \u001b[0mWARNING ⚠️ /users/eleves-b/2024/mattia.martino/synthetic_dataset_v3/train/images/image_14928.png: ignoring corrupt image/label: non-normalized or out of bounds coordinates [     1.0111]\n",
      "\u001b[34m\u001b[1mtrain: \u001b[0mWARNING ⚠️ /users/eleves-b/2024/mattia.martino/synthetic_dataset_v3/train/images/image_14971.png: ignoring corrupt image/label: non-normalized or out of bounds coordinates [     1.0888      1.0504]\n"
     ]
    },
    {
     "name": "stderr",
     "output_type": "stream",
     "text": [
      "\n"
     ]
    },
    {
     "name": "stdout",
     "output_type": "stream",
     "text": [
      "\u001b[34m\u001b[1mtrain: \u001b[0mNew cache created: /users/eleves-b/2024/mattia.martino/synthetic_dataset_v3/train/labels.cache\n"
     ]
    },
    {
     "name": "stderr",
     "output_type": "stream",
     "text": [
      "\u001b[34m\u001b[1mval: \u001b[0mScanning /users/eleves-b/2024/mattia.martino/synthetic_dataset_v3/val/labels... 1569 images, 0 backgrounds, 68 corrupt: 100%|██████████| 1569/1569 [00:01<00:00, 911.26it/s] "
     ]
    },
    {
     "name": "stdout",
     "output_type": "stream",
     "text": [
      "\u001b[34m\u001b[1mval: \u001b[0mWARNING ⚠️ /users/eleves-b/2024/mattia.martino/synthetic_dataset_v3/val/images/image_00043.png: ignoring corrupt image/label: non-normalized or out of bounds coordinates [     1.0911      1.1581]\n",
      "\u001b[34m\u001b[1mval: \u001b[0mWARNING ⚠️ /users/eleves-b/2024/mattia.martino/synthetic_dataset_v3/val/images/image_00076.png: ignoring corrupt image/label: non-normalized or out of bounds coordinates [     1.0273      1.0118]\n",
      "\u001b[34m\u001b[1mval: \u001b[0mWARNING ⚠️ /users/eleves-b/2024/mattia.martino/synthetic_dataset_v3/val/images/image_00108.png: ignoring corrupt image/label: non-normalized or out of bounds coordinates [     1.0957      1.0698]\n",
      "\u001b[34m\u001b[1mval: \u001b[0mWARNING ⚠️ /users/eleves-b/2024/mattia.martino/synthetic_dataset_v3/val/images/image_00121.png: ignoring corrupt image/label: non-normalized or out of bounds coordinates [     1.1365      1.1635]\n",
      "\u001b[34m\u001b[1mval: \u001b[0mWARNING ⚠️ /users/eleves-b/2024/mattia.martino/synthetic_dataset_v3/val/images/image_00129.png: ignoring corrupt image/label: non-normalized or out of bounds coordinates [     1.0116]\n",
      "\u001b[34m\u001b[1mval: \u001b[0mWARNING ⚠️ /users/eleves-b/2024/mattia.martino/synthetic_dataset_v3/val/images/image_00138.png: ignoring corrupt image/label: non-normalized or out of bounds coordinates [     1.0061      1.0626]\n",
      "\u001b[34m\u001b[1mval: \u001b[0mWARNING ⚠️ /users/eleves-b/2024/mattia.martino/synthetic_dataset_v3/val/images/image_00145.png: ignoring corrupt image/label: non-normalized or out of bounds coordinates [     1.0239]\n",
      "\u001b[34m\u001b[1mval: \u001b[0mWARNING ⚠️ /users/eleves-b/2024/mattia.martino/synthetic_dataset_v3/val/images/image_00216.png: ignoring corrupt image/label: non-normalized or out of bounds coordinates [     1.1272      1.0961]\n",
      "\u001b[34m\u001b[1mval: \u001b[0mWARNING ⚠️ /users/eleves-b/2024/mattia.martino/synthetic_dataset_v3/val/images/image_00252.png: ignoring corrupt image/label: non-normalized or out of bounds coordinates [     1.0899      1.0404]\n",
      "\u001b[34m\u001b[1mval: \u001b[0mWARNING ⚠️ /users/eleves-b/2024/mattia.martino/synthetic_dataset_v3/val/images/image_00254.png: ignoring corrupt image/label: non-normalized or out of bounds coordinates [     1.0354       1.051]\n",
      "\u001b[34m\u001b[1mval: \u001b[0mWARNING ⚠️ /users/eleves-b/2024/mattia.martino/synthetic_dataset_v3/val/images/image_00325.png: ignoring corrupt image/label: non-normalized or out of bounds coordinates [     1.0429      1.0412]\n",
      "\u001b[34m\u001b[1mval: \u001b[0mWARNING ⚠️ /users/eleves-b/2024/mattia.martino/synthetic_dataset_v3/val/images/image_00386.png: ignoring corrupt image/label: non-normalized or out of bounds coordinates [     1.0174]\n",
      "\u001b[34m\u001b[1mval: \u001b[0mWARNING ⚠️ /users/eleves-b/2024/mattia.martino/synthetic_dataset_v3/val/images/image_00405.png: ignoring corrupt image/label: non-normalized or out of bounds coordinates [     1.1399      1.1064]\n",
      "\u001b[34m\u001b[1mval: \u001b[0mWARNING ⚠️ /users/eleves-b/2024/mattia.martino/synthetic_dataset_v3/val/images/image_00461.png: ignoring corrupt image/label: non-normalized or out of bounds coordinates [     1.0795      1.1047]\n",
      "\u001b[34m\u001b[1mval: \u001b[0mWARNING ⚠️ /users/eleves-b/2024/mattia.martino/synthetic_dataset_v3/val/images/image_00508.png: ignoring corrupt image/label: non-normalized or out of bounds coordinates [     1.0135]\n",
      "\u001b[34m\u001b[1mval: \u001b[0mWARNING ⚠️ /users/eleves-b/2024/mattia.martino/synthetic_dataset_v3/val/images/image_00526.png: ignoring corrupt image/label: non-normalized or out of bounds coordinates [     1.0082      1.0111]\n",
      "\u001b[34m\u001b[1mval: \u001b[0mWARNING ⚠️ /users/eleves-b/2024/mattia.martino/synthetic_dataset_v3/val/images/image_00547.png: ignoring corrupt image/label: non-normalized or out of bounds coordinates [     1.0382      1.0042]\n",
      "\u001b[34m\u001b[1mval: \u001b[0mWARNING ⚠️ /users/eleves-b/2024/mattia.martino/synthetic_dataset_v3/val/images/image_00589.png: ignoring corrupt image/label: non-normalized or out of bounds coordinates [     1.1389      1.0822]\n",
      "\u001b[34m\u001b[1mval: \u001b[0mWARNING ⚠️ /users/eleves-b/2024/mattia.martino/synthetic_dataset_v3/val/images/image_00602.png: ignoring corrupt image/label: non-normalized or out of bounds coordinates [     1.1202      1.0381]\n",
      "\u001b[34m\u001b[1mval: \u001b[0mWARNING ⚠️ /users/eleves-b/2024/mattia.martino/synthetic_dataset_v3/val/images/image_00613.png: ignoring corrupt image/label: non-normalized or out of bounds coordinates [     1.0028]\n",
      "\u001b[34m\u001b[1mval: \u001b[0mWARNING ⚠️ /users/eleves-b/2024/mattia.martino/synthetic_dataset_v3/val/images/image_00647.png: ignoring corrupt image/label: non-normalized or out of bounds coordinates [     1.0153]\n",
      "\u001b[34m\u001b[1mval: \u001b[0mWARNING ⚠️ /users/eleves-b/2024/mattia.martino/synthetic_dataset_v3/val/images/image_00667.png: ignoring corrupt image/label: non-normalized or out of bounds coordinates [     1.0324]\n",
      "\u001b[34m\u001b[1mval: \u001b[0mWARNING ⚠️ /users/eleves-b/2024/mattia.martino/synthetic_dataset_v3/val/images/image_00725.png: ignoring corrupt image/label: non-normalized or out of bounds coordinates [     1.0652]\n",
      "\u001b[34m\u001b[1mval: \u001b[0mWARNING ⚠️ /users/eleves-b/2024/mattia.martino/synthetic_dataset_v3/val/images/image_00728.png: ignoring corrupt image/label: non-normalized or out of bounds coordinates [     1.0022]\n",
      "\u001b[34m\u001b[1mval: \u001b[0mWARNING ⚠️ /users/eleves-b/2024/mattia.martino/synthetic_dataset_v3/val/images/image_00772.png: ignoring corrupt image/label: non-normalized or out of bounds coordinates [     1.0409      1.0427]\n",
      "\u001b[34m\u001b[1mval: \u001b[0mWARNING ⚠️ /users/eleves-b/2024/mattia.martino/synthetic_dataset_v3/val/images/image_00791.png: ignoring corrupt image/label: non-normalized or out of bounds coordinates [     1.0853      1.0706]\n",
      "\u001b[34m\u001b[1mval: \u001b[0mWARNING ⚠️ /users/eleves-b/2024/mattia.martino/synthetic_dataset_v3/val/images/image_00794.png: ignoring corrupt image/label: non-normalized or out of bounds coordinates [     1.0319      1.1171      1.0281]\n",
      "\u001b[34m\u001b[1mval: \u001b[0mWARNING ⚠️ /users/eleves-b/2024/mattia.martino/synthetic_dataset_v3/val/images/image_00846.png: ignoring corrupt image/label: non-normalized or out of bounds coordinates [      1.148      1.0841]\n",
      "\u001b[34m\u001b[1mval: \u001b[0mWARNING ⚠️ /users/eleves-b/2024/mattia.martino/synthetic_dataset_v3/val/images/image_00904.png: ignoring corrupt image/label: non-normalized or out of bounds coordinates [     1.1221      1.0306]\n",
      "\u001b[34m\u001b[1mval: \u001b[0mWARNING ⚠️ /users/eleves-b/2024/mattia.martino/synthetic_dataset_v3/val/images/image_00944.png: ignoring corrupt image/label: non-normalized or out of bounds coordinates [     1.1154      1.0894]\n",
      "\u001b[34m\u001b[1mval: \u001b[0mWARNING ⚠️ /users/eleves-b/2024/mattia.martino/synthetic_dataset_v3/val/images/image_00945.png: ignoring corrupt image/label: non-normalized or out of bounds coordinates [     1.0013]\n",
      "\u001b[34m\u001b[1mval: \u001b[0mWARNING ⚠️ /users/eleves-b/2024/mattia.martino/synthetic_dataset_v3/val/images/image_00961.png: ignoring corrupt image/label: non-normalized or out of bounds coordinates [     1.1346      1.0753]\n",
      "\u001b[34m\u001b[1mval: \u001b[0mWARNING ⚠️ /users/eleves-b/2024/mattia.martino/synthetic_dataset_v3/val/images/image_00978.png: ignoring corrupt image/label: non-normalized or out of bounds coordinates [     1.1423      1.1444]\n",
      "\u001b[34m\u001b[1mval: \u001b[0mWARNING ⚠️ /users/eleves-b/2024/mattia.martino/synthetic_dataset_v3/val/images/image_00989.png: ignoring corrupt image/label: non-normalized or out of bounds coordinates [     1.1047      1.0473]\n",
      "\u001b[34m\u001b[1mval: \u001b[0mWARNING ⚠️ /users/eleves-b/2024/mattia.martino/synthetic_dataset_v3/val/images/image_01002.png: ignoring corrupt image/label: non-normalized or out of bounds coordinates [     1.0537      1.0674]\n",
      "\u001b[34m\u001b[1mval: \u001b[0mWARNING ⚠️ /users/eleves-b/2024/mattia.martino/synthetic_dataset_v3/val/images/image_01069.png: ignoring corrupt image/label: non-normalized or out of bounds coordinates [     1.1223      1.0873]\n",
      "\u001b[34m\u001b[1mval: \u001b[0mWARNING ⚠️ /users/eleves-b/2024/mattia.martino/synthetic_dataset_v3/val/images/image_01109.png: ignoring corrupt image/label: non-normalized or out of bounds coordinates [      1.142       1.162]\n",
      "\u001b[34m\u001b[1mval: \u001b[0mWARNING ⚠️ /users/eleves-b/2024/mattia.martino/synthetic_dataset_v3/val/images/image_01174.png: ignoring corrupt image/label: non-normalized or out of bounds coordinates [     1.0904      1.0743]\n",
      "\u001b[34m\u001b[1mval: \u001b[0mWARNING ⚠️ /users/eleves-b/2024/mattia.martino/synthetic_dataset_v3/val/images/image_01317.png: ignoring corrupt image/label: non-normalized or out of bounds coordinates [     1.1287      1.1335]\n",
      "\u001b[34m\u001b[1mval: \u001b[0mWARNING ⚠️ /users/eleves-b/2024/mattia.martino/synthetic_dataset_v3/val/images/image_01334.png: ignoring corrupt image/label: non-normalized or out of bounds coordinates [     1.0125]\n",
      "\u001b[34m\u001b[1mval: \u001b[0mWARNING ⚠️ /users/eleves-b/2024/mattia.martino/synthetic_dataset_v3/val/images/image_01456.png: ignoring corrupt image/label: non-normalized or out of bounds coordinates [     1.0011]\n",
      "\u001b[34m\u001b[1mval: \u001b[0mWARNING ⚠️ /users/eleves-b/2024/mattia.martino/synthetic_dataset_v3/val/images/image_01536.png: ignoring corrupt image/label: non-normalized or out of bounds coordinates [      1.093      1.0293]\n",
      "\u001b[34m\u001b[1mval: \u001b[0mWARNING ⚠️ /users/eleves-b/2024/mattia.martino/synthetic_dataset_v3/val/images/image_01547.png: ignoring corrupt image/label: non-normalized or out of bounds coordinates [     1.0215]\n",
      "\u001b[34m\u001b[1mval: \u001b[0mWARNING ⚠️ /users/eleves-b/2024/mattia.martino/synthetic_dataset_v3/val/images/image_01551.png: ignoring corrupt image/label: non-normalized or out of bounds coordinates [      1.003]\n",
      "\u001b[34m\u001b[1mval: \u001b[0mWARNING ⚠️ /users/eleves-b/2024/mattia.martino/synthetic_dataset_v3/val/images/image_01702.png: ignoring corrupt image/label: non-normalized or out of bounds coordinates [     1.1471      1.0164]\n",
      "\u001b[34m\u001b[1mval: \u001b[0mWARNING ⚠️ /users/eleves-b/2024/mattia.martino/synthetic_dataset_v3/val/images/image_01719.png: ignoring corrupt image/label: non-normalized or out of bounds coordinates [     1.0222]\n",
      "\u001b[34m\u001b[1mval: \u001b[0mWARNING ⚠️ /users/eleves-b/2024/mattia.martino/synthetic_dataset_v3/val/images/image_01730.png: ignoring corrupt image/label: non-normalized or out of bounds coordinates [     1.0174      1.0507]\n",
      "\u001b[34m\u001b[1mval: \u001b[0mWARNING ⚠️ /users/eleves-b/2024/mattia.martino/synthetic_dataset_v3/val/images/image_01910.png: ignoring corrupt image/label: non-normalized or out of bounds coordinates [     1.0509      1.1041]\n",
      "\u001b[34m\u001b[1mval: \u001b[0mWARNING ⚠️ /users/eleves-b/2024/mattia.martino/synthetic_dataset_v3/val/images/image_01916.png: ignoring corrupt image/label: non-normalized or out of bounds coordinates [     1.0356      1.0851]\n",
      "\u001b[34m\u001b[1mval: \u001b[0mWARNING ⚠️ /users/eleves-b/2024/mattia.martino/synthetic_dataset_v3/val/images/image_01929.png: ignoring corrupt image/label: non-normalized or out of bounds coordinates [     1.0109      1.0702]\n",
      "\u001b[34m\u001b[1mval: \u001b[0mWARNING ⚠️ /users/eleves-b/2024/mattia.martino/synthetic_dataset_v3/val/images/image_01958.png: ignoring corrupt image/label: non-normalized or out of bounds coordinates [     1.1007      1.0797]\n",
      "\u001b[34m\u001b[1mval: \u001b[0mWARNING ⚠️ /users/eleves-b/2024/mattia.martino/synthetic_dataset_v3/val/images/image_01959.png: ignoring corrupt image/label: non-normalized or out of bounds coordinates [     1.0918      1.0213]\n",
      "\u001b[34m\u001b[1mval: \u001b[0mWARNING ⚠️ /users/eleves-b/2024/mattia.martino/synthetic_dataset_v3/val/images/image_01990.png: ignoring corrupt image/label: non-normalized or out of bounds coordinates [     1.0797      1.0492]\n",
      "\u001b[34m\u001b[1mval: \u001b[0mWARNING ⚠️ /users/eleves-b/2024/mattia.martino/synthetic_dataset_v3/val/images/image_02076.png: ignoring corrupt image/label: non-normalized or out of bounds coordinates [     1.0094]\n",
      "\u001b[34m\u001b[1mval: \u001b[0mWARNING ⚠️ /users/eleves-b/2024/mattia.martino/synthetic_dataset_v3/val/images/image_02089.png: ignoring corrupt image/label: non-normalized or out of bounds coordinates [     1.1484      1.1506]\n",
      "\u001b[34m\u001b[1mval: \u001b[0mWARNING ⚠️ /users/eleves-b/2024/mattia.martino/synthetic_dataset_v3/val/images/image_02093.png: ignoring corrupt image/label: non-normalized or out of bounds coordinates [     1.0313]\n",
      "\u001b[34m\u001b[1mval: \u001b[0mWARNING ⚠️ /users/eleves-b/2024/mattia.martino/synthetic_dataset_v3/val/images/image_02111.png: ignoring corrupt image/label: non-normalized or out of bounds coordinates [     1.0038]\n",
      "\u001b[34m\u001b[1mval: \u001b[0mWARNING ⚠️ /users/eleves-b/2024/mattia.martino/synthetic_dataset_v3/val/images/image_02139.png: ignoring corrupt image/label: non-normalized or out of bounds coordinates [     1.0281]\n",
      "\u001b[34m\u001b[1mval: \u001b[0mWARNING ⚠️ /users/eleves-b/2024/mattia.martino/synthetic_dataset_v3/val/images/image_02154.png: ignoring corrupt image/label: non-normalized or out of bounds coordinates [     1.0042]\n",
      "\u001b[34m\u001b[1mval: \u001b[0mWARNING ⚠️ /users/eleves-b/2024/mattia.martino/synthetic_dataset_v3/val/images/image_02173.png: ignoring corrupt image/label: non-normalized or out of bounds coordinates [      1.123      1.0117]\n",
      "\u001b[34m\u001b[1mval: \u001b[0mWARNING ⚠️ /users/eleves-b/2024/mattia.martino/synthetic_dataset_v3/val/images/image_02258.png: ignoring corrupt image/label: non-normalized or out of bounds coordinates [     1.0944      1.0948]\n",
      "\u001b[34m\u001b[1mval: \u001b[0mWARNING ⚠️ /users/eleves-b/2024/mattia.martino/synthetic_dataset_v3/val/images/image_02261.png: ignoring corrupt image/label: non-normalized or out of bounds coordinates [     1.0747      1.0645]\n",
      "\u001b[34m\u001b[1mval: \u001b[0mWARNING ⚠️ /users/eleves-b/2024/mattia.martino/synthetic_dataset_v3/val/images/image_02328.png: ignoring corrupt image/label: non-normalized or out of bounds coordinates [     1.0166]\n",
      "\u001b[34m\u001b[1mval: \u001b[0mWARNING ⚠️ /users/eleves-b/2024/mattia.martino/synthetic_dataset_v3/val/images/image_02341.png: ignoring corrupt image/label: non-normalized or out of bounds coordinates [     1.0041]\n",
      "\u001b[34m\u001b[1mval: \u001b[0mWARNING ⚠️ /users/eleves-b/2024/mattia.martino/synthetic_dataset_v3/val/images/image_02405.png: ignoring corrupt image/label: non-normalized or out of bounds coordinates [     1.0089]\n",
      "\u001b[34m\u001b[1mval: \u001b[0mWARNING ⚠️ /users/eleves-b/2024/mattia.martino/synthetic_dataset_v3/val/images/image_02420.png: ignoring corrupt image/label: non-normalized or out of bounds coordinates [     1.0665      1.0758]\n",
      "\u001b[34m\u001b[1mval: \u001b[0mWARNING ⚠️ /users/eleves-b/2024/mattia.martino/synthetic_dataset_v3/val/images/image_02435.png: ignoring corrupt image/label: non-normalized or out of bounds coordinates [     1.1017      1.0204]\n",
      "\u001b[34m\u001b[1mval: \u001b[0mWARNING ⚠️ /users/eleves-b/2024/mattia.martino/synthetic_dataset_v3/val/images/image_02441.png: ignoring corrupt image/label: non-normalized or out of bounds coordinates [     1.1494      1.0708]\n",
      "\u001b[34m\u001b[1mval: \u001b[0mNew cache created: /users/eleves-b/2024/mattia.martino/synthetic_dataset_v3/val/labels.cache\n"
     ]
    },
    {
     "name": "stderr",
     "output_type": "stream",
     "text": [
      "\n"
     ]
    },
    {
     "name": "stdout",
     "output_type": "stream",
     "text": [
      "Plotting labels to runs/detect/train/labels.jpg... \n",
      "\u001b[34m\u001b[1moptimizer:\u001b[0m 'optimizer=auto' found, ignoring 'lr0=0.01' and 'momentum=0.937' and determining best 'optimizer', 'lr0' and 'momentum' automatically... \n",
      "\u001b[34m\u001b[1moptimizer:\u001b[0m AdamW(lr=0.000172, momentum=0.9) with parameter groups 81 weight(decay=0.0), 88 weight(decay=0.0005), 87 bias(decay=0.0)\n",
      "Image sizes 640 train, 640 val\n",
      "Using 8 dataloader workers\n",
      "Logging results to \u001b[1mruns/detect/train\u001b[0m\n",
      "Starting training for 20 epochs...\n",
      "\n",
      "      Epoch    GPU_mem   box_loss   cls_loss   dfl_loss  Instances       Size\n"
     ]
    },
    {
     "name": "stderr",
     "output_type": "stream",
     "text": [
      "       1/20      1.62G      1.648      3.695      1.202         35        640: 100%|██████████| 1138/1138 [01:02<00:00, 18.24it/s]\n",
      "                 Class     Images  Instances      Box(P          R      mAP50  mAP50-95): 100%|██████████| 94/94 [00:04<00:00, 20.58it/s]\n"
     ]
    },
    {
     "name": "stdout",
     "output_type": "stream",
     "text": [
      "                   all       1501      17118     0.0456       0.56     0.0534     0.0402\n",
      "\n",
      "      Epoch    GPU_mem   box_loss   cls_loss   dfl_loss  Instances       Size\n"
     ]
    },
    {
     "name": "stderr",
     "output_type": "stream",
     "text": [
      "       2/20      1.54G      1.245      2.215      1.023         17        640: 100%|██████████| 1138/1138 [00:59<00:00, 19.27it/s]\n",
      "                 Class     Images  Instances      Box(P          R      mAP50  mAP50-95): 100%|██████████| 94/94 [00:04<00:00, 18.99it/s]\n"
     ]
    },
    {
     "name": "stdout",
     "output_type": "stream",
     "text": [
      "                   all       1501      17118     0.0811      0.287     0.0804     0.0607\n",
      "\n",
      "      Epoch    GPU_mem   box_loss   cls_loss   dfl_loss  Instances       Size\n"
     ]
    },
    {
     "name": "stderr",
     "output_type": "stream",
     "text": [
      "       3/20       1.5G      1.107      1.904     0.9846         33        640: 100%|██████████| 1138/1138 [00:59<00:00, 19.25it/s]\n",
      "                 Class     Images  Instances      Box(P          R      mAP50  mAP50-95): 100%|██████████| 94/94 [00:04<00:00, 19.44it/s]\n"
     ]
    },
    {
     "name": "stdout",
     "output_type": "stream",
     "text": [
      "                   all       1501      17118      0.134      0.373      0.133      0.099\n",
      "\n",
      "      Epoch    GPU_mem   box_loss   cls_loss   dfl_loss  Instances       Size\n"
     ]
    },
    {
     "name": "stderr",
     "output_type": "stream",
     "text": [
      "       4/20       1.6G      1.039      1.705     0.9662         65        640: 100%|██████████| 1138/1138 [00:58<00:00, 19.32it/s]\n",
      "                 Class     Images  Instances      Box(P          R      mAP50  mAP50-95): 100%|██████████| 94/94 [00:04<00:00, 19.88it/s]\n"
     ]
    },
    {
     "name": "stdout",
     "output_type": "stream",
     "text": [
      "                   all       1501      17118      0.167      0.484      0.174       0.13\n",
      "\n",
      "      Epoch    GPU_mem   box_loss   cls_loss   dfl_loss  Instances       Size\n"
     ]
    },
    {
     "name": "stderr",
     "output_type": "stream",
     "text": [
      "       5/20      1.55G     0.9897      1.578      0.951         16        640: 100%|██████████| 1138/1138 [00:58<00:00, 19.30it/s]\n",
      "                 Class     Images  Instances      Box(P          R      mAP50  mAP50-95): 100%|██████████| 94/94 [00:04<00:00, 20.37it/s]\n"
     ]
    },
    {
     "name": "stdout",
     "output_type": "stream",
     "text": [
      "                   all       1501      17118      0.197      0.515      0.214      0.159\n",
      "\n",
      "      Epoch    GPU_mem   box_loss   cls_loss   dfl_loss  Instances       Size\n"
     ]
    },
    {
     "name": "stderr",
     "output_type": "stream",
     "text": [
      "       6/20      1.56G     0.9529      1.487     0.9388         40        640: 100%|██████████| 1138/1138 [00:58<00:00, 19.30it/s]\n",
      "                 Class     Images  Instances      Box(P          R      mAP50  mAP50-95): 100%|██████████| 94/94 [00:04<00:00, 20.57it/s]\n"
     ]
    },
    {
     "name": "stdout",
     "output_type": "stream",
     "text": [
      "                   all       1501      17118      0.242      0.529      0.269      0.206\n",
      "\n",
      "      Epoch    GPU_mem   box_loss   cls_loss   dfl_loss  Instances       Size\n"
     ]
    },
    {
     "name": "stderr",
     "output_type": "stream",
     "text": [
      "       7/20      1.55G     0.9273      1.404     0.9339         37        640: 100%|██████████| 1138/1138 [00:59<00:00, 19.23it/s]\n",
      "                 Class     Images  Instances      Box(P          R      mAP50  mAP50-95): 100%|██████████| 94/94 [00:04<00:00, 20.47it/s]\n"
     ]
    },
    {
     "name": "stdout",
     "output_type": "stream",
     "text": [
      "                   all       1501      17118      0.303      0.535      0.338      0.261\n",
      "\n",
      "      Epoch    GPU_mem   box_loss   cls_loss   dfl_loss  Instances       Size\n"
     ]
    },
    {
     "name": "stderr",
     "output_type": "stream",
     "text": [
      "       8/20      1.56G     0.8979      1.318     0.9261         20        640: 100%|██████████| 1138/1138 [00:59<00:00, 19.09it/s]\n",
      "                 Class     Images  Instances      Box(P          R      mAP50  mAP50-95): 100%|██████████| 94/94 [00:04<00:00, 20.49it/s]\n"
     ]
    },
    {
     "name": "stdout",
     "output_type": "stream",
     "text": [
      "                   all       1501      17118      0.377      0.556      0.422      0.329\n",
      "\n",
      "      Epoch    GPU_mem   box_loss   cls_loss   dfl_loss  Instances       Size\n"
     ]
    },
    {
     "name": "stderr",
     "output_type": "stream",
     "text": [
      "       9/20      1.55G      0.882      1.242     0.9211         46        640: 100%|██████████| 1138/1138 [00:59<00:00, 19.18it/s]\n",
      "                 Class     Images  Instances      Box(P          R      mAP50  mAP50-95): 100%|██████████| 94/94 [00:04<00:00, 21.05it/s]\n"
     ]
    },
    {
     "name": "stdout",
     "output_type": "stream",
     "text": [
      "                   all       1501      17118      0.433      0.595      0.494      0.388\n",
      "\n",
      "      Epoch    GPU_mem   box_loss   cls_loss   dfl_loss  Instances       Size\n"
     ]
    },
    {
     "name": "stderr",
     "output_type": "stream",
     "text": [
      "      10/20      1.59G     0.8629      1.171     0.9163         38        640: 100%|██████████| 1138/1138 [00:58<00:00, 19.36it/s]\n",
      "                 Class     Images  Instances      Box(P          R      mAP50  mAP50-95): 100%|██████████| 94/94 [00:04<00:00, 21.21it/s]\n"
     ]
    },
    {
     "name": "stdout",
     "output_type": "stream",
     "text": [
      "                   all       1501      17118      0.503      0.611      0.565      0.446\n",
      "Closing dataloader mosaic\n",
      "\n",
      "      Epoch    GPU_mem   box_loss   cls_loss   dfl_loss  Instances       Size\n"
     ]
    },
    {
     "name": "stderr",
     "output_type": "stream",
     "text": [
      "      11/20      1.42G     0.7767      1.118     0.8893         15        640: 100%|██████████| 1138/1138 [00:57<00:00, 19.93it/s]\n",
      "                 Class     Images  Instances      Box(P          R      mAP50  mAP50-95): 100%|██████████| 94/94 [00:04<00:00, 21.90it/s]\n"
     ]
    },
    {
     "name": "stdout",
     "output_type": "stream",
     "text": [
      "                   all       1501      17118      0.545      0.646      0.614      0.483\n",
      "\n",
      "      Epoch    GPU_mem   box_loss   cls_loss   dfl_loss  Instances       Size\n"
     ]
    },
    {
     "name": "stderr",
     "output_type": "stream",
     "text": [
      "      12/20      1.37G     0.7532      1.043     0.8823         24        640: 100%|██████████| 1138/1138 [00:56<00:00, 20.04it/s]\n",
      "                 Class     Images  Instances      Box(P          R      mAP50  mAP50-95): 100%|██████████| 94/94 [00:04<00:00, 21.45it/s]\n"
     ]
    },
    {
     "name": "stdout",
     "output_type": "stream",
     "text": [
      "                   all       1501      17118      0.618      0.668       0.68      0.543\n",
      "\n",
      "      Epoch    GPU_mem   box_loss   cls_loss   dfl_loss  Instances       Size\n"
     ]
    },
    {
     "name": "stderr",
     "output_type": "stream",
     "text": [
      "      13/20      1.37G      0.732     0.9895     0.8764         26        640: 100%|██████████| 1138/1138 [00:57<00:00, 19.85it/s]\n",
      "                 Class     Images  Instances      Box(P          R      mAP50  mAP50-95): 100%|██████████| 94/94 [00:04<00:00, 21.52it/s]\n"
     ]
    },
    {
     "name": "stdout",
     "output_type": "stream",
     "text": [
      "                   all       1501      17118      0.648      0.692       0.71      0.567\n",
      "\n",
      "      Epoch    GPU_mem   box_loss   cls_loss   dfl_loss  Instances       Size\n"
     ]
    },
    {
     "name": "stderr",
     "output_type": "stream",
     "text": [
      "      14/20      1.38G     0.7209     0.9445     0.8715         19        640: 100%|██████████| 1138/1138 [00:57<00:00, 19.81it/s]\n",
      "                 Class     Images  Instances      Box(P          R      mAP50  mAP50-95): 100%|██████████| 94/94 [00:04<00:00, 21.58it/s]\n"
     ]
    },
    {
     "name": "stdout",
     "output_type": "stream",
     "text": [
      "                   all       1501      17118      0.691      0.708      0.747      0.603\n",
      "\n",
      "      Epoch    GPU_mem   box_loss   cls_loss   dfl_loss  Instances       Size\n"
     ]
    },
    {
     "name": "stderr",
     "output_type": "stream",
     "text": [
      "      15/20      1.37G      0.704     0.9076     0.8682         23        640: 100%|██████████| 1138/1138 [00:57<00:00, 19.84it/s]\n",
      "                 Class     Images  Instances      Box(P          R      mAP50  mAP50-95): 100%|██████████| 94/94 [00:04<00:00, 21.62it/s]\n"
     ]
    },
    {
     "name": "stdout",
     "output_type": "stream",
     "text": [
      "                   all       1501      17118      0.721      0.721      0.775       0.62\n",
      "\n",
      "      Epoch    GPU_mem   box_loss   cls_loss   dfl_loss  Instances       Size\n"
     ]
    },
    {
     "name": "stderr",
     "output_type": "stream",
     "text": [
      "      16/20      1.38G     0.6958     0.8757     0.8662         17        640: 100%|██████████| 1138/1138 [00:57<00:00, 19.86it/s]\n",
      "                 Class     Images  Instances      Box(P          R      mAP50  mAP50-95): 100%|██████████| 94/94 [00:04<00:00, 21.63it/s]"
     ]
    },
    {
     "name": "stdout",
     "output_type": "stream",
     "text": [
      "                   all       1501      17118      0.751      0.729      0.796      0.644\n"
     ]
    },
    {
     "name": "stderr",
     "output_type": "stream",
     "text": [
      "\n"
     ]
    },
    {
     "name": "stdout",
     "output_type": "stream",
     "text": [
      "\n",
      "      Epoch    GPU_mem   box_loss   cls_loss   dfl_loss  Instances       Size\n"
     ]
    },
    {
     "name": "stderr",
     "output_type": "stream",
     "text": [
      "      17/20      1.36G     0.6822     0.8492     0.8617         22        640: 100%|██████████| 1138/1138 [00:57<00:00, 19.86it/s]\n",
      "                 Class     Images  Instances      Box(P          R      mAP50  mAP50-95): 100%|██████████| 94/94 [00:04<00:00, 21.61it/s]\n"
     ]
    },
    {
     "name": "stdout",
     "output_type": "stream",
     "text": [
      "                   all       1501      17118      0.773      0.746      0.813      0.659\n",
      "\n",
      "      Epoch    GPU_mem   box_loss   cls_loss   dfl_loss  Instances       Size\n"
     ]
    },
    {
     "name": "stderr",
     "output_type": "stream",
     "text": [
      "      18/20      1.37G     0.6712     0.8255     0.8589         15        640: 100%|██████████| 1138/1138 [00:57<00:00, 19.82it/s]\n",
      "                 Class     Images  Instances      Box(P          R      mAP50  mAP50-95): 100%|██████████| 94/94 [00:04<00:00, 21.62it/s]\n"
     ]
    },
    {
     "name": "stdout",
     "output_type": "stream",
     "text": [
      "                   all       1501      17118      0.784      0.751      0.825      0.666\n",
      "\n",
      "      Epoch    GPU_mem   box_loss   cls_loss   dfl_loss  Instances       Size\n"
     ]
    },
    {
     "name": "stderr",
     "output_type": "stream",
     "text": [
      "      19/20      1.36G     0.6653     0.8111     0.8579         23        640: 100%|██████████| 1138/1138 [00:57<00:00, 19.88it/s]\n",
      "                 Class     Images  Instances      Box(P          R      mAP50  mAP50-95): 100%|██████████| 94/94 [00:04<00:00, 21.72it/s]\n"
     ]
    },
    {
     "name": "stdout",
     "output_type": "stream",
     "text": [
      "                   all       1501      17118      0.794      0.756      0.834      0.677\n",
      "\n",
      "      Epoch    GPU_mem   box_loss   cls_loss   dfl_loss  Instances       Size\n"
     ]
    },
    {
     "name": "stderr",
     "output_type": "stream",
     "text": [
      "      20/20      1.37G     0.6534     0.7957     0.8532         24        640: 100%|██████████| 1138/1138 [00:57<00:00, 19.84it/s]\n",
      "                 Class     Images  Instances      Box(P          R      mAP50  mAP50-95): 100%|██████████| 94/94 [00:04<00:00, 21.70it/s]\n"
     ]
    },
    {
     "name": "stdout",
     "output_type": "stream",
     "text": [
      "                   all       1501      17118        0.8      0.761      0.839      0.684\n",
      "\n",
      "20 epochs completed in 0.353 hours.\n",
      "Optimizer stripped from runs/detect/train/weights/last.pt, 5.5MB\n",
      "Optimizer stripped from runs/detect/train/weights/best.pt, 5.5MB\n",
      "\n",
      "Validating runs/detect/train/weights/best.pt...\n",
      "Ultralytics 8.3.40 🚀 Python-3.12.2 torch-2.5.1 CUDA:0 (NVIDIA RTX A4000, 16080MiB)\n",
      "YOLO11n summary (fused): 238 layers, 2,592,682 parameters, 0 gradients\n"
     ]
    },
    {
     "name": "stderr",
     "output_type": "stream",
     "text": [
      "                 Class     Images  Instances      Box(P          R      mAP50  mAP50-95): 100%|██████████| 94/94 [00:04<00:00, 20.44it/s]\n"
     ]
    },
    {
     "name": "stdout",
     "output_type": "stream",
     "text": [
      "                   all       1501      17118      0.799      0.762      0.839      0.684\n",
      "                    2C        151        260      0.859      0.854      0.903      0.735\n",
      "                    2D        194        336      0.932      0.866      0.943      0.774\n",
      "                    2H        176        294      0.867      0.912      0.944      0.773\n",
      "                    2S        152        263      0.911      0.825      0.904      0.748\n",
      "                    3C        172        292      0.914      0.872      0.942      0.775\n",
      "                    3D        152        270      0.905      0.878       0.94      0.772\n",
      "                    3H        160        275       0.94      0.829      0.931      0.736\n",
      "                    3S        172        293      0.817      0.846        0.9      0.741\n",
      "                    4C        154        257      0.919      0.842      0.913      0.738\n",
      "                    4D        150        245      0.877      0.876      0.924      0.759\n",
      "                    4H        151        259       0.89      0.907      0.955       0.79\n",
      "                    4S        139        241      0.939      0.827      0.925      0.757\n",
      "                    5C        155        252      0.794       0.72      0.804      0.655\n",
      "                    5D        182        322      0.816      0.835      0.904       0.74\n",
      "                    5H        134        230      0.742      0.776      0.858      0.705\n",
      "                    5S        166        281      0.716      0.794      0.815      0.682\n",
      "                    6C        175        300      0.604      0.629      0.694      0.576\n",
      "                    6D        141        237      0.685      0.646      0.704      0.581\n",
      "                    6H        125        212      0.543      0.663      0.633      0.525\n",
      "                    6S        138        234      0.591       0.65      0.666      0.549\n",
      "                    7C        181        316      0.908      0.622      0.856      0.704\n",
      "                    7D        175        300      0.853      0.783      0.887      0.719\n",
      "                    7H        182        306      0.838      0.673      0.863      0.712\n",
      "                    7S        164        283      0.917      0.508      0.837      0.693\n",
      "                    8C        155        271      0.604      0.561      0.641      0.539\n",
      "                    8D        168        286      0.623      0.685      0.703      0.568\n",
      "                    8H        170        291      0.637      0.588      0.702      0.522\n",
      "                    8S        161        262      0.627      0.618      0.662      0.553\n",
      "                    9C        152        261      0.545      0.692      0.623      0.506\n",
      "                    9D        179        303      0.715      0.776      0.836      0.663\n",
      "                    9H        171        300      0.729      0.752      0.789      0.646\n",
      "                    9S        151        255      0.711      0.545      0.696      0.577\n",
      "                    AC        131        228      0.892      0.867       0.92      0.751\n",
      "                    AD        155        255      0.857      0.906      0.943      0.781\n",
      "                    AH        164        273      0.879      0.907      0.944      0.747\n",
      "                    AS        181        308       0.91      0.909      0.954      0.774\n",
      "                    JC        145        253      0.871      0.692      0.829      0.629\n",
      "                    JD        152        262      0.658      0.752      0.809       0.64\n",
      "                    JH        165        277      0.817      0.742      0.846      0.673\n",
      "                    JS        150        250      0.885      0.645      0.863      0.681\n",
      "                    KC        173        309      0.741      0.725      0.811       0.63\n",
      "                    KD        139        242      0.696      0.674       0.73       0.58\n",
      "                    KH        163        273      0.871      0.799      0.891      0.687\n",
      "                    KS        133        232      0.637      0.666      0.696       0.55\n",
      "                    QC        150        243      0.827      0.716      0.821      0.645\n",
      "                    QD        172        294      0.734      0.728       0.81      0.657\n",
      "                    QH        157        266      0.801      0.636      0.797       0.61\n",
      "                    QS        160        257      0.745      0.712      0.778      0.606\n",
      "                    TC        159        273      0.809      0.832      0.886      0.703\n",
      "                    TD        155        274      0.874      0.809      0.914       0.73\n",
      "                    TH        176        306      0.895      0.784        0.9      0.727\n",
      "                    TS        153        254      0.793      0.801      0.872      0.706\n",
      "                  hand       1501       1501      0.999          1      0.995      0.954\n",
      "                  flop       1501       1501          1          1      0.995       0.96\n",
      "Speed: 0.1ms preprocess, 1.2ms inference, 0.0ms loss, 0.3ms postprocess per image\n",
      "Results saved to \u001b[1mruns/detect/train\u001b[0m\n"
     ]
    }
   ],
   "source": [
    "results = model.train(\n",
    "    data='synthetic_dataset_v3/data_lr.yaml',\n",
    "    epochs=20,\n",
    "    imgsz=640,\n",
    "    batch=8,\n",
    "    workers=8,\n",
    "    device=0\n",
    ")"
   ]
  },
  {
   "cell_type": "code",
   "execution_count": 5,
   "metadata": {},
   "outputs": [],
   "source": [
    "import pandas as pd\n",
    "import matplotlib.pyplot as plt"
   ]
  },
  {
   "cell_type": "code",
   "execution_count": 10,
   "metadata": {},
   "outputs": [
    {
     "data": {
      "image/png": "[encoded data removed]",
      "text/plain": [
       "<Figure size 1000x600 with 1 Axes>"
      ]
     },
     "metadata": {},
     "output_type": "display_data"
    }
   ],
   "source": [
    "results_path = \"runs_lr/detect/train/results.csv\"  # Update with your path\n",
    "results1 = pd.read_csv(results_path)\n",
    "results2 = pd.read_csv(\"runs_lr/detect/train7/results.csv\")\n",
    "results2['epoch'] = range(21, 71)\n",
    "results = pd.concat([results1, results2])\n",
    "# Plot the losses\n",
    "plt.figure(figsize=(10, 6))\n",
    "plt.plot(results[\"epoch\"], results[\"train/box_loss\"], label=\"Train Box Loss\")\n",
    "plt.plot(results[\"epoch\"], results[\"train/cls_loss\"], label=\"Train Classification Loss\")\n",
    "plt.plot(results[\"epoch\"], results['val/box_loss'], label=\"Val Box Loss\")\n",
    "plt.plot(results[\"epoch\"], results['val/cls_loss'], label=\"Val Classification Loss\")\n",
    "plt.xlabel(\"Epoch\")\n",
    "plt.ylabel(\"Loss\")\n",
    "plt.title(\"Training Loss Over Epochs\")\n",
    "plt.legend()\n",
    "plt.show()"
   ]
  },
  {
   "cell_type": "code",
   "execution_count": 11,
   "metadata": {},
   "outputs": [
    {
     "data": {
      "image/png": "[encoded data removed]",
      "text/plain": [
       "<Figure size 1000x600 with 1 Axes>"
      ]
     },
     "metadata": {},
     "output_type": "display_data"
    }
   ],
   "source": [
    "plt.figure(figsize=(10, 6))\n",
    "plt.plot(results[\"epoch\"], results[\"metrics/mAP50(B)\"], label=\"mAP50\")\n",
    "plt.plot(results[\"epoch\"], results[\"metrics/mAP50-95(B)\"], label=\"mAP50-95\")\n",
    "plt.xlabel(\"Epoch\")\n",
    "plt.ylabel(\"Precision\")\n",
    "plt.title(\"Mean average precision Over Epochs\")\n",
    "plt.legend()\n",
    "plt.show()"
   ]
  },
  {
   "cell_type": "code",
   "execution_count": 10,
   "metadata": {},
   "outputs": [
    {
     "name": "stdout",
     "output_type": "stream",
     "text": [
      "Ultralytics 8.3.40 🚀 Python-3.12.2 torch-2.5.1 CUDA:0 (NVIDIA RTX A4000, 16080MiB)\n"
     ]
    },
    {
     "name": "stderr",
     "output_type": "stream",
     "text": [
      "\u001b[34m\u001b[1mval: \u001b[0mScanning /users/eleves-b/2024/mattia.martino/synthetic_dataset_v3/test/labels... 1590 images, 0 backgrounds, 65 corrupt: 100%|██████████| 1590/1590 [00:03<00:00, 502.77it/s]"
     ]
    },
    {
     "name": "stdout",
     "output_type": "stream",
     "text": [
      "\u001b[34m\u001b[1mval: \u001b[0mWARNING ⚠️ /users/eleves-b/2024/mattia.martino/synthetic_dataset_v3/test/images/image_00060.png: ignoring corrupt image/label: non-normalized or out of bounds coordinates [     1.0032      1.0287]\n",
      "\u001b[34m\u001b[1mval: \u001b[0mWARNING ⚠️ /users/eleves-b/2024/mattia.martino/synthetic_dataset_v3/test/images/image_00080.png: ignoring corrupt image/label: non-normalized or out of bounds coordinates [     1.0102]\n",
      "\u001b[34m\u001b[1mval: \u001b[0mWARNING ⚠️ /users/eleves-b/2024/mattia.martino/synthetic_dataset_v3/test/images/image_00145.png: ignoring corrupt image/label: non-normalized or out of bounds coordinates [     1.0954      1.1782]\n",
      "\u001b[34m\u001b[1mval: \u001b[0mWARNING ⚠️ /users/eleves-b/2024/mattia.martino/synthetic_dataset_v3/test/images/image_00147.png: ignoring corrupt image/label: non-normalized or out of bounds coordinates [     1.0021]\n",
      "\u001b[34m\u001b[1mval: \u001b[0mWARNING ⚠️ /users/eleves-b/2024/mattia.martino/synthetic_dataset_v3/test/images/image_00154.png: ignoring corrupt image/label: non-normalized or out of bounds coordinates [     1.0363]\n",
      "\u001b[34m\u001b[1mval: \u001b[0mWARNING ⚠️ /users/eleves-b/2024/mattia.martino/synthetic_dataset_v3/test/images/image_00157.png: ignoring corrupt image/label: non-normalized or out of bounds coordinates [     1.0501      1.0569]\n",
      "\u001b[34m\u001b[1mval: \u001b[0mWARNING ⚠️ /users/eleves-b/2024/mattia.martino/synthetic_dataset_v3/test/images/image_00158.png: ignoring corrupt image/label: non-normalized or out of bounds coordinates [     1.1372      1.0508]\n",
      "\u001b[34m\u001b[1mval: \u001b[0mWARNING ⚠️ /users/eleves-b/2024/mattia.martino/synthetic_dataset_v3/test/images/image_00268.png: ignoring corrupt image/label: non-normalized or out of bounds coordinates [     1.0144]\n",
      "\u001b[34m\u001b[1mval: \u001b[0mWARNING ⚠️ /users/eleves-b/2024/mattia.martino/synthetic_dataset_v3/test/images/image_00353.png: ignoring corrupt image/label: non-normalized or out of bounds coordinates [     1.0163]\n",
      "\u001b[34m\u001b[1mval: \u001b[0mWARNING ⚠️ /users/eleves-b/2024/mattia.martino/synthetic_dataset_v3/test/images/image_00362.png: ignoring corrupt image/label: non-normalized or out of bounds coordinates [     1.1342      1.0375]\n",
      "\u001b[34m\u001b[1mval: \u001b[0mWARNING ⚠️ /users/eleves-b/2024/mattia.martino/synthetic_dataset_v3/test/images/image_00381.png: ignoring corrupt image/label: non-normalized or out of bounds coordinates [     1.0246]\n",
      "\u001b[34m\u001b[1mval: \u001b[0mWARNING ⚠️ /users/eleves-b/2024/mattia.martino/synthetic_dataset_v3/test/images/image_00403.png: ignoring corrupt image/label: non-normalized or out of bounds coordinates [     1.1329      1.0709]\n",
      "\u001b[34m\u001b[1mval: \u001b[0mWARNING ⚠️ /users/eleves-b/2024/mattia.martino/synthetic_dataset_v3/test/images/image_00441.png: ignoring corrupt image/label: non-normalized or out of bounds coordinates [     1.0038]\n",
      "\u001b[34m\u001b[1mval: \u001b[0mWARNING ⚠️ /users/eleves-b/2024/mattia.martino/synthetic_dataset_v3/test/images/image_00481.png: ignoring corrupt image/label: non-normalized or out of bounds coordinates [     1.0064]\n",
      "\u001b[34m\u001b[1mval: \u001b[0mWARNING ⚠️ /users/eleves-b/2024/mattia.martino/synthetic_dataset_v3/test/images/image_00498.png: ignoring corrupt image/label: non-normalized or out of bounds coordinates [     1.0548      1.0646]\n",
      "\u001b[34m\u001b[1mval: \u001b[0mWARNING ⚠️ /users/eleves-b/2024/mattia.martino/synthetic_dataset_v3/test/images/image_00530.png: ignoring corrupt image/label: non-normalized or out of bounds coordinates [     1.0071]\n",
      "\u001b[34m\u001b[1mval: \u001b[0mWARNING ⚠️ /users/eleves-b/2024/mattia.martino/synthetic_dataset_v3/test/images/image_00600.png: ignoring corrupt image/label: non-normalized or out of bounds coordinates [     1.0601      1.0824]\n",
      "\u001b[34m\u001b[1mval: \u001b[0mWARNING ⚠️ /users/eleves-b/2024/mattia.martino/synthetic_dataset_v3/test/images/image_00650.png: ignoring corrupt image/label: non-normalized or out of bounds coordinates [     1.1454      1.0696]\n",
      "\u001b[34m\u001b[1mval: \u001b[0mWARNING ⚠️ /users/eleves-b/2024/mattia.martino/synthetic_dataset_v3/test/images/image_00656.png: ignoring corrupt image/label: non-normalized or out of bounds coordinates [     1.0255      1.0928]\n",
      "\u001b[34m\u001b[1mval: \u001b[0mWARNING ⚠️ /users/eleves-b/2024/mattia.martino/synthetic_dataset_v3/test/images/image_00672.png: ignoring corrupt image/label: non-normalized or out of bounds coordinates [     1.1175      1.0008]\n",
      "\u001b[34m\u001b[1mval: \u001b[0mWARNING ⚠️ /users/eleves-b/2024/mattia.martino/synthetic_dataset_v3/test/images/image_00722.png: ignoring corrupt image/label: non-normalized or out of bounds coordinates [     1.1405      1.1808]\n",
      "\u001b[34m\u001b[1mval: \u001b[0mWARNING ⚠️ /users/eleves-b/2024/mattia.martino/synthetic_dataset_v3/test/images/image_00744.png: ignoring corrupt image/label: non-normalized or out of bounds coordinates [      1.003]\n",
      "\u001b[34m\u001b[1mval: \u001b[0mWARNING ⚠️ /users/eleves-b/2024/mattia.martino/synthetic_dataset_v3/test/images/image_00791.png: ignoring corrupt image/label: non-normalized or out of bounds coordinates [     1.0002      1.0067]\n",
      "\u001b[34m\u001b[1mval: \u001b[0mWARNING ⚠️ /users/eleves-b/2024/mattia.martino/synthetic_dataset_v3/test/images/image_00864.png: ignoring corrupt image/label: non-normalized or out of bounds coordinates [     1.0653      1.0689]\n",
      "\u001b[34m\u001b[1mval: \u001b[0mWARNING ⚠️ /users/eleves-b/2024/mattia.martino/synthetic_dataset_v3/test/images/image_00868.png: ignoring corrupt image/label: non-normalized or out of bounds coordinates [     1.0483      1.0622]\n",
      "\u001b[34m\u001b[1mval: \u001b[0mWARNING ⚠️ /users/eleves-b/2024/mattia.martino/synthetic_dataset_v3/test/images/image_00879.png: ignoring corrupt image/label: non-normalized or out of bounds coordinates [     1.1277      1.1674]\n",
      "\u001b[34m\u001b[1mval: \u001b[0mWARNING ⚠️ /users/eleves-b/2024/mattia.martino/synthetic_dataset_v3/test/images/image_00889.png: ignoring corrupt image/label: non-normalized or out of bounds coordinates [     1.1476      1.0242]\n",
      "\u001b[34m\u001b[1mval: \u001b[0mWARNING ⚠️ /users/eleves-b/2024/mattia.martino/synthetic_dataset_v3/test/images/image_00902.png: ignoring corrupt image/label: non-normalized or out of bounds coordinates [     1.0128]\n",
      "\u001b[34m\u001b[1mval: \u001b[0mWARNING ⚠️ /users/eleves-b/2024/mattia.martino/synthetic_dataset_v3/test/images/image_00909.png: ignoring corrupt image/label: non-normalized or out of bounds coordinates [      1.097      1.1213]\n",
      "\u001b[34m\u001b[1mval: \u001b[0mWARNING ⚠️ /users/eleves-b/2024/mattia.martino/synthetic_dataset_v3/test/images/image_00922.png: ignoring corrupt image/label: non-normalized or out of bounds coordinates [     1.0748      1.1146]\n",
      "\u001b[34m\u001b[1mval: \u001b[0mWARNING ⚠️ /users/eleves-b/2024/mattia.martino/synthetic_dataset_v3/test/images/image_01039.png: ignoring corrupt image/label: non-normalized or out of bounds coordinates [     1.0005]\n",
      "\u001b[34m\u001b[1mval: \u001b[0mWARNING ⚠️ /users/eleves-b/2024/mattia.martino/synthetic_dataset_v3/test/images/image_01045.png: ignoring corrupt image/label: non-normalized or out of bounds coordinates [     1.0218      1.0004]\n",
      "\u001b[34m\u001b[1mval: \u001b[0mWARNING ⚠️ /users/eleves-b/2024/mattia.martino/synthetic_dataset_v3/test/images/image_01047.png: ignoring corrupt image/label: non-normalized or out of bounds coordinates [     1.0463      1.0821]\n",
      "\u001b[34m\u001b[1mval: \u001b[0mWARNING ⚠️ /users/eleves-b/2024/mattia.martino/synthetic_dataset_v3/test/images/image_01068.png: ignoring corrupt image/label: non-normalized or out of bounds coordinates [     1.0064]\n",
      "\u001b[34m\u001b[1mval: \u001b[0mWARNING ⚠️ /users/eleves-b/2024/mattia.martino/synthetic_dataset_v3/test/images/image_01163.png: ignoring corrupt image/label: non-normalized or out of bounds coordinates [     1.0127]\n",
      "\u001b[34m\u001b[1mval: \u001b[0mWARNING ⚠️ /users/eleves-b/2024/mattia.martino/synthetic_dataset_v3/test/images/image_01164.png: ignoring corrupt image/label: non-normalized or out of bounds coordinates [     1.0128      1.0264]\n",
      "\u001b[34m\u001b[1mval: \u001b[0mWARNING ⚠️ /users/eleves-b/2024/mattia.martino/synthetic_dataset_v3/test/images/image_01228.png: ignoring corrupt image/label: non-normalized or out of bounds coordinates [     1.0041]\n",
      "\u001b[34m\u001b[1mval: \u001b[0mWARNING ⚠️ /users/eleves-b/2024/mattia.martino/synthetic_dataset_v3/test/images/image_01263.png: ignoring corrupt image/label: non-normalized or out of bounds coordinates [     1.0043      1.0051]\n",
      "\u001b[34m\u001b[1mval: \u001b[0mWARNING ⚠️ /users/eleves-b/2024/mattia.martino/synthetic_dataset_v3/test/images/image_01270.png: ignoring corrupt image/label: non-normalized or out of bounds coordinates [     1.0591      1.1005]\n",
      "\u001b[34m\u001b[1mval: \u001b[0mWARNING ⚠️ /users/eleves-b/2024/mattia.martino/synthetic_dataset_v3/test/images/image_01367.png: ignoring corrupt image/label: non-normalized or out of bounds coordinates [     1.0269]\n",
      "\u001b[34m\u001b[1mval: \u001b[0mWARNING ⚠️ /users/eleves-b/2024/mattia.martino/synthetic_dataset_v3/test/images/image_01389.png: ignoring corrupt image/label: non-normalized or out of bounds coordinates [     1.0045      1.0521]\n",
      "\u001b[34m\u001b[1mval: \u001b[0mWARNING ⚠️ /users/eleves-b/2024/mattia.martino/synthetic_dataset_v3/test/images/image_01398.png: ignoring corrupt image/label: non-normalized or out of bounds coordinates [     1.0007]\n",
      "\u001b[34m\u001b[1mval: \u001b[0mWARNING ⚠️ /users/eleves-b/2024/mattia.martino/synthetic_dataset_v3/test/images/image_01408.png: ignoring corrupt image/label: non-normalized or out of bounds coordinates [     1.0343       1.027]\n",
      "\u001b[34m\u001b[1mval: \u001b[0mWARNING ⚠️ /users/eleves-b/2024/mattia.martino/synthetic_dataset_v3/test/images/image_01537.png: ignoring corrupt image/label: non-normalized or out of bounds coordinates [     1.0156      1.0004]\n",
      "\u001b[34m\u001b[1mval: \u001b[0mWARNING ⚠️ /users/eleves-b/2024/mattia.martino/synthetic_dataset_v3/test/images/image_01707.png: ignoring corrupt image/label: non-normalized or out of bounds coordinates [      1.005]\n",
      "\u001b[34m\u001b[1mval: \u001b[0mWARNING ⚠️ /users/eleves-b/2024/mattia.martino/synthetic_dataset_v3/test/images/image_01753.png: ignoring corrupt image/label: non-normalized or out of bounds coordinates [     1.0883      1.1272]\n",
      "\u001b[34m\u001b[1mval: \u001b[0mWARNING ⚠️ /users/eleves-b/2024/mattia.martino/synthetic_dataset_v3/test/images/image_01784.png: ignoring corrupt image/label: non-normalized or out of bounds coordinates [     1.0274]\n",
      "\u001b[34m\u001b[1mval: \u001b[0mWARNING ⚠️ /users/eleves-b/2024/mattia.martino/synthetic_dataset_v3/test/images/image_01862.png: ignoring corrupt image/label: non-normalized or out of bounds coordinates [     1.0077]\n",
      "\u001b[34m\u001b[1mval: \u001b[0mWARNING ⚠️ /users/eleves-b/2024/mattia.martino/synthetic_dataset_v3/test/images/image_01934.png: ignoring corrupt image/label: non-normalized or out of bounds coordinates [     1.0174      1.0762]\n",
      "\u001b[34m\u001b[1mval: \u001b[0mWARNING ⚠️ /users/eleves-b/2024/mattia.martino/synthetic_dataset_v3/test/images/image_01973.png: ignoring corrupt image/label: non-normalized or out of bounds coordinates [     1.0796       1.187]\n",
      "\u001b[34m\u001b[1mval: \u001b[0mWARNING ⚠️ /users/eleves-b/2024/mattia.martino/synthetic_dataset_v3/test/images/image_02030.png: ignoring corrupt image/label: non-normalized or out of bounds coordinates [     1.0245      1.0024]\n",
      "\u001b[34m\u001b[1mval: \u001b[0mWARNING ⚠️ /users/eleves-b/2024/mattia.martino/synthetic_dataset_v3/test/images/image_02038.png: ignoring corrupt image/label: non-normalized or out of bounds coordinates [     1.1203      1.0647]\n",
      "\u001b[34m\u001b[1mval: \u001b[0mWARNING ⚠️ /users/eleves-b/2024/mattia.martino/synthetic_dataset_v3/test/images/image_02051.png: ignoring corrupt image/label: non-normalized or out of bounds coordinates [     1.0924      1.0554]\n",
      "\u001b[34m\u001b[1mval: \u001b[0mWARNING ⚠️ /users/eleves-b/2024/mattia.martino/synthetic_dataset_v3/test/images/image_02137.png: ignoring corrupt image/label: non-normalized or out of bounds coordinates [     1.0717      1.1146]\n",
      "\u001b[34m\u001b[1mval: \u001b[0mWARNING ⚠️ /users/eleves-b/2024/mattia.martino/synthetic_dataset_v3/test/images/image_02151.png: ignoring corrupt image/label: non-normalized or out of bounds coordinates [     1.0436      1.0963]\n",
      "\u001b[34m\u001b[1mval: \u001b[0mWARNING ⚠️ /users/eleves-b/2024/mattia.martino/synthetic_dataset_v3/test/images/image_02177.png: ignoring corrupt image/label: non-normalized or out of bounds coordinates [     1.1246      1.1325]\n",
      "\u001b[34m\u001b[1mval: \u001b[0mWARNING ⚠️ /users/eleves-b/2024/mattia.martino/synthetic_dataset_v3/test/images/image_02202.png: ignoring corrupt image/label: non-normalized or out of bounds coordinates [     1.1495      1.0141]\n",
      "\u001b[34m\u001b[1mval: \u001b[0mWARNING ⚠️ /users/eleves-b/2024/mattia.martino/synthetic_dataset_v3/test/images/image_02247.png: ignoring corrupt image/label: non-normalized or out of bounds coordinates [     1.0035]\n",
      "\u001b[34m\u001b[1mval: \u001b[0mWARNING ⚠️ /users/eleves-b/2024/mattia.martino/synthetic_dataset_v3/test/images/image_02357.png: ignoring corrupt image/label: non-normalized or out of bounds coordinates [     1.1101      1.0712]\n",
      "\u001b[34m\u001b[1mval: \u001b[0mWARNING ⚠️ /users/eleves-b/2024/mattia.martino/synthetic_dataset_v3/test/images/image_02367.png: ignoring corrupt image/label: non-normalized or out of bounds coordinates [     1.0189      1.0042]\n",
      "\u001b[34m\u001b[1mval: \u001b[0mWARNING ⚠️ /users/eleves-b/2024/mattia.martino/synthetic_dataset_v3/test/images/image_02387.png: ignoring corrupt image/label: non-normalized or out of bounds coordinates [     1.1279      1.0659]\n",
      "\u001b[34m\u001b[1mval: \u001b[0mWARNING ⚠️ /users/eleves-b/2024/mattia.martino/synthetic_dataset_v3/test/images/image_02410.png: ignoring corrupt image/label: non-normalized or out of bounds coordinates [     1.0089]\n",
      "\u001b[34m\u001b[1mval: \u001b[0mWARNING ⚠️ /users/eleves-b/2024/mattia.martino/synthetic_dataset_v3/test/images/image_02430.png: ignoring corrupt image/label: non-normalized or out of bounds coordinates [     1.0265]\n",
      "\u001b[34m\u001b[1mval: \u001b[0mWARNING ⚠️ /users/eleves-b/2024/mattia.martino/synthetic_dataset_v3/test/images/image_02447.png: ignoring corrupt image/label: non-normalized or out of bounds coordinates [     1.0212      1.0217]\n",
      "\u001b[34m\u001b[1mval: \u001b[0mWARNING ⚠️ /users/eleves-b/2024/mattia.martino/synthetic_dataset_v3/test/images/image_02490.png: ignoring corrupt image/label: non-normalized or out of bounds coordinates [     1.0162]\n",
      "\u001b[34m\u001b[1mval: \u001b[0mNew cache created: /users/eleves-b/2024/mattia.martino/synthetic_dataset_v3/test/labels.cache\n"
     ]
    },
    {
     "name": "stderr",
     "output_type": "stream",
     "text": [
      "\n",
      "                 Class     Images  Instances      Box(P          R      mAP50  mAP50-95): 100%|██████████| 191/191 [00:06<00:00, 30.87it/s]\n"
     ]
    },
    {
     "name": "stdout",
     "output_type": "stream",
     "text": [
      "                   all       1525      17217       0.79      0.762      0.835      0.683\n",
      "                    2C        153        263      0.869      0.858      0.928      0.763\n",
      "                    2D        163        281      0.904      0.871      0.941      0.769\n",
      "                    2H        162        272      0.906      0.857      0.928      0.761\n",
      "                    2S        148        250      0.909      0.843      0.915      0.765\n",
      "                    3C        164        282      0.863      0.872      0.933      0.757\n",
      "                    3D        148        246      0.875      0.852      0.924       0.75\n",
      "                    3H        154        269      0.917      0.818      0.925      0.745\n",
      "                    3S        165        284      0.828      0.831      0.876      0.728\n",
      "                    4C        185        316      0.954      0.848      0.958      0.785\n",
      "                    4D        155        262      0.877      0.901       0.94       0.78\n",
      "                    4H        180        308      0.889      0.883      0.931      0.771\n",
      "                    4S        164        269      0.856      0.833      0.889      0.735\n",
      "                    5C        178        297      0.768      0.714      0.801      0.648\n",
      "                    5D        151        256      0.726       0.82      0.863      0.712\n",
      "                    5H        156        268      0.729      0.733      0.792      0.654\n",
      "                    5S        188        310      0.681       0.73      0.781      0.645\n",
      "                    6C        163        265      0.539      0.619      0.628      0.515\n",
      "                    6D        157        271      0.757       0.72      0.815      0.673\n",
      "                    6H        153        254      0.585       0.72      0.692      0.576\n",
      "                    6S        161        269      0.646      0.699      0.729      0.592\n",
      "                    7C        169        283       0.87      0.657      0.843      0.694\n",
      "                    7D        151        257      0.818      0.759      0.862      0.696\n",
      "                    7H        146        243      0.806      0.716      0.847      0.704\n",
      "                    7S        151        260      0.898       0.61      0.829      0.689\n",
      "                    8C        129        208      0.533      0.548      0.585        0.5\n",
      "                    8D        157        261       0.59      0.667       0.69      0.564\n",
      "                    8H        157        267      0.647      0.623       0.71      0.532\n",
      "                    8S        172        292      0.691       0.62      0.687      0.569\n",
      "                    9C        168        283       0.61      0.696       0.65       0.53\n",
      "                    9D        160        276      0.656      0.746      0.789      0.626\n",
      "                    9H        162        275        0.7      0.745      0.795       0.65\n",
      "                    9S        144        235      0.697      0.579      0.668      0.563\n",
      "                    AC        168        293      0.864      0.869      0.912      0.743\n",
      "                    AD        149        253      0.856      0.847      0.918      0.765\n",
      "                    AH        156        268      0.886      0.884      0.951       0.78\n",
      "                    AS        174        288      0.891      0.877      0.942      0.761\n",
      "                    JC        180        313      0.912      0.735      0.877      0.688\n",
      "                    JD        155        263       0.69      0.749      0.817      0.652\n",
      "                    JH        157        267      0.736      0.667      0.798      0.645\n",
      "                    JS        153        255      0.845      0.642      0.799      0.627\n",
      "                    KC        176        305       0.74      0.731      0.801      0.636\n",
      "                    KD        160        271      0.765      0.707      0.799      0.633\n",
      "                    KH        147        248      0.789      0.768      0.841      0.667\n",
      "                    KS        158        275      0.657      0.702       0.73      0.596\n",
      "                    QC        166        289      0.825      0.702      0.826      0.637\n",
      "                    QD        159        272      0.685       0.71      0.783      0.626\n",
      "                    QH        150        257       0.78      0.662      0.803        0.6\n",
      "                    QS        164        274      0.718      0.726      0.774       0.61\n",
      "                    TC        167        292      0.826      0.818      0.882      0.718\n",
      "                    TD        166        293       0.92      0.789      0.924      0.742\n",
      "                    TH        180        299      0.913       0.84      0.932      0.756\n",
      "                    TS        157        260      0.765      0.731      0.838      0.666\n",
      "                  hand       1525       1525          1      0.999      0.995       0.95\n",
      "                  flop       1525       1525      0.999          1      0.995      0.962\n",
      "Speed: 0.1ms preprocess, 2.1ms inference, 0.0ms loss, 0.3ms postprocess per image\n",
      "Results saved to \u001b[1mruns/detect/train4\u001b[0m\n"
     ]
    }
   ],
   "source": [
    "metrics = model.val(data=\"synthetic_dataset_v3/data_lr.yaml\", split=\"test\")"
   ]
  },
  {
   "cell_type": "code",
   "execution_count": 15,
   "metadata": {},
   "outputs": [
    {
     "name": "stdout",
     "output_type": "stream",
     "text": [
      "ultralytics.utils.metrics.DetMetrics object with attributes:\n",
      "\n",
      "ap_class_index: array([ 0,  1,  2,  3,  4,  5,  6,  7,  8,  9, 10, 11, 12, 13, 14, 15, 16, 17, 18, 19, 20, 21, 22, 23, 24, 25, 26, 27, 28, 29, 30, 31, 32, 33, 34, 35, 36, 37, 38, 39, 40, 41, 42, 43, 44, 45, 46, 47, 48, 49, 50, 51, 52, 53, 54, 55])\n",
      "box: ultralytics.utils.metrics.Metric object\n",
      "confusion_matrix: <ultralytics.utils.metrics.ConfusionMatrix object at 0x7fea9d52fdd0>\n",
      "curves: ['Precision-Recall(B)', 'F1-Confidence(B)', 'Precision-Confidence(B)', 'Recall-Confidence(B)']\n",
      "curves_results: [[array([          0,    0.001001,    0.002002,    0.003003,    0.004004,    0.005005,    0.006006,    0.007007,    0.008008,    0.009009,     0.01001,    0.011011,    0.012012,    0.013013,    0.014014,    0.015015,    0.016016,    0.017017,    0.018018,    0.019019,     0.02002,    0.021021,    0.022022,    0.023023,\n",
      "          0.024024,    0.025025,    0.026026,    0.027027,    0.028028,    0.029029,     0.03003,    0.031031,    0.032032,    0.033033,    0.034034,    0.035035,    0.036036,    0.037037,    0.038038,    0.039039,     0.04004,    0.041041,    0.042042,    0.043043,    0.044044,    0.045045,    0.046046,    0.047047,\n",
      "          0.048048,    0.049049,     0.05005,    0.051051,    0.052052,    0.053053,    0.054054,    0.055055,    0.056056,    0.057057,    0.058058,    0.059059,     0.06006,    0.061061,    0.062062,    0.063063,    0.064064,    0.065065,    0.066066,    0.067067,    0.068068,    0.069069,     0.07007,    0.071071,\n",
      "          0.072072,    0.073073,    0.074074,    0.075075,    0.076076,    0.077077,    0.078078,    0.079079,     0.08008,    0.081081,    0.082082,    0.083083,    0.084084,    0.085085,    0.086086,    0.087087,    0.088088,    0.089089,     0.09009,    0.091091,    0.092092,    0.093093,    0.094094,    0.095095,\n",
      "          0.096096,    0.097097,    0.098098,    0.099099,      0.1001,      0.1011,      0.1021,      0.1031,      0.1041,     0.10511,     0.10611,     0.10711,     0.10811,     0.10911,     0.11011,     0.11111,     0.11211,     0.11311,     0.11411,     0.11512,     0.11612,     0.11712,     0.11812,     0.11912,\n",
      "           0.12012,     0.12112,     0.12212,     0.12312,     0.12412,     0.12513,     0.12613,     0.12713,     0.12813,     0.12913,     0.13013,     0.13113,     0.13213,     0.13313,     0.13413,     0.13514,     0.13614,     0.13714,     0.13814,     0.13914,     0.14014,     0.14114,     0.14214,     0.14314,\n",
      "           0.14414,     0.14515,     0.14615,     0.14715,     0.14815,     0.14915,     0.15015,     0.15115,     0.15215,     0.15315,     0.15415,     0.15516,     0.15616,     0.15716,     0.15816,     0.15916,     0.16016,     0.16116,     0.16216,     0.16316,     0.16416,     0.16517,     0.16617,     0.16717,\n",
      "           0.16817,     0.16917,     0.17017,     0.17117,     0.17217,     0.17317,     0.17417,     0.17518,     0.17618,     0.17718,     0.17818,     0.17918,     0.18018,     0.18118,     0.18218,     0.18318,     0.18418,     0.18519,     0.18619,     0.18719,     0.18819,     0.18919,     0.19019,     0.19119,\n",
      "           0.19219,     0.19319,     0.19419,      0.1952,      0.1962,      0.1972,      0.1982,      0.1992,      0.2002,      0.2012,      0.2022,      0.2032,      0.2042,     0.20521,     0.20621,     0.20721,     0.20821,     0.20921,     0.21021,     0.21121,     0.21221,     0.21321,     0.21421,     0.21522,\n",
      "           0.21622,     0.21722,     0.21822,     0.21922,     0.22022,     0.22122,     0.22222,     0.22322,     0.22422,     0.22523,     0.22623,     0.22723,     0.22823,     0.22923,     0.23023,     0.23123,     0.23223,     0.23323,     0.23423,     0.23524,     0.23624,     0.23724,     0.23824,     0.23924,\n",
      "           0.24024,     0.24124,     0.24224,     0.24324,     0.24424,     0.24525,     0.24625,     0.24725,     0.24825,     0.24925,     0.25025,     0.25125,     0.25225,     0.25325,     0.25425,     0.25526,     0.25626,     0.25726,     0.25826,     0.25926,     0.26026,     0.26126,     0.26226,     0.26326,\n",
      "           0.26426,     0.26527,     0.26627,     0.26727,     0.26827,     0.26927,     0.27027,     0.27127,     0.27227,     0.27327,     0.27427,     0.27528,     0.27628,     0.27728,     0.27828,     0.27928,     0.28028,     0.28128,     0.28228,     0.28328,     0.28428,     0.28529,     0.28629,     0.28729,\n",
      "           0.28829,     0.28929,     0.29029,     0.29129,     0.29229,     0.29329,     0.29429,      0.2953,      0.2963,      0.2973,      0.2983,      0.2993,      0.3003,      0.3013,      0.3023,      0.3033,      0.3043,     0.30531,     0.30631,     0.30731,     0.30831,     0.30931,     0.31031,     0.31131,\n",
      "           0.31231,     0.31331,     0.31431,     0.31532,     0.31632,     0.31732,     0.31832,     0.31932,     0.32032,     0.32132,     0.32232,     0.32332,     0.32432,     0.32533,     0.32633,     0.32733,     0.32833,     0.32933,     0.33033,     0.33133,     0.33233,     0.33333,     0.33433,     0.33534,\n",
      "           0.33634,     0.33734,     0.33834,     0.33934,     0.34034,     0.34134,     0.34234,     0.34334,     0.34434,     0.34535,     0.34635,     0.34735,     0.34835,     0.34935,     0.35035,     0.35135,     0.35235,     0.35335,     0.35435,     0.35536,     0.35636,     0.35736,     0.35836,     0.35936,\n",
      "           0.36036,     0.36136,     0.36236,     0.36336,     0.36436,     0.36537,     0.36637,     0.36737,     0.36837,     0.36937,     0.37037,     0.37137,     0.37237,     0.37337,     0.37437,     0.37538,     0.37638,     0.37738,     0.37838,     0.37938,     0.38038,     0.38138,     0.38238,     0.38338,\n",
      "           0.38438,     0.38539,     0.38639,     0.38739,     0.38839,     0.38939,     0.39039,     0.39139,     0.39239,     0.39339,     0.39439,      0.3954,      0.3964,      0.3974,      0.3984,      0.3994,      0.4004,      0.4014,      0.4024,      0.4034,      0.4044,     0.40541,     0.40641,     0.40741,\n",
      "           0.40841,     0.40941,     0.41041,     0.41141,     0.41241,     0.41341,     0.41441,     0.41542,     0.41642,     0.41742,     0.41842,     0.41942,     0.42042,     0.42142,     0.42242,     0.42342,     0.42442,     0.42543,     0.42643,     0.42743,     0.42843,     0.42943,     0.43043,     0.43143,\n",
      "           0.43243,     0.43343,     0.43443,     0.43544,     0.43644,     0.43744,     0.43844,     0.43944,     0.44044,     0.44144,     0.44244,     0.44344,     0.44444,     0.44545,     0.44645,     0.44745,     0.44845,     0.44945,     0.45045,     0.45145,     0.45245,     0.45345,     0.45445,     0.45546,\n",
      "           0.45646,     0.45746,     0.45846,     0.45946,     0.46046,     0.46146,     0.46246,     0.46346,     0.46446,     0.46547,     0.46647,     0.46747,     0.46847,     0.46947,     0.47047,     0.47147,     0.47247,     0.47347,     0.47447,     0.47548,     0.47648,     0.47748,     0.47848,     0.47948,\n",
      "           0.48048,     0.48148,     0.48248,     0.48348,     0.48448,     0.48549,     0.48649,     0.48749,     0.48849,     0.48949,     0.49049,     0.49149,     0.49249,     0.49349,     0.49449,      0.4955,      0.4965,      0.4975,      0.4985,      0.4995,      0.5005,      0.5015,      0.5025,      0.5035,\n",
      "            0.5045,     0.50551,     0.50651,     0.50751,     0.50851,     0.50951,     0.51051,     0.51151,     0.51251,     0.51351,     0.51451,     0.51552,     0.51652,     0.51752,     0.51852,     0.51952,     0.52052,     0.52152,     0.52252,     0.52352,     0.52452,     0.52553,     0.52653,     0.52753,\n",
      "           0.52853,     0.52953,     0.53053,     0.53153,     0.53253,     0.53353,     0.53453,     0.53554,     0.53654,     0.53754,     0.53854,     0.53954,     0.54054,     0.54154,     0.54254,     0.54354,     0.54454,     0.54555,     0.54655,     0.54755,     0.54855,     0.54955,     0.55055,     0.55155,\n",
      "           0.55255,     0.55355,     0.55455,     0.55556,     0.55656,     0.55756,     0.55856,     0.55956,     0.56056,     0.56156,     0.56256,     0.56356,     0.56456,     0.56557,     0.56657,     0.56757,     0.56857,     0.56957,     0.57057,     0.57157,     0.57257,     0.57357,     0.57457,     0.57558,\n",
      "           0.57658,     0.57758,     0.57858,     0.57958,     0.58058,     0.58158,     0.58258,     0.58358,     0.58458,     0.58559,     0.58659,     0.58759,     0.58859,     0.58959,     0.59059,     0.59159,     0.59259,     0.59359,     0.59459,      0.5956,      0.5966,      0.5976,      0.5986,      0.5996,\n",
      "            0.6006,      0.6016,      0.6026,      0.6036,      0.6046,     0.60561,     0.60661,     0.60761,     0.60861,     0.60961,     0.61061,     0.61161,     0.61261,     0.61361,     0.61461,     0.61562,     0.61662,     0.61762,     0.61862,     0.61962,     0.62062,     0.62162,     0.62262,     0.62362,\n",
      "           0.62462,     0.62563,     0.62663,     0.62763,     0.62863,     0.62963,     0.63063,     0.63163,     0.63263,     0.63363,     0.63463,     0.63564,     0.63664,     0.63764,     0.63864,     0.63964,     0.64064,     0.64164,     0.64264,     0.64364,     0.64464,     0.64565,     0.64665,     0.64765,\n",
      "           0.64865,     0.64965,     0.65065,     0.65165,     0.65265,     0.65365,     0.65465,     0.65566,     0.65666,     0.65766,     0.65866,     0.65966,     0.66066,     0.66166,     0.66266,     0.66366,     0.66466,     0.66567,     0.66667,     0.66767,     0.66867,     0.66967,     0.67067,     0.67167,\n",
      "           0.67267,     0.67367,     0.67467,     0.67568,     0.67668,     0.67768,     0.67868,     0.67968,     0.68068,     0.68168,     0.68268,     0.68368,     0.68468,     0.68569,     0.68669,     0.68769,     0.68869,     0.68969,     0.69069,     0.69169,     0.69269,     0.69369,     0.69469,      0.6957,\n",
      "            0.6967,      0.6977,      0.6987,      0.6997,      0.7007,      0.7017,      0.7027,      0.7037,      0.7047,     0.70571,     0.70671,     0.70771,     0.70871,     0.70971,     0.71071,     0.71171,     0.71271,     0.71371,     0.71471,     0.71572,     0.71672,     0.71772,     0.71872,     0.71972,\n",
      "           0.72072,     0.72172,     0.72272,     0.72372,     0.72472,     0.72573,     0.72673,     0.72773,     0.72873,     0.72973,     0.73073,     0.73173,     0.73273,     0.73373,     0.73473,     0.73574,     0.73674,     0.73774,     0.73874,     0.73974,     0.74074,     0.74174,     0.74274,     0.74374,\n",
      "           0.74474,     0.74575,     0.74675,     0.74775,     0.74875,     0.74975,     0.75075,     0.75175,     0.75275,     0.75375,     0.75475,     0.75576,     0.75676,     0.75776,     0.75876,     0.75976,     0.76076,     0.76176,     0.76276,     0.76376,     0.76476,     0.76577,     0.76677,     0.76777,\n",
      "           0.76877,     0.76977,     0.77077,     0.77177,     0.77277,     0.77377,     0.77477,     0.77578,     0.77678,     0.77778,     0.77878,     0.77978,     0.78078,     0.78178,     0.78278,     0.78378,     0.78478,     0.78579,     0.78679,     0.78779,     0.78879,     0.78979,     0.79079,     0.79179,\n",
      "           0.79279,     0.79379,     0.79479,      0.7958,      0.7968,      0.7978,      0.7988,      0.7998,      0.8008,      0.8018,      0.8028,      0.8038,      0.8048,     0.80581,     0.80681,     0.80781,     0.80881,     0.80981,     0.81081,     0.81181,     0.81281,     0.81381,     0.81481,     0.81582,\n",
      "           0.81682,     0.81782,     0.81882,     0.81982,     0.82082,     0.82182,     0.82282,     0.82382,     0.82482,     0.82583,     0.82683,     0.82783,     0.82883,     0.82983,     0.83083,     0.83183,     0.83283,     0.83383,     0.83483,     0.83584,     0.83684,     0.83784,     0.83884,     0.83984,\n",
      "           0.84084,     0.84184,     0.84284,     0.84384,     0.84484,     0.84585,     0.84685,     0.84785,     0.84885,     0.84985,     0.85085,     0.85185,     0.85285,     0.85385,     0.85485,     0.85586,     0.85686,     0.85786,     0.85886,     0.85986,     0.86086,     0.86186,     0.86286,     0.86386,\n",
      "           0.86486,     0.86587,     0.86687,     0.86787,     0.86887,     0.86987,     0.87087,     0.87187,     0.87287,     0.87387,     0.87487,     0.87588,     0.87688,     0.87788,     0.87888,     0.87988,     0.88088,     0.88188,     0.88288,     0.88388,     0.88488,     0.88589,     0.88689,     0.88789,\n",
      "           0.88889,     0.88989,     0.89089,     0.89189,     0.89289,     0.89389,     0.89489,      0.8959,      0.8969,      0.8979,      0.8989,      0.8999,      0.9009,      0.9019,      0.9029,      0.9039,      0.9049,     0.90591,     0.90691,     0.90791,     0.90891,     0.90991,     0.91091,     0.91191,\n",
      "           0.91291,     0.91391,     0.91491,     0.91592,     0.91692,     0.91792,     0.91892,     0.91992,     0.92092,     0.92192,     0.92292,     0.92392,     0.92492,     0.92593,     0.92693,     0.92793,     0.92893,     0.92993,     0.93093,     0.93193,     0.93293,     0.93393,     0.93493,     0.93594,\n",
      "           0.93694,     0.93794,     0.93894,     0.93994,     0.94094,     0.94194,     0.94294,     0.94394,     0.94494,     0.94595,     0.94695,     0.94795,     0.94895,     0.94995,     0.95095,     0.95195,     0.95295,     0.95395,     0.95495,     0.95596,     0.95696,     0.95796,     0.95896,     0.95996,\n",
      "           0.96096,     0.96196,     0.96296,     0.96396,     0.96496,     0.96597,     0.96697,     0.96797,     0.96897,     0.96997,     0.97097,     0.97197,     0.97297,     0.97397,     0.97497,     0.97598,     0.97698,     0.97798,     0.97898,     0.97998,     0.98098,     0.98198,     0.98298,     0.98398,\n",
      "           0.98498,     0.98599,     0.98699,     0.98799,     0.98899,     0.98999,     0.99099,     0.99199,     0.99299,     0.99399,     0.99499,       0.996,       0.997,       0.998,       0.999,           1]), array([[          1,           1,           1, ...,     0.91031,     0.91031,           0],\n",
      "       [          1,           1,           1, ...,     0.72587,     0.72587,           0],\n",
      "       [          1,           1,           1, ...,     0.70724,     0.70724,           0],\n",
      "       ...,\n",
      "       [          1,           1,           1, ...,           1,           1,           0],\n",
      "       [          1,           1,           1, ...,           1,           1,           0],\n",
      "       [          1,           1,           1, ...,           1,           1,           0]]), 'Recall', 'Precision'], [array([          0,    0.001001,    0.002002,    0.003003,    0.004004,    0.005005,    0.006006,    0.007007,    0.008008,    0.009009,     0.01001,    0.011011,    0.012012,    0.013013,    0.014014,    0.015015,    0.016016,    0.017017,    0.018018,    0.019019,     0.02002,    0.021021,    0.022022,    0.023023,\n",
      "          0.024024,    0.025025,    0.026026,    0.027027,    0.028028,    0.029029,     0.03003,    0.031031,    0.032032,    0.033033,    0.034034,    0.035035,    0.036036,    0.037037,    0.038038,    0.039039,     0.04004,    0.041041,    0.042042,    0.043043,    0.044044,    0.045045,    0.046046,    0.047047,\n",
      "          0.048048,    0.049049,     0.05005,    0.051051,    0.052052,    0.053053,    0.054054,    0.055055,    0.056056,    0.057057,    0.058058,    0.059059,     0.06006,    0.061061,    0.062062,    0.063063,    0.064064,    0.065065,    0.066066,    0.067067,    0.068068,    0.069069,     0.07007,    0.071071,\n",
      "          0.072072,    0.073073,    0.074074,    0.075075,    0.076076,    0.077077,    0.078078,    0.079079,     0.08008,    0.081081,    0.082082,    0.083083,    0.084084,    0.085085,    0.086086,    0.087087,    0.088088,    0.089089,     0.09009,    0.091091,    0.092092,    0.093093,    0.094094,    0.095095,\n",
      "          0.096096,    0.097097,    0.098098,    0.099099,      0.1001,      0.1011,      0.1021,      0.1031,      0.1041,     0.10511,     0.10611,     0.10711,     0.10811,     0.10911,     0.11011,     0.11111,     0.11211,     0.11311,     0.11411,     0.11512,     0.11612,     0.11712,     0.11812,     0.11912,\n",
      "           0.12012,     0.12112,     0.12212,     0.12312,     0.12412,     0.12513,     0.12613,     0.12713,     0.12813,     0.12913,     0.13013,     0.13113,     0.13213,     0.13313,     0.13413,     0.13514,     0.13614,     0.13714,     0.13814,     0.13914,     0.14014,     0.14114,     0.14214,     0.14314,\n",
      "           0.14414,     0.14515,     0.14615,     0.14715,     0.14815,     0.14915,     0.15015,     0.15115,     0.15215,     0.15315,     0.15415,     0.15516,     0.15616,     0.15716,     0.15816,     0.15916,     0.16016,     0.16116,     0.16216,     0.16316,     0.16416,     0.16517,     0.16617,     0.16717,\n",
      "           0.16817,     0.16917,     0.17017,     0.17117,     0.17217,     0.17317,     0.17417,     0.17518,     0.17618,     0.17718,     0.17818,     0.17918,     0.18018,     0.18118,     0.18218,     0.18318,     0.18418,     0.18519,     0.18619,     0.18719,     0.18819,     0.18919,     0.19019,     0.19119,\n",
      "           0.19219,     0.19319,     0.19419,      0.1952,      0.1962,      0.1972,      0.1982,      0.1992,      0.2002,      0.2012,      0.2022,      0.2032,      0.2042,     0.20521,     0.20621,     0.20721,     0.20821,     0.20921,     0.21021,     0.21121,     0.21221,     0.21321,     0.21421,     0.21522,\n",
      "           0.21622,     0.21722,     0.21822,     0.21922,     0.22022,     0.22122,     0.22222,     0.22322,     0.22422,     0.22523,     0.22623,     0.22723,     0.22823,     0.22923,     0.23023,     0.23123,     0.23223,     0.23323,     0.23423,     0.23524,     0.23624,     0.23724,     0.23824,     0.23924,\n",
      "           0.24024,     0.24124,     0.24224,     0.24324,     0.24424,     0.24525,     0.24625,     0.24725,     0.24825,     0.24925,     0.25025,     0.25125,     0.25225,     0.25325,     0.25425,     0.25526,     0.25626,     0.25726,     0.25826,     0.25926,     0.26026,     0.26126,     0.26226,     0.26326,\n",
      "           0.26426,     0.26527,     0.26627,     0.26727,     0.26827,     0.26927,     0.27027,     0.27127,     0.27227,     0.27327,     0.27427,     0.27528,     0.27628,     0.27728,     0.27828,     0.27928,     0.28028,     0.28128,     0.28228,     0.28328,     0.28428,     0.28529,     0.28629,     0.28729,\n",
      "           0.28829,     0.28929,     0.29029,     0.29129,     0.29229,     0.29329,     0.29429,      0.2953,      0.2963,      0.2973,      0.2983,      0.2993,      0.3003,      0.3013,      0.3023,      0.3033,      0.3043,     0.30531,     0.30631,     0.30731,     0.30831,     0.30931,     0.31031,     0.31131,\n",
      "           0.31231,     0.31331,     0.31431,     0.31532,     0.31632,     0.31732,     0.31832,     0.31932,     0.32032,     0.32132,     0.32232,     0.32332,     0.32432,     0.32533,     0.32633,     0.32733,     0.32833,     0.32933,     0.33033,     0.33133,     0.33233,     0.33333,     0.33433,     0.33534,\n",
      "           0.33634,     0.33734,     0.33834,     0.33934,     0.34034,     0.34134,     0.34234,     0.34334,     0.34434,     0.34535,     0.34635,     0.34735,     0.34835,     0.34935,     0.35035,     0.35135,     0.35235,     0.35335,     0.35435,     0.35536,     0.35636,     0.35736,     0.35836,     0.35936,\n",
      "           0.36036,     0.36136,     0.36236,     0.36336,     0.36436,     0.36537,     0.36637,     0.36737,     0.36837,     0.36937,     0.37037,     0.37137,     0.37237,     0.37337,     0.37437,     0.37538,     0.37638,     0.37738,     0.37838,     0.37938,     0.38038,     0.38138,     0.38238,     0.38338,\n",
      "           0.38438,     0.38539,     0.38639,     0.38739,     0.38839,     0.38939,     0.39039,     0.39139,     0.39239,     0.39339,     0.39439,      0.3954,      0.3964,      0.3974,      0.3984,      0.3994,      0.4004,      0.4014,      0.4024,      0.4034,      0.4044,     0.40541,     0.40641,     0.40741,\n",
      "           0.40841,     0.40941,     0.41041,     0.41141,     0.41241,     0.41341,     0.41441,     0.41542,     0.41642,     0.41742,     0.41842,     0.41942,     0.42042,     0.42142,     0.42242,     0.42342,     0.42442,     0.42543,     0.42643,     0.42743,     0.42843,     0.42943,     0.43043,     0.43143,\n",
      "           0.43243,     0.43343,     0.43443,     0.43544,     0.43644,     0.43744,     0.43844,     0.43944,     0.44044,     0.44144,     0.44244,     0.44344,     0.44444,     0.44545,     0.44645,     0.44745,     0.44845,     0.44945,     0.45045,     0.45145,     0.45245,     0.45345,     0.45445,     0.45546,\n",
      "           0.45646,     0.45746,     0.45846,     0.45946,     0.46046,     0.46146,     0.46246,     0.46346,     0.46446,     0.46547,     0.46647,     0.46747,     0.46847,     0.46947,     0.47047,     0.47147,     0.47247,     0.47347,     0.47447,     0.47548,     0.47648,     0.47748,     0.47848,     0.47948,\n",
      "           0.48048,     0.48148,     0.48248,     0.48348,     0.48448,     0.48549,     0.48649,     0.48749,     0.48849,     0.48949,     0.49049,     0.49149,     0.49249,     0.49349,     0.49449,      0.4955,      0.4965,      0.4975,      0.4985,      0.4995,      0.5005,      0.5015,      0.5025,      0.5035,\n",
      "            0.5045,     0.50551,     0.50651,     0.50751,     0.50851,     0.50951,     0.51051,     0.51151,     0.51251,     0.51351,     0.51451,     0.51552,     0.51652,     0.51752,     0.51852,     0.51952,     0.52052,     0.52152,     0.52252,     0.52352,     0.52452,     0.52553,     0.52653,     0.52753,\n",
      "           0.52853,     0.52953,     0.53053,     0.53153,     0.53253,     0.53353,     0.53453,     0.53554,     0.53654,     0.53754,     0.53854,     0.53954,     0.54054,     0.54154,     0.54254,     0.54354,     0.54454,     0.54555,     0.54655,     0.54755,     0.54855,     0.54955,     0.55055,     0.55155,\n",
      "           0.55255,     0.55355,     0.55455,     0.55556,     0.55656,     0.55756,     0.55856,     0.55956,     0.56056,     0.56156,     0.56256,     0.56356,     0.56456,     0.56557,     0.56657,     0.56757,     0.56857,     0.56957,     0.57057,     0.57157,     0.57257,     0.57357,     0.57457,     0.57558,\n",
      "           0.57658,     0.57758,     0.57858,     0.57958,     0.58058,     0.58158,     0.58258,     0.58358,     0.58458,     0.58559,     0.58659,     0.58759,     0.58859,     0.58959,     0.59059,     0.59159,     0.59259,     0.59359,     0.59459,      0.5956,      0.5966,      0.5976,      0.5986,      0.5996,\n",
      "            0.6006,      0.6016,      0.6026,      0.6036,      0.6046,     0.60561,     0.60661,     0.60761,     0.60861,     0.60961,     0.61061,     0.61161,     0.61261,     0.61361,     0.61461,     0.61562,     0.61662,     0.61762,     0.61862,     0.61962,     0.62062,     0.62162,     0.62262,     0.62362,\n",
      "           0.62462,     0.62563,     0.62663,     0.62763,     0.62863,     0.62963,     0.63063,     0.63163,     0.63263,     0.63363,     0.63463,     0.63564,     0.63664,     0.63764,     0.63864,     0.63964,     0.64064,     0.64164,     0.64264,     0.64364,     0.64464,     0.64565,     0.64665,     0.64765,\n",
      "           0.64865,     0.64965,     0.65065,     0.65165,     0.65265,     0.65365,     0.65465,     0.65566,     0.65666,     0.65766,     0.65866,     0.65966,     0.66066,     0.66166,     0.66266,     0.66366,     0.66466,     0.66567,     0.66667,     0.66767,     0.66867,     0.66967,     0.67067,     0.67167,\n",
      "           0.67267,     0.67367,     0.67467,     0.67568,     0.67668,     0.67768,     0.67868,     0.67968,     0.68068,     0.68168,     0.68268,     0.68368,     0.68468,     0.68569,     0.68669,     0.68769,     0.68869,     0.68969,     0.69069,     0.69169,     0.69269,     0.69369,     0.69469,      0.6957,\n",
      "            0.6967,      0.6977,      0.6987,      0.6997,      0.7007,      0.7017,      0.7027,      0.7037,      0.7047,     0.70571,     0.70671,     0.70771,     0.70871,     0.70971,     0.71071,     0.71171,     0.71271,     0.71371,     0.71471,     0.71572,     0.71672,     0.71772,     0.71872,     0.71972,\n",
      "           0.72072,     0.72172,     0.72272,     0.72372,     0.72472,     0.72573,     0.72673,     0.72773,     0.72873,     0.72973,     0.73073,     0.73173,     0.73273,     0.73373,     0.73473,     0.73574,     0.73674,     0.73774,     0.73874,     0.73974,     0.74074,     0.74174,     0.74274,     0.74374,\n",
      "           0.74474,     0.74575,     0.74675,     0.74775,     0.74875,     0.74975,     0.75075,     0.75175,     0.75275,     0.75375,     0.75475,     0.75576,     0.75676,     0.75776,     0.75876,     0.75976,     0.76076,     0.76176,     0.76276,     0.76376,     0.76476,     0.76577,     0.76677,     0.76777,\n",
      "           0.76877,     0.76977,     0.77077,     0.77177,     0.77277,     0.77377,     0.77477,     0.77578,     0.77678,     0.77778,     0.77878,     0.77978,     0.78078,     0.78178,     0.78278,     0.78378,     0.78478,     0.78579,     0.78679,     0.78779,     0.78879,     0.78979,     0.79079,     0.79179,\n",
      "           0.79279,     0.79379,     0.79479,      0.7958,      0.7968,      0.7978,      0.7988,      0.7998,      0.8008,      0.8018,      0.8028,      0.8038,      0.8048,     0.80581,     0.80681,     0.80781,     0.80881,     0.80981,     0.81081,     0.81181,     0.81281,     0.81381,     0.81481,     0.81582,\n",
      "           0.81682,     0.81782,     0.81882,     0.81982,     0.82082,     0.82182,     0.82282,     0.82382,     0.82482,     0.82583,     0.82683,     0.82783,     0.82883,     0.82983,     0.83083,     0.83183,     0.83283,     0.83383,     0.83483,     0.83584,     0.83684,     0.83784,     0.83884,     0.83984,\n",
      "           0.84084,     0.84184,     0.84284,     0.84384,     0.84484,     0.84585,     0.84685,     0.84785,     0.84885,     0.84985,     0.85085,     0.85185,     0.85285,     0.85385,     0.85485,     0.85586,     0.85686,     0.85786,     0.85886,     0.85986,     0.86086,     0.86186,     0.86286,     0.86386,\n",
      "           0.86486,     0.86587,     0.86687,     0.86787,     0.86887,     0.86987,     0.87087,     0.87187,     0.87287,     0.87387,     0.87487,     0.87588,     0.87688,     0.87788,     0.87888,     0.87988,     0.88088,     0.88188,     0.88288,     0.88388,     0.88488,     0.88589,     0.88689,     0.88789,\n",
      "           0.88889,     0.88989,     0.89089,     0.89189,     0.89289,     0.89389,     0.89489,      0.8959,      0.8969,      0.8979,      0.8989,      0.8999,      0.9009,      0.9019,      0.9029,      0.9039,      0.9049,     0.90591,     0.90691,     0.90791,     0.90891,     0.90991,     0.91091,     0.91191,\n",
      "           0.91291,     0.91391,     0.91491,     0.91592,     0.91692,     0.91792,     0.91892,     0.91992,     0.92092,     0.92192,     0.92292,     0.92392,     0.92492,     0.92593,     0.92693,     0.92793,     0.92893,     0.92993,     0.93093,     0.93193,     0.93293,     0.93393,     0.93493,     0.93594,\n",
      "           0.93694,     0.93794,     0.93894,     0.93994,     0.94094,     0.94194,     0.94294,     0.94394,     0.94494,     0.94595,     0.94695,     0.94795,     0.94895,     0.94995,     0.95095,     0.95195,     0.95295,     0.95395,     0.95495,     0.95596,     0.95696,     0.95796,     0.95896,     0.95996,\n",
      "           0.96096,     0.96196,     0.96296,     0.96396,     0.96496,     0.96597,     0.96697,     0.96797,     0.96897,     0.96997,     0.97097,     0.97197,     0.97297,     0.97397,     0.97497,     0.97598,     0.97698,     0.97798,     0.97898,     0.97998,     0.98098,     0.98198,     0.98298,     0.98398,\n",
      "           0.98498,     0.98599,     0.98699,     0.98799,     0.98899,     0.98999,     0.99099,     0.99199,     0.99299,     0.99399,     0.99499,       0.996,       0.997,       0.998,       0.999,           1]), array([[    0.26501,     0.26501,     0.33491, ...,           0,           0,           0],\n",
      "       [    0.25184,     0.25188,     0.38406, ...,    0.029036,           0,           0],\n",
      "       [    0.31618,     0.31641,     0.46976, ...,           0,           0,           0],\n",
      "       ...,\n",
      "       [     0.6355,     0.63551,     0.80266, ...,           0,           0,           0],\n",
      "       [    0.48909,      0.4898,     0.72329, ...,           0,           0,           0],\n",
      "       [    0.51835,     0.51835,     0.72805, ...,   0.0065713,           0,           0]]), 'Confidence', 'F1'], [array([          0,    0.001001,    0.002002,    0.003003,    0.004004,    0.005005,    0.006006,    0.007007,    0.008008,    0.009009,     0.01001,    0.011011,    0.012012,    0.013013,    0.014014,    0.015015,    0.016016,    0.017017,    0.018018,    0.019019,     0.02002,    0.021021,    0.022022,    0.023023,\n",
      "          0.024024,    0.025025,    0.026026,    0.027027,    0.028028,    0.029029,     0.03003,    0.031031,    0.032032,    0.033033,    0.034034,    0.035035,    0.036036,    0.037037,    0.038038,    0.039039,     0.04004,    0.041041,    0.042042,    0.043043,    0.044044,    0.045045,    0.046046,    0.047047,\n",
      "          0.048048,    0.049049,     0.05005,    0.051051,    0.052052,    0.053053,    0.054054,    0.055055,    0.056056,    0.057057,    0.058058,    0.059059,     0.06006,    0.061061,    0.062062,    0.063063,    0.064064,    0.065065,    0.066066,    0.067067,    0.068068,    0.069069,     0.07007,    0.071071,\n",
      "          0.072072,    0.073073,    0.074074,    0.075075,    0.076076,    0.077077,    0.078078,    0.079079,     0.08008,    0.081081,    0.082082,    0.083083,    0.084084,    0.085085,    0.086086,    0.087087,    0.088088,    0.089089,     0.09009,    0.091091,    0.092092,    0.093093,    0.094094,    0.095095,\n",
      "          0.096096,    0.097097,    0.098098,    0.099099,      0.1001,      0.1011,      0.1021,      0.1031,      0.1041,     0.10511,     0.10611,     0.10711,     0.10811,     0.10911,     0.11011,     0.11111,     0.11211,     0.11311,     0.11411,     0.11512,     0.11612,     0.11712,     0.11812,     0.11912,\n",
      "           0.12012,     0.12112,     0.12212,     0.12312,     0.12412,     0.12513,     0.12613,     0.12713,     0.12813,     0.12913,     0.13013,     0.13113,     0.13213,     0.13313,     0.13413,     0.13514,     0.13614,     0.13714,     0.13814,     0.13914,     0.14014,     0.14114,     0.14214,     0.14314,\n",
      "           0.14414,     0.14515,     0.14615,     0.14715,     0.14815,     0.14915,     0.15015,     0.15115,     0.15215,     0.15315,     0.15415,     0.15516,     0.15616,     0.15716,     0.15816,     0.15916,     0.16016,     0.16116,     0.16216,     0.16316,     0.16416,     0.16517,     0.16617,     0.16717,\n",
      "           0.16817,     0.16917,     0.17017,     0.17117,     0.17217,     0.17317,     0.17417,     0.17518,     0.17618,     0.17718,     0.17818,     0.17918,     0.18018,     0.18118,     0.18218,     0.18318,     0.18418,     0.18519,     0.18619,     0.18719,     0.18819,     0.18919,     0.19019,     0.19119,\n",
      "           0.19219,     0.19319,     0.19419,      0.1952,      0.1962,      0.1972,      0.1982,      0.1992,      0.2002,      0.2012,      0.2022,      0.2032,      0.2042,     0.20521,     0.20621,     0.20721,     0.20821,     0.20921,     0.21021,     0.21121,     0.21221,     0.21321,     0.21421,     0.21522,\n",
      "           0.21622,     0.21722,     0.21822,     0.21922,     0.22022,     0.22122,     0.22222,     0.22322,     0.22422,     0.22523,     0.22623,     0.22723,     0.22823,     0.22923,     0.23023,     0.23123,     0.23223,     0.23323,     0.23423,     0.23524,     0.23624,     0.23724,     0.23824,     0.23924,\n",
      "           0.24024,     0.24124,     0.24224,     0.24324,     0.24424,     0.24525,     0.24625,     0.24725,     0.24825,     0.24925,     0.25025,     0.25125,     0.25225,     0.25325,     0.25425,     0.25526,     0.25626,     0.25726,     0.25826,     0.25926,     0.26026,     0.26126,     0.26226,     0.26326,\n",
      "           0.26426,     0.26527,     0.26627,     0.26727,     0.26827,     0.26927,     0.27027,     0.27127,     0.27227,     0.27327,     0.27427,     0.27528,     0.27628,     0.27728,     0.27828,     0.27928,     0.28028,     0.28128,     0.28228,     0.28328,     0.28428,     0.28529,     0.28629,     0.28729,\n",
      "           0.28829,     0.28929,     0.29029,     0.29129,     0.29229,     0.29329,     0.29429,      0.2953,      0.2963,      0.2973,      0.2983,      0.2993,      0.3003,      0.3013,      0.3023,      0.3033,      0.3043,     0.30531,     0.30631,     0.30731,     0.30831,     0.30931,     0.31031,     0.31131,\n",
      "           0.31231,     0.31331,     0.31431,     0.31532,     0.31632,     0.31732,     0.31832,     0.31932,     0.32032,     0.32132,     0.32232,     0.32332,     0.32432,     0.32533,     0.32633,     0.32733,     0.32833,     0.32933,     0.33033,     0.33133,     0.33233,     0.33333,     0.33433,     0.33534,\n",
      "           0.33634,     0.33734,     0.33834,     0.33934,     0.34034,     0.34134,     0.34234,     0.34334,     0.34434,     0.34535,     0.34635,     0.34735,     0.34835,     0.34935,     0.35035,     0.35135,     0.35235,     0.35335,     0.35435,     0.35536,     0.35636,     0.35736,     0.35836,     0.35936,\n",
      "           0.36036,     0.36136,     0.36236,     0.36336,     0.36436,     0.36537,     0.36637,     0.36737,     0.36837,     0.36937,     0.37037,     0.37137,     0.37237,     0.37337,     0.37437,     0.37538,     0.37638,     0.37738,     0.37838,     0.37938,     0.38038,     0.38138,     0.38238,     0.38338,\n",
      "           0.38438,     0.38539,     0.38639,     0.38739,     0.38839,     0.38939,     0.39039,     0.39139,     0.39239,     0.39339,     0.39439,      0.3954,      0.3964,      0.3974,      0.3984,      0.3994,      0.4004,      0.4014,      0.4024,      0.4034,      0.4044,     0.40541,     0.40641,     0.40741,\n",
      "           0.40841,     0.40941,     0.41041,     0.41141,     0.41241,     0.41341,     0.41441,     0.41542,     0.41642,     0.41742,     0.41842,     0.41942,     0.42042,     0.42142,     0.42242,     0.42342,     0.42442,     0.42543,     0.42643,     0.42743,     0.42843,     0.42943,     0.43043,     0.43143,\n",
      "           0.43243,     0.43343,     0.43443,     0.43544,     0.43644,     0.43744,     0.43844,     0.43944,     0.44044,     0.44144,     0.44244,     0.44344,     0.44444,     0.44545,     0.44645,     0.44745,     0.44845,     0.44945,     0.45045,     0.45145,     0.45245,     0.45345,     0.45445,     0.45546,\n",
      "           0.45646,     0.45746,     0.45846,     0.45946,     0.46046,     0.46146,     0.46246,     0.46346,     0.46446,     0.46547,     0.46647,     0.46747,     0.46847,     0.46947,     0.47047,     0.47147,     0.47247,     0.47347,     0.47447,     0.47548,     0.47648,     0.47748,     0.47848,     0.47948,\n",
      "           0.48048,     0.48148,     0.48248,     0.48348,     0.48448,     0.48549,     0.48649,     0.48749,     0.48849,     0.48949,     0.49049,     0.49149,     0.49249,     0.49349,     0.49449,      0.4955,      0.4965,      0.4975,      0.4985,      0.4995,      0.5005,      0.5015,      0.5025,      0.5035,\n",
      "            0.5045,     0.50551,     0.50651,     0.50751,     0.50851,     0.50951,     0.51051,     0.51151,     0.51251,     0.51351,     0.51451,     0.51552,     0.51652,     0.51752,     0.51852,     0.51952,     0.52052,     0.52152,     0.52252,     0.52352,     0.52452,     0.52553,     0.52653,     0.52753,\n",
      "           0.52853,     0.52953,     0.53053,     0.53153,     0.53253,     0.53353,     0.53453,     0.53554,     0.53654,     0.53754,     0.53854,     0.53954,     0.54054,     0.54154,     0.54254,     0.54354,     0.54454,     0.54555,     0.54655,     0.54755,     0.54855,     0.54955,     0.55055,     0.55155,\n",
      "           0.55255,     0.55355,     0.55455,     0.55556,     0.55656,     0.55756,     0.55856,     0.55956,     0.56056,     0.56156,     0.56256,     0.56356,     0.56456,     0.56557,     0.56657,     0.56757,     0.56857,     0.56957,     0.57057,     0.57157,     0.57257,     0.57357,     0.57457,     0.57558,\n",
      "           0.57658,     0.57758,     0.57858,     0.57958,     0.58058,     0.58158,     0.58258,     0.58358,     0.58458,     0.58559,     0.58659,     0.58759,     0.58859,     0.58959,     0.59059,     0.59159,     0.59259,     0.59359,     0.59459,      0.5956,      0.5966,      0.5976,      0.5986,      0.5996,\n",
      "            0.6006,      0.6016,      0.6026,      0.6036,      0.6046,     0.60561,     0.60661,     0.60761,     0.60861,     0.60961,     0.61061,     0.61161,     0.61261,     0.61361,     0.61461,     0.61562,     0.61662,     0.61762,     0.61862,     0.61962,     0.62062,     0.62162,     0.62262,     0.62362,\n",
      "           0.62462,     0.62563,     0.62663,     0.62763,     0.62863,     0.62963,     0.63063,     0.63163,     0.63263,     0.63363,     0.63463,     0.63564,     0.63664,     0.63764,     0.63864,     0.63964,     0.64064,     0.64164,     0.64264,     0.64364,     0.64464,     0.64565,     0.64665,     0.64765,\n",
      "           0.64865,     0.64965,     0.65065,     0.65165,     0.65265,     0.65365,     0.65465,     0.65566,     0.65666,     0.65766,     0.65866,     0.65966,     0.66066,     0.66166,     0.66266,     0.66366,     0.66466,     0.66567,     0.66667,     0.66767,     0.66867,     0.66967,     0.67067,     0.67167,\n",
      "           0.67267,     0.67367,     0.67467,     0.67568,     0.67668,     0.67768,     0.67868,     0.67968,     0.68068,     0.68168,     0.68268,     0.68368,     0.68468,     0.68569,     0.68669,     0.68769,     0.68869,     0.68969,     0.69069,     0.69169,     0.69269,     0.69369,     0.69469,      0.6957,\n",
      "            0.6967,      0.6977,      0.6987,      0.6997,      0.7007,      0.7017,      0.7027,      0.7037,      0.7047,     0.70571,     0.70671,     0.70771,     0.70871,     0.70971,     0.71071,     0.71171,     0.71271,     0.71371,     0.71471,     0.71572,     0.71672,     0.71772,     0.71872,     0.71972,\n",
      "           0.72072,     0.72172,     0.72272,     0.72372,     0.72472,     0.72573,     0.72673,     0.72773,     0.72873,     0.72973,     0.73073,     0.73173,     0.73273,     0.73373,     0.73473,     0.73574,     0.73674,     0.73774,     0.73874,     0.73974,     0.74074,     0.74174,     0.74274,     0.74374,\n",
      "           0.74474,     0.74575,     0.74675,     0.74775,     0.74875,     0.74975,     0.75075,     0.75175,     0.75275,     0.75375,     0.75475,     0.75576,     0.75676,     0.75776,     0.75876,     0.75976,     0.76076,     0.76176,     0.76276,     0.76376,     0.76476,     0.76577,     0.76677,     0.76777,\n",
      "           0.76877,     0.76977,     0.77077,     0.77177,     0.77277,     0.77377,     0.77477,     0.77578,     0.77678,     0.77778,     0.77878,     0.77978,     0.78078,     0.78178,     0.78278,     0.78378,     0.78478,     0.78579,     0.78679,     0.78779,     0.78879,     0.78979,     0.79079,     0.79179,\n",
      "           0.79279,     0.79379,     0.79479,      0.7958,      0.7968,      0.7978,      0.7988,      0.7998,      0.8008,      0.8018,      0.8028,      0.8038,      0.8048,     0.80581,     0.80681,     0.80781,     0.80881,     0.80981,     0.81081,     0.81181,     0.81281,     0.81381,     0.81481,     0.81582,\n",
      "           0.81682,     0.81782,     0.81882,     0.81982,     0.82082,     0.82182,     0.82282,     0.82382,     0.82482,     0.82583,     0.82683,     0.82783,     0.82883,     0.82983,     0.83083,     0.83183,     0.83283,     0.83383,     0.83483,     0.83584,     0.83684,     0.83784,     0.83884,     0.83984,\n",
      "           0.84084,     0.84184,     0.84284,     0.84384,     0.84484,     0.84585,     0.84685,     0.84785,     0.84885,     0.84985,     0.85085,     0.85185,     0.85285,     0.85385,     0.85485,     0.85586,     0.85686,     0.85786,     0.85886,     0.85986,     0.86086,     0.86186,     0.86286,     0.86386,\n",
      "           0.86486,     0.86587,     0.86687,     0.86787,     0.86887,     0.86987,     0.87087,     0.87187,     0.87287,     0.87387,     0.87487,     0.87588,     0.87688,     0.87788,     0.87888,     0.87988,     0.88088,     0.88188,     0.88288,     0.88388,     0.88488,     0.88589,     0.88689,     0.88789,\n",
      "           0.88889,     0.88989,     0.89089,     0.89189,     0.89289,     0.89389,     0.89489,      0.8959,      0.8969,      0.8979,      0.8989,      0.8999,      0.9009,      0.9019,      0.9029,      0.9039,      0.9049,     0.90591,     0.90691,     0.90791,     0.90891,     0.90991,     0.91091,     0.91191,\n",
      "           0.91291,     0.91391,     0.91491,     0.91592,     0.91692,     0.91792,     0.91892,     0.91992,     0.92092,     0.92192,     0.92292,     0.92392,     0.92492,     0.92593,     0.92693,     0.92793,     0.92893,     0.92993,     0.93093,     0.93193,     0.93293,     0.93393,     0.93493,     0.93594,\n",
      "           0.93694,     0.93794,     0.93894,     0.93994,     0.94094,     0.94194,     0.94294,     0.94394,     0.94494,     0.94595,     0.94695,     0.94795,     0.94895,     0.94995,     0.95095,     0.95195,     0.95295,     0.95395,     0.95495,     0.95596,     0.95696,     0.95796,     0.95896,     0.95996,\n",
      "           0.96096,     0.96196,     0.96296,     0.96396,     0.96496,     0.96597,     0.96697,     0.96797,     0.96897,     0.96997,     0.97097,     0.97197,     0.97297,     0.97397,     0.97497,     0.97598,     0.97698,     0.97798,     0.97898,     0.97998,     0.98098,     0.98198,     0.98298,     0.98398,\n",
      "           0.98498,     0.98599,     0.98699,     0.98799,     0.98899,     0.98999,     0.99099,     0.99199,     0.99299,     0.99399,     0.99499,       0.996,       0.997,       0.998,       0.999,           1]), array([[    0.15275,     0.15275,     0.20113, ...,           1,           1,           1],\n",
      "       [    0.14406,     0.14408,     0.23767, ...,           1,           1,           1],\n",
      "       [    0.18777,     0.18794,     0.30698, ...,           1,           1,           1],\n",
      "       ...,\n",
      "       [    0.46574,     0.46575,     0.67038, ...,           1,           1,           1],\n",
      "       [    0.32371,     0.32433,     0.56653, ...,           1,           1,           1],\n",
      "       [    0.34985,     0.34985,     0.57239, ...,           1,           1,           1]]), 'Confidence', 'Precision'], [array([          0,    0.001001,    0.002002,    0.003003,    0.004004,    0.005005,    0.006006,    0.007007,    0.008008,    0.009009,     0.01001,    0.011011,    0.012012,    0.013013,    0.014014,    0.015015,    0.016016,    0.017017,    0.018018,    0.019019,     0.02002,    0.021021,    0.022022,    0.023023,\n",
      "          0.024024,    0.025025,    0.026026,    0.027027,    0.028028,    0.029029,     0.03003,    0.031031,    0.032032,    0.033033,    0.034034,    0.035035,    0.036036,    0.037037,    0.038038,    0.039039,     0.04004,    0.041041,    0.042042,    0.043043,    0.044044,    0.045045,    0.046046,    0.047047,\n",
      "          0.048048,    0.049049,     0.05005,    0.051051,    0.052052,    0.053053,    0.054054,    0.055055,    0.056056,    0.057057,    0.058058,    0.059059,     0.06006,    0.061061,    0.062062,    0.063063,    0.064064,    0.065065,    0.066066,    0.067067,    0.068068,    0.069069,     0.07007,    0.071071,\n",
      "          0.072072,    0.073073,    0.074074,    0.075075,    0.076076,    0.077077,    0.078078,    0.079079,     0.08008,    0.081081,    0.082082,    0.083083,    0.084084,    0.085085,    0.086086,    0.087087,    0.088088,    0.089089,     0.09009,    0.091091,    0.092092,    0.093093,    0.094094,    0.095095,\n",
      "          0.096096,    0.097097,    0.098098,    0.099099,      0.1001,      0.1011,      0.1021,      0.1031,      0.1041,     0.10511,     0.10611,     0.10711,     0.10811,     0.10911,     0.11011,     0.11111,     0.11211,     0.11311,     0.11411,     0.11512,     0.11612,     0.11712,     0.11812,     0.11912,\n",
      "           0.12012,     0.12112,     0.12212,     0.12312,     0.12412,     0.12513,     0.12613,     0.12713,     0.12813,     0.12913,     0.13013,     0.13113,     0.13213,     0.13313,     0.13413,     0.13514,     0.13614,     0.13714,     0.13814,     0.13914,     0.14014,     0.14114,     0.14214,     0.14314,\n",
      "           0.14414,     0.14515,     0.14615,     0.14715,     0.14815,     0.14915,     0.15015,     0.15115,     0.15215,     0.15315,     0.15415,     0.15516,     0.15616,     0.15716,     0.15816,     0.15916,     0.16016,     0.16116,     0.16216,     0.16316,     0.16416,     0.16517,     0.16617,     0.16717,\n",
      "           0.16817,     0.16917,     0.17017,     0.17117,     0.17217,     0.17317,     0.17417,     0.17518,     0.17618,     0.17718,     0.17818,     0.17918,     0.18018,     0.18118,     0.18218,     0.18318,     0.18418,     0.18519,     0.18619,     0.18719,     0.18819,     0.18919,     0.19019,     0.19119,\n",
      "           0.19219,     0.19319,     0.19419,      0.1952,      0.1962,      0.1972,      0.1982,      0.1992,      0.2002,      0.2012,      0.2022,      0.2032,      0.2042,     0.20521,     0.20621,     0.20721,     0.20821,     0.20921,     0.21021,     0.21121,     0.21221,     0.21321,     0.21421,     0.21522,\n",
      "           0.21622,     0.21722,     0.21822,     0.21922,     0.22022,     0.22122,     0.22222,     0.22322,     0.22422,     0.22523,     0.22623,     0.22723,     0.22823,     0.22923,     0.23023,     0.23123,     0.23223,     0.23323,     0.23423,     0.23524,     0.23624,     0.23724,     0.23824,     0.23924,\n",
      "           0.24024,     0.24124,     0.24224,     0.24324,     0.24424,     0.24525,     0.24625,     0.24725,     0.24825,     0.24925,     0.25025,     0.25125,     0.25225,     0.25325,     0.25425,     0.25526,     0.25626,     0.25726,     0.25826,     0.25926,     0.26026,     0.26126,     0.26226,     0.26326,\n",
      "           0.26426,     0.26527,     0.26627,     0.26727,     0.26827,     0.26927,     0.27027,     0.27127,     0.27227,     0.27327,     0.27427,     0.27528,     0.27628,     0.27728,     0.27828,     0.27928,     0.28028,     0.28128,     0.28228,     0.28328,     0.28428,     0.28529,     0.28629,     0.28729,\n",
      "           0.28829,     0.28929,     0.29029,     0.29129,     0.29229,     0.29329,     0.29429,      0.2953,      0.2963,      0.2973,      0.2983,      0.2993,      0.3003,      0.3013,      0.3023,      0.3033,      0.3043,     0.30531,     0.30631,     0.30731,     0.30831,     0.30931,     0.31031,     0.31131,\n",
      "           0.31231,     0.31331,     0.31431,     0.31532,     0.31632,     0.31732,     0.31832,     0.31932,     0.32032,     0.32132,     0.32232,     0.32332,     0.32432,     0.32533,     0.32633,     0.32733,     0.32833,     0.32933,     0.33033,     0.33133,     0.33233,     0.33333,     0.33433,     0.33534,\n",
      "           0.33634,     0.33734,     0.33834,     0.33934,     0.34034,     0.34134,     0.34234,     0.34334,     0.34434,     0.34535,     0.34635,     0.34735,     0.34835,     0.34935,     0.35035,     0.35135,     0.35235,     0.35335,     0.35435,     0.35536,     0.35636,     0.35736,     0.35836,     0.35936,\n",
      "           0.36036,     0.36136,     0.36236,     0.36336,     0.36436,     0.36537,     0.36637,     0.36737,     0.36837,     0.36937,     0.37037,     0.37137,     0.37237,     0.37337,     0.37437,     0.37538,     0.37638,     0.37738,     0.37838,     0.37938,     0.38038,     0.38138,     0.38238,     0.38338,\n",
      "           0.38438,     0.38539,     0.38639,     0.38739,     0.38839,     0.38939,     0.39039,     0.39139,     0.39239,     0.39339,     0.39439,      0.3954,      0.3964,      0.3974,      0.3984,      0.3994,      0.4004,      0.4014,      0.4024,      0.4034,      0.4044,     0.40541,     0.40641,     0.40741,\n",
      "           0.40841,     0.40941,     0.41041,     0.41141,     0.41241,     0.41341,     0.41441,     0.41542,     0.41642,     0.41742,     0.41842,     0.41942,     0.42042,     0.42142,     0.42242,     0.42342,     0.42442,     0.42543,     0.42643,     0.42743,     0.42843,     0.42943,     0.43043,     0.43143,\n",
      "           0.43243,     0.43343,     0.43443,     0.43544,     0.43644,     0.43744,     0.43844,     0.43944,     0.44044,     0.44144,     0.44244,     0.44344,     0.44444,     0.44545,     0.44645,     0.44745,     0.44845,     0.44945,     0.45045,     0.45145,     0.45245,     0.45345,     0.45445,     0.45546,\n",
      "           0.45646,     0.45746,     0.45846,     0.45946,     0.46046,     0.46146,     0.46246,     0.46346,     0.46446,     0.46547,     0.46647,     0.46747,     0.46847,     0.46947,     0.47047,     0.47147,     0.47247,     0.47347,     0.47447,     0.47548,     0.47648,     0.47748,     0.47848,     0.47948,\n",
      "           0.48048,     0.48148,     0.48248,     0.48348,     0.48448,     0.48549,     0.48649,     0.48749,     0.48849,     0.48949,     0.49049,     0.49149,     0.49249,     0.49349,     0.49449,      0.4955,      0.4965,      0.4975,      0.4985,      0.4995,      0.5005,      0.5015,      0.5025,      0.5035,\n",
      "            0.5045,     0.50551,     0.50651,     0.50751,     0.50851,     0.50951,     0.51051,     0.51151,     0.51251,     0.51351,     0.51451,     0.51552,     0.51652,     0.51752,     0.51852,     0.51952,     0.52052,     0.52152,     0.52252,     0.52352,     0.52452,     0.52553,     0.52653,     0.52753,\n",
      "           0.52853,     0.52953,     0.53053,     0.53153,     0.53253,     0.53353,     0.53453,     0.53554,     0.53654,     0.53754,     0.53854,     0.53954,     0.54054,     0.54154,     0.54254,     0.54354,     0.54454,     0.54555,     0.54655,     0.54755,     0.54855,     0.54955,     0.55055,     0.55155,\n",
      "           0.55255,     0.55355,     0.55455,     0.55556,     0.55656,     0.55756,     0.55856,     0.55956,     0.56056,     0.56156,     0.56256,     0.56356,     0.56456,     0.56557,     0.56657,     0.56757,     0.56857,     0.56957,     0.57057,     0.57157,     0.57257,     0.57357,     0.57457,     0.57558,\n",
      "           0.57658,     0.57758,     0.57858,     0.57958,     0.58058,     0.58158,     0.58258,     0.58358,     0.58458,     0.58559,     0.58659,     0.58759,     0.58859,     0.58959,     0.59059,     0.59159,     0.59259,     0.59359,     0.59459,      0.5956,      0.5966,      0.5976,      0.5986,      0.5996,\n",
      "            0.6006,      0.6016,      0.6026,      0.6036,      0.6046,     0.60561,     0.60661,     0.60761,     0.60861,     0.60961,     0.61061,     0.61161,     0.61261,     0.61361,     0.61461,     0.61562,     0.61662,     0.61762,     0.61862,     0.61962,     0.62062,     0.62162,     0.62262,     0.62362,\n",
      "           0.62462,     0.62563,     0.62663,     0.62763,     0.62863,     0.62963,     0.63063,     0.63163,     0.63263,     0.63363,     0.63463,     0.63564,     0.63664,     0.63764,     0.63864,     0.63964,     0.64064,     0.64164,     0.64264,     0.64364,     0.64464,     0.64565,     0.64665,     0.64765,\n",
      "           0.64865,     0.64965,     0.65065,     0.65165,     0.65265,     0.65365,     0.65465,     0.65566,     0.65666,     0.65766,     0.65866,     0.65966,     0.66066,     0.66166,     0.66266,     0.66366,     0.66466,     0.66567,     0.66667,     0.66767,     0.66867,     0.66967,     0.67067,     0.67167,\n",
      "           0.67267,     0.67367,     0.67467,     0.67568,     0.67668,     0.67768,     0.67868,     0.67968,     0.68068,     0.68168,     0.68268,     0.68368,     0.68468,     0.68569,     0.68669,     0.68769,     0.68869,     0.68969,     0.69069,     0.69169,     0.69269,     0.69369,     0.69469,      0.6957,\n",
      "            0.6967,      0.6977,      0.6987,      0.6997,      0.7007,      0.7017,      0.7027,      0.7037,      0.7047,     0.70571,     0.70671,     0.70771,     0.70871,     0.70971,     0.71071,     0.71171,     0.71271,     0.71371,     0.71471,     0.71572,     0.71672,     0.71772,     0.71872,     0.71972,\n",
      "           0.72072,     0.72172,     0.72272,     0.72372,     0.72472,     0.72573,     0.72673,     0.72773,     0.72873,     0.72973,     0.73073,     0.73173,     0.73273,     0.73373,     0.73473,     0.73574,     0.73674,     0.73774,     0.73874,     0.73974,     0.74074,     0.74174,     0.74274,     0.74374,\n",
      "           0.74474,     0.74575,     0.74675,     0.74775,     0.74875,     0.74975,     0.75075,     0.75175,     0.75275,     0.75375,     0.75475,     0.75576,     0.75676,     0.75776,     0.75876,     0.75976,     0.76076,     0.76176,     0.76276,     0.76376,     0.76476,     0.76577,     0.76677,     0.76777,\n",
      "           0.76877,     0.76977,     0.77077,     0.77177,     0.77277,     0.77377,     0.77477,     0.77578,     0.77678,     0.77778,     0.77878,     0.77978,     0.78078,     0.78178,     0.78278,     0.78378,     0.78478,     0.78579,     0.78679,     0.78779,     0.78879,     0.78979,     0.79079,     0.79179,\n",
      "           0.79279,     0.79379,     0.79479,      0.7958,      0.7968,      0.7978,      0.7988,      0.7998,      0.8008,      0.8018,      0.8028,      0.8038,      0.8048,     0.80581,     0.80681,     0.80781,     0.80881,     0.80981,     0.81081,     0.81181,     0.81281,     0.81381,     0.81481,     0.81582,\n",
      "           0.81682,     0.81782,     0.81882,     0.81982,     0.82082,     0.82182,     0.82282,     0.82382,     0.82482,     0.82583,     0.82683,     0.82783,     0.82883,     0.82983,     0.83083,     0.83183,     0.83283,     0.83383,     0.83483,     0.83584,     0.83684,     0.83784,     0.83884,     0.83984,\n",
      "           0.84084,     0.84184,     0.84284,     0.84384,     0.84484,     0.84585,     0.84685,     0.84785,     0.84885,     0.84985,     0.85085,     0.85185,     0.85285,     0.85385,     0.85485,     0.85586,     0.85686,     0.85786,     0.85886,     0.85986,     0.86086,     0.86186,     0.86286,     0.86386,\n",
      "           0.86486,     0.86587,     0.86687,     0.86787,     0.86887,     0.86987,     0.87087,     0.87187,     0.87287,     0.87387,     0.87487,     0.87588,     0.87688,     0.87788,     0.87888,     0.87988,     0.88088,     0.88188,     0.88288,     0.88388,     0.88488,     0.88589,     0.88689,     0.88789,\n",
      "           0.88889,     0.88989,     0.89089,     0.89189,     0.89289,     0.89389,     0.89489,      0.8959,      0.8969,      0.8979,      0.8989,      0.8999,      0.9009,      0.9019,      0.9029,      0.9039,      0.9049,     0.90591,     0.90691,     0.90791,     0.90891,     0.90991,     0.91091,     0.91191,\n",
      "           0.91291,     0.91391,     0.91491,     0.91592,     0.91692,     0.91792,     0.91892,     0.91992,     0.92092,     0.92192,     0.92292,     0.92392,     0.92492,     0.92593,     0.92693,     0.92793,     0.92893,     0.92993,     0.93093,     0.93193,     0.93293,     0.93393,     0.93493,     0.93594,\n",
      "           0.93694,     0.93794,     0.93894,     0.93994,     0.94094,     0.94194,     0.94294,     0.94394,     0.94494,     0.94595,     0.94695,     0.94795,     0.94895,     0.94995,     0.95095,     0.95195,     0.95295,     0.95395,     0.95495,     0.95596,     0.95696,     0.95796,     0.95896,     0.95996,\n",
      "           0.96096,     0.96196,     0.96296,     0.96396,     0.96496,     0.96597,     0.96697,     0.96797,     0.96897,     0.96997,     0.97097,     0.97197,     0.97297,     0.97397,     0.97497,     0.97598,     0.97698,     0.97798,     0.97898,     0.97998,     0.98098,     0.98198,     0.98298,     0.98398,\n",
      "           0.98498,     0.98599,     0.98699,     0.98799,     0.98899,     0.98999,     0.99099,     0.99199,     0.99299,     0.99399,     0.99499,       0.996,       0.997,       0.998,       0.999,           1]), array([[          1,           1,           1, ...,           0,           0,           0],\n",
      "       [          1,           1,           1, ...,    0.014732,           0,           0],\n",
      "       [          1,           1,           1, ...,           0,           0,           0],\n",
      "       ...,\n",
      "       [          1,           1,           1, ...,           0,           0,           0],\n",
      "       [          1,           1,           1, ...,           0,           0,           0],\n",
      "       [          1,           1,           1, ...,   0.0032965,           0,           0]]), 'Confidence', 'Recall']]\n",
      "fitness: 0.9896353999189319\n",
      "keys: ['metrics/precision(B)', 'metrics/recall(B)', 'metrics/mAP50(B)', 'metrics/mAP50-95(B)']\n",
      "maps: array([    0.98723,     0.98944,     0.98924,     0.98699,     0.99295,     0.98916,     0.99193,     0.99145,     0.98693,     0.98724,     0.99346,     0.99239,     0.99176,     0.99298,     0.99232,      0.9906,      0.9899,     0.98861,     0.99347,     0.99297,     0.99092,     0.98857,     0.98874,     0.98594,\n",
      "           0.98334,     0.98365,     0.99096,     0.98703,     0.98474,      0.9927,     0.99062,     0.98766,     0.98993,      0.9862,     0.98169,     0.99105,      0.9907,     0.99386,      0.9919,     0.99214,     0.99338,     0.99079,     0.99112,     0.99029,     0.97331,     0.98823,     0.97009,     0.98844,\n",
      "           0.97902,     0.98627,     0.99171,     0.98572,     0.99479,       0.995,     0.99496,       0.995])\n",
      "names: {0: '2C', 1: '2D', 2: '2H', 3: '2S', 4: '3C', 5: '3D', 6: '3H', 7: '3S', 8: '4C', 9: '4D', 10: '4H', 11: '4S', 12: '5C', 13: '5D', 14: '5H', 15: '5S', 16: '6C', 17: '6D', 18: '6H', 19: '6S', 20: '7C', 21: '7D', 22: '7H', 23: '7S', 24: '8C', 25: '8D', 26: '8H', 27: '8S', 28: '9C', 29: '9D', 30: '9H', 31: '9S', 32: 'AC', 33: 'AD', 34: 'AH', 35: 'AS', 36: 'JC', 37: 'JD', 38: 'JH', 39: 'JS', 40: 'KC', 41: 'KD', 42: 'KH', 43: 'KS', 44: 'QC', 45: 'QD', 46: 'QH', 47: 'QS', 48: 'TC', 49: 'TD', 50: 'TH', 51: 'TS', 52: 'hand', 53: 'flop', 54: 'turn', 55: 'river'}\n",
      "plot: True\n",
      "results_dict: {'metrics/precision(B)': 0.9900126507271619, 'metrics/recall(B)': 0.9797984295703743, 'metrics/mAP50(B)': 0.9941539410057513, 'metrics/mAP50-95(B)': 0.9891333397981742, 'fitness': 0.9896353999189319}\n",
      "save_dir: PosixPath('runs/detect/train62')\n",
      "speed: {'preprocess': 0.13035752607732098, 'inference': 2.093528090753136, 'loss': 0.00041827425733736566, 'postprocess': 0.25976092735438283}\n",
      "task: 'detect'\n"
     ]
    }
   ],
   "source": [
    "print(metrics)"
   ]
  },
  {
   "cell_type": "code",
   "execution_count": 13,
   "metadata": {},
   "outputs": [
    {
     "name": "stdout",
     "output_type": "stream",
     "text": [
      "\n",
      "image 1/4 /users/eleves-b/2024/mattia.martino/custom_images/IMG_0030.jpeg: 480x640 3 2Ds, 4 JCs, 1 flop, 3.2ms\n",
      "image 2/4 /users/eleves-b/2024/mattia.martino/custom_images/IMG_0067.jpeg: 640x480 1 TD, 1 TH, 3.1ms\n",
      "image 3/4 /users/eleves-b/2024/mattia.martino/custom_images/IMG_4595.jpeg: 640x480 1 3C, 1 3D, 1 4C, 1 5D, 1 6D, 1 QD, 3 QHs, 1 flop, 2.8ms\n",
      "image 4/4 /users/eleves-b/2024/mattia.martino/custom_images/average-hand-of-online-poker-v0-vt94cjwjwbkd1.png.webp: 352x640 1 AC, 1 TD, 2 flops, 4.5ms\n",
      "Speed: 3.8ms preprocess, 3.4ms inference, 0.5ms postprocess per image at shape (1, 3, 352, 640)\n",
      "Results saved to \u001b[1mruns/detect/train6\u001b[0m\n",
      "[ultralytics.engine.results.Results object with attributes:\n",
      "\n",
      "boxes: ultralytics.engine.results.Boxes object\n",
      "keypoints: None\n",
      "masks: None\n",
      "names: {0: '2C', 1: '2D', 2: '2H', 3: '2S', 4: '3C', 5: '3D', 6: '3H', 7: '3S', 8: '4C', 9: '4D', 10: '4H', 11: '4S', 12: '5C', 13: '5D', 14: '5H', 15: '5S', 16: '6C', 17: '6D', 18: '6H', 19: '6S', 20: '7C', 21: '7D', 22: '7H', 23: '7S', 24: '8C', 25: '8D', 26: '8H', 27: '8S', 28: '9C', 29: '9D', 30: '9H', 31: '9S', 32: 'AC', 33: 'AD', 34: 'AH', 35: 'AS', 36: 'JC', 37: 'JD', 38: 'JH', 39: 'JS', 40: 'KC', 41: 'KD', 42: 'KH', 43: 'KS', 44: 'QC', 45: 'QD', 46: 'QH', 47: 'QS', 48: 'TC', 49: 'TD', 50: 'TH', 51: 'TS', 52: 'hand', 53: 'flop'}\n",
      "obb: None\n",
      "orig_img: array([[[109,  65,  34],\n",
      "        [120,  73,  42],\n",
      "        [128,  76,  46],\n",
      "        ...,\n",
      "        [207, 204, 200],\n",
      "        [208, 207, 203],\n",
      "        [214, 214, 208]],\n",
      "\n",
      "       [[112,  68,  37],\n",
      "        [120,  73,  42],\n",
      "        [127,  75,  45],\n",
      "        ...,\n",
      "        [207, 204, 200],\n",
      "        [205, 204, 200],\n",
      "        [204, 206, 200]],\n",
      "\n",
      "       [[117,  73,  42],\n",
      "        [123,  76,  45],\n",
      "        [128,  76,  46],\n",
      "        ...,\n",
      "        [207, 204, 200],\n",
      "        [203, 203, 197],\n",
      "        [201, 203, 197]],\n",
      "\n",
      "       ...,\n",
      "\n",
      "       [[104, 179, 201],\n",
      "        [129, 212, 233],\n",
      "        [125, 219, 238],\n",
      "        ...,\n",
      "        [ 21,  32,  52],\n",
      "        [ 22,  33,  53],\n",
      "        [ 22,  33,  53]],\n",
      "\n",
      "       [[ 87, 161, 185],\n",
      "        [121, 204, 226],\n",
      "        [116, 210, 229],\n",
      "        ...,\n",
      "        [ 23,  34,  54],\n",
      "        [ 22,  33,  53],\n",
      "        [ 22,  33,  53]],\n",
      "\n",
      "       [[ 73, 149, 172],\n",
      "        [114, 197, 219],\n",
      "        [107, 202, 222],\n",
      "        ...,\n",
      "        [ 16,  27,  47],\n",
      "        [ 12,  23,  43],\n",
      "        [ 10,  21,  41]]], dtype=uint8)\n",
      "orig_shape: (3024, 4032)\n",
      "path: '/users/eleves-b/2024/mattia.martino/custom_images/IMG_0030.jpeg'\n",
      "probs: None\n",
      "save_dir: 'runs/detect/train6'\n",
      "speed: {'preprocess': 11.61050796508789, 'inference': 3.1561851501464844, 'postprocess': 0.5266666412353516}, ultralytics.engine.results.Results object with attributes:\n",
      "\n",
      "boxes: ultralytics.engine.results.Boxes object\n",
      "keypoints: None\n",
      "masks: None\n",
      "names: {0: '2C', 1: '2D', 2: '2H', 3: '2S', 4: '3C', 5: '3D', 6: '3H', 7: '3S', 8: '4C', 9: '4D', 10: '4H', 11: '4S', 12: '5C', 13: '5D', 14: '5H', 15: '5S', 16: '6C', 17: '6D', 18: '6H', 19: '6S', 20: '7C', 21: '7D', 22: '7H', 23: '7S', 24: '8C', 25: '8D', 26: '8H', 27: '8S', 28: '9C', 29: '9D', 30: '9H', 31: '9S', 32: 'AC', 33: 'AD', 34: 'AH', 35: 'AS', 36: 'JC', 37: 'JD', 38: 'JH', 39: 'JS', 40: 'KC', 41: 'KD', 42: 'KH', 43: 'KS', 44: 'QC', 45: 'QD', 46: 'QH', 47: 'QS', 48: 'TC', 49: 'TD', 50: 'TH', 51: 'TS', 52: 'hand', 53: 'flop'}\n",
      "obb: None\n",
      "orig_img: array([[[106, 106, 118],\n",
      "        [113, 113, 125],\n",
      "        [119, 119, 131],\n",
      "        ...,\n",
      "        [205, 216, 220],\n",
      "        [205, 216, 220],\n",
      "        [205, 216, 220]],\n",
      "\n",
      "       [[ 89,  89, 101],\n",
      "        [ 96,  96, 108],\n",
      "        [104, 104, 116],\n",
      "        ...,\n",
      "        [204, 215, 219],\n",
      "        [204, 215, 219],\n",
      "        [204, 215, 219]],\n",
      "\n",
      "       [[ 71,  71,  83],\n",
      "        [ 75,  75,  87],\n",
      "        [ 83,  83,  95],\n",
      "        ...,\n",
      "        [203, 214, 218],\n",
      "        [203, 214, 218],\n",
      "        [203, 214, 218]],\n",
      "\n",
      "       ...,\n",
      "\n",
      "       [[ 70,  72,  72],\n",
      "        [ 66,  68,  68],\n",
      "        [ 71,  73,  73],\n",
      "        ...,\n",
      "        [ 56,  58,  58],\n",
      "        [ 54,  56,  56],\n",
      "        [ 54,  56,  56]],\n",
      "\n",
      "       [[ 73,  75,  75],\n",
      "        [ 74,  76,  76],\n",
      "        [ 86,  88,  88],\n",
      "        ...,\n",
      "        [ 60,  62,  62],\n",
      "        [ 58,  60,  60],\n",
      "        [ 57,  59,  59]],\n",
      "\n",
      "       [[ 61,  63,  63],\n",
      "        [ 63,  65,  65],\n",
      "        [ 75,  77,  77],\n",
      "        ...,\n",
      "        [ 50,  52,  52],\n",
      "        [ 45,  47,  47],\n",
      "        [ 41,  43,  43]]], dtype=uint8)\n",
      "orig_shape: (4032, 3024)\n",
      "path: '/users/eleves-b/2024/mattia.martino/custom_images/IMG_0067.jpeg'\n",
      "probs: None\n",
      "save_dir: 'runs/detect/train6'\n",
      "speed: {'preprocess': 1.5556812286376953, 'inference': 3.1213760375976562, 'postprocess': 0.5183219909667969}, ultralytics.engine.results.Results object with attributes:\n",
      "\n",
      "boxes: ultralytics.engine.results.Boxes object\n",
      "keypoints: None\n",
      "masks: None\n",
      "names: {0: '2C', 1: '2D', 2: '2H', 3: '2S', 4: '3C', 5: '3D', 6: '3H', 7: '3S', 8: '4C', 9: '4D', 10: '4H', 11: '4S', 12: '5C', 13: '5D', 14: '5H', 15: '5S', 16: '6C', 17: '6D', 18: '6H', 19: '6S', 20: '7C', 21: '7D', 22: '7H', 23: '7S', 24: '8C', 25: '8D', 26: '8H', 27: '8S', 28: '9C', 29: '9D', 30: '9H', 31: '9S', 32: 'AC', 33: 'AD', 34: 'AH', 35: 'AS', 36: 'JC', 37: 'JD', 38: 'JH', 39: 'JS', 40: 'KC', 41: 'KD', 42: 'KH', 43: 'KS', 44: 'QC', 45: 'QD', 46: 'QH', 47: 'QS', 48: 'TC', 49: 'TD', 50: 'TH', 51: 'TS', 52: 'hand', 53: 'flop'}\n",
      "obb: None\n",
      "orig_img: array([[[199, 202, 200],\n",
      "        [200, 203, 201],\n",
      "        [204, 207, 205],\n",
      "        ...,\n",
      "        [203, 205, 205],\n",
      "        [205, 207, 207],\n",
      "        [202, 204, 204]],\n",
      "\n",
      "       [[199, 202, 200],\n",
      "        [199, 202, 200],\n",
      "        [201, 204, 202],\n",
      "        ...,\n",
      "        [199, 201, 201],\n",
      "        [202, 204, 204],\n",
      "        [201, 203, 203]],\n",
      "\n",
      "       [[196, 199, 197],\n",
      "        [197, 200, 198],\n",
      "        [197, 200, 198],\n",
      "        ...,\n",
      "        [199, 201, 201],\n",
      "        [202, 204, 204],\n",
      "        [203, 205, 205]],\n",
      "\n",
      "       ...,\n",
      "\n",
      "       [[  2,   0,   0],\n",
      "        [  7,   5,   4],\n",
      "        [  5,   3,   2],\n",
      "        ...,\n",
      "        [203, 208, 207],\n",
      "        [198, 203, 202],\n",
      "        [192, 197, 196]],\n",
      "\n",
      "       [[  5,   3,   2],\n",
      "        [  5,   3,   2],\n",
      "        [  5,   3,   2],\n",
      "        ...,\n",
      "        [201, 206, 205],\n",
      "        [193, 198, 197],\n",
      "        [191, 196, 195]],\n",
      "\n",
      "       [[ 13,  11,  10],\n",
      "        [  5,   3,   2],\n",
      "        [  4,   2,   1],\n",
      "        ...,\n",
      "        [190, 195, 194],\n",
      "        [195, 200, 199],\n",
      "        [203, 208, 207]]], dtype=uint8)\n",
      "orig_shape: (4032, 3024)\n",
      "path: '/users/eleves-b/2024/mattia.martino/custom_images/IMG_4595.jpeg'\n",
      "probs: None\n",
      "save_dir: 'runs/detect/train6'\n",
      "speed: {'preprocess': 1.3120174407958984, 'inference': 2.7883052825927734, 'postprocess': 0.5271434783935547}, ultralytics.engine.results.Results object with attributes:\n",
      "\n",
      "boxes: ultralytics.engine.results.Boxes object\n",
      "keypoints: None\n",
      "masks: None\n",
      "names: {0: '2C', 1: '2D', 2: '2H', 3: '2S', 4: '3C', 5: '3D', 6: '3H', 7: '3S', 8: '4C', 9: '4D', 10: '4H', 11: '4S', 12: '5C', 13: '5D', 14: '5H', 15: '5S', 16: '6C', 17: '6D', 18: '6H', 19: '6S', 20: '7C', 21: '7D', 22: '7H', 23: '7S', 24: '8C', 25: '8D', 26: '8H', 27: '8S', 28: '9C', 29: '9D', 30: '9H', 31: '9S', 32: 'AC', 33: 'AD', 34: 'AH', 35: 'AS', 36: 'JC', 37: 'JD', 38: 'JH', 39: 'JS', 40: 'KC', 41: 'KD', 42: 'KH', 43: 'KS', 44: 'QC', 45: 'QD', 46: 'QH', 47: 'QS', 48: 'TC', 49: 'TD', 50: 'TH', 51: 'TS', 52: 'hand', 53: 'flop'}\n",
      "obb: None\n",
      "orig_img: array([[[255, 252, 254],\n",
      "        [241, 229, 231],\n",
      "        [249, 238, 237],\n",
      "        ...,\n",
      "        [227, 210, 187],\n",
      "        [227, 210, 187],\n",
      "        [227, 210, 187]],\n",
      "\n",
      "       [[223, 207, 205],\n",
      "        [ 73,  58,  56],\n",
      "        [ 82,  67,  63],\n",
      "        ...,\n",
      "        [ 33,  15,   0],\n",
      "        [ 33,  15,   0],\n",
      "        [ 33,  15,   0]],\n",
      "\n",
      "       [[223, 203, 195],\n",
      "        [ 27,   8,   0],\n",
      "        [ 43,  24,  14],\n",
      "        ...,\n",
      "        [ 48,  30,   8],\n",
      "        [ 48,  30,   8],\n",
      "        [ 48,  30,   8]],\n",
      "\n",
      "       ...,\n",
      "\n",
      "       [[201, 200, 198],\n",
      "        [  1,   0,   0],\n",
      "        [ 10,   9,   7],\n",
      "        ...,\n",
      "        [  8,   4,   2],\n",
      "        [  8,   4,   2],\n",
      "        [  8,   4,   2]],\n",
      "\n",
      "       [[202, 201, 199],\n",
      "        [  2,   0,   0],\n",
      "        [ 11,  10,   8],\n",
      "        ...,\n",
      "        [ 10,   3,   2],\n",
      "        [ 10,   3,   2],\n",
      "        [ 10,   3,   2]],\n",
      "\n",
      "       [[202, 201, 199],\n",
      "        [  2,   0,   0],\n",
      "        [ 11,  10,   8],\n",
      "        ...,\n",
      "        [ 10,   3,   2],\n",
      "        [ 10,   3,   2],\n",
      "        [ 10,   3,   2]]], dtype=uint8)\n",
      "orig_shape: (346, 640)\n",
      "path: '/users/eleves-b/2024/mattia.martino/custom_images/average-hand-of-online-poker-v0-vt94cjwjwbkd1.png.webp'\n",
      "probs: None\n",
      "save_dir: 'runs/detect/train6'\n",
      "speed: {'preprocess': 0.7760524749755859, 'inference': 4.531145095825195, 'postprocess': 0.5724430084228516}]\n"
     ]
    }
   ],
   "source": [
    "check = YOLO(\"runs/detect/train/weights/best.pt\")\n",
    "\n",
    "# Predict on a custom image\n",
    "results = model.predict(source=\"./custom_images\", save=True)\n",
    "\n",
    "# Print results\n",
    "print(results)"
   ]
  },
  {
   "cell_type": "markdown",
   "metadata": {},
   "source": [
    "Continue training to reach 50 epochs"
   ]
  },
  {
   "cell_type": "code",
   "execution_count": 14,
   "metadata": {},
   "outputs": [
    {
     "name": "stdout",
     "output_type": "stream",
     "text": [
      "New https://pypi.org/project/ultralytics/8.3.49 available 😃 Update with 'pip install -U ultralytics'\n",
      "Ultralytics 8.3.40 🚀 Python-3.12.2 torch-2.5.1 CUDA:0 (NVIDIA RTX A4000, 16080MiB)\n",
      "\u001b[34m\u001b[1mengine/trainer: \u001b[0mtask=detect, mode=train, model=runs/detect/train/weights/best.pt, data=synthetic_dataset_v3/data_lr.yaml, epochs=50, time=None, patience=100, batch=8, imgsz=640, save=True, save_period=-1, cache=False, device=0, workers=8, project=None, name=train7, exist_ok=False, pretrained=True, optimizer=auto, verbose=True, seed=0, deterministic=True, single_cls=False, rect=False, cos_lr=False, close_mosaic=10, resume=False, amp=True, fraction=1.0, profile=False, freeze=None, multi_scale=False, overlap_mask=True, mask_ratio=4, dropout=0.0, val=True, split=val, save_json=False, save_hybrid=False, conf=None, iou=0.7, max_det=300, half=False, dnn=False, plots=True, source=None, vid_stride=1, stream_buffer=False, visualize=False, augment=False, agnostic_nms=False, classes=None, retina_masks=False, embed=None, show=False, save_frames=False, save_txt=False, save_conf=False, save_crop=False, show_labels=True, show_conf=True, show_boxes=True, line_width=None, format=torchscript, keras=False, optimize=False, int8=False, dynamic=False, simplify=True, opset=None, workspace=None, nms=False, lr0=0.01, lrf=0.01, momentum=0.937, weight_decay=0.0005, warmup_epochs=3.0, warmup_momentum=0.8, warmup_bias_lr=0.1, box=7.5, cls=0.5, dfl=1.5, pose=12.0, kobj=1.0, nbs=64, hsv_h=0.015, hsv_s=0.7, hsv_v=0.4, degrees=0.0, translate=0.1, scale=0.5, shear=0.0, perspective=0.0, flipud=0.0, fliplr=0.5, bgr=0.0, mosaic=1.0, mixup=0.0, copy_paste=0.0, copy_paste_mode=flip, auto_augment=randaugment, erasing=0.4, crop_fraction=1.0, cfg=None, tracker=botsort.yaml, save_dir=runs/detect/train7\n",
      "\n",
      "                   from  n    params  module                                       arguments                     \n",
      "  0                  -1  1       464  ultralytics.nn.modules.conv.Conv             [3, 16, 3, 2]                 \n",
      "  1                  -1  1      4672  ultralytics.nn.modules.conv.Conv             [16, 32, 3, 2]                \n",
      "  2                  -1  1      6640  ultralytics.nn.modules.block.C3k2            [32, 64, 1, False, 0.25]      \n",
      "  3                  -1  1     36992  ultralytics.nn.modules.conv.Conv             [64, 64, 3, 2]                \n",
      "  4                  -1  1     26080  ultralytics.nn.modules.block.C3k2            [64, 128, 1, False, 0.25]     \n",
      "  5                  -1  1    147712  ultralytics.nn.modules.conv.Conv             [128, 128, 3, 2]              \n",
      "  6                  -1  1     87040  ultralytics.nn.modules.block.C3k2            [128, 128, 1, True]           \n",
      "  7                  -1  1    295424  ultralytics.nn.modules.conv.Conv             [128, 256, 3, 2]              \n",
      "  8                  -1  1    346112  ultralytics.nn.modules.block.C3k2            [256, 256, 1, True]           \n",
      "  9                  -1  1    164608  ultralytics.nn.modules.block.SPPF            [256, 256, 5]                 \n",
      " 10                  -1  1    249728  ultralytics.nn.modules.block.C2PSA           [256, 256, 1]                 \n",
      " 11                  -1  1         0  torch.nn.modules.upsampling.Upsample         [None, 2, 'nearest']          \n",
      " 12             [-1, 6]  1         0  ultralytics.nn.modules.conv.Concat           [1]                           \n",
      " 13                  -1  1    111296  ultralytics.nn.modules.block.C3k2            [384, 128, 1, False]          \n",
      " 14                  -1  1         0  torch.nn.modules.upsampling.Upsample         [None, 2, 'nearest']          \n",
      " 15             [-1, 4]  1         0  ultralytics.nn.modules.conv.Concat           [1]                           \n",
      " 16                  -1  1     32096  ultralytics.nn.modules.block.C3k2            [256, 64, 1, False]           \n",
      " 17                  -1  1     36992  ultralytics.nn.modules.conv.Conv             [64, 64, 3, 2]                \n",
      " 18            [-1, 13]  1         0  ultralytics.nn.modules.conv.Concat           [1]                           \n",
      " 19                  -1  1     86720  ultralytics.nn.modules.block.C3k2            [192, 128, 1, False]          \n",
      " 20                  -1  1    147712  ultralytics.nn.modules.conv.Conv             [128, 128, 3, 2]              \n",
      " 21            [-1, 10]  1         0  ultralytics.nn.modules.conv.Concat           [1]                           \n",
      " 22                  -1  1    378880  ultralytics.nn.modules.block.C3k2            [384, 256, 1, True]           \n",
      " 23        [16, 19, 22]  1    441202  ultralytics.nn.modules.head.Detect           [54, [64, 128, 256]]          \n",
      "YOLO11n summary: 319 layers, 2,600,370 parameters, 2,600,354 gradients\n",
      "\n",
      "Transferred 499/499 items from pretrained weights\n",
      "Freezing layer 'model.23.dfl.conv.weight'\n",
      "\u001b[34m\u001b[1mAMP: \u001b[0mrunning Automatic Mixed Precision (AMP) checks...\n",
      "\u001b[34m\u001b[1mAMP: \u001b[0mchecks passed ✅\n"
     ]
    },
    {
     "name": "stderr",
     "output_type": "stream",
     "text": [
      "\u001b[34m\u001b[1mtrain: \u001b[0mScanning /users/eleves-b/2024/mattia.martino/synthetic_dataset_v3/train/labels.cache... 9477 images, 0 backgrounds, 379 corrupt: 100%|██████████| 9477/9477 [00:00<?, ?it/s]"
     ]
    },
    {
     "name": "stdout",
     "output_type": "stream",
     "text": [
      "\u001b[34m\u001b[1mtrain: \u001b[0mWARNING ⚠️ /users/eleves-b/2024/mattia.martino/synthetic_dataset_v3/train/images/image_00040.png: ignoring corrupt image/label: non-normalized or out of bounds coordinates [     1.0162      1.0821]\n",
      "\u001b[34m\u001b[1mtrain: \u001b[0mWARNING ⚠️ /users/eleves-b/2024/mattia.martino/synthetic_dataset_v3/train/images/image_00072.png: ignoring corrupt image/label: non-normalized or out of bounds coordinates [     1.0239]\n",
      "\u001b[34m\u001b[1mtrain: \u001b[0mWARNING ⚠️ /users/eleves-b/2024/mattia.martino/synthetic_dataset_v3/train/images/image_00079.png: ignoring corrupt image/label: non-normalized or out of bounds coordinates [     1.1233      1.0381]\n",
      "\u001b[34m\u001b[1mtrain: \u001b[0mWARNING ⚠️ /users/eleves-b/2024/mattia.martino/synthetic_dataset_v3/train/images/image_00094.png: ignoring corrupt image/label: non-normalized or out of bounds coordinates [     1.0123]\n",
      "\u001b[34m\u001b[1mtrain: \u001b[0mWARNING ⚠️ /users/eleves-b/2024/mattia.martino/synthetic_dataset_v3/train/images/image_00115.png: ignoring corrupt image/label: non-normalized or out of bounds coordinates [     1.0098]\n",
      "\u001b[34m\u001b[1mtrain: \u001b[0mWARNING ⚠️ /users/eleves-b/2024/mattia.martino/synthetic_dataset_v3/train/images/image_00195.png: ignoring corrupt image/label: non-normalized or out of bounds coordinates [     1.0118]\n",
      "\u001b[34m\u001b[1mtrain: \u001b[0mWARNING ⚠️ /users/eleves-b/2024/mattia.martino/synthetic_dataset_v3/train/images/image_00210.png: ignoring corrupt image/label: non-normalized or out of bounds coordinates [     1.0043      1.0046]\n",
      "\u001b[34m\u001b[1mtrain: \u001b[0mWARNING ⚠️ /users/eleves-b/2024/mattia.martino/synthetic_dataset_v3/train/images/image_00281.png: ignoring corrupt image/label: non-normalized or out of bounds coordinates [      1.015       1.073]\n",
      "\u001b[34m\u001b[1mtrain: \u001b[0mWARNING ⚠️ /users/eleves-b/2024/mattia.martino/synthetic_dataset_v3/train/images/image_00342.png: ignoring corrupt image/label: non-normalized or out of bounds coordinates [     1.1252       1.062]\n",
      "\u001b[34m\u001b[1mtrain: \u001b[0mWARNING ⚠️ /users/eleves-b/2024/mattia.martino/synthetic_dataset_v3/train/images/image_00394.png: ignoring corrupt image/label: non-normalized or out of bounds coordinates [     1.1072      1.0267]\n",
      "\u001b[34m\u001b[1mtrain: \u001b[0mWARNING ⚠️ /users/eleves-b/2024/mattia.martino/synthetic_dataset_v3/train/images/image_00414.png: ignoring corrupt image/label: non-normalized or out of bounds coordinates [     1.0929      1.0494]\n",
      "\u001b[34m\u001b[1mtrain: \u001b[0mWARNING ⚠️ /users/eleves-b/2024/mattia.martino/synthetic_dataset_v3/train/images/image_00430.png: ignoring corrupt image/label: non-normalized or out of bounds coordinates [     1.0028]\n",
      "\u001b[34m\u001b[1mtrain: \u001b[0mWARNING ⚠️ /users/eleves-b/2024/mattia.martino/synthetic_dataset_v3/train/images/image_00457.png: ignoring corrupt image/label: non-normalized or out of bounds coordinates [     1.0118      1.0036]\n",
      "\u001b[34m\u001b[1mtrain: \u001b[0mWARNING ⚠️ /users/eleves-b/2024/mattia.martino/synthetic_dataset_v3/train/images/image_00585.png: ignoring corrupt image/label: non-normalized or out of bounds coordinates [     1.0204]\n",
      "\u001b[34m\u001b[1mtrain: \u001b[0mWARNING ⚠️ /users/eleves-b/2024/mattia.martino/synthetic_dataset_v3/train/images/image_00610.png: ignoring corrupt image/label: non-normalized or out of bounds coordinates [     1.0873      1.0109]\n",
      "\u001b[34m\u001b[1mtrain: \u001b[0mWARNING ⚠️ /users/eleves-b/2024/mattia.martino/synthetic_dataset_v3/train/images/image_00611.png: ignoring corrupt image/label: non-normalized or out of bounds coordinates [      1.015]\n",
      "\u001b[34m\u001b[1mtrain: \u001b[0mWARNING ⚠️ /users/eleves-b/2024/mattia.martino/synthetic_dataset_v3/train/images/image_00670.png: ignoring corrupt image/label: non-normalized or out of bounds coordinates [     1.0041      1.0012]\n",
      "\u001b[34m\u001b[1mtrain: \u001b[0mWARNING ⚠️ /users/eleves-b/2024/mattia.martino/synthetic_dataset_v3/train/images/image_00682.png: ignoring corrupt image/label: non-normalized or out of bounds coordinates [     1.0069]\n",
      "\u001b[34m\u001b[1mtrain: \u001b[0mWARNING ⚠️ /users/eleves-b/2024/mattia.martino/synthetic_dataset_v3/train/images/image_00695.png: ignoring corrupt image/label: non-normalized or out of bounds coordinates [     1.0171      1.0275]\n",
      "\u001b[34m\u001b[1mtrain: \u001b[0mWARNING ⚠️ /users/eleves-b/2024/mattia.martino/synthetic_dataset_v3/train/images/image_00718.png: ignoring corrupt image/label: non-normalized or out of bounds coordinates [     1.0408       1.048]\n",
      "\u001b[34m\u001b[1mtrain: \u001b[0mWARNING ⚠️ /users/eleves-b/2024/mattia.martino/synthetic_dataset_v3/train/images/image_00746.png: ignoring corrupt image/label: non-normalized or out of bounds coordinates [     1.0377]\n",
      "\u001b[34m\u001b[1mtrain: \u001b[0mWARNING ⚠️ /users/eleves-b/2024/mattia.martino/synthetic_dataset_v3/train/images/image_00762.png: ignoring corrupt image/label: non-normalized or out of bounds coordinates [     1.1194      1.1291]\n",
      "\u001b[34m\u001b[1mtrain: \u001b[0mWARNING ⚠️ /users/eleves-b/2024/mattia.martino/synthetic_dataset_v3/train/images/image_00771.png: ignoring corrupt image/label: non-normalized or out of bounds coordinates [     1.0536      1.0279]\n",
      "\u001b[34m\u001b[1mtrain: \u001b[0mWARNING ⚠️ /users/eleves-b/2024/mattia.martino/synthetic_dataset_v3/train/images/image_00775.png: ignoring corrupt image/label: non-normalized or out of bounds coordinates [     1.0866      1.1355]\n",
      "\u001b[34m\u001b[1mtrain: \u001b[0mWARNING ⚠️ /users/eleves-b/2024/mattia.martino/synthetic_dataset_v3/train/images/image_00824.png: ignoring corrupt image/label: non-normalized or out of bounds coordinates [     1.0209]\n",
      "\u001b[34m\u001b[1mtrain: \u001b[0mWARNING ⚠️ /users/eleves-b/2024/mattia.martino/synthetic_dataset_v3/train/images/image_00863.png: ignoring corrupt image/label: non-normalized or out of bounds coordinates [     1.0685      1.0746]\n",
      "\u001b[34m\u001b[1mtrain: \u001b[0mWARNING ⚠️ /users/eleves-b/2024/mattia.martino/synthetic_dataset_v3/train/images/image_00893.png: ignoring corrupt image/label: non-normalized or out of bounds coordinates [     1.0429      1.1121]\n",
      "\u001b[34m\u001b[1mtrain: \u001b[0mWARNING ⚠️ /users/eleves-b/2024/mattia.martino/synthetic_dataset_v3/train/images/image_00900.png: ignoring corrupt image/label: non-normalized or out of bounds coordinates [      1.129      1.0282]\n",
      "\u001b[34m\u001b[1mtrain: \u001b[0mWARNING ⚠️ /users/eleves-b/2024/mattia.martino/synthetic_dataset_v3/train/images/image_00919.png: ignoring corrupt image/label: non-normalized or out of bounds coordinates [     1.0761      1.0893]\n",
      "\u001b[34m\u001b[1mtrain: \u001b[0mWARNING ⚠️ /users/eleves-b/2024/mattia.martino/synthetic_dataset_v3/train/images/image_00973.png: ignoring corrupt image/label: non-normalized or out of bounds coordinates [     1.0084]\n",
      "\u001b[34m\u001b[1mtrain: \u001b[0mWARNING ⚠️ /users/eleves-b/2024/mattia.martino/synthetic_dataset_v3/train/images/image_00988.png: ignoring corrupt image/label: non-normalized or out of bounds coordinates [      1.012]\n",
      "\u001b[34m\u001b[1mtrain: \u001b[0mWARNING ⚠️ /users/eleves-b/2024/mattia.martino/synthetic_dataset_v3/train/images/image_01043.png: ignoring corrupt image/label: non-normalized or out of bounds coordinates [     1.0017]\n",
      "\u001b[34m\u001b[1mtrain: \u001b[0mWARNING ⚠️ /users/eleves-b/2024/mattia.martino/synthetic_dataset_v3/train/images/image_01080.png: ignoring corrupt image/label: non-normalized or out of bounds coordinates [     1.0324]\n",
      "\u001b[34m\u001b[1mtrain: \u001b[0mWARNING ⚠️ /users/eleves-b/2024/mattia.martino/synthetic_dataset_v3/train/images/image_01122.png: ignoring corrupt image/label: non-normalized or out of bounds coordinates [     1.0458      1.0941]\n",
      "\u001b[34m\u001b[1mtrain: \u001b[0mWARNING ⚠️ /users/eleves-b/2024/mattia.martino/synthetic_dataset_v3/train/images/image_01165.png: ignoring corrupt image/label: non-normalized or out of bounds coordinates [     1.0866      1.0506]\n",
      "\u001b[34m\u001b[1mtrain: \u001b[0mWARNING ⚠️ /users/eleves-b/2024/mattia.martino/synthetic_dataset_v3/train/images/image_01182.png: ignoring corrupt image/label: non-normalized or out of bounds coordinates [     1.0754      1.1189]\n",
      "\u001b[34m\u001b[1mtrain: \u001b[0mWARNING ⚠️ /users/eleves-b/2024/mattia.martino/synthetic_dataset_v3/train/images/image_01210.png: ignoring corrupt image/label: non-normalized or out of bounds coordinates [     1.1027       1.176]\n",
      "\u001b[34m\u001b[1mtrain: \u001b[0mWARNING ⚠️ /users/eleves-b/2024/mattia.martino/synthetic_dataset_v3/train/images/image_01237.png: ignoring corrupt image/label: non-normalized or out of bounds coordinates [     1.0038]\n",
      "\u001b[34m\u001b[1mtrain: \u001b[0mWARNING ⚠️ /users/eleves-b/2024/mattia.martino/synthetic_dataset_v3/train/images/image_01295.png: ignoring corrupt image/label: non-normalized or out of bounds coordinates [     1.1207      1.0649]\n",
      "\u001b[34m\u001b[1mtrain: \u001b[0mWARNING ⚠️ /users/eleves-b/2024/mattia.martino/synthetic_dataset_v3/train/images/image_01316.png: ignoring corrupt image/label: non-normalized or out of bounds coordinates [     1.1234      1.0681]\n",
      "\u001b[34m\u001b[1mtrain: \u001b[0mWARNING ⚠️ /users/eleves-b/2024/mattia.martino/synthetic_dataset_v3/train/images/image_01345.png: ignoring corrupt image/label: non-normalized or out of bounds coordinates [     1.1452      1.0684]\n",
      "\u001b[34m\u001b[1mtrain: \u001b[0mWARNING ⚠️ /users/eleves-b/2024/mattia.martino/synthetic_dataset_v3/train/images/image_01388.png: ignoring corrupt image/label: non-normalized or out of bounds coordinates [     1.1417      1.1837]\n",
      "\u001b[34m\u001b[1mtrain: \u001b[0mWARNING ⚠️ /users/eleves-b/2024/mattia.martino/synthetic_dataset_v3/train/images/image_01395.png: ignoring corrupt image/label: non-normalized or out of bounds coordinates [     1.1129      1.1132]\n",
      "\u001b[34m\u001b[1mtrain: \u001b[0mWARNING ⚠️ /users/eleves-b/2024/mattia.martino/synthetic_dataset_v3/train/images/image_01430.png: ignoring corrupt image/label: non-normalized or out of bounds coordinates [     1.0007       1.001]\n",
      "\u001b[34m\u001b[1mtrain: \u001b[0mWARNING ⚠️ /users/eleves-b/2024/mattia.martino/synthetic_dataset_v3/train/images/image_01432.png: ignoring corrupt image/label: non-normalized or out of bounds coordinates [     1.1222      1.1272]\n",
      "\u001b[34m\u001b[1mtrain: \u001b[0mWARNING ⚠️ /users/eleves-b/2024/mattia.martino/synthetic_dataset_v3/train/images/image_01516.png: ignoring corrupt image/label: non-normalized or out of bounds coordinates [     1.0042      1.0135]\n",
      "\u001b[34m\u001b[1mtrain: \u001b[0mWARNING ⚠️ /users/eleves-b/2024/mattia.martino/synthetic_dataset_v3/train/images/image_01551.png: ignoring corrupt image/label: non-normalized or out of bounds coordinates [     1.1099      1.0466]\n",
      "\u001b[34m\u001b[1mtrain: \u001b[0mWARNING ⚠️ /users/eleves-b/2024/mattia.martino/synthetic_dataset_v3/train/images/image_01586.png: ignoring corrupt image/label: non-normalized or out of bounds coordinates [     1.1418      1.1326]\n",
      "\u001b[34m\u001b[1mtrain: \u001b[0mWARNING ⚠️ /users/eleves-b/2024/mattia.martino/synthetic_dataset_v3/train/images/image_01606.png: ignoring corrupt image/label: non-normalized or out of bounds coordinates [     1.0088]\n",
      "\u001b[34m\u001b[1mtrain: \u001b[0mWARNING ⚠️ /users/eleves-b/2024/mattia.martino/synthetic_dataset_v3/train/images/image_01666.png: ignoring corrupt image/label: non-normalized or out of bounds coordinates [     1.1245      1.1088]\n",
      "\u001b[34m\u001b[1mtrain: \u001b[0mWARNING ⚠️ /users/eleves-b/2024/mattia.martino/synthetic_dataset_v3/train/images/image_01761.png: ignoring corrupt image/label: non-normalized or out of bounds coordinates [      1.135      1.0548]\n",
      "\u001b[34m\u001b[1mtrain: \u001b[0mWARNING ⚠️ /users/eleves-b/2024/mattia.martino/synthetic_dataset_v3/train/images/image_01866.png: ignoring corrupt image/label: non-normalized or out of bounds coordinates [       1.07      1.0954]\n",
      "\u001b[34m\u001b[1mtrain: \u001b[0mWARNING ⚠️ /users/eleves-b/2024/mattia.martino/synthetic_dataset_v3/train/images/image_01868.png: ignoring corrupt image/label: non-normalized or out of bounds coordinates [     1.0306]\n",
      "\u001b[34m\u001b[1mtrain: \u001b[0mWARNING ⚠️ /users/eleves-b/2024/mattia.martino/synthetic_dataset_v3/train/images/image_01874.png: ignoring corrupt image/label: non-normalized or out of bounds coordinates [     1.0803      1.0429]\n",
      "\u001b[34m\u001b[1mtrain: \u001b[0mWARNING ⚠️ /users/eleves-b/2024/mattia.martino/synthetic_dataset_v3/train/images/image_01925.png: ignoring corrupt image/label: non-normalized or out of bounds coordinates [     1.0189]\n",
      "\u001b[34m\u001b[1mtrain: \u001b[0mWARNING ⚠️ /users/eleves-b/2024/mattia.martino/synthetic_dataset_v3/train/images/image_01945.png: ignoring corrupt image/label: non-normalized or out of bounds coordinates [     1.0817      1.1507]\n",
      "\u001b[34m\u001b[1mtrain: \u001b[0mWARNING ⚠️ /users/eleves-b/2024/mattia.martino/synthetic_dataset_v3/train/images/image_01950.png: ignoring corrupt image/label: non-normalized or out of bounds coordinates [     1.0092      1.0015]\n",
      "\u001b[34m\u001b[1mtrain: \u001b[0mWARNING ⚠️ /users/eleves-b/2024/mattia.martino/synthetic_dataset_v3/train/images/image_01951.png: ignoring corrupt image/label: non-normalized or out of bounds coordinates [     1.0657       1.089]\n",
      "\u001b[34m\u001b[1mtrain: \u001b[0mWARNING ⚠️ /users/eleves-b/2024/mattia.martino/synthetic_dataset_v3/train/images/image_01956.png: ignoring corrupt image/label: non-normalized or out of bounds coordinates [     1.0405      1.0805]\n",
      "\u001b[34m\u001b[1mtrain: \u001b[0mWARNING ⚠️ /users/eleves-b/2024/mattia.martino/synthetic_dataset_v3/train/images/image_01995.png: ignoring corrupt image/label: non-normalized or out of bounds coordinates [     1.0096]\n",
      "\u001b[34m\u001b[1mtrain: \u001b[0mWARNING ⚠️ /users/eleves-b/2024/mattia.martino/synthetic_dataset_v3/train/images/image_02012.png: ignoring corrupt image/label: non-normalized or out of bounds coordinates [     1.0043       1.016]\n",
      "\u001b[34m\u001b[1mtrain: \u001b[0mWARNING ⚠️ /users/eleves-b/2024/mattia.martino/synthetic_dataset_v3/train/images/image_02048.png: ignoring corrupt image/label: non-normalized or out of bounds coordinates [     1.0472      1.0763]\n",
      "\u001b[34m\u001b[1mtrain: \u001b[0mWARNING ⚠️ /users/eleves-b/2024/mattia.martino/synthetic_dataset_v3/train/images/image_02056.png: ignoring corrupt image/label: non-normalized or out of bounds coordinates [     1.0219      1.0088]\n",
      "\u001b[34m\u001b[1mtrain: \u001b[0mWARNING ⚠️ /users/eleves-b/2024/mattia.martino/synthetic_dataset_v3/train/images/image_02143.png: ignoring corrupt image/label: non-normalized or out of bounds coordinates [     1.1123      1.1477]\n",
      "\u001b[34m\u001b[1mtrain: \u001b[0mWARNING ⚠️ /users/eleves-b/2024/mattia.martino/synthetic_dataset_v3/train/images/image_02167.png: ignoring corrupt image/label: non-normalized or out of bounds coordinates [     1.0048]\n",
      "\u001b[34m\u001b[1mtrain: \u001b[0mWARNING ⚠️ /users/eleves-b/2024/mattia.martino/synthetic_dataset_v3/train/images/image_02206.png: ignoring corrupt image/label: non-normalized or out of bounds coordinates [      1.002]\n",
      "\u001b[34m\u001b[1mtrain: \u001b[0mWARNING ⚠️ /users/eleves-b/2024/mattia.martino/synthetic_dataset_v3/train/images/image_02243.png: ignoring corrupt image/label: non-normalized or out of bounds coordinates [        1.1       1.112]\n",
      "\u001b[34m\u001b[1mtrain: \u001b[0mWARNING ⚠️ /users/eleves-b/2024/mattia.martino/synthetic_dataset_v3/train/images/image_02246.png: ignoring corrupt image/label: non-normalized or out of bounds coordinates [     1.0098]\n",
      "\u001b[34m\u001b[1mtrain: \u001b[0mWARNING ⚠️ /users/eleves-b/2024/mattia.martino/synthetic_dataset_v3/train/images/image_02348.png: ignoring corrupt image/label: non-normalized or out of bounds coordinates [     1.0132]\n",
      "\u001b[34m\u001b[1mtrain: \u001b[0mWARNING ⚠️ /users/eleves-b/2024/mattia.martino/synthetic_dataset_v3/train/images/image_02380.png: ignoring corrupt image/label: non-normalized or out of bounds coordinates [     1.0772       1.063]\n",
      "\u001b[34m\u001b[1mtrain: \u001b[0mWARNING ⚠️ /users/eleves-b/2024/mattia.martino/synthetic_dataset_v3/train/images/image_02419.png: ignoring corrupt image/label: non-normalized or out of bounds coordinates [     1.1211        1.01]\n",
      "\u001b[34m\u001b[1mtrain: \u001b[0mWARNING ⚠️ /users/eleves-b/2024/mattia.martino/synthetic_dataset_v3/train/images/image_02468.png: ignoring corrupt image/label: non-normalized or out of bounds coordinates [      1.021]\n",
      "\u001b[34m\u001b[1mtrain: \u001b[0mWARNING ⚠️ /users/eleves-b/2024/mattia.martino/synthetic_dataset_v3/train/images/image_02483.png: ignoring corrupt image/label: non-normalized or out of bounds coordinates [     1.0031]\n",
      "\u001b[34m\u001b[1mtrain: \u001b[0mWARNING ⚠️ /users/eleves-b/2024/mattia.martino/synthetic_dataset_v3/train/images/image_02682.png: ignoring corrupt image/label: non-normalized or out of bounds coordinates [     1.0086      1.1195      1.0507]\n",
      "\u001b[34m\u001b[1mtrain: \u001b[0mWARNING ⚠️ /users/eleves-b/2024/mattia.martino/synthetic_dataset_v3/train/images/image_02688.png: ignoring corrupt image/label: non-normalized or out of bounds coordinates [     1.0306]\n",
      "\u001b[34m\u001b[1mtrain: \u001b[0mWARNING ⚠️ /users/eleves-b/2024/mattia.martino/synthetic_dataset_v3/train/images/image_02813.png: ignoring corrupt image/label: non-normalized or out of bounds coordinates [     1.0016]\n",
      "\u001b[34m\u001b[1mtrain: \u001b[0mWARNING ⚠️ /users/eleves-b/2024/mattia.martino/synthetic_dataset_v3/train/images/image_02888.png: ignoring corrupt image/label: non-normalized or out of bounds coordinates [     1.0812       1.083]\n",
      "\u001b[34m\u001b[1mtrain: \u001b[0mWARNING ⚠️ /users/eleves-b/2024/mattia.martino/synthetic_dataset_v3/train/images/image_02968.png: ignoring corrupt image/label: non-normalized or out of bounds coordinates [     1.0335]\n",
      "\u001b[34m\u001b[1mtrain: \u001b[0mWARNING ⚠️ /users/eleves-b/2024/mattia.martino/synthetic_dataset_v3/train/images/image_02985.png: ignoring corrupt image/label: non-normalized or out of bounds coordinates [      1.007]\n",
      "\u001b[34m\u001b[1mtrain: \u001b[0mWARNING ⚠️ /users/eleves-b/2024/mattia.martino/synthetic_dataset_v3/train/images/image_02989.png: ignoring corrupt image/label: non-normalized or out of bounds coordinates [     1.0011]\n",
      "\u001b[34m\u001b[1mtrain: \u001b[0mWARNING ⚠️ /users/eleves-b/2024/mattia.martino/synthetic_dataset_v3/train/images/image_03025.png: ignoring corrupt image/label: non-normalized or out of bounds coordinates [      1.066      1.1317]\n",
      "\u001b[34m\u001b[1mtrain: \u001b[0mWARNING ⚠️ /users/eleves-b/2024/mattia.martino/synthetic_dataset_v3/train/images/image_03109.png: ignoring corrupt image/label: non-normalized or out of bounds coordinates [     1.0118       1.006]\n",
      "\u001b[34m\u001b[1mtrain: \u001b[0mWARNING ⚠️ /users/eleves-b/2024/mattia.martino/synthetic_dataset_v3/train/images/image_03177.png: ignoring corrupt image/label: non-normalized or out of bounds coordinates [     1.0856      1.0147]\n",
      "\u001b[34m\u001b[1mtrain: \u001b[0mWARNING ⚠️ /users/eleves-b/2024/mattia.martino/synthetic_dataset_v3/train/images/image_03185.png: ignoring corrupt image/label: non-normalized or out of bounds coordinates [     1.0007]\n",
      "\u001b[34m\u001b[1mtrain: \u001b[0mWARNING ⚠️ /users/eleves-b/2024/mattia.martino/synthetic_dataset_v3/train/images/image_03186.png: ignoring corrupt image/label: non-normalized or out of bounds coordinates [     1.0046]\n",
      "\u001b[34m\u001b[1mtrain: \u001b[0mWARNING ⚠️ /users/eleves-b/2024/mattia.martino/synthetic_dataset_v3/train/images/image_03191.png: ignoring corrupt image/label: non-normalized or out of bounds coordinates [     1.0117]\n",
      "\u001b[34m\u001b[1mtrain: \u001b[0mWARNING ⚠️ /users/eleves-b/2024/mattia.martino/synthetic_dataset_v3/train/images/image_03210.png: ignoring corrupt image/label: non-normalized or out of bounds coordinates [     1.1371      1.0453]\n",
      "\u001b[34m\u001b[1mtrain: \u001b[0mWARNING ⚠️ /users/eleves-b/2024/mattia.martino/synthetic_dataset_v3/train/images/image_03215.png: ignoring corrupt image/label: non-normalized or out of bounds coordinates [     1.0229      1.0065]\n",
      "\u001b[34m\u001b[1mtrain: \u001b[0mWARNING ⚠️ /users/eleves-b/2024/mattia.martino/synthetic_dataset_v3/train/images/image_03220.png: ignoring corrupt image/label: non-normalized or out of bounds coordinates [     1.1011      1.1327]\n",
      "\u001b[34m\u001b[1mtrain: \u001b[0mWARNING ⚠️ /users/eleves-b/2024/mattia.martino/synthetic_dataset_v3/train/images/image_03238.png: ignoring corrupt image/label: non-normalized or out of bounds coordinates [     1.0589      1.1086]\n",
      "\u001b[34m\u001b[1mtrain: \u001b[0mWARNING ⚠️ /users/eleves-b/2024/mattia.martino/synthetic_dataset_v3/train/images/image_03240.png: ignoring corrupt image/label: non-normalized or out of bounds coordinates [     1.0097]\n",
      "\u001b[34m\u001b[1mtrain: \u001b[0mWARNING ⚠️ /users/eleves-b/2024/mattia.martino/synthetic_dataset_v3/train/images/image_03338.png: ignoring corrupt image/label: non-normalized or out of bounds coordinates [      1.004]\n",
      "\u001b[34m\u001b[1mtrain: \u001b[0mWARNING ⚠️ /users/eleves-b/2024/mattia.martino/synthetic_dataset_v3/train/images/image_03367.png: ignoring corrupt image/label: non-normalized or out of bounds coordinates [     1.0594      1.0883]\n",
      "\u001b[34m\u001b[1mtrain: \u001b[0mWARNING ⚠️ /users/eleves-b/2024/mattia.martino/synthetic_dataset_v3/train/images/image_03426.png: ignoring corrupt image/label: non-normalized or out of bounds coordinates [     1.0828      1.1745]\n",
      "\u001b[34m\u001b[1mtrain: \u001b[0mWARNING ⚠️ /users/eleves-b/2024/mattia.martino/synthetic_dataset_v3/train/images/image_03594.png: ignoring corrupt image/label: non-normalized or out of bounds coordinates [     1.0646      1.0108]\n",
      "\u001b[34m\u001b[1mtrain: \u001b[0mWARNING ⚠️ /users/eleves-b/2024/mattia.martino/synthetic_dataset_v3/train/images/image_03615.png: ignoring corrupt image/label: non-normalized or out of bounds coordinates [     1.0955      1.0015]\n",
      "\u001b[34m\u001b[1mtrain: \u001b[0mWARNING ⚠️ /users/eleves-b/2024/mattia.martino/synthetic_dataset_v3/train/images/image_03619.png: ignoring corrupt image/label: non-normalized or out of bounds coordinates [     1.0398      1.0921]\n",
      "\u001b[34m\u001b[1mtrain: \u001b[0mWARNING ⚠️ /users/eleves-b/2024/mattia.martino/synthetic_dataset_v3/train/images/image_03638.png: ignoring corrupt image/label: non-normalized or out of bounds coordinates [     1.0894      1.0448]\n",
      "\u001b[34m\u001b[1mtrain: \u001b[0mWARNING ⚠️ /users/eleves-b/2024/mattia.martino/synthetic_dataset_v3/train/images/image_03689.png: ignoring corrupt image/label: non-normalized or out of bounds coordinates [     1.0457       1.113]\n",
      "\u001b[34m\u001b[1mtrain: \u001b[0mWARNING ⚠️ /users/eleves-b/2024/mattia.martino/synthetic_dataset_v3/train/images/image_03730.png: ignoring corrupt image/label: non-normalized or out of bounds coordinates [     1.1466      1.1503]\n",
      "\u001b[34m\u001b[1mtrain: \u001b[0mWARNING ⚠️ /users/eleves-b/2024/mattia.martino/synthetic_dataset_v3/train/images/image_03853.png: ignoring corrupt image/label: non-normalized or out of bounds coordinates [     1.0193]\n",
      "\u001b[34m\u001b[1mtrain: \u001b[0mWARNING ⚠️ /users/eleves-b/2024/mattia.martino/synthetic_dataset_v3/train/images/image_03869.png: ignoring corrupt image/label: non-normalized or out of bounds coordinates [     1.0585      1.0121]\n",
      "\u001b[34m\u001b[1mtrain: \u001b[0mWARNING ⚠️ /users/eleves-b/2024/mattia.martino/synthetic_dataset_v3/train/images/image_03884.png: ignoring corrupt image/label: non-normalized or out of bounds coordinates [     1.0925      1.0723]\n",
      "\u001b[34m\u001b[1mtrain: \u001b[0mWARNING ⚠️ /users/eleves-b/2024/mattia.martino/synthetic_dataset_v3/train/images/image_03903.png: ignoring corrupt image/label: non-normalized or out of bounds coordinates [     1.0507      1.0907]\n",
      "\u001b[34m\u001b[1mtrain: \u001b[0mWARNING ⚠️ /users/eleves-b/2024/mattia.martino/synthetic_dataset_v3/train/images/image_03926.png: ignoring corrupt image/label: non-normalized or out of bounds coordinates [     1.0248]\n",
      "\u001b[34m\u001b[1mtrain: \u001b[0mWARNING ⚠️ /users/eleves-b/2024/mattia.martino/synthetic_dataset_v3/train/images/image_03954.png: ignoring corrupt image/label: non-normalized or out of bounds coordinates [     1.1133      1.0388]\n",
      "\u001b[34m\u001b[1mtrain: \u001b[0mWARNING ⚠️ /users/eleves-b/2024/mattia.martino/synthetic_dataset_v3/train/images/image_04095.png: ignoring corrupt image/label: non-normalized or out of bounds coordinates [     1.0056]\n",
      "\u001b[34m\u001b[1mtrain: \u001b[0mWARNING ⚠️ /users/eleves-b/2024/mattia.martino/synthetic_dataset_v3/train/images/image_04166.png: ignoring corrupt image/label: non-normalized or out of bounds coordinates [     1.0198      1.0055]\n",
      "\u001b[34m\u001b[1mtrain: \u001b[0mWARNING ⚠️ /users/eleves-b/2024/mattia.martino/synthetic_dataset_v3/train/images/image_04243.png: ignoring corrupt image/label: non-normalized or out of bounds coordinates [     1.1008      1.1197]\n",
      "\u001b[34m\u001b[1mtrain: \u001b[0mWARNING ⚠️ /users/eleves-b/2024/mattia.martino/synthetic_dataset_v3/train/images/image_04251.png: ignoring corrupt image/label: non-normalized or out of bounds coordinates [     1.1073       1.078]\n",
      "\u001b[34m\u001b[1mtrain: \u001b[0mWARNING ⚠️ /users/eleves-b/2024/mattia.martino/synthetic_dataset_v3/train/images/image_04276.png: ignoring corrupt image/label: non-normalized or out of bounds coordinates [      1.003]\n",
      "\u001b[34m\u001b[1mtrain: \u001b[0mWARNING ⚠️ /users/eleves-b/2024/mattia.martino/synthetic_dataset_v3/train/images/image_04326.png: ignoring corrupt image/label: non-normalized or out of bounds coordinates [      1.055      1.0111]\n",
      "\u001b[34m\u001b[1mtrain: \u001b[0mWARNING ⚠️ /users/eleves-b/2024/mattia.martino/synthetic_dataset_v3/train/images/image_04354.png: ignoring corrupt image/label: non-normalized or out of bounds coordinates [     1.0309]\n",
      "\u001b[34m\u001b[1mtrain: \u001b[0mWARNING ⚠️ /users/eleves-b/2024/mattia.martino/synthetic_dataset_v3/train/images/image_04365.png: ignoring corrupt image/label: non-normalized or out of bounds coordinates [     1.0079]\n",
      "\u001b[34m\u001b[1mtrain: \u001b[0mWARNING ⚠️ /users/eleves-b/2024/mattia.martino/synthetic_dataset_v3/train/images/image_04412.png: ignoring corrupt image/label: non-normalized or out of bounds coordinates [      1.132      1.1363]\n",
      "\u001b[34m\u001b[1mtrain: \u001b[0mWARNING ⚠️ /users/eleves-b/2024/mattia.martino/synthetic_dataset_v3/train/images/image_04434.png: ignoring corrupt image/label: non-normalized or out of bounds coordinates [     1.1542        1.13]\n",
      "\u001b[34m\u001b[1mtrain: \u001b[0mWARNING ⚠️ /users/eleves-b/2024/mattia.martino/synthetic_dataset_v3/train/images/image_04459.png: ignoring corrupt image/label: non-normalized or out of bounds coordinates [     1.0312       1.063]\n",
      "\u001b[34m\u001b[1mtrain: \u001b[0mWARNING ⚠️ /users/eleves-b/2024/mattia.martino/synthetic_dataset_v3/train/images/image_04488.png: ignoring corrupt image/label: non-normalized or out of bounds coordinates [     1.0405       1.081]\n",
      "\u001b[34m\u001b[1mtrain: \u001b[0mWARNING ⚠️ /users/eleves-b/2024/mattia.martino/synthetic_dataset_v3/train/images/image_04511.png: ignoring corrupt image/label: non-normalized or out of bounds coordinates [     1.0072]\n",
      "\u001b[34m\u001b[1mtrain: \u001b[0mWARNING ⚠️ /users/eleves-b/2024/mattia.martino/synthetic_dataset_v3/train/images/image_04525.png: ignoring corrupt image/label: non-normalized or out of bounds coordinates [     1.1053      1.0954]\n",
      "\u001b[34m\u001b[1mtrain: \u001b[0mWARNING ⚠️ /users/eleves-b/2024/mattia.martino/synthetic_dataset_v3/train/images/image_04568.png: ignoring corrupt image/label: non-normalized or out of bounds coordinates [      1.092      1.0336]\n",
      "\u001b[34m\u001b[1mtrain: \u001b[0mWARNING ⚠️ /users/eleves-b/2024/mattia.martino/synthetic_dataset_v3/train/images/image_04585.png: ignoring corrupt image/label: non-normalized or out of bounds coordinates [     1.0083]\n",
      "\u001b[34m\u001b[1mtrain: \u001b[0mWARNING ⚠️ /users/eleves-b/2024/mattia.martino/synthetic_dataset_v3/train/images/image_04624.png: ignoring corrupt image/label: non-normalized or out of bounds coordinates [     1.0549]\n",
      "\u001b[34m\u001b[1mtrain: \u001b[0mWARNING ⚠️ /users/eleves-b/2024/mattia.martino/synthetic_dataset_v3/train/images/image_04693.png: ignoring corrupt image/label: non-normalized or out of bounds coordinates [     1.0183      1.0312]\n",
      "\u001b[34m\u001b[1mtrain: \u001b[0mWARNING ⚠️ /users/eleves-b/2024/mattia.martino/synthetic_dataset_v3/train/images/image_04766.png: ignoring corrupt image/label: non-normalized or out of bounds coordinates [     1.0193       1.052]\n",
      "\u001b[34m\u001b[1mtrain: \u001b[0mWARNING ⚠️ /users/eleves-b/2024/mattia.martino/synthetic_dataset_v3/train/images/image_04782.png: ignoring corrupt image/label: non-normalized or out of bounds coordinates [     1.0771      1.0085]\n",
      "\u001b[34m\u001b[1mtrain: \u001b[0mWARNING ⚠️ /users/eleves-b/2024/mattia.martino/synthetic_dataset_v3/train/images/image_04863.png: ignoring corrupt image/label: non-normalized or out of bounds coordinates [     1.1197      1.0221]\n",
      "\u001b[34m\u001b[1mtrain: \u001b[0mWARNING ⚠️ /users/eleves-b/2024/mattia.martino/synthetic_dataset_v3/train/images/image_04883.png: ignoring corrupt image/label: non-normalized or out of bounds coordinates [     1.1224      1.1025]\n",
      "\u001b[34m\u001b[1mtrain: \u001b[0mWARNING ⚠️ /users/eleves-b/2024/mattia.martino/synthetic_dataset_v3/train/images/image_04932.png: ignoring corrupt image/label: non-normalized or out of bounds coordinates [     1.0011      1.0134]\n",
      "\u001b[34m\u001b[1mtrain: \u001b[0mWARNING ⚠️ /users/eleves-b/2024/mattia.martino/synthetic_dataset_v3/train/images/image_04966.png: ignoring corrupt image/label: non-normalized or out of bounds coordinates [      1.029      1.0882]\n",
      "\u001b[34m\u001b[1mtrain: \u001b[0mWARNING ⚠️ /users/eleves-b/2024/mattia.martino/synthetic_dataset_v3/train/images/image_04972.png: ignoring corrupt image/label: non-normalized or out of bounds coordinates [     1.1324      1.1071]\n",
      "\u001b[34m\u001b[1mtrain: \u001b[0mWARNING ⚠️ /users/eleves-b/2024/mattia.martino/synthetic_dataset_v3/train/images/image_05171.png: ignoring corrupt image/label: non-normalized or out of bounds coordinates [     1.0697      1.1176]\n",
      "\u001b[34m\u001b[1mtrain: \u001b[0mWARNING ⚠️ /users/eleves-b/2024/mattia.martino/synthetic_dataset_v3/train/images/image_05179.png: ignoring corrupt image/label: non-normalized or out of bounds coordinates [      1.014      1.0089]\n",
      "\u001b[34m\u001b[1mtrain: \u001b[0mWARNING ⚠️ /users/eleves-b/2024/mattia.martino/synthetic_dataset_v3/train/images/image_05238.png: ignoring corrupt image/label: non-normalized or out of bounds coordinates [      1.059      1.0898]\n",
      "\u001b[34m\u001b[1mtrain: \u001b[0mWARNING ⚠️ /users/eleves-b/2024/mattia.martino/synthetic_dataset_v3/train/images/image_05268.png: ignoring corrupt image/label: non-normalized or out of bounds coordinates [     1.0133]\n",
      "\u001b[34m\u001b[1mtrain: \u001b[0mWARNING ⚠️ /users/eleves-b/2024/mattia.martino/synthetic_dataset_v3/train/images/image_05325.png: ignoring corrupt image/label: non-normalized or out of bounds coordinates [     1.1245       1.085]\n",
      "\u001b[34m\u001b[1mtrain: \u001b[0mWARNING ⚠️ /users/eleves-b/2024/mattia.martino/synthetic_dataset_v3/train/images/image_05329.png: ignoring corrupt image/label: non-normalized or out of bounds coordinates [     1.0011      1.0412]\n",
      "\u001b[34m\u001b[1mtrain: \u001b[0mWARNING ⚠️ /users/eleves-b/2024/mattia.martino/synthetic_dataset_v3/train/images/image_05340.png: ignoring corrupt image/label: non-normalized or out of bounds coordinates [     1.0093]\n",
      "\u001b[34m\u001b[1mtrain: \u001b[0mWARNING ⚠️ /users/eleves-b/2024/mattia.martino/synthetic_dataset_v3/train/images/image_05379.png: ignoring corrupt image/label: non-normalized or out of bounds coordinates [     1.0738      1.0889]\n",
      "\u001b[34m\u001b[1mtrain: \u001b[0mWARNING ⚠️ /users/eleves-b/2024/mattia.martino/synthetic_dataset_v3/train/images/image_05384.png: ignoring corrupt image/label: non-normalized or out of bounds coordinates [     1.0697      1.1471]\n",
      "\u001b[34m\u001b[1mtrain: \u001b[0mWARNING ⚠️ /users/eleves-b/2024/mattia.martino/synthetic_dataset_v3/train/images/image_05386.png: ignoring corrupt image/label: non-normalized or out of bounds coordinates [     1.1152      1.1143]\n",
      "\u001b[34m\u001b[1mtrain: \u001b[0mWARNING ⚠️ /users/eleves-b/2024/mattia.martino/synthetic_dataset_v3/train/images/image_05412.png: ignoring corrupt image/label: non-normalized or out of bounds coordinates [     1.0708      1.0672]\n",
      "\u001b[34m\u001b[1mtrain: \u001b[0mWARNING ⚠️ /users/eleves-b/2024/mattia.martino/synthetic_dataset_v3/train/images/image_05441.png: ignoring corrupt image/label: non-normalized or out of bounds coordinates [     1.0469]\n",
      "\u001b[34m\u001b[1mtrain: \u001b[0mWARNING ⚠️ /users/eleves-b/2024/mattia.martino/synthetic_dataset_v3/train/images/image_05502.png: ignoring corrupt image/label: non-normalized or out of bounds coordinates [     1.0069]\n",
      "\u001b[34m\u001b[1mtrain: \u001b[0mWARNING ⚠️ /users/eleves-b/2024/mattia.martino/synthetic_dataset_v3/train/images/image_05505.png: ignoring corrupt image/label: non-normalized or out of bounds coordinates [     1.0428      1.1179]\n",
      "\u001b[34m\u001b[1mtrain: \u001b[0mWARNING ⚠️ /users/eleves-b/2024/mattia.martino/synthetic_dataset_v3/train/images/image_05606.png: ignoring corrupt image/label: non-normalized or out of bounds coordinates [      1.125      1.1244]\n",
      "\u001b[34m\u001b[1mtrain: \u001b[0mWARNING ⚠️ /users/eleves-b/2024/mattia.martino/synthetic_dataset_v3/train/images/image_05663.png: ignoring corrupt image/label: non-normalized or out of bounds coordinates [      1.011]\n",
      "\u001b[34m\u001b[1mtrain: \u001b[0mWARNING ⚠️ /users/eleves-b/2024/mattia.martino/synthetic_dataset_v3/train/images/image_05710.png: ignoring corrupt image/label: non-normalized or out of bounds coordinates [     1.1212      1.0438]\n",
      "\u001b[34m\u001b[1mtrain: \u001b[0mWARNING ⚠️ /users/eleves-b/2024/mattia.martino/synthetic_dataset_v3/train/images/image_05826.png: ignoring corrupt image/label: non-normalized or out of bounds coordinates [     1.0002      1.0167]\n",
      "\u001b[34m\u001b[1mtrain: \u001b[0mWARNING ⚠️ /users/eleves-b/2024/mattia.martino/synthetic_dataset_v3/train/images/image_05898.png: ignoring corrupt image/label: non-normalized or out of bounds coordinates [     1.0009]\n",
      "\u001b[34m\u001b[1mtrain: \u001b[0mWARNING ⚠️ /users/eleves-b/2024/mattia.martino/synthetic_dataset_v3/train/images/image_05921.png: ignoring corrupt image/label: non-normalized or out of bounds coordinates [     1.0059]\n",
      "\u001b[34m\u001b[1mtrain: \u001b[0mWARNING ⚠️ /users/eleves-b/2024/mattia.martino/synthetic_dataset_v3/train/images/image_05977.png: ignoring corrupt image/label: non-normalized or out of bounds coordinates [      1.015]\n",
      "\u001b[34m\u001b[1mtrain: \u001b[0mWARNING ⚠️ /users/eleves-b/2024/mattia.martino/synthetic_dataset_v3/train/images/image_06101.png: ignoring corrupt image/label: non-normalized or out of bounds coordinates [     1.0059]\n",
      "\u001b[34m\u001b[1mtrain: \u001b[0mWARNING ⚠️ /users/eleves-b/2024/mattia.martino/synthetic_dataset_v3/train/images/image_06115.png: ignoring corrupt image/label: non-normalized or out of bounds coordinates [     1.1043      1.1175]\n",
      "\u001b[34m\u001b[1mtrain: \u001b[0mWARNING ⚠️ /users/eleves-b/2024/mattia.martino/synthetic_dataset_v3/train/images/image_06143.png: ignoring corrupt image/label: non-normalized or out of bounds coordinates [     1.0188]\n",
      "\u001b[34m\u001b[1mtrain: \u001b[0mWARNING ⚠️ /users/eleves-b/2024/mattia.martino/synthetic_dataset_v3/train/images/image_06187.png: ignoring corrupt image/label: non-normalized or out of bounds coordinates [     1.0365      1.0872]\n",
      "\u001b[34m\u001b[1mtrain: \u001b[0mWARNING ⚠️ /users/eleves-b/2024/mattia.martino/synthetic_dataset_v3/train/images/image_06244.png: ignoring corrupt image/label: non-normalized or out of bounds coordinates [     1.0001]\n",
      "\u001b[34m\u001b[1mtrain: \u001b[0mWARNING ⚠️ /users/eleves-b/2024/mattia.martino/synthetic_dataset_v3/train/images/image_06272.png: ignoring corrupt image/label: non-normalized or out of bounds coordinates [     1.0942        1.09]\n",
      "\u001b[34m\u001b[1mtrain: \u001b[0mWARNING ⚠️ /users/eleves-b/2024/mattia.martino/synthetic_dataset_v3/train/images/image_06314.png: ignoring corrupt image/label: non-normalized or out of bounds coordinates [     1.1092]\n",
      "\u001b[34m\u001b[1mtrain: \u001b[0mWARNING ⚠️ /users/eleves-b/2024/mattia.martino/synthetic_dataset_v3/train/images/image_06348.png: ignoring corrupt image/label: non-normalized or out of bounds coordinates [     1.0369]\n",
      "\u001b[34m\u001b[1mtrain: \u001b[0mWARNING ⚠️ /users/eleves-b/2024/mattia.martino/synthetic_dataset_v3/train/images/image_06433.png: ignoring corrupt image/label: non-normalized or out of bounds coordinates [     1.0026]\n",
      "\u001b[34m\u001b[1mtrain: \u001b[0mWARNING ⚠️ /users/eleves-b/2024/mattia.martino/synthetic_dataset_v3/train/images/image_06453.png: ignoring corrupt image/label: non-normalized or out of bounds coordinates [     1.0131]\n",
      "\u001b[34m\u001b[1mtrain: \u001b[0mWARNING ⚠️ /users/eleves-b/2024/mattia.martino/synthetic_dataset_v3/train/images/image_06611.png: ignoring corrupt image/label: non-normalized or out of bounds coordinates [      1.149      1.0725]\n",
      "\u001b[34m\u001b[1mtrain: \u001b[0mWARNING ⚠️ /users/eleves-b/2024/mattia.martino/synthetic_dataset_v3/train/images/image_06632.png: ignoring corrupt image/label: non-normalized or out of bounds coordinates [      1.046      1.0177]\n",
      "\u001b[34m\u001b[1mtrain: \u001b[0mWARNING ⚠️ /users/eleves-b/2024/mattia.martino/synthetic_dataset_v3/train/images/image_06693.png: ignoring corrupt image/label: non-normalized or out of bounds coordinates [     1.0828      1.0757]\n",
      "\u001b[34m\u001b[1mtrain: \u001b[0mWARNING ⚠️ /users/eleves-b/2024/mattia.martino/synthetic_dataset_v3/train/images/image_06735.png: ignoring corrupt image/label: non-normalized or out of bounds coordinates [     1.0039]\n",
      "\u001b[34m\u001b[1mtrain: \u001b[0mWARNING ⚠️ /users/eleves-b/2024/mattia.martino/synthetic_dataset_v3/train/images/image_06802.png: ignoring corrupt image/label: non-normalized or out of bounds coordinates [     1.0301      1.0597]\n",
      "\u001b[34m\u001b[1mtrain: \u001b[0mWARNING ⚠️ /users/eleves-b/2024/mattia.martino/synthetic_dataset_v3/train/images/image_06824.png: ignoring corrupt image/label: non-normalized or out of bounds coordinates [     1.0037]\n",
      "\u001b[34m\u001b[1mtrain: \u001b[0mWARNING ⚠️ /users/eleves-b/2024/mattia.martino/synthetic_dataset_v3/train/images/image_06901.png: ignoring corrupt image/label: non-normalized or out of bounds coordinates [     1.0141]\n",
      "\u001b[34m\u001b[1mtrain: \u001b[0mWARNING ⚠️ /users/eleves-b/2024/mattia.martino/synthetic_dataset_v3/train/images/image_06924.png: ignoring corrupt image/label: non-normalized or out of bounds coordinates [      1.126      1.1497]\n",
      "\u001b[34m\u001b[1mtrain: \u001b[0mWARNING ⚠️ /users/eleves-b/2024/mattia.martino/synthetic_dataset_v3/train/images/image_06938.png: ignoring corrupt image/label: non-normalized or out of bounds coordinates [     1.0219      1.1341      1.1685]\n",
      "\u001b[34m\u001b[1mtrain: \u001b[0mWARNING ⚠️ /users/eleves-b/2024/mattia.martino/synthetic_dataset_v3/train/images/image_06961.png: ignoring corrupt image/label: non-normalized or out of bounds coordinates [     1.0959       1.033]\n",
      "\u001b[34m\u001b[1mtrain: \u001b[0mWARNING ⚠️ /users/eleves-b/2024/mattia.martino/synthetic_dataset_v3/train/images/image_06966.png: ignoring corrupt image/label: non-normalized or out of bounds coordinates [      1.119      1.0365]\n",
      "\u001b[34m\u001b[1mtrain: \u001b[0mWARNING ⚠️ /users/eleves-b/2024/mattia.martino/synthetic_dataset_v3/train/images/image_07013.png: ignoring corrupt image/label: non-normalized or out of bounds coordinates [     1.0004]\n",
      "\u001b[34m\u001b[1mtrain: \u001b[0mWARNING ⚠️ /users/eleves-b/2024/mattia.martino/synthetic_dataset_v3/train/images/image_07172.png: ignoring corrupt image/label: non-normalized or out of bounds coordinates [      1.002]\n",
      "\u001b[34m\u001b[1mtrain: \u001b[0mWARNING ⚠️ /users/eleves-b/2024/mattia.martino/synthetic_dataset_v3/train/images/image_07249.png: ignoring corrupt image/label: non-normalized or out of bounds coordinates [     1.1058      1.1467]\n",
      "\u001b[34m\u001b[1mtrain: \u001b[0mWARNING ⚠️ /users/eleves-b/2024/mattia.martino/synthetic_dataset_v3/train/images/image_07335.png: ignoring corrupt image/label: non-normalized or out of bounds coordinates [     1.0934      1.0731]\n",
      "\u001b[34m\u001b[1mtrain: \u001b[0mWARNING ⚠️ /users/eleves-b/2024/mattia.martino/synthetic_dataset_v3/train/images/image_07340.png: ignoring corrupt image/label: non-normalized or out of bounds coordinates [      1.003]\n",
      "\u001b[34m\u001b[1mtrain: \u001b[0mWARNING ⚠️ /users/eleves-b/2024/mattia.martino/synthetic_dataset_v3/train/images/image_07367.png: ignoring corrupt image/label: non-normalized or out of bounds coordinates [     1.1449      1.0667]\n",
      "\u001b[34m\u001b[1mtrain: \u001b[0mWARNING ⚠️ /users/eleves-b/2024/mattia.martino/synthetic_dataset_v3/train/images/image_07391.png: ignoring corrupt image/label: non-normalized or out of bounds coordinates [     1.0204]\n",
      "\u001b[34m\u001b[1mtrain: \u001b[0mWARNING ⚠️ /users/eleves-b/2024/mattia.martino/synthetic_dataset_v3/train/images/image_07396.png: ignoring corrupt image/label: non-normalized or out of bounds coordinates [     1.0441      1.0608]\n",
      "\u001b[34m\u001b[1mtrain: \u001b[0mWARNING ⚠️ /users/eleves-b/2024/mattia.martino/synthetic_dataset_v3/train/images/image_07407.png: ignoring corrupt image/label: non-normalized or out of bounds coordinates [     1.0758      1.1122]\n",
      "\u001b[34m\u001b[1mtrain: \u001b[0mWARNING ⚠️ /users/eleves-b/2024/mattia.martino/synthetic_dataset_v3/train/images/image_07414.png: ignoring corrupt image/label: non-normalized or out of bounds coordinates [     1.0748      1.0064]\n",
      "\u001b[34m\u001b[1mtrain: \u001b[0mWARNING ⚠️ /users/eleves-b/2024/mattia.martino/synthetic_dataset_v3/train/images/image_07441.png: ignoring corrupt image/label: non-normalized or out of bounds coordinates [     1.0721      1.0156]\n",
      "\u001b[34m\u001b[1mtrain: \u001b[0mWARNING ⚠️ /users/eleves-b/2024/mattia.martino/synthetic_dataset_v3/train/images/image_07460.png: ignoring corrupt image/label: non-normalized or out of bounds coordinates [     1.1348      1.0627]\n",
      "\u001b[34m\u001b[1mtrain: \u001b[0mWARNING ⚠️ /users/eleves-b/2024/mattia.martino/synthetic_dataset_v3/train/images/image_07463.png: ignoring corrupt image/label: non-normalized or out of bounds coordinates [     1.1021      1.0743]\n",
      "\u001b[34m\u001b[1mtrain: \u001b[0mWARNING ⚠️ /users/eleves-b/2024/mattia.martino/synthetic_dataset_v3/train/images/image_07555.png: ignoring corrupt image/label: non-normalized or out of bounds coordinates [     1.1161      1.0023]\n",
      "\u001b[34m\u001b[1mtrain: \u001b[0mWARNING ⚠️ /users/eleves-b/2024/mattia.martino/synthetic_dataset_v3/train/images/image_07573.png: ignoring corrupt image/label: non-normalized or out of bounds coordinates [     1.0368]\n",
      "\u001b[34m\u001b[1mtrain: \u001b[0mWARNING ⚠️ /users/eleves-b/2024/mattia.martino/synthetic_dataset_v3/train/images/image_07596.png: ignoring corrupt image/label: non-normalized or out of bounds coordinates [     1.0612      1.0652]\n",
      "\u001b[34m\u001b[1mtrain: \u001b[0mWARNING ⚠️ /users/eleves-b/2024/mattia.martino/synthetic_dataset_v3/train/images/image_07612.png: ignoring corrupt image/label: non-normalized or out of bounds coordinates [     1.0979       1.091]\n",
      "\u001b[34m\u001b[1mtrain: \u001b[0mWARNING ⚠️ /users/eleves-b/2024/mattia.martino/synthetic_dataset_v3/train/images/image_07617.png: ignoring corrupt image/label: non-normalized or out of bounds coordinates [     1.0204]\n",
      "\u001b[34m\u001b[1mtrain: \u001b[0mWARNING ⚠️ /users/eleves-b/2024/mattia.martino/synthetic_dataset_v3/train/images/image_07670.png: ignoring corrupt image/label: non-normalized or out of bounds coordinates [     1.0485      1.0253]\n",
      "\u001b[34m\u001b[1mtrain: \u001b[0mWARNING ⚠️ /users/eleves-b/2024/mattia.martino/synthetic_dataset_v3/train/images/image_07704.png: ignoring corrupt image/label: non-normalized or out of bounds coordinates [     1.0277]\n",
      "\u001b[34m\u001b[1mtrain: \u001b[0mWARNING ⚠️ /users/eleves-b/2024/mattia.martino/synthetic_dataset_v3/train/images/image_07718.png: ignoring corrupt image/label: non-normalized or out of bounds coordinates [     1.0019      1.1335      1.0591]\n",
      "\u001b[34m\u001b[1mtrain: \u001b[0mWARNING ⚠️ /users/eleves-b/2024/mattia.martino/synthetic_dataset_v3/train/images/image_07768.png: ignoring corrupt image/label: non-normalized or out of bounds coordinates [     1.0011]\n",
      "\u001b[34m\u001b[1mtrain: \u001b[0mWARNING ⚠️ /users/eleves-b/2024/mattia.martino/synthetic_dataset_v3/train/images/image_07814.png: ignoring corrupt image/label: non-normalized or out of bounds coordinates [     1.0054      1.0545       1.011]\n",
      "\u001b[34m\u001b[1mtrain: \u001b[0mWARNING ⚠️ /users/eleves-b/2024/mattia.martino/synthetic_dataset_v3/train/images/image_07836.png: ignoring corrupt image/label: non-normalized or out of bounds coordinates [     1.0237      1.0875]\n",
      "\u001b[34m\u001b[1mtrain: \u001b[0mWARNING ⚠️ /users/eleves-b/2024/mattia.martino/synthetic_dataset_v3/train/images/image_07843.png: ignoring corrupt image/label: non-normalized or out of bounds coordinates [     1.0147]\n",
      "\u001b[34m\u001b[1mtrain: \u001b[0mWARNING ⚠️ /users/eleves-b/2024/mattia.martino/synthetic_dataset_v3/train/images/image_07846.png: ignoring corrupt image/label: non-normalized or out of bounds coordinates [     1.1074      1.1207]\n",
      "\u001b[34m\u001b[1mtrain: \u001b[0mWARNING ⚠️ /users/eleves-b/2024/mattia.martino/synthetic_dataset_v3/train/images/image_07872.png: ignoring corrupt image/label: non-normalized or out of bounds coordinates [     1.0895      1.1447]\n",
      "\u001b[34m\u001b[1mtrain: \u001b[0mWARNING ⚠️ /users/eleves-b/2024/mattia.martino/synthetic_dataset_v3/train/images/image_07882.png: ignoring corrupt image/label: non-normalized or out of bounds coordinates [     1.0008]\n",
      "\u001b[34m\u001b[1mtrain: \u001b[0mWARNING ⚠️ /users/eleves-b/2024/mattia.martino/synthetic_dataset_v3/train/images/image_07926.png: ignoring corrupt image/label: non-normalized or out of bounds coordinates [     1.0092]\n",
      "\u001b[34m\u001b[1mtrain: \u001b[0mWARNING ⚠️ /users/eleves-b/2024/mattia.martino/synthetic_dataset_v3/train/images/image_07968.png: ignoring corrupt image/label: non-normalized or out of bounds coordinates [     1.0113]\n",
      "\u001b[34m\u001b[1mtrain: \u001b[0mWARNING ⚠️ /users/eleves-b/2024/mattia.martino/synthetic_dataset_v3/train/images/image_07971.png: ignoring corrupt image/label: non-normalized or out of bounds coordinates [     1.0009]\n",
      "\u001b[34m\u001b[1mtrain: \u001b[0mWARNING ⚠️ /users/eleves-b/2024/mattia.martino/synthetic_dataset_v3/train/images/image_08012.png: ignoring corrupt image/label: non-normalized or out of bounds coordinates [     1.0081]\n",
      "\u001b[34m\u001b[1mtrain: \u001b[0mWARNING ⚠️ /users/eleves-b/2024/mattia.martino/synthetic_dataset_v3/train/images/image_08177.png: ignoring corrupt image/label: non-normalized or out of bounds coordinates [     1.0466      1.0164]\n",
      "\u001b[34m\u001b[1mtrain: \u001b[0mWARNING ⚠️ /users/eleves-b/2024/mattia.martino/synthetic_dataset_v3/train/images/image_08212.png: ignoring corrupt image/label: non-normalized or out of bounds coordinates [     1.0363]\n",
      "\u001b[34m\u001b[1mtrain: \u001b[0mWARNING ⚠️ /users/eleves-b/2024/mattia.martino/synthetic_dataset_v3/train/images/image_08265.png: ignoring corrupt image/label: non-normalized or out of bounds coordinates [     1.1397         1.1]\n",
      "\u001b[34m\u001b[1mtrain: \u001b[0mWARNING ⚠️ /users/eleves-b/2024/mattia.martino/synthetic_dataset_v3/train/images/image_08302.png: ignoring corrupt image/label: non-normalized or out of bounds coordinates [     1.0193]\n",
      "\u001b[34m\u001b[1mtrain: \u001b[0mWARNING ⚠️ /users/eleves-b/2024/mattia.martino/synthetic_dataset_v3/train/images/image_08386.png: ignoring corrupt image/label: non-normalized or out of bounds coordinates [     1.1198       1.033]\n",
      "\u001b[34m\u001b[1mtrain: \u001b[0mWARNING ⚠️ /users/eleves-b/2024/mattia.martino/synthetic_dataset_v3/train/images/image_08388.png: ignoring corrupt image/label: non-normalized or out of bounds coordinates [     1.0637]\n",
      "\u001b[34m\u001b[1mtrain: \u001b[0mWARNING ⚠️ /users/eleves-b/2024/mattia.martino/synthetic_dataset_v3/train/images/image_08445.png: ignoring corrupt image/label: non-normalized or out of bounds coordinates [     1.1085      1.0027]\n",
      "\u001b[34m\u001b[1mtrain: \u001b[0mWARNING ⚠️ /users/eleves-b/2024/mattia.martino/synthetic_dataset_v3/train/images/image_08512.png: ignoring corrupt image/label: non-normalized or out of bounds coordinates [     1.0132]\n",
      "\u001b[34m\u001b[1mtrain: \u001b[0mWARNING ⚠️ /users/eleves-b/2024/mattia.martino/synthetic_dataset_v3/train/images/image_08544.png: ignoring corrupt image/label: non-normalized or out of bounds coordinates [     1.0043]\n",
      "\u001b[34m\u001b[1mtrain: \u001b[0mWARNING ⚠️ /users/eleves-b/2024/mattia.martino/synthetic_dataset_v3/train/images/image_08584.png: ignoring corrupt image/label: non-normalized or out of bounds coordinates [     1.0528       1.028]\n",
      "\u001b[34m\u001b[1mtrain: \u001b[0mWARNING ⚠️ /users/eleves-b/2024/mattia.martino/synthetic_dataset_v3/train/images/image_08586.png: ignoring corrupt image/label: non-normalized or out of bounds coordinates [     1.1199      1.0165]\n",
      "\u001b[34m\u001b[1mtrain: \u001b[0mWARNING ⚠️ /users/eleves-b/2024/mattia.martino/synthetic_dataset_v3/train/images/image_08637.png: ignoring corrupt image/label: non-normalized or out of bounds coordinates [     1.0903      1.0717]\n",
      "\u001b[34m\u001b[1mtrain: \u001b[0mWARNING ⚠️ /users/eleves-b/2024/mattia.martino/synthetic_dataset_v3/train/images/image_08669.png: ignoring corrupt image/label: non-normalized or out of bounds coordinates [     1.0452      1.0412]\n",
      "\u001b[34m\u001b[1mtrain: \u001b[0mWARNING ⚠️ /users/eleves-b/2024/mattia.martino/synthetic_dataset_v3/train/images/image_08703.png: ignoring corrupt image/label: non-normalized or out of bounds coordinates [     1.0061]\n",
      "\u001b[34m\u001b[1mtrain: \u001b[0mWARNING ⚠️ /users/eleves-b/2024/mattia.martino/synthetic_dataset_v3/train/images/image_08741.png: ignoring corrupt image/label: non-normalized or out of bounds coordinates [     1.0049]\n",
      "\u001b[34m\u001b[1mtrain: \u001b[0mWARNING ⚠️ /users/eleves-b/2024/mattia.martino/synthetic_dataset_v3/train/images/image_08758.png: ignoring corrupt image/label: non-normalized or out of bounds coordinates [     1.0153]\n",
      "\u001b[34m\u001b[1mtrain: \u001b[0mWARNING ⚠️ /users/eleves-b/2024/mattia.martino/synthetic_dataset_v3/train/images/image_08783.png: ignoring corrupt image/label: non-normalized or out of bounds coordinates [     1.0159      1.0894]\n",
      "\u001b[34m\u001b[1mtrain: \u001b[0mWARNING ⚠️ /users/eleves-b/2024/mattia.martino/synthetic_dataset_v3/train/images/image_08789.png: ignoring corrupt image/label: non-normalized or out of bounds coordinates [     1.0429      1.0735]\n",
      "\u001b[34m\u001b[1mtrain: \u001b[0mWARNING ⚠️ /users/eleves-b/2024/mattia.martino/synthetic_dataset_v3/train/images/image_08803.png: ignoring corrupt image/label: non-normalized or out of bounds coordinates [     1.0114]\n",
      "\u001b[34m\u001b[1mtrain: \u001b[0mWARNING ⚠️ /users/eleves-b/2024/mattia.martino/synthetic_dataset_v3/train/images/image_08839.png: ignoring corrupt image/label: non-normalized or out of bounds coordinates [     1.0042]\n",
      "\u001b[34m\u001b[1mtrain: \u001b[0mWARNING ⚠️ /users/eleves-b/2024/mattia.martino/synthetic_dataset_v3/train/images/image_08840.png: ignoring corrupt image/label: non-normalized or out of bounds coordinates [     1.0774      1.1141]\n",
      "\u001b[34m\u001b[1mtrain: \u001b[0mWARNING ⚠️ /users/eleves-b/2024/mattia.martino/synthetic_dataset_v3/train/images/image_08937.png: ignoring corrupt image/label: non-normalized or out of bounds coordinates [     1.1334       1.113]\n",
      "\u001b[34m\u001b[1mtrain: \u001b[0mWARNING ⚠️ /users/eleves-b/2024/mattia.martino/synthetic_dataset_v3/train/images/image_09018.png: ignoring corrupt image/label: non-normalized or out of bounds coordinates [     1.0328]\n",
      "\u001b[34m\u001b[1mtrain: \u001b[0mWARNING ⚠️ /users/eleves-b/2024/mattia.martino/synthetic_dataset_v3/train/images/image_09058.png: ignoring corrupt image/label: non-normalized or out of bounds coordinates [     1.0044]\n",
      "\u001b[34m\u001b[1mtrain: \u001b[0mWARNING ⚠️ /users/eleves-b/2024/mattia.martino/synthetic_dataset_v3/train/images/image_09086.png: ignoring corrupt image/label: non-normalized or out of bounds coordinates [     1.0715]\n",
      "\u001b[34m\u001b[1mtrain: \u001b[0mWARNING ⚠️ /users/eleves-b/2024/mattia.martino/synthetic_dataset_v3/train/images/image_09098.png: ignoring corrupt image/label: non-normalized or out of bounds coordinates [     1.0212      1.0808]\n",
      "\u001b[34m\u001b[1mtrain: \u001b[0mWARNING ⚠️ /users/eleves-b/2024/mattia.martino/synthetic_dataset_v3/train/images/image_09116.png: ignoring corrupt image/label: non-normalized or out of bounds coordinates [     1.0799      1.0336]\n",
      "\u001b[34m\u001b[1mtrain: \u001b[0mWARNING ⚠️ /users/eleves-b/2024/mattia.martino/synthetic_dataset_v3/train/images/image_09167.png: ignoring corrupt image/label: non-normalized or out of bounds coordinates [     1.0161      1.0211]\n",
      "\u001b[34m\u001b[1mtrain: \u001b[0mWARNING ⚠️ /users/eleves-b/2024/mattia.martino/synthetic_dataset_v3/train/images/image_09195.png: ignoring corrupt image/label: non-normalized or out of bounds coordinates [     1.1274      1.0341]\n",
      "\u001b[34m\u001b[1mtrain: \u001b[0mWARNING ⚠️ /users/eleves-b/2024/mattia.martino/synthetic_dataset_v3/train/images/image_09311.png: ignoring corrupt image/label: non-normalized or out of bounds coordinates [     1.0365      1.0231]\n",
      "\u001b[34m\u001b[1mtrain: \u001b[0mWARNING ⚠️ /users/eleves-b/2024/mattia.martino/synthetic_dataset_v3/train/images/image_09402.png: ignoring corrupt image/label: non-normalized or out of bounds coordinates [     1.0182]\n",
      "\u001b[34m\u001b[1mtrain: \u001b[0mWARNING ⚠️ /users/eleves-b/2024/mattia.martino/synthetic_dataset_v3/train/images/image_09427.png: ignoring corrupt image/label: non-normalized or out of bounds coordinates [     1.0109      1.0686]\n",
      "\u001b[34m\u001b[1mtrain: \u001b[0mWARNING ⚠️ /users/eleves-b/2024/mattia.martino/synthetic_dataset_v3/train/images/image_09452.png: ignoring corrupt image/label: non-normalized or out of bounds coordinates [     1.0072]\n",
      "\u001b[34m\u001b[1mtrain: \u001b[0mWARNING ⚠️ /users/eleves-b/2024/mattia.martino/synthetic_dataset_v3/train/images/image_09482.png: ignoring corrupt image/label: non-normalized or out of bounds coordinates [     1.0813      1.1137]\n",
      "\u001b[34m\u001b[1mtrain: \u001b[0mWARNING ⚠️ /users/eleves-b/2024/mattia.martino/synthetic_dataset_v3/train/images/image_09782.png: ignoring corrupt image/label: non-normalized or out of bounds coordinates [     1.0119]\n",
      "\u001b[34m\u001b[1mtrain: \u001b[0mWARNING ⚠️ /users/eleves-b/2024/mattia.martino/synthetic_dataset_v3/train/images/image_09838.png: ignoring corrupt image/label: non-normalized or out of bounds coordinates [     1.0279      1.0912]\n",
      "\u001b[34m\u001b[1mtrain: \u001b[0mWARNING ⚠️ /users/eleves-b/2024/mattia.martino/synthetic_dataset_v3/train/images/image_09910.png: ignoring corrupt image/label: non-normalized or out of bounds coordinates [     1.0105]\n",
      "\u001b[34m\u001b[1mtrain: \u001b[0mWARNING ⚠️ /users/eleves-b/2024/mattia.martino/synthetic_dataset_v3/train/images/image_09983.png: ignoring corrupt image/label: non-normalized or out of bounds coordinates [     1.1176      1.0849]\n",
      "\u001b[34m\u001b[1mtrain: \u001b[0mWARNING ⚠️ /users/eleves-b/2024/mattia.martino/synthetic_dataset_v3/train/images/image_10014.png: ignoring corrupt image/label: non-normalized or out of bounds coordinates [     1.0467]\n",
      "\u001b[34m\u001b[1mtrain: \u001b[0mWARNING ⚠️ /users/eleves-b/2024/mattia.martino/synthetic_dataset_v3/train/images/image_10054.png: ignoring corrupt image/label: non-normalized or out of bounds coordinates [      1.116      1.1175]\n",
      "\u001b[34m\u001b[1mtrain: \u001b[0mWARNING ⚠️ /users/eleves-b/2024/mattia.martino/synthetic_dataset_v3/train/images/image_10090.png: ignoring corrupt image/label: non-normalized or out of bounds coordinates [     1.0044]\n",
      "\u001b[34m\u001b[1mtrain: \u001b[0mWARNING ⚠️ /users/eleves-b/2024/mattia.martino/synthetic_dataset_v3/train/images/image_10138.png: ignoring corrupt image/label: non-normalized or out of bounds coordinates [     1.0037]\n",
      "\u001b[34m\u001b[1mtrain: \u001b[0mWARNING ⚠️ /users/eleves-b/2024/mattia.martino/synthetic_dataset_v3/train/images/image_10139.png: ignoring corrupt image/label: non-normalized or out of bounds coordinates [     1.1401      1.1147]\n",
      "\u001b[34m\u001b[1mtrain: \u001b[0mWARNING ⚠️ /users/eleves-b/2024/mattia.martino/synthetic_dataset_v3/train/images/image_10278.png: ignoring corrupt image/label: non-normalized or out of bounds coordinates [     1.0509      1.0089]\n",
      "\u001b[34m\u001b[1mtrain: \u001b[0mWARNING ⚠️ /users/eleves-b/2024/mattia.martino/synthetic_dataset_v3/train/images/image_10281.png: ignoring corrupt image/label: non-normalized or out of bounds coordinates [     1.0705      1.0182]\n",
      "\u001b[34m\u001b[1mtrain: \u001b[0mWARNING ⚠️ /users/eleves-b/2024/mattia.martino/synthetic_dataset_v3/train/images/image_10315.png: ignoring corrupt image/label: non-normalized or out of bounds coordinates [     1.0247]\n",
      "\u001b[34m\u001b[1mtrain: \u001b[0mWARNING ⚠️ /users/eleves-b/2024/mattia.martino/synthetic_dataset_v3/train/images/image_10353.png: ignoring corrupt image/label: non-normalized or out of bounds coordinates [     1.1311      1.1272]\n",
      "\u001b[34m\u001b[1mtrain: \u001b[0mWARNING ⚠️ /users/eleves-b/2024/mattia.martino/synthetic_dataset_v3/train/images/image_10374.png: ignoring corrupt image/label: non-normalized or out of bounds coordinates [     1.1107      1.1321]\n",
      "\u001b[34m\u001b[1mtrain: \u001b[0mWARNING ⚠️ /users/eleves-b/2024/mattia.martino/synthetic_dataset_v3/train/images/image_10398.png: ignoring corrupt image/label: non-normalized or out of bounds coordinates [     1.0032]\n",
      "\u001b[34m\u001b[1mtrain: \u001b[0mWARNING ⚠️ /users/eleves-b/2024/mattia.martino/synthetic_dataset_v3/train/images/image_10423.png: ignoring corrupt image/label: non-normalized or out of bounds coordinates [     1.0857      1.0348]\n",
      "\u001b[34m\u001b[1mtrain: \u001b[0mWARNING ⚠️ /users/eleves-b/2024/mattia.martino/synthetic_dataset_v3/train/images/image_10459.png: ignoring corrupt image/label: non-normalized or out of bounds coordinates [      1.019]\n",
      "\u001b[34m\u001b[1mtrain: \u001b[0mWARNING ⚠️ /users/eleves-b/2024/mattia.martino/synthetic_dataset_v3/train/images/image_10460.png: ignoring corrupt image/label: non-normalized or out of bounds coordinates [      1.008]\n",
      "\u001b[34m\u001b[1mtrain: \u001b[0mWARNING ⚠️ /users/eleves-b/2024/mattia.martino/synthetic_dataset_v3/train/images/image_10478.png: ignoring corrupt image/label: non-normalized or out of bounds coordinates [     1.0707      1.1257]\n",
      "\u001b[34m\u001b[1mtrain: \u001b[0mWARNING ⚠️ /users/eleves-b/2024/mattia.martino/synthetic_dataset_v3/train/images/image_10479.png: ignoring corrupt image/label: non-normalized or out of bounds coordinates [     1.0699      1.0362]\n",
      "\u001b[34m\u001b[1mtrain: \u001b[0mWARNING ⚠️ /users/eleves-b/2024/mattia.martino/synthetic_dataset_v3/train/images/image_10505.png: ignoring corrupt image/label: non-normalized or out of bounds coordinates [     1.1436      1.0976]\n",
      "\u001b[34m\u001b[1mtrain: \u001b[0mWARNING ⚠️ /users/eleves-b/2024/mattia.martino/synthetic_dataset_v3/train/images/image_10507.png: ignoring corrupt image/label: non-normalized or out of bounds coordinates [     1.0861      1.1157]\n",
      "\u001b[34m\u001b[1mtrain: \u001b[0mWARNING ⚠️ /users/eleves-b/2024/mattia.martino/synthetic_dataset_v3/train/images/image_10533.png: ignoring corrupt image/label: non-normalized or out of bounds coordinates [     1.1194      1.1485]\n",
      "\u001b[34m\u001b[1mtrain: \u001b[0mWARNING ⚠️ /users/eleves-b/2024/mattia.martino/synthetic_dataset_v3/train/images/image_10563.png: ignoring corrupt image/label: non-normalized or out of bounds coordinates [     1.0894      1.1103]\n",
      "\u001b[34m\u001b[1mtrain: \u001b[0mWARNING ⚠️ /users/eleves-b/2024/mattia.martino/synthetic_dataset_v3/train/images/image_10567.png: ignoring corrupt image/label: non-normalized or out of bounds coordinates [     1.0041]\n",
      "\u001b[34m\u001b[1mtrain: \u001b[0mWARNING ⚠️ /users/eleves-b/2024/mattia.martino/synthetic_dataset_v3/train/images/image_10606.png: ignoring corrupt image/label: non-normalized or out of bounds coordinates [     1.0118      1.0435]\n",
      "\u001b[34m\u001b[1mtrain: \u001b[0mWARNING ⚠️ /users/eleves-b/2024/mattia.martino/synthetic_dataset_v3/train/images/image_10609.png: ignoring corrupt image/label: non-normalized or out of bounds coordinates [     1.1034      1.0303]\n",
      "\u001b[34m\u001b[1mtrain: \u001b[0mWARNING ⚠️ /users/eleves-b/2024/mattia.martino/synthetic_dataset_v3/train/images/image_10674.png: ignoring corrupt image/label: non-normalized or out of bounds coordinates [     1.0141]\n",
      "\u001b[34m\u001b[1mtrain: \u001b[0mWARNING ⚠️ /users/eleves-b/2024/mattia.martino/synthetic_dataset_v3/train/images/image_10742.png: ignoring corrupt image/label: non-normalized or out of bounds coordinates [     1.0091]\n",
      "\u001b[34m\u001b[1mtrain: \u001b[0mWARNING ⚠️ /users/eleves-b/2024/mattia.martino/synthetic_dataset_v3/train/images/image_10771.png: ignoring corrupt image/label: non-normalized or out of bounds coordinates [     1.1034      1.1387]\n",
      "\u001b[34m\u001b[1mtrain: \u001b[0mWARNING ⚠️ /users/eleves-b/2024/mattia.martino/synthetic_dataset_v3/train/images/image_10809.png: ignoring corrupt image/label: non-normalized or out of bounds coordinates [     1.0045]\n",
      "\u001b[34m\u001b[1mtrain: \u001b[0mWARNING ⚠️ /users/eleves-b/2024/mattia.martino/synthetic_dataset_v3/train/images/image_10905.png: ignoring corrupt image/label: non-normalized or out of bounds coordinates [     1.0813      1.1523]\n",
      "\u001b[34m\u001b[1mtrain: \u001b[0mWARNING ⚠️ /users/eleves-b/2024/mattia.martino/synthetic_dataset_v3/train/images/image_11010.png: ignoring corrupt image/label: non-normalized or out of bounds coordinates [     1.1397      1.0763]\n",
      "\u001b[34m\u001b[1mtrain: \u001b[0mWARNING ⚠️ /users/eleves-b/2024/mattia.martino/synthetic_dataset_v3/train/images/image_11075.png: ignoring corrupt image/label: non-normalized or out of bounds coordinates [     1.0381      1.0707]\n",
      "\u001b[34m\u001b[1mtrain: \u001b[0mWARNING ⚠️ /users/eleves-b/2024/mattia.martino/synthetic_dataset_v3/train/images/image_11080.png: ignoring corrupt image/label: non-normalized or out of bounds coordinates [     1.1077      1.0815]\n",
      "\u001b[34m\u001b[1mtrain: \u001b[0mWARNING ⚠️ /users/eleves-b/2024/mattia.martino/synthetic_dataset_v3/train/images/image_11084.png: ignoring corrupt image/label: non-normalized or out of bounds coordinates [     1.0497      1.0771]\n",
      "\u001b[34m\u001b[1mtrain: \u001b[0mWARNING ⚠️ /users/eleves-b/2024/mattia.martino/synthetic_dataset_v3/train/images/image_11115.png: ignoring corrupt image/label: non-normalized or out of bounds coordinates [     1.1085      1.0968]\n",
      "\u001b[34m\u001b[1mtrain: \u001b[0mWARNING ⚠️ /users/eleves-b/2024/mattia.martino/synthetic_dataset_v3/train/images/image_11122.png: ignoring corrupt image/label: non-normalized or out of bounds coordinates [     1.0065]\n",
      "\u001b[34m\u001b[1mtrain: \u001b[0mWARNING ⚠️ /users/eleves-b/2024/mattia.martino/synthetic_dataset_v3/train/images/image_11145.png: ignoring corrupt image/label: non-normalized or out of bounds coordinates [     1.0714      1.1198]\n",
      "\u001b[34m\u001b[1mtrain: \u001b[0mWARNING ⚠️ /users/eleves-b/2024/mattia.martino/synthetic_dataset_v3/train/images/image_11170.png: ignoring corrupt image/label: non-normalized or out of bounds coordinates [     1.0418      1.0739]\n",
      "\u001b[34m\u001b[1mtrain: \u001b[0mWARNING ⚠️ /users/eleves-b/2024/mattia.martino/synthetic_dataset_v3/train/images/image_11174.png: ignoring corrupt image/label: non-normalized or out of bounds coordinates [     1.0288]\n",
      "\u001b[34m\u001b[1mtrain: \u001b[0mWARNING ⚠️ /users/eleves-b/2024/mattia.martino/synthetic_dataset_v3/train/images/image_11189.png: ignoring corrupt image/label: non-normalized or out of bounds coordinates [      1.074      1.0938]\n",
      "\u001b[34m\u001b[1mtrain: \u001b[0mWARNING ⚠️ /users/eleves-b/2024/mattia.martino/synthetic_dataset_v3/train/images/image_11243.png: ignoring corrupt image/label: non-normalized or out of bounds coordinates [      1.003]\n",
      "\u001b[34m\u001b[1mtrain: \u001b[0mWARNING ⚠️ /users/eleves-b/2024/mattia.martino/synthetic_dataset_v3/train/images/image_11268.png: ignoring corrupt image/label: non-normalized or out of bounds coordinates [     1.0599       1.128]\n",
      "\u001b[34m\u001b[1mtrain: \u001b[0mWARNING ⚠️ /users/eleves-b/2024/mattia.martino/synthetic_dataset_v3/train/images/image_11316.png: ignoring corrupt image/label: non-normalized or out of bounds coordinates [     1.0111]\n",
      "\u001b[34m\u001b[1mtrain: \u001b[0mWARNING ⚠️ /users/eleves-b/2024/mattia.martino/synthetic_dataset_v3/train/images/image_11320.png: ignoring corrupt image/label: non-normalized or out of bounds coordinates [     1.0178]\n",
      "\u001b[34m\u001b[1mtrain: \u001b[0mWARNING ⚠️ /users/eleves-b/2024/mattia.martino/synthetic_dataset_v3/train/images/image_11327.png: ignoring corrupt image/label: non-normalized or out of bounds coordinates [     1.0245]\n",
      "\u001b[34m\u001b[1mtrain: \u001b[0mWARNING ⚠️ /users/eleves-b/2024/mattia.martino/synthetic_dataset_v3/train/images/image_11336.png: ignoring corrupt image/label: non-normalized or out of bounds coordinates [     1.0179       1.074]\n",
      "\u001b[34m\u001b[1mtrain: \u001b[0mWARNING ⚠️ /users/eleves-b/2024/mattia.martino/synthetic_dataset_v3/train/images/image_11378.png: ignoring corrupt image/label: non-normalized or out of bounds coordinates [     1.0036]\n",
      "\u001b[34m\u001b[1mtrain: \u001b[0mWARNING ⚠️ /users/eleves-b/2024/mattia.martino/synthetic_dataset_v3/train/images/image_11399.png: ignoring corrupt image/label: non-normalized or out of bounds coordinates [     1.0163]\n",
      "\u001b[34m\u001b[1mtrain: \u001b[0mWARNING ⚠️ /users/eleves-b/2024/mattia.martino/synthetic_dataset_v3/train/images/image_11437.png: ignoring corrupt image/label: non-normalized or out of bounds coordinates [     1.0712      1.1132]\n",
      "\u001b[34m\u001b[1mtrain: \u001b[0mWARNING ⚠️ /users/eleves-b/2024/mattia.martino/synthetic_dataset_v3/train/images/image_11495.png: ignoring corrupt image/label: non-normalized or out of bounds coordinates [     1.1406      1.1167]\n",
      "\u001b[34m\u001b[1mtrain: \u001b[0mWARNING ⚠️ /users/eleves-b/2024/mattia.martino/synthetic_dataset_v3/train/images/image_11498.png: ignoring corrupt image/label: non-normalized or out of bounds coordinates [     1.0182]\n",
      "\u001b[34m\u001b[1mtrain: \u001b[0mWARNING ⚠️ /users/eleves-b/2024/mattia.martino/synthetic_dataset_v3/train/images/image_11519.png: ignoring corrupt image/label: non-normalized or out of bounds coordinates [     1.0883      1.1289]\n",
      "\u001b[34m\u001b[1mtrain: \u001b[0mWARNING ⚠️ /users/eleves-b/2024/mattia.martino/synthetic_dataset_v3/train/images/image_11531.png: ignoring corrupt image/label: non-normalized or out of bounds coordinates [     1.0057      1.0139]\n",
      "\u001b[34m\u001b[1mtrain: \u001b[0mWARNING ⚠️ /users/eleves-b/2024/mattia.martino/synthetic_dataset_v3/train/images/image_11575.png: ignoring corrupt image/label: non-normalized or out of bounds coordinates [      1.145      1.1706]\n",
      "\u001b[34m\u001b[1mtrain: \u001b[0mWARNING ⚠️ /users/eleves-b/2024/mattia.martino/synthetic_dataset_v3/train/images/image_11619.png: ignoring corrupt image/label: non-normalized or out of bounds coordinates [       1.06      1.0166]\n",
      "\u001b[34m\u001b[1mtrain: \u001b[0mWARNING ⚠️ /users/eleves-b/2024/mattia.martino/synthetic_dataset_v3/train/images/image_11640.png: ignoring corrupt image/label: non-normalized or out of bounds coordinates [     1.0826      1.0646]\n",
      "\u001b[34m\u001b[1mtrain: \u001b[0mWARNING ⚠️ /users/eleves-b/2024/mattia.martino/synthetic_dataset_v3/train/images/image_11653.png: ignoring corrupt image/label: non-normalized or out of bounds coordinates [     1.1074      1.1734]\n",
      "\u001b[34m\u001b[1mtrain: \u001b[0mWARNING ⚠️ /users/eleves-b/2024/mattia.martino/synthetic_dataset_v3/train/images/image_11682.png: ignoring corrupt image/label: non-normalized or out of bounds coordinates [     1.0294]\n",
      "\u001b[34m\u001b[1mtrain: \u001b[0mWARNING ⚠️ /users/eleves-b/2024/mattia.martino/synthetic_dataset_v3/train/images/image_11724.png: ignoring corrupt image/label: non-normalized or out of bounds coordinates [     1.0894       1.075]\n",
      "\u001b[34m\u001b[1mtrain: \u001b[0mWARNING ⚠️ /users/eleves-b/2024/mattia.martino/synthetic_dataset_v3/train/images/image_11734.png: ignoring corrupt image/label: non-normalized or out of bounds coordinates [     1.0001]\n",
      "\u001b[34m\u001b[1mtrain: \u001b[0mWARNING ⚠️ /users/eleves-b/2024/mattia.martino/synthetic_dataset_v3/train/images/image_11737.png: ignoring corrupt image/label: non-normalized or out of bounds coordinates [     1.0087      1.0141]\n",
      "\u001b[34m\u001b[1mtrain: \u001b[0mWARNING ⚠️ /users/eleves-b/2024/mattia.martino/synthetic_dataset_v3/train/images/image_11777.png: ignoring corrupt image/label: non-normalized or out of bounds coordinates [     1.0075]\n",
      "\u001b[34m\u001b[1mtrain: \u001b[0mWARNING ⚠️ /users/eleves-b/2024/mattia.martino/synthetic_dataset_v3/train/images/image_11789.png: ignoring corrupt image/label: non-normalized or out of bounds coordinates [     1.0162]\n",
      "\u001b[34m\u001b[1mtrain: \u001b[0mWARNING ⚠️ /users/eleves-b/2024/mattia.martino/synthetic_dataset_v3/train/images/image_11830.png: ignoring corrupt image/label: non-normalized or out of bounds coordinates [     1.0889      1.0211]\n",
      "\u001b[34m\u001b[1mtrain: \u001b[0mWARNING ⚠️ /users/eleves-b/2024/mattia.martino/synthetic_dataset_v3/train/images/image_11834.png: ignoring corrupt image/label: non-normalized or out of bounds coordinates [     1.0576      1.0575]\n",
      "\u001b[34m\u001b[1mtrain: \u001b[0mWARNING ⚠️ /users/eleves-b/2024/mattia.martino/synthetic_dataset_v3/train/images/image_11856.png: ignoring corrupt image/label: non-normalized or out of bounds coordinates [     1.0635      1.0244]\n",
      "\u001b[34m\u001b[1mtrain: \u001b[0mWARNING ⚠️ /users/eleves-b/2024/mattia.martino/synthetic_dataset_v3/train/images/image_11904.png: ignoring corrupt image/label: non-normalized or out of bounds coordinates [     1.0011]\n",
      "\u001b[34m\u001b[1mtrain: \u001b[0mWARNING ⚠️ /users/eleves-b/2024/mattia.martino/synthetic_dataset_v3/train/images/image_12011.png: ignoring corrupt image/label: non-normalized or out of bounds coordinates [      1.003]\n",
      "\u001b[34m\u001b[1mtrain: \u001b[0mWARNING ⚠️ /users/eleves-b/2024/mattia.martino/synthetic_dataset_v3/train/images/image_12047.png: ignoring corrupt image/label: non-normalized or out of bounds coordinates [     1.0049]\n",
      "\u001b[34m\u001b[1mtrain: \u001b[0mWARNING ⚠️ /users/eleves-b/2024/mattia.martino/synthetic_dataset_v3/train/images/image_12067.png: ignoring corrupt image/label: non-normalized or out of bounds coordinates [     1.0033]\n",
      "\u001b[34m\u001b[1mtrain: \u001b[0mWARNING ⚠️ /users/eleves-b/2024/mattia.martino/synthetic_dataset_v3/train/images/image_12112.png: ignoring corrupt image/label: non-normalized or out of bounds coordinates [     1.0697        1.09]\n",
      "\u001b[34m\u001b[1mtrain: \u001b[0mWARNING ⚠️ /users/eleves-b/2024/mattia.martino/synthetic_dataset_v3/train/images/image_12129.png: ignoring corrupt image/label: non-normalized or out of bounds coordinates [     1.1199      1.0031]\n",
      "\u001b[34m\u001b[1mtrain: \u001b[0mWARNING ⚠️ /users/eleves-b/2024/mattia.martino/synthetic_dataset_v3/train/images/image_12141.png: ignoring corrupt image/label: non-normalized or out of bounds coordinates [     1.0225]\n",
      "\u001b[34m\u001b[1mtrain: \u001b[0mWARNING ⚠️ /users/eleves-b/2024/mattia.martino/synthetic_dataset_v3/train/images/image_12167.png: ignoring corrupt image/label: non-normalized or out of bounds coordinates [     1.0853      1.0245]\n",
      "\u001b[34m\u001b[1mtrain: \u001b[0mWARNING ⚠️ /users/eleves-b/2024/mattia.martino/synthetic_dataset_v3/train/images/image_12188.png: ignoring corrupt image/label: non-normalized or out of bounds coordinates [     1.0056]\n",
      "\u001b[34m\u001b[1mtrain: \u001b[0mWARNING ⚠️ /users/eleves-b/2024/mattia.martino/synthetic_dataset_v3/train/images/image_12215.png: ignoring corrupt image/label: non-normalized or out of bounds coordinates [     1.0849      1.0318]\n",
      "\u001b[34m\u001b[1mtrain: \u001b[0mWARNING ⚠️ /users/eleves-b/2024/mattia.martino/synthetic_dataset_v3/train/images/image_12242.png: ignoring corrupt image/label: non-normalized or out of bounds coordinates [     1.0204      1.0056]\n",
      "\u001b[34m\u001b[1mtrain: \u001b[0mWARNING ⚠️ /users/eleves-b/2024/mattia.martino/synthetic_dataset_v3/train/images/image_12247.png: ignoring corrupt image/label: non-normalized or out of bounds coordinates [     1.0732      1.1358]\n",
      "\u001b[34m\u001b[1mtrain: \u001b[0mWARNING ⚠️ /users/eleves-b/2024/mattia.martino/synthetic_dataset_v3/train/images/image_12275.png: ignoring corrupt image/label: non-normalized or out of bounds coordinates [     1.0423]\n",
      "\u001b[34m\u001b[1mtrain: \u001b[0mWARNING ⚠️ /users/eleves-b/2024/mattia.martino/synthetic_dataset_v3/train/images/image_12305.png: ignoring corrupt image/label: non-normalized or out of bounds coordinates [      1.092      1.0404]\n",
      "\u001b[34m\u001b[1mtrain: \u001b[0mWARNING ⚠️ /users/eleves-b/2024/mattia.martino/synthetic_dataset_v3/train/images/image_12341.png: ignoring corrupt image/label: non-normalized or out of bounds coordinates [      1.036      1.0822]\n",
      "\u001b[34m\u001b[1mtrain: \u001b[0mWARNING ⚠️ /users/eleves-b/2024/mattia.martino/synthetic_dataset_v3/train/images/image_12350.png: ignoring corrupt image/label: non-normalized or out of bounds coordinates [     1.0401]\n",
      "\u001b[34m\u001b[1mtrain: \u001b[0mWARNING ⚠️ /users/eleves-b/2024/mattia.martino/synthetic_dataset_v3/train/images/image_12451.png: ignoring corrupt image/label: non-normalized or out of bounds coordinates [     1.0669      1.0036]\n",
      "\u001b[34m\u001b[1mtrain: \u001b[0mWARNING ⚠️ /users/eleves-b/2024/mattia.martino/synthetic_dataset_v3/train/images/image_12482.png: ignoring corrupt image/label: non-normalized or out of bounds coordinates [     1.1322      1.1878]\n",
      "\u001b[34m\u001b[1mtrain: \u001b[0mWARNING ⚠️ /users/eleves-b/2024/mattia.martino/synthetic_dataset_v3/train/images/image_12486.png: ignoring corrupt image/label: non-normalized or out of bounds coordinates [     1.0122]\n",
      "\u001b[34m\u001b[1mtrain: \u001b[0mWARNING ⚠️ /users/eleves-b/2024/mattia.martino/synthetic_dataset_v3/train/images/image_12511.png: ignoring corrupt image/label: non-normalized or out of bounds coordinates [      1.091      1.0988]\n",
      "\u001b[34m\u001b[1mtrain: \u001b[0mWARNING ⚠️ /users/eleves-b/2024/mattia.martino/synthetic_dataset_v3/train/images/image_12594.png: ignoring corrupt image/label: non-normalized or out of bounds coordinates [      1.004]\n",
      "\u001b[34m\u001b[1mtrain: \u001b[0mWARNING ⚠️ /users/eleves-b/2024/mattia.martino/synthetic_dataset_v3/train/images/image_12628.png: ignoring corrupt image/label: non-normalized or out of bounds coordinates [     1.0006]\n",
      "\u001b[34m\u001b[1mtrain: \u001b[0mWARNING ⚠️ /users/eleves-b/2024/mattia.martino/synthetic_dataset_v3/train/images/image_12682.png: ignoring corrupt image/label: non-normalized or out of bounds coordinates [     1.0405      1.0093]\n",
      "\u001b[34m\u001b[1mtrain: \u001b[0mWARNING ⚠️ /users/eleves-b/2024/mattia.martino/synthetic_dataset_v3/train/images/image_12692.png: ignoring corrupt image/label: non-normalized or out of bounds coordinates [     1.1388       1.081]\n",
      "\u001b[34m\u001b[1mtrain: \u001b[0mWARNING ⚠️ /users/eleves-b/2024/mattia.martino/synthetic_dataset_v3/train/images/image_12719.png: ignoring corrupt image/label: non-normalized or out of bounds coordinates [     1.0861      1.0927]\n",
      "\u001b[34m\u001b[1mtrain: \u001b[0mWARNING ⚠️ /users/eleves-b/2024/mattia.martino/synthetic_dataset_v3/train/images/image_12734.png: ignoring corrupt image/label: non-normalized or out of bounds coordinates [     1.0101]\n",
      "\u001b[34m\u001b[1mtrain: \u001b[0mWARNING ⚠️ /users/eleves-b/2024/mattia.martino/synthetic_dataset_v3/train/images/image_12751.png: ignoring corrupt image/label: non-normalized or out of bounds coordinates [     1.0153]\n",
      "\u001b[34m\u001b[1mtrain: \u001b[0mWARNING ⚠️ /users/eleves-b/2024/mattia.martino/synthetic_dataset_v3/train/images/image_12830.png: ignoring corrupt image/label: non-normalized or out of bounds coordinates [     1.0838      1.1257]\n",
      "\u001b[34m\u001b[1mtrain: \u001b[0mWARNING ⚠️ /users/eleves-b/2024/mattia.martino/synthetic_dataset_v3/train/images/image_12847.png: ignoring corrupt image/label: non-normalized or out of bounds coordinates [     1.0191]\n",
      "\u001b[34m\u001b[1mtrain: \u001b[0mWARNING ⚠️ /users/eleves-b/2024/mattia.martino/synthetic_dataset_v3/train/images/image_12998.png: ignoring corrupt image/label: non-normalized or out of bounds coordinates [     1.1264      1.1136]\n",
      "\u001b[34m\u001b[1mtrain: \u001b[0mWARNING ⚠️ /users/eleves-b/2024/mattia.martino/synthetic_dataset_v3/train/images/image_13189.png: ignoring corrupt image/label: non-normalized or out of bounds coordinates [      1.003      1.0033]\n",
      "\u001b[34m\u001b[1mtrain: \u001b[0mWARNING ⚠️ /users/eleves-b/2024/mattia.martino/synthetic_dataset_v3/train/images/image_13192.png: ignoring corrupt image/label: non-normalized or out of bounds coordinates [     1.0229]\n",
      "\u001b[34m\u001b[1mtrain: \u001b[0mWARNING ⚠️ /users/eleves-b/2024/mattia.martino/synthetic_dataset_v3/train/images/image_13241.png: ignoring corrupt image/label: non-normalized or out of bounds coordinates [     1.1117       1.025]\n",
      "\u001b[34m\u001b[1mtrain: \u001b[0mWARNING ⚠️ /users/eleves-b/2024/mattia.martino/synthetic_dataset_v3/train/images/image_13243.png: ignoring corrupt image/label: non-normalized or out of bounds coordinates [     1.0186      1.0222]\n",
      "\u001b[34m\u001b[1mtrain: \u001b[0mWARNING ⚠️ /users/eleves-b/2024/mattia.martino/synthetic_dataset_v3/train/images/image_13264.png: ignoring corrupt image/label: non-normalized or out of bounds coordinates [     1.0396]\n",
      "\u001b[34m\u001b[1mtrain: \u001b[0mWARNING ⚠️ /users/eleves-b/2024/mattia.martino/synthetic_dataset_v3/train/images/image_13279.png: ignoring corrupt image/label: non-normalized or out of bounds coordinates [     1.0118]\n",
      "\u001b[34m\u001b[1mtrain: \u001b[0mWARNING ⚠️ /users/eleves-b/2024/mattia.martino/synthetic_dataset_v3/train/images/image_13289.png: ignoring corrupt image/label: non-normalized or out of bounds coordinates [     1.1447      1.0753]\n",
      "\u001b[34m\u001b[1mtrain: \u001b[0mWARNING ⚠️ /users/eleves-b/2024/mattia.martino/synthetic_dataset_v3/train/images/image_13315.png: ignoring corrupt image/label: non-normalized or out of bounds coordinates [     1.0046]\n",
      "\u001b[34m\u001b[1mtrain: \u001b[0mWARNING ⚠️ /users/eleves-b/2024/mattia.martino/synthetic_dataset_v3/train/images/image_13409.png: ignoring corrupt image/label: non-normalized or out of bounds coordinates [     1.1285      1.1365]\n",
      "\u001b[34m\u001b[1mtrain: \u001b[0mWARNING ⚠️ /users/eleves-b/2024/mattia.martino/synthetic_dataset_v3/train/images/image_13429.png: ignoring corrupt image/label: non-normalized or out of bounds coordinates [     1.1352      1.0836]\n",
      "\u001b[34m\u001b[1mtrain: \u001b[0mWARNING ⚠️ /users/eleves-b/2024/mattia.martino/synthetic_dataset_v3/train/images/image_13467.png: ignoring corrupt image/label: non-normalized or out of bounds coordinates [     1.0066]\n",
      "\u001b[34m\u001b[1mtrain: \u001b[0mWARNING ⚠️ /users/eleves-b/2024/mattia.martino/synthetic_dataset_v3/train/images/image_13507.png: ignoring corrupt image/label: non-normalized or out of bounds coordinates [     1.0262      1.0723]\n",
      "\u001b[34m\u001b[1mtrain: \u001b[0mWARNING ⚠️ /users/eleves-b/2024/mattia.martino/synthetic_dataset_v3/train/images/image_13515.png: ignoring corrupt image/label: non-normalized or out of bounds coordinates [     1.0079]\n",
      "\u001b[34m\u001b[1mtrain: \u001b[0mWARNING ⚠️ /users/eleves-b/2024/mattia.martino/synthetic_dataset_v3/train/images/image_13519.png: ignoring corrupt image/label: non-normalized or out of bounds coordinates [     1.1486      1.1163]\n",
      "\u001b[34m\u001b[1mtrain: \u001b[0mWARNING ⚠️ /users/eleves-b/2024/mattia.martino/synthetic_dataset_v3/train/images/image_13605.png: ignoring corrupt image/label: non-normalized or out of bounds coordinates [     1.0469      1.0816]\n",
      "\u001b[34m\u001b[1mtrain: \u001b[0mWARNING ⚠️ /users/eleves-b/2024/mattia.martino/synthetic_dataset_v3/train/images/image_13609.png: ignoring corrupt image/label: non-normalized or out of bounds coordinates [     1.0045]\n",
      "\u001b[34m\u001b[1mtrain: \u001b[0mWARNING ⚠️ /users/eleves-b/2024/mattia.martino/synthetic_dataset_v3/train/images/image_13640.png: ignoring corrupt image/label: non-normalized or out of bounds coordinates [     1.1258      1.0508]\n",
      "\u001b[34m\u001b[1mtrain: \u001b[0mWARNING ⚠️ /users/eleves-b/2024/mattia.martino/synthetic_dataset_v3/train/images/image_13664.png: ignoring corrupt image/label: non-normalized or out of bounds coordinates [      1.006]\n",
      "\u001b[34m\u001b[1mtrain: \u001b[0mWARNING ⚠️ /users/eleves-b/2024/mattia.martino/synthetic_dataset_v3/train/images/image_13721.png: ignoring corrupt image/label: non-normalized or out of bounds coordinates [      1.003]\n",
      "\u001b[34m\u001b[1mtrain: \u001b[0mWARNING ⚠️ /users/eleves-b/2024/mattia.martino/synthetic_dataset_v3/train/images/image_13886.png: ignoring corrupt image/label: non-normalized or out of bounds coordinates [     1.1039      1.0822]\n",
      "\u001b[34m\u001b[1mtrain: \u001b[0mWARNING ⚠️ /users/eleves-b/2024/mattia.martino/synthetic_dataset_v3/train/images/image_13916.png: ignoring corrupt image/label: non-normalized or out of bounds coordinates [     1.0051]\n",
      "\u001b[34m\u001b[1mtrain: \u001b[0mWARNING ⚠️ /users/eleves-b/2024/mattia.martino/synthetic_dataset_v3/train/images/image_13995.png: ignoring corrupt image/label: non-normalized or out of bounds coordinates [     1.0001]\n",
      "\u001b[34m\u001b[1mtrain: \u001b[0mWARNING ⚠️ /users/eleves-b/2024/mattia.martino/synthetic_dataset_v3/train/images/image_14042.png: ignoring corrupt image/label: non-normalized or out of bounds coordinates [      1.008]\n",
      "\u001b[34m\u001b[1mtrain: \u001b[0mWARNING ⚠️ /users/eleves-b/2024/mattia.martino/synthetic_dataset_v3/train/images/image_14073.png: ignoring corrupt image/label: non-normalized or out of bounds coordinates [     1.0206]\n",
      "\u001b[34m\u001b[1mtrain: \u001b[0mWARNING ⚠️ /users/eleves-b/2024/mattia.martino/synthetic_dataset_v3/train/images/image_14273.png: ignoring corrupt image/label: non-normalized or out of bounds coordinates [     1.0027]\n",
      "\u001b[34m\u001b[1mtrain: \u001b[0mWARNING ⚠️ /users/eleves-b/2024/mattia.martino/synthetic_dataset_v3/train/images/image_14278.png: ignoring corrupt image/label: non-normalized or out of bounds coordinates [     1.0346      1.1221]\n",
      "\u001b[34m\u001b[1mtrain: \u001b[0mWARNING ⚠️ /users/eleves-b/2024/mattia.martino/synthetic_dataset_v3/train/images/image_14287.png: ignoring corrupt image/label: non-normalized or out of bounds coordinates [     1.0098]\n",
      "\u001b[34m\u001b[1mtrain: \u001b[0mWARNING ⚠️ /users/eleves-b/2024/mattia.martino/synthetic_dataset_v3/train/images/image_14305.png: ignoring corrupt image/label: non-normalized or out of bounds coordinates [     1.1559      1.1445]\n",
      "\u001b[34m\u001b[1mtrain: \u001b[0mWARNING ⚠️ /users/eleves-b/2024/mattia.martino/synthetic_dataset_v3/train/images/image_14310.png: ignoring corrupt image/label: non-normalized or out of bounds coordinates [     1.0243]\n",
      "\u001b[34m\u001b[1mtrain: \u001b[0mWARNING ⚠️ /users/eleves-b/2024/mattia.martino/synthetic_dataset_v3/train/images/image_14415.png: ignoring corrupt image/label: non-normalized or out of bounds coordinates [     1.1356      1.0411]\n",
      "\u001b[34m\u001b[1mtrain: \u001b[0mWARNING ⚠️ /users/eleves-b/2024/mattia.martino/synthetic_dataset_v3/train/images/image_14469.png: ignoring corrupt image/label: non-normalized or out of bounds coordinates [     1.0089]\n",
      "\u001b[34m\u001b[1mtrain: \u001b[0mWARNING ⚠️ /users/eleves-b/2024/mattia.martino/synthetic_dataset_v3/train/images/image_14616.png: ignoring corrupt image/label: non-normalized or out of bounds coordinates [     1.0806       1.008]\n",
      "\u001b[34m\u001b[1mtrain: \u001b[0mWARNING ⚠️ /users/eleves-b/2024/mattia.martino/synthetic_dataset_v3/train/images/image_14617.png: ignoring corrupt image/label: non-normalized or out of bounds coordinates [     1.0219      1.0095]\n",
      "\u001b[34m\u001b[1mtrain: \u001b[0mWARNING ⚠️ /users/eleves-b/2024/mattia.martino/synthetic_dataset_v3/train/images/image_14670.png: ignoring corrupt image/label: non-normalized or out of bounds coordinates [     1.0021]\n",
      "\u001b[34m\u001b[1mtrain: \u001b[0mWARNING ⚠️ /users/eleves-b/2024/mattia.martino/synthetic_dataset_v3/train/images/image_14709.png: ignoring corrupt image/label: non-normalized or out of bounds coordinates [     1.0445      1.1535]\n",
      "\u001b[34m\u001b[1mtrain: \u001b[0mWARNING ⚠️ /users/eleves-b/2024/mattia.martino/synthetic_dataset_v3/train/images/image_14729.png: ignoring corrupt image/label: non-normalized or out of bounds coordinates [     1.0287]\n",
      "\u001b[34m\u001b[1mtrain: \u001b[0mWARNING ⚠️ /users/eleves-b/2024/mattia.martino/synthetic_dataset_v3/train/images/image_14778.png: ignoring corrupt image/label: non-normalized or out of bounds coordinates [     1.0048        1.06]\n",
      "\u001b[34m\u001b[1mtrain: \u001b[0mWARNING ⚠️ /users/eleves-b/2024/mattia.martino/synthetic_dataset_v3/train/images/image_14783.png: ignoring corrupt image/label: non-normalized or out of bounds coordinates [     1.0084]\n",
      "\u001b[34m\u001b[1mtrain: \u001b[0mWARNING ⚠️ /users/eleves-b/2024/mattia.martino/synthetic_dataset_v3/train/images/image_14813.png: ignoring corrupt image/label: non-normalized or out of bounds coordinates [     1.1231       1.016]\n",
      "\u001b[34m\u001b[1mtrain: \u001b[0mWARNING ⚠️ /users/eleves-b/2024/mattia.martino/synthetic_dataset_v3/train/images/image_14831.png: ignoring corrupt image/label: non-normalized or out of bounds coordinates [     1.0202]\n",
      "\u001b[34m\u001b[1mtrain: \u001b[0mWARNING ⚠️ /users/eleves-b/2024/mattia.martino/synthetic_dataset_v3/train/images/image_14928.png: ignoring corrupt image/label: non-normalized or out of bounds coordinates [     1.0111]\n",
      "\u001b[34m\u001b[1mtrain: \u001b[0mWARNING ⚠️ /users/eleves-b/2024/mattia.martino/synthetic_dataset_v3/train/images/image_14971.png: ignoring corrupt image/label: non-normalized or out of bounds coordinates [     1.0888      1.0504]\n"
     ]
    },
    {
     "name": "stderr",
     "output_type": "stream",
     "text": [
      "\n",
      "\u001b[34m\u001b[1mval: \u001b[0mScanning /users/eleves-b/2024/mattia.martino/synthetic_dataset_v3/val/labels.cache... 1569 images, 0 backgrounds, 68 corrupt: 100%|██████████| 1569/1569 [00:00<?, ?it/s]"
     ]
    },
    {
     "name": "stdout",
     "output_type": "stream",
     "text": [
      "\u001b[34m\u001b[1mval: \u001b[0mWARNING ⚠️ /users/eleves-b/2024/mattia.martino/synthetic_dataset_v3/val/images/image_00043.png: ignoring corrupt image/label: non-normalized or out of bounds coordinates [     1.0911      1.1581]\n",
      "\u001b[34m\u001b[1mval: \u001b[0mWARNING ⚠️ /users/eleves-b/2024/mattia.martino/synthetic_dataset_v3/val/images/image_00076.png: ignoring corrupt image/label: non-normalized or out of bounds coordinates [     1.0273      1.0118]\n",
      "\u001b[34m\u001b[1mval: \u001b[0mWARNING ⚠️ /users/eleves-b/2024/mattia.martino/synthetic_dataset_v3/val/images/image_00108.png: ignoring corrupt image/label: non-normalized or out of bounds coordinates [     1.0957      1.0698]\n",
      "\u001b[34m\u001b[1mval: \u001b[0mWARNING ⚠️ /users/eleves-b/2024/mattia.martino/synthetic_dataset_v3/val/images/image_00121.png: ignoring corrupt image/label: non-normalized or out of bounds coordinates [     1.1365      1.1635]\n",
      "\u001b[34m\u001b[1mval: \u001b[0mWARNING ⚠️ /users/eleves-b/2024/mattia.martino/synthetic_dataset_v3/val/images/image_00129.png: ignoring corrupt image/label: non-normalized or out of bounds coordinates [     1.0116]\n",
      "\u001b[34m\u001b[1mval: \u001b[0mWARNING ⚠️ /users/eleves-b/2024/mattia.martino/synthetic_dataset_v3/val/images/image_00138.png: ignoring corrupt image/label: non-normalized or out of bounds coordinates [     1.0061      1.0626]\n",
      "\u001b[34m\u001b[1mval: \u001b[0mWARNING ⚠️ /users/eleves-b/2024/mattia.martino/synthetic_dataset_v3/val/images/image_00145.png: ignoring corrupt image/label: non-normalized or out of bounds coordinates [     1.0239]\n",
      "\u001b[34m\u001b[1mval: \u001b[0mWARNING ⚠️ /users/eleves-b/2024/mattia.martino/synthetic_dataset_v3/val/images/image_00216.png: ignoring corrupt image/label: non-normalized or out of bounds coordinates [     1.1272      1.0961]\n",
      "\u001b[34m\u001b[1mval: \u001b[0mWARNING ⚠️ /users/eleves-b/2024/mattia.martino/synthetic_dataset_v3/val/images/image_00252.png: ignoring corrupt image/label: non-normalized or out of bounds coordinates [     1.0899      1.0404]\n",
      "\u001b[34m\u001b[1mval: \u001b[0mWARNING ⚠️ /users/eleves-b/2024/mattia.martino/synthetic_dataset_v3/val/images/image_00254.png: ignoring corrupt image/label: non-normalized or out of bounds coordinates [     1.0354       1.051]\n",
      "\u001b[34m\u001b[1mval: \u001b[0mWARNING ⚠️ /users/eleves-b/2024/mattia.martino/synthetic_dataset_v3/val/images/image_00325.png: ignoring corrupt image/label: non-normalized or out of bounds coordinates [     1.0429      1.0412]\n",
      "\u001b[34m\u001b[1mval: \u001b[0mWARNING ⚠️ /users/eleves-b/2024/mattia.martino/synthetic_dataset_v3/val/images/image_00386.png: ignoring corrupt image/label: non-normalized or out of bounds coordinates [     1.0174]\n",
      "\u001b[34m\u001b[1mval: \u001b[0mWARNING ⚠️ /users/eleves-b/2024/mattia.martino/synthetic_dataset_v3/val/images/image_00405.png: ignoring corrupt image/label: non-normalized or out of bounds coordinates [     1.1399      1.1064]\n",
      "\u001b[34m\u001b[1mval: \u001b[0mWARNING ⚠️ /users/eleves-b/2024/mattia.martino/synthetic_dataset_v3/val/images/image_00461.png: ignoring corrupt image/label: non-normalized or out of bounds coordinates [     1.0795      1.1047]\n",
      "\u001b[34m\u001b[1mval: \u001b[0mWARNING ⚠️ /users/eleves-b/2024/mattia.martino/synthetic_dataset_v3/val/images/image_00508.png: ignoring corrupt image/label: non-normalized or out of bounds coordinates [     1.0135]\n",
      "\u001b[34m\u001b[1mval: \u001b[0mWARNING ⚠️ /users/eleves-b/2024/mattia.martino/synthetic_dataset_v3/val/images/image_00526.png: ignoring corrupt image/label: non-normalized or out of bounds coordinates [     1.0082      1.0111]\n",
      "\u001b[34m\u001b[1mval: \u001b[0mWARNING ⚠️ /users/eleves-b/2024/mattia.martino/synthetic_dataset_v3/val/images/image_00547.png: ignoring corrupt image/label: non-normalized or out of bounds coordinates [     1.0382      1.0042]\n",
      "\u001b[34m\u001b[1mval: \u001b[0mWARNING ⚠️ /users/eleves-b/2024/mattia.martino/synthetic_dataset_v3/val/images/image_00589.png: ignoring corrupt image/label: non-normalized or out of bounds coordinates [     1.1389      1.0822]\n",
      "\u001b[34m\u001b[1mval: \u001b[0mWARNING ⚠️ /users/eleves-b/2024/mattia.martino/synthetic_dataset_v3/val/images/image_00602.png: ignoring corrupt image/label: non-normalized or out of bounds coordinates [     1.1202      1.0381]\n",
      "\u001b[34m\u001b[1mval: \u001b[0mWARNING ⚠️ /users/eleves-b/2024/mattia.martino/synthetic_dataset_v3/val/images/image_00613.png: ignoring corrupt image/label: non-normalized or out of bounds coordinates [     1.0028]\n",
      "\u001b[34m\u001b[1mval: \u001b[0mWARNING ⚠️ /users/eleves-b/2024/mattia.martino/synthetic_dataset_v3/val/images/image_00647.png: ignoring corrupt image/label: non-normalized or out of bounds coordinates [     1.0153]\n",
      "\u001b[34m\u001b[1mval: \u001b[0mWARNING ⚠️ /users/eleves-b/2024/mattia.martino/synthetic_dataset_v3/val/images/image_00667.png: ignoring corrupt image/label: non-normalized or out of bounds coordinates [     1.0324]\n",
      "\u001b[34m\u001b[1mval: \u001b[0mWARNING ⚠️ /users/eleves-b/2024/mattia.martino/synthetic_dataset_v3/val/images/image_00725.png: ignoring corrupt image/label: non-normalized or out of bounds coordinates [     1.0652]\n",
      "\u001b[34m\u001b[1mval: \u001b[0mWARNING ⚠️ /users/eleves-b/2024/mattia.martino/synthetic_dataset_v3/val/images/image_00728.png: ignoring corrupt image/label: non-normalized or out of bounds coordinates [     1.0022]\n",
      "\u001b[34m\u001b[1mval: \u001b[0mWARNING ⚠️ /users/eleves-b/2024/mattia.martino/synthetic_dataset_v3/val/images/image_00772.png: ignoring corrupt image/label: non-normalized or out of bounds coordinates [     1.0409      1.0427]\n",
      "\u001b[34m\u001b[1mval: \u001b[0mWARNING ⚠️ /users/eleves-b/2024/mattia.martino/synthetic_dataset_v3/val/images/image_00791.png: ignoring corrupt image/label: non-normalized or out of bounds coordinates [     1.0853      1.0706]\n",
      "\u001b[34m\u001b[1mval: \u001b[0mWARNING ⚠️ /users/eleves-b/2024/mattia.martino/synthetic_dataset_v3/val/images/image_00794.png: ignoring corrupt image/label: non-normalized or out of bounds coordinates [     1.0319      1.1171      1.0281]\n",
      "\u001b[34m\u001b[1mval: \u001b[0mWARNING ⚠️ /users/eleves-b/2024/mattia.martino/synthetic_dataset_v3/val/images/image_00846.png: ignoring corrupt image/label: non-normalized or out of bounds coordinates [      1.148      1.0841]\n",
      "\u001b[34m\u001b[1mval: \u001b[0mWARNING ⚠️ /users/eleves-b/2024/mattia.martino/synthetic_dataset_v3/val/images/image_00904.png: ignoring corrupt image/label: non-normalized or out of bounds coordinates [     1.1221      1.0306]\n",
      "\u001b[34m\u001b[1mval: \u001b[0mWARNING ⚠️ /users/eleves-b/2024/mattia.martino/synthetic_dataset_v3/val/images/image_00944.png: ignoring corrupt image/label: non-normalized or out of bounds coordinates [     1.1154      1.0894]\n",
      "\u001b[34m\u001b[1mval: \u001b[0mWARNING ⚠️ /users/eleves-b/2024/mattia.martino/synthetic_dataset_v3/val/images/image_00945.png: ignoring corrupt image/label: non-normalized or out of bounds coordinates [     1.0013]\n",
      "\u001b[34m\u001b[1mval: \u001b[0mWARNING ⚠️ /users/eleves-b/2024/mattia.martino/synthetic_dataset_v3/val/images/image_00961.png: ignoring corrupt image/label: non-normalized or out of bounds coordinates [     1.1346      1.0753]\n",
      "\u001b[34m\u001b[1mval: \u001b[0mWARNING ⚠️ /users/eleves-b/2024/mattia.martino/synthetic_dataset_v3/val/images/image_00978.png: ignoring corrupt image/label: non-normalized or out of bounds coordinates [     1.1423      1.1444]\n",
      "\u001b[34m\u001b[1mval: \u001b[0mWARNING ⚠️ /users/eleves-b/2024/mattia.martino/synthetic_dataset_v3/val/images/image_00989.png: ignoring corrupt image/label: non-normalized or out of bounds coordinates [     1.1047      1.0473]\n",
      "\u001b[34m\u001b[1mval: \u001b[0mWARNING ⚠️ /users/eleves-b/2024/mattia.martino/synthetic_dataset_v3/val/images/image_01002.png: ignoring corrupt image/label: non-normalized or out of bounds coordinates [     1.0537      1.0674]\n",
      "\u001b[34m\u001b[1mval: \u001b[0mWARNING ⚠️ /users/eleves-b/2024/mattia.martino/synthetic_dataset_v3/val/images/image_01069.png: ignoring corrupt image/label: non-normalized or out of bounds coordinates [     1.1223      1.0873]\n",
      "\u001b[34m\u001b[1mval: \u001b[0mWARNING ⚠️ /users/eleves-b/2024/mattia.martino/synthetic_dataset_v3/val/images/image_01109.png: ignoring corrupt image/label: non-normalized or out of bounds coordinates [      1.142       1.162]\n",
      "\u001b[34m\u001b[1mval: \u001b[0mWARNING ⚠️ /users/eleves-b/2024/mattia.martino/synthetic_dataset_v3/val/images/image_01174.png: ignoring corrupt image/label: non-normalized or out of bounds coordinates [     1.0904      1.0743]\n",
      "\u001b[34m\u001b[1mval: \u001b[0mWARNING ⚠️ /users/eleves-b/2024/mattia.martino/synthetic_dataset_v3/val/images/image_01317.png: ignoring corrupt image/label: non-normalized or out of bounds coordinates [     1.1287      1.1335]\n",
      "\u001b[34m\u001b[1mval: \u001b[0mWARNING ⚠️ /users/eleves-b/2024/mattia.martino/synthetic_dataset_v3/val/images/image_01334.png: ignoring corrupt image/label: non-normalized or out of bounds coordinates [     1.0125]\n",
      "\u001b[34m\u001b[1mval: \u001b[0mWARNING ⚠️ /users/eleves-b/2024/mattia.martino/synthetic_dataset_v3/val/images/image_01456.png: ignoring corrupt image/label: non-normalized or out of bounds coordinates [     1.0011]\n",
      "\u001b[34m\u001b[1mval: \u001b[0mWARNING ⚠️ /users/eleves-b/2024/mattia.martino/synthetic_dataset_v3/val/images/image_01536.png: ignoring corrupt image/label: non-normalized or out of bounds coordinates [      1.093      1.0293]\n",
      "\u001b[34m\u001b[1mval: \u001b[0mWARNING ⚠️ /users/eleves-b/2024/mattia.martino/synthetic_dataset_v3/val/images/image_01547.png: ignoring corrupt image/label: non-normalized or out of bounds coordinates [     1.0215]\n",
      "\u001b[34m\u001b[1mval: \u001b[0mWARNING ⚠️ /users/eleves-b/2024/mattia.martino/synthetic_dataset_v3/val/images/image_01551.png: ignoring corrupt image/label: non-normalized or out of bounds coordinates [      1.003]\n",
      "\u001b[34m\u001b[1mval: \u001b[0mWARNING ⚠️ /users/eleves-b/2024/mattia.martino/synthetic_dataset_v3/val/images/image_01702.png: ignoring corrupt image/label: non-normalized or out of bounds coordinates [     1.1471      1.0164]\n",
      "\u001b[34m\u001b[1mval: \u001b[0mWARNING ⚠️ /users/eleves-b/2024/mattia.martino/synthetic_dataset_v3/val/images/image_01719.png: ignoring corrupt image/label: non-normalized or out of bounds coordinates [     1.0222]\n",
      "\u001b[34m\u001b[1mval: \u001b[0mWARNING ⚠️ /users/eleves-b/2024/mattia.martino/synthetic_dataset_v3/val/images/image_01730.png: ignoring corrupt image/label: non-normalized or out of bounds coordinates [     1.0174      1.0507]\n",
      "\u001b[34m\u001b[1mval: \u001b[0mWARNING ⚠️ /users/eleves-b/2024/mattia.martino/synthetic_dataset_v3/val/images/image_01910.png: ignoring corrupt image/label: non-normalized or out of bounds coordinates [     1.0509      1.1041]\n",
      "\u001b[34m\u001b[1mval: \u001b[0mWARNING ⚠️ /users/eleves-b/2024/mattia.martino/synthetic_dataset_v3/val/images/image_01916.png: ignoring corrupt image/label: non-normalized or out of bounds coordinates [     1.0356      1.0851]\n",
      "\u001b[34m\u001b[1mval: \u001b[0mWARNING ⚠️ /users/eleves-b/2024/mattia.martino/synthetic_dataset_v3/val/images/image_01929.png: ignoring corrupt image/label: non-normalized or out of bounds coordinates [     1.0109      1.0702]\n",
      "\u001b[34m\u001b[1mval: \u001b[0mWARNING ⚠️ /users/eleves-b/2024/mattia.martino/synthetic_dataset_v3/val/images/image_01958.png: ignoring corrupt image/label: non-normalized or out of bounds coordinates [     1.1007      1.0797]\n",
      "\u001b[34m\u001b[1mval: \u001b[0mWARNING ⚠️ /users/eleves-b/2024/mattia.martino/synthetic_dataset_v3/val/images/image_01959.png: ignoring corrupt image/label: non-normalized or out of bounds coordinates [     1.0918      1.0213]\n",
      "\u001b[34m\u001b[1mval: \u001b[0mWARNING ⚠️ /users/eleves-b/2024/mattia.martino/synthetic_dataset_v3/val/images/image_01990.png: ignoring corrupt image/label: non-normalized or out of bounds coordinates [     1.0797      1.0492]\n",
      "\u001b[34m\u001b[1mval: \u001b[0mWARNING ⚠️ /users/eleves-b/2024/mattia.martino/synthetic_dataset_v3/val/images/image_02076.png: ignoring corrupt image/label: non-normalized or out of bounds coordinates [     1.0094]\n",
      "\u001b[34m\u001b[1mval: \u001b[0mWARNING ⚠️ /users/eleves-b/2024/mattia.martino/synthetic_dataset_v3/val/images/image_02089.png: ignoring corrupt image/label: non-normalized or out of bounds coordinates [     1.1484      1.1506]\n",
      "\u001b[34m\u001b[1mval: \u001b[0mWARNING ⚠️ /users/eleves-b/2024/mattia.martino/synthetic_dataset_v3/val/images/image_02093.png: ignoring corrupt image/label: non-normalized or out of bounds coordinates [     1.0313]\n",
      "\u001b[34m\u001b[1mval: \u001b[0mWARNING ⚠️ /users/eleves-b/2024/mattia.martino/synthetic_dataset_v3/val/images/image_02111.png: ignoring corrupt image/label: non-normalized or out of bounds coordinates [     1.0038]\n",
      "\u001b[34m\u001b[1mval: \u001b[0mWARNING ⚠️ /users/eleves-b/2024/mattia.martino/synthetic_dataset_v3/val/images/image_02139.png: ignoring corrupt image/label: non-normalized or out of bounds coordinates [     1.0281]\n",
      "\u001b[34m\u001b[1mval: \u001b[0mWARNING ⚠️ /users/eleves-b/2024/mattia.martino/synthetic_dataset_v3/val/images/image_02154.png: ignoring corrupt image/label: non-normalized or out of bounds coordinates [     1.0042]\n",
      "\u001b[34m\u001b[1mval: \u001b[0mWARNING ⚠️ /users/eleves-b/2024/mattia.martino/synthetic_dataset_v3/val/images/image_02173.png: ignoring corrupt image/label: non-normalized or out of bounds coordinates [      1.123      1.0117]\n",
      "\u001b[34m\u001b[1mval: \u001b[0mWARNING ⚠️ /users/eleves-b/2024/mattia.martino/synthetic_dataset_v3/val/images/image_02258.png: ignoring corrupt image/label: non-normalized or out of bounds coordinates [     1.0944      1.0948]\n",
      "\u001b[34m\u001b[1mval: \u001b[0mWARNING ⚠️ /users/eleves-b/2024/mattia.martino/synthetic_dataset_v3/val/images/image_02261.png: ignoring corrupt image/label: non-normalized or out of bounds coordinates [     1.0747      1.0645]\n",
      "\u001b[34m\u001b[1mval: \u001b[0mWARNING ⚠️ /users/eleves-b/2024/mattia.martino/synthetic_dataset_v3/val/images/image_02328.png: ignoring corrupt image/label: non-normalized or out of bounds coordinates [     1.0166]\n",
      "\u001b[34m\u001b[1mval: \u001b[0mWARNING ⚠️ /users/eleves-b/2024/mattia.martino/synthetic_dataset_v3/val/images/image_02341.png: ignoring corrupt image/label: non-normalized or out of bounds coordinates [     1.0041]\n",
      "\u001b[34m\u001b[1mval: \u001b[0mWARNING ⚠️ /users/eleves-b/2024/mattia.martino/synthetic_dataset_v3/val/images/image_02405.png: ignoring corrupt image/label: non-normalized or out of bounds coordinates [     1.0089]\n",
      "\u001b[34m\u001b[1mval: \u001b[0mWARNING ⚠️ /users/eleves-b/2024/mattia.martino/synthetic_dataset_v3/val/images/image_02420.png: ignoring corrupt image/label: non-normalized or out of bounds coordinates [     1.0665      1.0758]\n",
      "\u001b[34m\u001b[1mval: \u001b[0mWARNING ⚠️ /users/eleves-b/2024/mattia.martino/synthetic_dataset_v3/val/images/image_02435.png: ignoring corrupt image/label: non-normalized or out of bounds coordinates [     1.1017      1.0204]\n",
      "\u001b[34m\u001b[1mval: \u001b[0mWARNING ⚠️ /users/eleves-b/2024/mattia.martino/synthetic_dataset_v3/val/images/image_02441.png: ignoring corrupt image/label: non-normalized or out of bounds coordinates [     1.1494      1.0708]\n"
     ]
    },
    {
     "name": "stderr",
     "output_type": "stream",
     "text": [
      "\n"
     ]
    },
    {
     "name": "stdout",
     "output_type": "stream",
     "text": [
      "Plotting labels to runs/detect/train7/labels.jpg... \n",
      "\u001b[34m\u001b[1moptimizer:\u001b[0m 'optimizer=auto' found, ignoring 'lr0=0.01' and 'momentum=0.937' and determining best 'optimizer', 'lr0' and 'momentum' automatically... \n",
      "\u001b[34m\u001b[1moptimizer:\u001b[0m AdamW(lr=0.000172, momentum=0.9) with parameter groups 81 weight(decay=0.0), 88 weight(decay=0.0005), 87 bias(decay=0.0)\n",
      "Image sizes 640 train, 640 val\n",
      "Using 8 dataloader workers\n",
      "Logging results to \u001b[1mruns/detect/train7\u001b[0m\n",
      "Starting training for 50 epochs...\n",
      "\n",
      "      Epoch    GPU_mem   box_loss   cls_loss   dfl_loss  Instances       Size\n"
     ]
    },
    {
     "name": "stderr",
     "output_type": "stream",
     "text": [
      "       1/50      1.51G     0.8047     0.9143     0.8978         35        640: 100%|██████████| 1138/1138 [01:03<00:00, 17.97it/s]\n",
      "                 Class     Images  Instances      Box(P          R      mAP50  mAP50-95): 100%|██████████| 94/94 [00:04<00:00, 21.65it/s]\n"
     ]
    },
    {
     "name": "stdout",
     "output_type": "stream",
     "text": [
      "                   all       1501      17118      0.783      0.758      0.832      0.669\n",
      "\n",
      "      Epoch    GPU_mem   box_loss   cls_loss   dfl_loss  Instances       Size\n"
     ]
    },
    {
     "name": "stderr",
     "output_type": "stream",
     "text": [
      "       2/50      1.55G     0.8088     0.9003     0.9001         17        640: 100%|██████████| 1138/1138 [01:00<00:00, 18.95it/s]\n",
      "                 Class     Images  Instances      Box(P          R      mAP50  mAP50-95): 100%|██████████| 94/94 [00:04<00:00, 21.64it/s]\n"
     ]
    },
    {
     "name": "stdout",
     "output_type": "stream",
     "text": [
      "                   all       1501      17118      0.775      0.768      0.834      0.639\n",
      "\n",
      "      Epoch    GPU_mem   box_loss   cls_loss   dfl_loss  Instances       Size\n"
     ]
    },
    {
     "name": "stderr",
     "output_type": "stream",
     "text": [
      "       3/50      1.51G     0.8058     0.8706     0.8985         33        640: 100%|██████████| 1138/1138 [00:59<00:00, 19.17it/s]\n",
      "                 Class     Images  Instances      Box(P          R      mAP50  mAP50-95): 100%|██████████| 94/94 [00:04<00:00, 21.65it/s]\n"
     ]
    },
    {
     "name": "stdout",
     "output_type": "stream",
     "text": [
      "                   all       1501      17118      0.825      0.778      0.862      0.682\n",
      "\n",
      "      Epoch    GPU_mem   box_loss   cls_loss   dfl_loss  Instances       Size\n"
     ]
    },
    {
     "name": "stderr",
     "output_type": "stream",
     "text": [
      "       4/50      1.62G     0.8074     0.8449     0.8988         65        640: 100%|██████████| 1138/1138 [00:59<00:00, 19.26it/s]\n",
      "                 Class     Images  Instances      Box(P          R      mAP50  mAP50-95): 100%|██████████| 94/94 [00:04<00:00, 21.57it/s]\n"
     ]
    },
    {
     "name": "stdout",
     "output_type": "stream",
     "text": [
      "                   all       1501      17118      0.828      0.803      0.879       0.68\n",
      "\n",
      "      Epoch    GPU_mem   box_loss   cls_loss   dfl_loss  Instances       Size\n"
     ]
    },
    {
     "name": "stderr",
     "output_type": "stream",
     "text": [
      "       5/50      1.56G      0.794     0.8097     0.8954         16        640: 100%|██████████| 1138/1138 [00:58<00:00, 19.29it/s]\n",
      "                 Class     Images  Instances      Box(P          R      mAP50  mAP50-95): 100%|██████████| 94/94 [00:04<00:00, 21.69it/s]\n"
     ]
    },
    {
     "name": "stdout",
     "output_type": "stream",
     "text": [
      "                   all       1501      17118      0.848      0.815      0.891      0.715\n",
      "\n",
      "      Epoch    GPU_mem   box_loss   cls_loss   dfl_loss  Instances       Size\n"
     ]
    },
    {
     "name": "stderr",
     "output_type": "stream",
     "text": [
      "       6/50      1.55G     0.7846     0.7859     0.8913         40        640: 100%|██████████| 1138/1138 [00:58<00:00, 19.30it/s]\n",
      "                 Class     Images  Instances      Box(P          R      mAP50  mAP50-95): 100%|██████████| 94/94 [00:04<00:00, 21.71it/s]\n"
     ]
    },
    {
     "name": "stdout",
     "output_type": "stream",
     "text": [
      "                   all       1501      17118      0.847       0.82      0.895      0.722\n",
      "\n",
      "      Epoch    GPU_mem   box_loss   cls_loss   dfl_loss  Instances       Size\n"
     ]
    },
    {
     "name": "stderr",
     "output_type": "stream",
     "text": [
      "       7/50      1.56G      0.778     0.7621     0.8904         37        640: 100%|██████████| 1138/1138 [00:59<00:00, 19.24it/s]\n",
      "                 Class     Images  Instances      Box(P          R      mAP50  mAP50-95): 100%|██████████| 94/94 [00:04<00:00, 21.80it/s]\n"
     ]
    },
    {
     "name": "stdout",
     "output_type": "stream",
     "text": [
      "                   all       1501      17118       0.87      0.841      0.913      0.735\n",
      "\n",
      "      Epoch    GPU_mem   box_loss   cls_loss   dfl_loss  Instances       Size\n"
     ]
    },
    {
     "name": "stderr",
     "output_type": "stream",
     "text": [
      "       8/50      1.55G     0.7669     0.7308     0.8881         20        640: 100%|██████████| 1138/1138 [00:59<00:00, 19.27it/s]\n",
      "                 Class     Images  Instances      Box(P          R      mAP50  mAP50-95): 100%|██████████| 94/94 [00:04<00:00, 21.82it/s]"
     ]
    },
    {
     "name": "stdout",
     "output_type": "stream",
     "text": [
      "                   all       1501      17118      0.884      0.852      0.929      0.754\n"
     ]
    },
    {
     "name": "stderr",
     "output_type": "stream",
     "text": [
      "\n"
     ]
    },
    {
     "name": "stdout",
     "output_type": "stream",
     "text": [
      "\n",
      "      Epoch    GPU_mem   box_loss   cls_loss   dfl_loss  Instances       Size\n"
     ]
    },
    {
     "name": "stderr",
     "output_type": "stream",
     "text": [
      "       9/50      1.54G     0.7664     0.7194     0.8866         46        640: 100%|██████████| 1138/1138 [00:59<00:00, 19.25it/s]\n",
      "                 Class     Images  Instances      Box(P          R      mAP50  mAP50-95): 100%|██████████| 94/94 [00:04<00:00, 21.79it/s]\n"
     ]
    },
    {
     "name": "stdout",
     "output_type": "stream",
     "text": [
      "                   all       1501      17118      0.892      0.863      0.937      0.765\n",
      "\n",
      "      Epoch    GPU_mem   box_loss   cls_loss   dfl_loss  Instances       Size\n"
     ]
    },
    {
     "name": "stderr",
     "output_type": "stream",
     "text": [
      "      10/50      1.58G     0.7535     0.6991     0.8843         38        640: 100%|██████████| 1138/1138 [00:57<00:00, 19.65it/s]\n",
      "                 Class     Images  Instances      Box(P          R      mAP50  mAP50-95): 100%|██████████| 94/94 [00:04<00:00, 22.44it/s]\n"
     ]
    },
    {
     "name": "stdout",
     "output_type": "stream",
     "text": [
      "                   all       1501      17118      0.905      0.881      0.945      0.771\n",
      "\n",
      "      Epoch    GPU_mem   box_loss   cls_loss   dfl_loss  Instances       Size\n"
     ]
    },
    {
     "name": "stderr",
     "output_type": "stream",
     "text": [
      "      11/50       1.5G     0.7474     0.6831     0.8827         42        640: 100%|██████████| 1138/1138 [00:57<00:00, 19.76it/s]\n",
      "                 Class     Images  Instances      Box(P          R      mAP50  mAP50-95): 100%|██████████| 94/94 [00:04<00:00, 21.84it/s]\n"
     ]
    },
    {
     "name": "stdout",
     "output_type": "stream",
     "text": [
      "                   all       1501      17118      0.909      0.883       0.95      0.773\n",
      "\n",
      "      Epoch    GPU_mem   box_loss   cls_loss   dfl_loss  Instances       Size\n"
     ]
    },
    {
     "name": "stderr",
     "output_type": "stream",
     "text": [
      "      12/50      1.57G     0.7462     0.6698     0.8826         35        640: 100%|██████████| 1138/1138 [00:58<00:00, 19.36it/s]\n",
      "                 Class     Images  Instances      Box(P          R      mAP50  mAP50-95): 100%|██████████| 94/94 [00:04<00:00, 21.83it/s]\n"
     ]
    },
    {
     "name": "stdout",
     "output_type": "stream",
     "text": [
      "                   all       1501      17118      0.912      0.894      0.954      0.782\n",
      "\n",
      "      Epoch    GPU_mem   box_loss   cls_loss   dfl_loss  Instances       Size\n"
     ]
    },
    {
     "name": "stderr",
     "output_type": "stream",
     "text": [
      "      13/50      1.56G     0.7396     0.6585     0.8798         28        640: 100%|██████████| 1138/1138 [00:59<00:00, 19.28it/s]\n",
      "                 Class     Images  Instances      Box(P          R      mAP50  mAP50-95): 100%|██████████| 94/94 [00:04<00:00, 21.83it/s]\n"
     ]
    },
    {
     "name": "stdout",
     "output_type": "stream",
     "text": [
      "                   all       1501      17118      0.915      0.902      0.958       0.78\n",
      "\n",
      "      Epoch    GPU_mem   box_loss   cls_loss   dfl_loss  Instances       Size\n"
     ]
    },
    {
     "name": "stderr",
     "output_type": "stream",
     "text": [
      "      14/50      1.57G     0.7307     0.6432      0.878         18        640: 100%|██████████| 1138/1138 [00:58<00:00, 19.31it/s]\n",
      "                 Class     Images  Instances      Box(P          R      mAP50  mAP50-95): 100%|██████████| 94/94 [00:04<00:00, 21.87it/s]\n"
     ]
    },
    {
     "name": "stdout",
     "output_type": "stream",
     "text": [
      "                   all       1501      17118       0.92      0.901      0.961      0.786\n",
      "\n",
      "      Epoch    GPU_mem   box_loss   cls_loss   dfl_loss  Instances       Size\n"
     ]
    },
    {
     "name": "stderr",
     "output_type": "stream",
     "text": [
      "      15/50      1.56G     0.7248     0.6296     0.8767         22        640: 100%|██████████| 1138/1138 [00:59<00:00, 19.28it/s]\n",
      "                 Class     Images  Instances      Box(P          R      mAP50  mAP50-95): 100%|██████████| 94/94 [00:04<00:00, 21.90it/s]\n"
     ]
    },
    {
     "name": "stdout",
     "output_type": "stream",
     "text": [
      "                   all       1501      17118      0.916       0.91      0.961      0.792\n",
      "\n",
      "      Epoch    GPU_mem   box_loss   cls_loss   dfl_loss  Instances       Size\n"
     ]
    },
    {
     "name": "stderr",
     "output_type": "stream",
     "text": [
      "      16/50      1.48G     0.7164     0.6157     0.8754         25        640: 100%|██████████| 1138/1138 [00:58<00:00, 19.30it/s]\n",
      "                 Class     Images  Instances      Box(P          R      mAP50  mAP50-95): 100%|██████████| 94/94 [00:04<00:00, 21.90it/s]\n"
     ]
    },
    {
     "name": "stdout",
     "output_type": "stream",
     "text": [
      "                   all       1501      17118      0.929      0.912      0.966      0.801\n",
      "\n",
      "      Epoch    GPU_mem   box_loss   cls_loss   dfl_loss  Instances       Size\n"
     ]
    },
    {
     "name": "stderr",
     "output_type": "stream",
     "text": [
      "      17/50      1.55G     0.7096     0.6095     0.8725         32        640: 100%|██████████| 1138/1138 [00:58<00:00, 19.31it/s]\n",
      "                 Class     Images  Instances      Box(P          R      mAP50  mAP50-95): 100%|██████████| 94/94 [00:04<00:00, 21.86it/s]\n"
     ]
    },
    {
     "name": "stdout",
     "output_type": "stream",
     "text": [
      "                   all       1501      17118      0.932       0.92      0.969      0.807\n",
      "\n",
      "      Epoch    GPU_mem   box_loss   cls_loss   dfl_loss  Instances       Size\n"
     ]
    },
    {
     "name": "stderr",
     "output_type": "stream",
     "text": [
      "      18/50       1.5G     0.7006      0.597     0.8715         21        640: 100%|██████████| 1138/1138 [00:58<00:00, 19.32it/s]\n",
      "                 Class     Images  Instances      Box(P          R      mAP50  mAP50-95): 100%|██████████| 94/94 [00:04<00:00, 21.88it/s]\n"
     ]
    },
    {
     "name": "stdout",
     "output_type": "stream",
     "text": [
      "                   all       1501      17118       0.93      0.922      0.969      0.807\n",
      "\n",
      "      Epoch    GPU_mem   box_loss   cls_loss   dfl_loss  Instances       Size\n"
     ]
    },
    {
     "name": "stderr",
     "output_type": "stream",
     "text": [
      "      19/50      1.55G     0.6975     0.5872     0.8707         30        640: 100%|██████████| 1138/1138 [00:59<00:00, 19.28it/s]\n",
      "                 Class     Images  Instances      Box(P          R      mAP50  mAP50-95): 100%|██████████| 94/94 [00:04<00:00, 21.91it/s]\n"
     ]
    },
    {
     "name": "stdout",
     "output_type": "stream",
     "text": [
      "                   all       1501      17118      0.931      0.929      0.971      0.811\n",
      "\n",
      "      Epoch    GPU_mem   box_loss   cls_loss   dfl_loss  Instances       Size\n"
     ]
    },
    {
     "name": "stderr",
     "output_type": "stream",
     "text": [
      "      20/50      1.55G     0.6897     0.5791     0.8687         23        640: 100%|██████████| 1138/1138 [00:59<00:00, 19.29it/s]\n",
      "                 Class     Images  Instances      Box(P          R      mAP50  mAP50-95): 100%|██████████| 94/94 [00:04<00:00, 22.57it/s]\n"
     ]
    },
    {
     "name": "stdout",
     "output_type": "stream",
     "text": [
      "                   all       1501      17118      0.937       0.93      0.973      0.812\n",
      "\n",
      "      Epoch    GPU_mem   box_loss   cls_loss   dfl_loss  Instances       Size\n"
     ]
    },
    {
     "name": "stderr",
     "output_type": "stream",
     "text": [
      "      21/50      1.62G     0.6861     0.5714     0.8689         48        640: 100%|██████████| 1138/1138 [00:57<00:00, 19.69it/s]\n",
      "                 Class     Images  Instances      Box(P          R      mAP50  mAP50-95): 100%|██████████| 94/94 [00:04<00:00, 21.95it/s]\n"
     ]
    },
    {
     "name": "stdout",
     "output_type": "stream",
     "text": [
      "                   all       1501      17118      0.937      0.933      0.974      0.813\n",
      "\n",
      "      Epoch    GPU_mem   box_loss   cls_loss   dfl_loss  Instances       Size\n"
     ]
    },
    {
     "name": "stderr",
     "output_type": "stream",
     "text": [
      "      22/50      1.55G     0.6808     0.5674      0.866         18        640: 100%|██████████| 1138/1138 [00:57<00:00, 19.63it/s]\n",
      "                 Class     Images  Instances      Box(P          R      mAP50  mAP50-95): 100%|██████████| 94/94 [00:04<00:00, 22.57it/s]\n"
     ]
    },
    {
     "name": "stdout",
     "output_type": "stream",
     "text": [
      "                   all       1501      17118      0.935      0.936      0.974      0.812\n",
      "\n",
      "      Epoch    GPU_mem   box_loss   cls_loss   dfl_loss  Instances       Size\n"
     ]
    },
    {
     "name": "stderr",
     "output_type": "stream",
     "text": [
      "      23/50      1.62G     0.6758     0.5599     0.8642         18        640: 100%|██████████| 1138/1138 [00:57<00:00, 19.69it/s]\n",
      "                 Class     Images  Instances      Box(P          R      mAP50  mAP50-95): 100%|██████████| 94/94 [00:04<00:00, 21.95it/s]\n"
     ]
    },
    {
     "name": "stdout",
     "output_type": "stream",
     "text": [
      "                   all       1501      17118      0.939      0.937      0.975       0.82\n",
      "\n",
      "      Epoch    GPU_mem   box_loss   cls_loss   dfl_loss  Instances       Size\n"
     ]
    },
    {
     "name": "stderr",
     "output_type": "stream",
     "text": [
      "      24/50      1.48G     0.6697     0.5505     0.8636         46        640: 100%|██████████| 1138/1138 [00:58<00:00, 19.33it/s]\n",
      "                 Class     Images  Instances      Box(P          R      mAP50  mAP50-95): 100%|██████████| 94/94 [00:04<00:00, 21.93it/s]\n"
     ]
    },
    {
     "name": "stdout",
     "output_type": "stream",
     "text": [
      "                   all       1501      17118      0.939      0.942      0.976      0.822\n",
      "\n",
      "      Epoch    GPU_mem   box_loss   cls_loss   dfl_loss  Instances       Size\n"
     ]
    },
    {
     "name": "stderr",
     "output_type": "stream",
     "text": [
      "      25/50      1.61G     0.6649      0.546     0.8625         16        640: 100%|██████████| 1138/1138 [00:58<00:00, 19.34it/s]\n",
      "                 Class     Images  Instances      Box(P          R      mAP50  mAP50-95): 100%|██████████| 94/94 [00:04<00:00, 21.97it/s]\n"
     ]
    },
    {
     "name": "stdout",
     "output_type": "stream",
     "text": [
      "                   all       1501      17118      0.942      0.945      0.978      0.824\n",
      "\n",
      "      Epoch    GPU_mem   box_loss   cls_loss   dfl_loss  Instances       Size\n"
     ]
    },
    {
     "name": "stderr",
     "output_type": "stream",
     "text": [
      "      26/50      1.55G     0.6615     0.5405     0.8608         51        640: 100%|██████████| 1138/1138 [00:58<00:00, 19.31it/s]\n",
      "                 Class     Images  Instances      Box(P          R      mAP50  mAP50-95): 100%|██████████| 94/94 [00:04<00:00, 21.92it/s]\n"
     ]
    },
    {
     "name": "stdout",
     "output_type": "stream",
     "text": [
      "                   all       1501      17118      0.944      0.941      0.978      0.825\n",
      "\n",
      "      Epoch    GPU_mem   box_loss   cls_loss   dfl_loss  Instances       Size\n"
     ]
    },
    {
     "name": "stderr",
     "output_type": "stream",
     "text": [
      "      27/50      1.51G     0.6593     0.5364     0.8615         37        640: 100%|██████████| 1138/1138 [00:57<00:00, 19.71it/s]\n",
      "                 Class     Images  Instances      Box(P          R      mAP50  mAP50-95): 100%|██████████| 94/94 [00:04<00:00, 21.98it/s]\n"
     ]
    },
    {
     "name": "stdout",
     "output_type": "stream",
     "text": [
      "                   all       1501      17118      0.941      0.947      0.978      0.823\n",
      "\n",
      "      Epoch    GPU_mem   box_loss   cls_loss   dfl_loss  Instances       Size\n"
     ]
    },
    {
     "name": "stderr",
     "output_type": "stream",
     "text": [
      "      28/50      1.51G     0.6515     0.5287     0.8588         34        640: 100%|██████████| 1138/1138 [00:58<00:00, 19.53it/s]\n",
      "                 Class     Images  Instances      Box(P          R      mAP50  mAP50-95): 100%|██████████| 94/94 [00:04<00:00, 22.53it/s]\n"
     ]
    },
    {
     "name": "stdout",
     "output_type": "stream",
     "text": [
      "                   all       1501      17118      0.947      0.945      0.979       0.83\n",
      "\n",
      "      Epoch    GPU_mem   box_loss   cls_loss   dfl_loss  Instances       Size\n"
     ]
    },
    {
     "name": "stderr",
     "output_type": "stream",
     "text": [
      "      29/50      1.56G     0.6493     0.5243     0.8594         19        640: 100%|██████████| 1138/1138 [00:57<00:00, 19.80it/s]\n",
      "                 Class     Images  Instances      Box(P          R      mAP50  mAP50-95): 100%|██████████| 94/94 [00:04<00:00, 22.49it/s]"
     ]
    },
    {
     "name": "stdout",
     "output_type": "stream",
     "text": [
      "                   all       1501      17118      0.943       0.95       0.98      0.832\n"
     ]
    },
    {
     "name": "stderr",
     "output_type": "stream",
     "text": [
      "\n"
     ]
    },
    {
     "name": "stdout",
     "output_type": "stream",
     "text": [
      "\n",
      "      Epoch    GPU_mem   box_loss   cls_loss   dfl_loss  Instances       Size\n"
     ]
    },
    {
     "name": "stderr",
     "output_type": "stream",
     "text": [
      "      30/50      1.57G     0.6423     0.5208     0.8579         22        640: 100%|██████████| 1138/1138 [00:58<00:00, 19.49it/s]\n",
      "                 Class     Images  Instances      Box(P          R      mAP50  mAP50-95): 100%|██████████| 94/94 [00:04<00:00, 22.56it/s]\n"
     ]
    },
    {
     "name": "stdout",
     "output_type": "stream",
     "text": [
      "                   all       1501      17118      0.947       0.95       0.98      0.833\n",
      "\n",
      "      Epoch    GPU_mem   box_loss   cls_loss   dfl_loss  Instances       Size\n"
     ]
    },
    {
     "name": "stderr",
     "output_type": "stream",
     "text": [
      "      31/50      1.51G     0.6419     0.5165     0.8572         24        640: 100%|██████████| 1138/1138 [00:58<00:00, 19.59it/s]\n",
      "                 Class     Images  Instances      Box(P          R      mAP50  mAP50-95): 100%|██████████| 94/94 [00:04<00:00, 21.93it/s]\n"
     ]
    },
    {
     "name": "stdout",
     "output_type": "stream",
     "text": [
      "                   all       1501      17118       0.95       0.95      0.981      0.836\n",
      "\n",
      "      Epoch    GPU_mem   box_loss   cls_loss   dfl_loss  Instances       Size\n"
     ]
    },
    {
     "name": "stderr",
     "output_type": "stream",
     "text": [
      "      32/50      1.55G     0.6363     0.5145     0.8564         33        640: 100%|██████████| 1138/1138 [00:58<00:00, 19.45it/s]\n",
      "                 Class     Images  Instances      Box(P          R      mAP50  mAP50-95): 100%|██████████| 94/94 [00:04<00:00, 22.57it/s]\n"
     ]
    },
    {
     "name": "stdout",
     "output_type": "stream",
     "text": [
      "                   all       1501      17118      0.946       0.95      0.981      0.836\n",
      "\n",
      "      Epoch    GPU_mem   box_loss   cls_loss   dfl_loss  Instances       Size\n"
     ]
    },
    {
     "name": "stderr",
     "output_type": "stream",
     "text": [
      "      33/50      1.58G     0.6336     0.5072     0.8557         45        640: 100%|██████████| 1138/1138 [00:58<00:00, 19.56it/s]\n",
      "                 Class     Images  Instances      Box(P          R      mAP50  mAP50-95): 100%|██████████| 94/94 [00:04<00:00, 22.00it/s]\n"
     ]
    },
    {
     "name": "stdout",
     "output_type": "stream",
     "text": [
      "                   all       1501      17118       0.95      0.953      0.982      0.836\n",
      "\n",
      "      Epoch    GPU_mem   box_loss   cls_loss   dfl_loss  Instances       Size\n"
     ]
    },
    {
     "name": "stderr",
     "output_type": "stream",
     "text": [
      "      34/50      1.48G     0.6276     0.5038     0.8559         21        640: 100%|██████████| 1138/1138 [00:58<00:00, 19.30it/s]\n",
      "                 Class     Images  Instances      Box(P          R      mAP50  mAP50-95): 100%|██████████| 94/94 [00:04<00:00, 21.93it/s]\n"
     ]
    },
    {
     "name": "stdout",
     "output_type": "stream",
     "text": [
      "                   all       1501      17118       0.95      0.957      0.982      0.839\n",
      "\n",
      "      Epoch    GPU_mem   box_loss   cls_loss   dfl_loss  Instances       Size\n"
     ]
    },
    {
     "name": "stderr",
     "output_type": "stream",
     "text": [
      "      35/50      1.49G     0.6237     0.5009     0.8538         55        640: 100%|██████████| 1138/1138 [00:59<00:00, 19.26it/s]\n",
      "                 Class     Images  Instances      Box(P          R      mAP50  mAP50-95): 100%|██████████| 94/94 [00:04<00:00, 21.96it/s]\n"
     ]
    },
    {
     "name": "stdout",
     "output_type": "stream",
     "text": [
      "                   all       1501      17118      0.949      0.957      0.982       0.84\n",
      "\n",
      "      Epoch    GPU_mem   box_loss   cls_loss   dfl_loss  Instances       Size\n"
     ]
    },
    {
     "name": "stderr",
     "output_type": "stream",
     "text": [
      "      36/50      1.53G     0.6198     0.4967     0.8522         37        640: 100%|██████████| 1138/1138 [00:59<00:00, 19.28it/s]\n",
      "                 Class     Images  Instances      Box(P          R      mAP50  mAP50-95): 100%|██████████| 94/94 [00:04<00:00, 21.96it/s]\n"
     ]
    },
    {
     "name": "stdout",
     "output_type": "stream",
     "text": [
      "                   all       1501      17118      0.949      0.956      0.982      0.839\n",
      "\n",
      "      Epoch    GPU_mem   box_loss   cls_loss   dfl_loss  Instances       Size\n"
     ]
    },
    {
     "name": "stderr",
     "output_type": "stream",
     "text": [
      "      37/50      1.56G     0.6152     0.4929     0.8533         47        640: 100%|██████████| 1138/1138 [00:58<00:00, 19.30it/s]\n",
      "                 Class     Images  Instances      Box(P          R      mAP50  mAP50-95): 100%|██████████| 94/94 [00:04<00:00, 21.98it/s]\n"
     ]
    },
    {
     "name": "stdout",
     "output_type": "stream",
     "text": [
      "                   all       1501      17118      0.948      0.957      0.983      0.842\n",
      "\n",
      "      Epoch    GPU_mem   box_loss   cls_loss   dfl_loss  Instances       Size\n"
     ]
    },
    {
     "name": "stderr",
     "output_type": "stream",
     "text": [
      "      38/50      1.57G     0.6123     0.4898     0.8519         35        640: 100%|██████████| 1138/1138 [00:58<00:00, 19.29it/s]\n",
      "                 Class     Images  Instances      Box(P          R      mAP50  mAP50-95): 100%|██████████| 94/94 [00:04<00:00, 21.98it/s]\n"
     ]
    },
    {
     "name": "stdout",
     "output_type": "stream",
     "text": [
      "                   all       1501      17118      0.952      0.958      0.983      0.843\n",
      "\n",
      "      Epoch    GPU_mem   box_loss   cls_loss   dfl_loss  Instances       Size\n"
     ]
    },
    {
     "name": "stderr",
     "output_type": "stream",
     "text": [
      "      39/50      1.55G     0.6096     0.4874     0.8515         45        640: 100%|██████████| 1138/1138 [00:58<00:00, 19.30it/s]\n",
      "                 Class     Images  Instances      Box(P          R      mAP50  mAP50-95): 100%|██████████| 94/94 [00:04<00:00, 21.99it/s]\n"
     ]
    },
    {
     "name": "stdout",
     "output_type": "stream",
     "text": [
      "                   all       1501      17118      0.954      0.955      0.984      0.845\n",
      "\n",
      "      Epoch    GPU_mem   box_loss   cls_loss   dfl_loss  Instances       Size\n"
     ]
    },
    {
     "name": "stderr",
     "output_type": "stream",
     "text": [
      "      40/50      1.63G     0.6041     0.4803     0.8489         40        640: 100%|██████████| 1138/1138 [00:58<00:00, 19.30it/s]\n",
      "                 Class     Images  Instances      Box(P          R      mAP50  mAP50-95): 100%|██████████| 94/94 [00:04<00:00, 22.01it/s]\n"
     ]
    },
    {
     "name": "stdout",
     "output_type": "stream",
     "text": [
      "                   all       1501      17118      0.951      0.957      0.984      0.845\n",
      "Closing dataloader mosaic\n",
      "\n",
      "      Epoch    GPU_mem   box_loss   cls_loss   dfl_loss  Instances       Size\n"
     ]
    },
    {
     "name": "stderr",
     "output_type": "stream",
     "text": [
      "      41/50      1.41G     0.5397     0.4101      0.827         22        640: 100%|██████████| 1138/1138 [00:57<00:00, 19.78it/s]\n",
      "                 Class     Images  Instances      Box(P          R      mAP50  mAP50-95): 100%|██████████| 94/94 [00:04<00:00, 22.00it/s]"
     ]
    },
    {
     "name": "stdout",
     "output_type": "stream",
     "text": [
      "                   all       1501      17118      0.951      0.958      0.984      0.846\n"
     ]
    },
    {
     "name": "stderr",
     "output_type": "stream",
     "text": [
      "\n"
     ]
    },
    {
     "name": "stdout",
     "output_type": "stream",
     "text": [
      "\n",
      "      Epoch    GPU_mem   box_loss   cls_loss   dfl_loss  Instances       Size\n"
     ]
    },
    {
     "name": "stderr",
     "output_type": "stream",
     "text": [
      "      42/50      1.37G     0.5286     0.4009     0.8249         17        640: 100%|██████████| 1138/1138 [00:57<00:00, 19.79it/s]\n",
      "                 Class     Images  Instances      Box(P          R      mAP50  mAP50-95): 100%|██████████| 94/94 [00:04<00:00, 21.94it/s]\n"
     ]
    },
    {
     "name": "stdout",
     "output_type": "stream",
     "text": [
      "                   all       1501      17118      0.954       0.96      0.984       0.85\n",
      "\n",
      "      Epoch    GPU_mem   box_loss   cls_loss   dfl_loss  Instances       Size\n"
     ]
    },
    {
     "name": "stderr",
     "output_type": "stream",
     "text": [
      "      43/50      1.38G     0.5221     0.3954     0.8228         17        640: 100%|██████████| 1138/1138 [00:57<00:00, 19.75it/s]\n",
      "                 Class     Images  Instances      Box(P          R      mAP50  mAP50-95): 100%|██████████| 94/94 [00:04<00:00, 22.00it/s]\n"
     ]
    },
    {
     "name": "stdout",
     "output_type": "stream",
     "text": [
      "                   all       1501      17118      0.951      0.962      0.984      0.852\n",
      "\n",
      "      Epoch    GPU_mem   box_loss   cls_loss   dfl_loss  Instances       Size\n"
     ]
    },
    {
     "name": "stderr",
     "output_type": "stream",
     "text": [
      "      44/50      1.38G     0.5181     0.3939     0.8229         13        640: 100%|██████████| 1138/1138 [00:57<00:00, 19.81it/s]\n",
      "                 Class     Images  Instances      Box(P          R      mAP50  mAP50-95): 100%|██████████| 94/94 [00:04<00:00, 21.97it/s]\n"
     ]
    },
    {
     "name": "stdout",
     "output_type": "stream",
     "text": [
      "                   all       1501      17118      0.955      0.961      0.985      0.853\n",
      "\n",
      "      Epoch    GPU_mem   box_loss   cls_loss   dfl_loss  Instances       Size\n"
     ]
    },
    {
     "name": "stderr",
     "output_type": "stream",
     "text": [
      "      45/50      1.38G     0.5117       0.39     0.8211         23        640: 100%|██████████| 1138/1138 [00:57<00:00, 19.75it/s]\n",
      "                 Class     Images  Instances      Box(P          R      mAP50  mAP50-95): 100%|██████████| 94/94 [00:04<00:00, 22.00it/s]\n"
     ]
    },
    {
     "name": "stdout",
     "output_type": "stream",
     "text": [
      "                   all       1501      17118      0.954      0.961      0.985      0.854\n",
      "\n",
      "      Epoch    GPU_mem   box_loss   cls_loss   dfl_loss  Instances       Size\n"
     ]
    },
    {
     "name": "stderr",
     "output_type": "stream",
     "text": [
      "      46/50      1.38G     0.5087     0.3867     0.8213         21        640: 100%|██████████| 1138/1138 [00:57<00:00, 19.77it/s]\n",
      "                 Class     Images  Instances      Box(P          R      mAP50  mAP50-95): 100%|██████████| 94/94 [00:04<00:00, 21.95it/s]\n"
     ]
    },
    {
     "name": "stdout",
     "output_type": "stream",
     "text": [
      "                   all       1501      17118      0.957      0.959      0.985      0.855\n",
      "\n",
      "      Epoch    GPU_mem   box_loss   cls_loss   dfl_loss  Instances       Size\n"
     ]
    },
    {
     "name": "stderr",
     "output_type": "stream",
     "text": [
      "      47/50      1.38G     0.5046     0.3827     0.8191         26        640: 100%|██████████| 1138/1138 [00:57<00:00, 19.77it/s]\n",
      "                 Class     Images  Instances      Box(P          R      mAP50  mAP50-95): 100%|██████████| 94/94 [00:04<00:00, 22.04it/s]\n"
     ]
    },
    {
     "name": "stdout",
     "output_type": "stream",
     "text": [
      "                   all       1501      17118      0.957       0.96      0.985      0.855\n",
      "\n",
      "      Epoch    GPU_mem   box_loss   cls_loss   dfl_loss  Instances       Size\n"
     ]
    },
    {
     "name": "stderr",
     "output_type": "stream",
     "text": [
      "      48/50      1.38G     0.5038     0.3813      0.819         24        640: 100%|██████████| 1138/1138 [00:57<00:00, 19.79it/s]\n",
      "                 Class     Images  Instances      Box(P          R      mAP50  mAP50-95): 100%|██████████| 94/94 [00:04<00:00, 22.01it/s]\n"
     ]
    },
    {
     "name": "stdout",
     "output_type": "stream",
     "text": [
      "                   all       1501      17118      0.954      0.963      0.985      0.856\n",
      "\n",
      "      Epoch    GPU_mem   box_loss   cls_loss   dfl_loss  Instances       Size\n"
     ]
    },
    {
     "name": "stderr",
     "output_type": "stream",
     "text": [
      "      49/50      1.38G     0.4994     0.3798     0.8182         15        640: 100%|██████████| 1138/1138 [00:57<00:00, 19.79it/s]\n",
      "                 Class     Images  Instances      Box(P          R      mAP50  mAP50-95): 100%|██████████| 94/94 [00:04<00:00, 21.99it/s]\n"
     ]
    },
    {
     "name": "stdout",
     "output_type": "stream",
     "text": [
      "                   all       1501      17118      0.955      0.963      0.986      0.857\n",
      "\n",
      "      Epoch    GPU_mem   box_loss   cls_loss   dfl_loss  Instances       Size\n"
     ]
    },
    {
     "name": "stderr",
     "output_type": "stream",
     "text": [
      "      50/50      1.38G     0.4959     0.3769     0.8182         23        640: 100%|██████████| 1138/1138 [00:57<00:00, 19.75it/s]\n",
      "                 Class     Images  Instances      Box(P          R      mAP50  mAP50-95): 100%|██████████| 94/94 [00:04<00:00, 21.96it/s]\n"
     ]
    },
    {
     "name": "stdout",
     "output_type": "stream",
     "text": [
      "                   all       1501      17118      0.955      0.964      0.986      0.857\n",
      "\n",
      "50 epochs completed in 0.881 hours.\n",
      "Optimizer stripped from runs/detect/train7/weights/last.pt, 5.5MB\n",
      "Optimizer stripped from runs/detect/train7/weights/best.pt, 5.5MB\n",
      "\n",
      "Validating runs/detect/train7/weights/best.pt...\n",
      "Ultralytics 8.3.40 🚀 Python-3.12.2 torch-2.5.1 CUDA:0 (NVIDIA RTX A4000, 16080MiB)\n",
      "YOLO11n summary (fused): 238 layers, 2,592,682 parameters, 0 gradients\n"
     ]
    },
    {
     "name": "stderr",
     "output_type": "stream",
     "text": [
      "                 Class     Images  Instances      Box(P          R      mAP50  mAP50-95): 100%|██████████| 94/94 [00:04<00:00, 20.93it/s]\n"
     ]
    },
    {
     "name": "stdout",
     "output_type": "stream",
     "text": [
      "                   all       1501      17118      0.956      0.964      0.986      0.857\n",
      "                    2C        151        260      0.954      0.964      0.983      0.842\n",
      "                    2D        194        336       0.97       0.97      0.992      0.871\n",
      "                    2H        176        294      0.938      0.986      0.988      0.866\n",
      "                    2S        152        263      0.962      0.963      0.988      0.856\n",
      "                    3C        172        292      0.972      0.949      0.986      0.861\n",
      "                    3D        152        270       0.97       0.97      0.989      0.863\n",
      "                    3H        160        275      0.969      0.975       0.99      0.859\n",
      "                    3S        172        293      0.941      0.976      0.991       0.87\n",
      "                    4C        154        257      0.937      0.969      0.986      0.858\n",
      "                    4D        150        245      0.976      0.976      0.989      0.857\n",
      "                    4H        151        259      0.963      0.991      0.991      0.878\n",
      "                    4S        139        241      0.991      0.957       0.99      0.865\n",
      "                    5C        155        252      0.939       0.94      0.981      0.843\n",
      "                    5D        182        322      0.972      0.979       0.99      0.863\n",
      "                    5H        134        230      0.969      0.978      0.989      0.871\n",
      "                    5S        166        281      0.968      0.979      0.988      0.874\n",
      "                    6C        175        300      0.989      0.938      0.989      0.856\n",
      "                    6D        141        237      0.954      0.952      0.981      0.848\n",
      "                    6H        125        212      0.954      0.962      0.983      0.849\n",
      "                    6S        138        234      0.953      0.944      0.983       0.86\n",
      "                    7C        181        316      0.963      0.962      0.987      0.848\n",
      "                    7D        175        300      0.965      0.963      0.988      0.858\n",
      "                    7H        182        306      0.962      0.964      0.989      0.865\n",
      "                    7S        164        283      0.965      0.967       0.99      0.854\n",
      "                    8C        155        271      0.938      0.974      0.985      0.862\n",
      "                    8D        168        286      0.977      0.972      0.993       0.87\n",
      "                    8H        170        291       0.94      0.962      0.983      0.849\n",
      "                    8S        161        262      0.945      0.958      0.976       0.86\n",
      "                    9C        152        261      0.951       0.96      0.981      0.846\n",
      "                    9D        179        303      0.969      0.957      0.991      0.847\n",
      "                    9H        171        300      0.955       0.95       0.98      0.856\n",
      "                    9S        151        255      0.927      0.946      0.977      0.856\n",
      "                    AC        131        228      0.943      0.969      0.985      0.853\n",
      "                    AD        155        255      0.953      0.984      0.989      0.869\n",
      "                    AH        164        273      0.963       0.96      0.989      0.845\n",
      "                    AS        181        308       0.95      0.981      0.991      0.863\n",
      "                    JC        145        253      0.954      0.929      0.982      0.815\n",
      "                    JD        152        262      0.927      0.954      0.974      0.831\n",
      "                    JH        165        277      0.948      0.926      0.981      0.834\n",
      "                    JS        150        250      0.967      0.968       0.99      0.843\n",
      "                    KC        173        309      0.937      0.977      0.984       0.83\n",
      "                    KD        139        242      0.947      0.953      0.983      0.849\n",
      "                    KH        163        273      0.929      0.967      0.987      0.846\n",
      "                    KS        133        232      0.935      0.944      0.978      0.829\n",
      "                    QC        150        243      0.914      0.968      0.978       0.84\n",
      "                    QD        172        294      0.972      0.959      0.989      0.854\n",
      "                    QH        157        266      0.949       0.97      0.984      0.828\n",
      "                    QS        160        257      0.932      0.964      0.983      0.834\n",
      "                    TC        159        273      0.927      0.935      0.975      0.817\n",
      "                    TD        155        274      0.971      0.963      0.985      0.842\n",
      "                    TH        176        306      0.939      0.959      0.982      0.848\n",
      "                    TS        153        254      0.949      0.972       0.99      0.855\n",
      "                  hand       1501       1501          1          1      0.995      0.986\n",
      "                  flop       1501       1501          1          1      0.995      0.984\n",
      "Speed: 0.1ms preprocess, 1.2ms inference, 0.0ms loss, 0.2ms postprocess per image\n",
      "Results saved to \u001b[1mruns/detect/train7\u001b[0m\n"
     ]
    }
   ],
   "source": [
    "model = YOLO(\"runs/detect/train/weights/best.pt\")\n",
    "\n",
    "results = model.train(\n",
    "    data='synthetic_dataset_v3/data_lr.yaml',\n",
    "    epochs=50,\n",
    "    imgsz=640,\n",
    "    batch=8,\n",
    "    workers=8,\n",
    "    device=0\n",
    ")"
   ]
  },
  {
   "cell_type": "code",
   "execution_count": 15,
   "metadata": {},
   "outputs": [
    {
     "name": "stdout",
     "output_type": "stream",
     "text": [
      "\n",
      "image 1/4 /users/eleves-b/2024/mattia.martino/custom_images/IMG_0030.jpeg: 480x640 1 2D, 2 8Cs, 1 AD, 3 JCs, 2 QHs, 1 flop, 3.2ms\n",
      "image 2/4 /users/eleves-b/2024/mattia.martino/custom_images/IMG_0067.jpeg: 640x480 1 TD, 3.2ms\n",
      "image 3/4 /users/eleves-b/2024/mattia.martino/custom_images/IMG_4595.jpeg: 640x480 1 5D, 1 6D, 2 7Cs, 1 AC, 4 QHs, 1 flop, 2.9ms\n",
      "image 4/4 /users/eleves-b/2024/mattia.martino/custom_images/average-hand-of-online-poker-v0-vt94cjwjwbkd1.png.webp: 352x640 2 6Ds, 1 JD, 1 KD, 1 hand, 1 flop, 3.6ms\n",
      "Speed: 1.4ms preprocess, 3.2ms inference, 0.5ms postprocess per image at shape (1, 3, 352, 640)\n",
      "Results saved to \u001b[1mruns/detect/train72\u001b[0m\n",
      "[ultralytics.engine.results.Results object with attributes:\n",
      "\n",
      "boxes: ultralytics.engine.results.Boxes object\n",
      "keypoints: None\n",
      "masks: None\n",
      "names: {0: '2C', 1: '2D', 2: '2H', 3: '2S', 4: '3C', 5: '3D', 6: '3H', 7: '3S', 8: '4C', 9: '4D', 10: '4H', 11: '4S', 12: '5C', 13: '5D', 14: '5H', 15: '5S', 16: '6C', 17: '6D', 18: '6H', 19: '6S', 20: '7C', 21: '7D', 22: '7H', 23: '7S', 24: '8C', 25: '8D', 26: '8H', 27: '8S', 28: '9C', 29: '9D', 30: '9H', 31: '9S', 32: 'AC', 33: 'AD', 34: 'AH', 35: 'AS', 36: 'JC', 37: 'JD', 38: 'JH', 39: 'JS', 40: 'KC', 41: 'KD', 42: 'KH', 43: 'KS', 44: 'QC', 45: 'QD', 46: 'QH', 47: 'QS', 48: 'TC', 49: 'TD', 50: 'TH', 51: 'TS', 52: 'hand', 53: 'flop'}\n",
      "obb: None\n",
      "orig_img: array([[[109,  65,  34],\n",
      "        [120,  73,  42],\n",
      "        [128,  76,  46],\n",
      "        ...,\n",
      "        [207, 204, 200],\n",
      "        [208, 207, 203],\n",
      "        [214, 214, 208]],\n",
      "\n",
      "       [[112,  68,  37],\n",
      "        [120,  73,  42],\n",
      "        [127,  75,  45],\n",
      "        ...,\n",
      "        [207, 204, 200],\n",
      "        [205, 204, 200],\n",
      "        [204, 206, 200]],\n",
      "\n",
      "       [[117,  73,  42],\n",
      "        [123,  76,  45],\n",
      "        [128,  76,  46],\n",
      "        ...,\n",
      "        [207, 204, 200],\n",
      "        [203, 203, 197],\n",
      "        [201, 203, 197]],\n",
      "\n",
      "       ...,\n",
      "\n",
      "       [[104, 179, 201],\n",
      "        [129, 212, 233],\n",
      "        [125, 219, 238],\n",
      "        ...,\n",
      "        [ 21,  32,  52],\n",
      "        [ 22,  33,  53],\n",
      "        [ 22,  33,  53]],\n",
      "\n",
      "       [[ 87, 161, 185],\n",
      "        [121, 204, 226],\n",
      "        [116, 210, 229],\n",
      "        ...,\n",
      "        [ 23,  34,  54],\n",
      "        [ 22,  33,  53],\n",
      "        [ 22,  33,  53]],\n",
      "\n",
      "       [[ 73, 149, 172],\n",
      "        [114, 197, 219],\n",
      "        [107, 202, 222],\n",
      "        ...,\n",
      "        [ 16,  27,  47],\n",
      "        [ 12,  23,  43],\n",
      "        [ 10,  21,  41]]], dtype=uint8)\n",
      "orig_shape: (3024, 4032)\n",
      "path: '/users/eleves-b/2024/mattia.martino/custom_images/IMG_0030.jpeg'\n",
      "probs: None\n",
      "save_dir: 'runs/detect/train72'\n",
      "speed: {'preprocess': 1.5902519226074219, 'inference': 3.2477378845214844, 'postprocess': 0.5333423614501953}, ultralytics.engine.results.Results object with attributes:\n",
      "\n",
      "boxes: ultralytics.engine.results.Boxes object\n",
      "keypoints: None\n",
      "masks: None\n",
      "names: {0: '2C', 1: '2D', 2: '2H', 3: '2S', 4: '3C', 5: '3D', 6: '3H', 7: '3S', 8: '4C', 9: '4D', 10: '4H', 11: '4S', 12: '5C', 13: '5D', 14: '5H', 15: '5S', 16: '6C', 17: '6D', 18: '6H', 19: '6S', 20: '7C', 21: '7D', 22: '7H', 23: '7S', 24: '8C', 25: '8D', 26: '8H', 27: '8S', 28: '9C', 29: '9D', 30: '9H', 31: '9S', 32: 'AC', 33: 'AD', 34: 'AH', 35: 'AS', 36: 'JC', 37: 'JD', 38: 'JH', 39: 'JS', 40: 'KC', 41: 'KD', 42: 'KH', 43: 'KS', 44: 'QC', 45: 'QD', 46: 'QH', 47: 'QS', 48: 'TC', 49: 'TD', 50: 'TH', 51: 'TS', 52: 'hand', 53: 'flop'}\n",
      "obb: None\n",
      "orig_img: array([[[106, 106, 118],\n",
      "        [113, 113, 125],\n",
      "        [119, 119, 131],\n",
      "        ...,\n",
      "        [205, 216, 220],\n",
      "        [205, 216, 220],\n",
      "        [205, 216, 220]],\n",
      "\n",
      "       [[ 89,  89, 101],\n",
      "        [ 96,  96, 108],\n",
      "        [104, 104, 116],\n",
      "        ...,\n",
      "        [204, 215, 219],\n",
      "        [204, 215, 219],\n",
      "        [204, 215, 219]],\n",
      "\n",
      "       [[ 71,  71,  83],\n",
      "        [ 75,  75,  87],\n",
      "        [ 83,  83,  95],\n",
      "        ...,\n",
      "        [203, 214, 218],\n",
      "        [203, 214, 218],\n",
      "        [203, 214, 218]],\n",
      "\n",
      "       ...,\n",
      "\n",
      "       [[ 70,  72,  72],\n",
      "        [ 66,  68,  68],\n",
      "        [ 71,  73,  73],\n",
      "        ...,\n",
      "        [ 56,  58,  58],\n",
      "        [ 54,  56,  56],\n",
      "        [ 54,  56,  56]],\n",
      "\n",
      "       [[ 73,  75,  75],\n",
      "        [ 74,  76,  76],\n",
      "        [ 86,  88,  88],\n",
      "        ...,\n",
      "        [ 60,  62,  62],\n",
      "        [ 58,  60,  60],\n",
      "        [ 57,  59,  59]],\n",
      "\n",
      "       [[ 61,  63,  63],\n",
      "        [ 63,  65,  65],\n",
      "        [ 75,  77,  77],\n",
      "        ...,\n",
      "        [ 50,  52,  52],\n",
      "        [ 45,  47,  47],\n",
      "        [ 41,  43,  43]]], dtype=uint8)\n",
      "orig_shape: (4032, 3024)\n",
      "path: '/users/eleves-b/2024/mattia.martino/custom_images/IMG_0067.jpeg'\n",
      "probs: None\n",
      "save_dir: 'runs/detect/train72'\n",
      "speed: {'preprocess': 1.3887882232666016, 'inference': 3.161191940307617, 'postprocess': 0.5831718444824219}, ultralytics.engine.results.Results object with attributes:\n",
      "\n",
      "boxes: ultralytics.engine.results.Boxes object\n",
      "keypoints: None\n",
      "masks: None\n",
      "names: {0: '2C', 1: '2D', 2: '2H', 3: '2S', 4: '3C', 5: '3D', 6: '3H', 7: '3S', 8: '4C', 9: '4D', 10: '4H', 11: '4S', 12: '5C', 13: '5D', 14: '5H', 15: '5S', 16: '6C', 17: '6D', 18: '6H', 19: '6S', 20: '7C', 21: '7D', 22: '7H', 23: '7S', 24: '8C', 25: '8D', 26: '8H', 27: '8S', 28: '9C', 29: '9D', 30: '9H', 31: '9S', 32: 'AC', 33: 'AD', 34: 'AH', 35: 'AS', 36: 'JC', 37: 'JD', 38: 'JH', 39: 'JS', 40: 'KC', 41: 'KD', 42: 'KH', 43: 'KS', 44: 'QC', 45: 'QD', 46: 'QH', 47: 'QS', 48: 'TC', 49: 'TD', 50: 'TH', 51: 'TS', 52: 'hand', 53: 'flop'}\n",
      "obb: None\n",
      "orig_img: array([[[199, 202, 200],\n",
      "        [200, 203, 201],\n",
      "        [204, 207, 205],\n",
      "        ...,\n",
      "        [203, 205, 205],\n",
      "        [205, 207, 207],\n",
      "        [202, 204, 204]],\n",
      "\n",
      "       [[199, 202, 200],\n",
      "        [199, 202, 200],\n",
      "        [201, 204, 202],\n",
      "        ...,\n",
      "        [199, 201, 201],\n",
      "        [202, 204, 204],\n",
      "        [201, 203, 203]],\n",
      "\n",
      "       [[196, 199, 197],\n",
      "        [197, 200, 198],\n",
      "        [197, 200, 198],\n",
      "        ...,\n",
      "        [199, 201, 201],\n",
      "        [202, 204, 204],\n",
      "        [203, 205, 205]],\n",
      "\n",
      "       ...,\n",
      "\n",
      "       [[  2,   0,   0],\n",
      "        [  7,   5,   4],\n",
      "        [  5,   3,   2],\n",
      "        ...,\n",
      "        [203, 208, 207],\n",
      "        [198, 203, 202],\n",
      "        [192, 197, 196]],\n",
      "\n",
      "       [[  5,   3,   2],\n",
      "        [  5,   3,   2],\n",
      "        [  5,   3,   2],\n",
      "        ...,\n",
      "        [201, 206, 205],\n",
      "        [193, 198, 197],\n",
      "        [191, 196, 195]],\n",
      "\n",
      "       [[ 13,  11,  10],\n",
      "        [  5,   3,   2],\n",
      "        [  4,   2,   1],\n",
      "        ...,\n",
      "        [190, 195, 194],\n",
      "        [195, 200, 199],\n",
      "        [203, 208, 207]]], dtype=uint8)\n",
      "orig_shape: (4032, 3024)\n",
      "path: '/users/eleves-b/2024/mattia.martino/custom_images/IMG_4595.jpeg'\n",
      "probs: None\n",
      "save_dir: 'runs/detect/train72'\n",
      "speed: {'preprocess': 1.3422966003417969, 'inference': 2.882719039916992, 'postprocess': 0.5125999450683594}, ultralytics.engine.results.Results object with attributes:\n",
      "\n",
      "boxes: ultralytics.engine.results.Boxes object\n",
      "keypoints: None\n",
      "masks: None\n",
      "names: {0: '2C', 1: '2D', 2: '2H', 3: '2S', 4: '3C', 5: '3D', 6: '3H', 7: '3S', 8: '4C', 9: '4D', 10: '4H', 11: '4S', 12: '5C', 13: '5D', 14: '5H', 15: '5S', 16: '6C', 17: '6D', 18: '6H', 19: '6S', 20: '7C', 21: '7D', 22: '7H', 23: '7S', 24: '8C', 25: '8D', 26: '8H', 27: '8S', 28: '9C', 29: '9D', 30: '9H', 31: '9S', 32: 'AC', 33: 'AD', 34: 'AH', 35: 'AS', 36: 'JC', 37: 'JD', 38: 'JH', 39: 'JS', 40: 'KC', 41: 'KD', 42: 'KH', 43: 'KS', 44: 'QC', 45: 'QD', 46: 'QH', 47: 'QS', 48: 'TC', 49: 'TD', 50: 'TH', 51: 'TS', 52: 'hand', 53: 'flop'}\n",
      "obb: None\n",
      "orig_img: array([[[255, 252, 254],\n",
      "        [241, 229, 231],\n",
      "        [249, 238, 237],\n",
      "        ...,\n",
      "        [227, 210, 187],\n",
      "        [227, 210, 187],\n",
      "        [227, 210, 187]],\n",
      "\n",
      "       [[223, 207, 205],\n",
      "        [ 73,  58,  56],\n",
      "        [ 82,  67,  63],\n",
      "        ...,\n",
      "        [ 33,  15,   0],\n",
      "        [ 33,  15,   0],\n",
      "        [ 33,  15,   0]],\n",
      "\n",
      "       [[223, 203, 195],\n",
      "        [ 27,   8,   0],\n",
      "        [ 43,  24,  14],\n",
      "        ...,\n",
      "        [ 48,  30,   8],\n",
      "        [ 48,  30,   8],\n",
      "        [ 48,  30,   8]],\n",
      "\n",
      "       ...,\n",
      "\n",
      "       [[201, 200, 198],\n",
      "        [  1,   0,   0],\n",
      "        [ 10,   9,   7],\n",
      "        ...,\n",
      "        [  8,   4,   2],\n",
      "        [  8,   4,   2],\n",
      "        [  8,   4,   2]],\n",
      "\n",
      "       [[202, 201, 199],\n",
      "        [  2,   0,   0],\n",
      "        [ 11,  10,   8],\n",
      "        ...,\n",
      "        [ 10,   3,   2],\n",
      "        [ 10,   3,   2],\n",
      "        [ 10,   3,   2]],\n",
      "\n",
      "       [[202, 201, 199],\n",
      "        [  2,   0,   0],\n",
      "        [ 11,  10,   8],\n",
      "        ...,\n",
      "        [ 10,   3,   2],\n",
      "        [ 10,   3,   2],\n",
      "        [ 10,   3,   2]]], dtype=uint8)\n",
      "orig_shape: (346, 640)\n",
      "path: '/users/eleves-b/2024/mattia.martino/custom_images/average-hand-of-online-poker-v0-vt94cjwjwbkd1.png.webp'\n",
      "probs: None\n",
      "save_dir: 'runs/detect/train72'\n",
      "speed: {'preprocess': 1.2500286102294922, 'inference': 3.604888916015625, 'postprocess': 0.4756450653076172}]\n"
     ]
    }
   ],
   "source": [
    "check = YOLO(\"runs/detect/train7/weights/best.pt\")\n",
    "\n",
    "# Predict on a custom image\n",
    "results = model.predict(source=\"./custom_images\", save=True)\n",
    "\n",
    "# Print results\n",
    "print(results)"
   ]
  },
  {
   "cell_type": "code",
   "execution_count": 17,
   "metadata": {},
   "outputs": [
    {
     "name": "stdout",
     "output_type": "stream",
     "text": [
      "New https://pypi.org/project/ultralytics/8.3.49 available 😃 Update with 'pip install -U ultralytics'\n",
      "Ultralytics 8.3.40 🚀 Python-3.12.2 torch-2.5.1 CUDA:0 (NVIDIA RTX A4000, 16080MiB)\n",
      "\u001b[34m\u001b[1mengine/trainer: \u001b[0mtask=detect, mode=train, model=yolo11n.pt, data=synthetic_dataset_v3/data_full.yaml, epochs=75, time=None, patience=100, batch=16, imgsz=640, save=True, save_period=-1, cache=False, device=0, workers=8, project=None, name=train, exist_ok=False, pretrained=True, optimizer=auto, verbose=True, seed=0, deterministic=True, single_cls=False, rect=False, cos_lr=False, close_mosaic=10, resume=False, amp=True, fraction=1.0, profile=False, freeze=None, multi_scale=False, overlap_mask=True, mask_ratio=4, dropout=0.0, val=True, split=val, save_json=False, save_hybrid=False, conf=None, iou=0.7, max_det=300, half=False, dnn=False, plots=True, source=None, vid_stride=1, stream_buffer=False, visualize=False, augment=False, agnostic_nms=False, classes=None, retina_masks=False, embed=None, show=False, save_frames=False, save_txt=False, save_conf=False, save_crop=False, show_labels=True, show_conf=True, show_boxes=True, line_width=None, format=torchscript, keras=False, optimize=False, int8=False, dynamic=False, simplify=True, opset=None, workspace=None, nms=False, lr0=0.01, lrf=0.01, momentum=0.937, weight_decay=0.0005, warmup_epochs=3.0, warmup_momentum=0.8, warmup_bias_lr=0.1, box=7.5, cls=0.5, dfl=1.5, pose=12.0, kobj=1.0, nbs=64, hsv_h=0.015, hsv_s=0.7, hsv_v=0.4, degrees=0.0, translate=0.1, scale=0.5, shear=0.0, perspective=0.0, flipud=0.0, fliplr=0.5, bgr=0.0, mosaic=1.0, mixup=0.0, copy_paste=0.0, copy_paste_mode=flip, auto_augment=randaugment, erasing=0.4, crop_fraction=1.0, cfg=None, tracker=botsort.yaml, save_dir=runs/detect/train\n",
      "Overriding model.yaml nc=80 with nc=54\n",
      "\n",
      "                   from  n    params  module                                       arguments                     \n",
      "  0                  -1  1       464  ultralytics.nn.modules.conv.Conv             [3, 16, 3, 2]                 \n",
      "  1                  -1  1      4672  ultralytics.nn.modules.conv.Conv             [16, 32, 3, 2]                \n",
      "  2                  -1  1      6640  ultralytics.nn.modules.block.C3k2            [32, 64, 1, False, 0.25]      \n",
      "  3                  -1  1     36992  ultralytics.nn.modules.conv.Conv             [64, 64, 3, 2]                \n",
      "  4                  -1  1     26080  ultralytics.nn.modules.block.C3k2            [64, 128, 1, False, 0.25]     \n",
      "  5                  -1  1    147712  ultralytics.nn.modules.conv.Conv             [128, 128, 3, 2]              \n",
      "  6                  -1  1     87040  ultralytics.nn.modules.block.C3k2            [128, 128, 1, True]           \n",
      "  7                  -1  1    295424  ultralytics.nn.modules.conv.Conv             [128, 256, 3, 2]              \n",
      "  8                  -1  1    346112  ultralytics.nn.modules.block.C3k2            [256, 256, 1, True]           \n",
      "  9                  -1  1    164608  ultralytics.nn.modules.block.SPPF            [256, 256, 5]                 \n",
      " 10                  -1  1    249728  ultralytics.nn.modules.block.C2PSA           [256, 256, 1]                 \n",
      " 11                  -1  1         0  torch.nn.modules.upsampling.Upsample         [None, 2, 'nearest']          \n",
      " 12             [-1, 6]  1         0  ultralytics.nn.modules.conv.Concat           [1]                           \n",
      " 13                  -1  1    111296  ultralytics.nn.modules.block.C3k2            [384, 128, 1, False]          \n",
      " 14                  -1  1         0  torch.nn.modules.upsampling.Upsample         [None, 2, 'nearest']          \n",
      " 15             [-1, 4]  1         0  ultralytics.nn.modules.conv.Concat           [1]                           \n",
      " 16                  -1  1     32096  ultralytics.nn.modules.block.C3k2            [256, 64, 1, False]           \n",
      " 17                  -1  1     36992  ultralytics.nn.modules.conv.Conv             [64, 64, 3, 2]                \n",
      " 18            [-1, 13]  1         0  ultralytics.nn.modules.conv.Concat           [1]                           \n",
      " 19                  -1  1     86720  ultralytics.nn.modules.block.C3k2            [192, 128, 1, False]          \n",
      " 20                  -1  1    147712  ultralytics.nn.modules.conv.Conv             [128, 128, 3, 2]              \n",
      " 21            [-1, 10]  1         0  ultralytics.nn.modules.conv.Concat           [1]                           \n",
      " 22                  -1  1    378880  ultralytics.nn.modules.block.C3k2            [384, 256, 1, True]           \n",
      " 23        [16, 19, 22]  1    441202  ultralytics.nn.modules.head.Detect           [54, [64, 128, 256]]          \n",
      "YOLO11n summary: 319 layers, 2,600,370 parameters, 2,600,354 gradients\n",
      "\n",
      "Transferred 448/499 items from pretrained weights\n",
      "Freezing layer 'model.23.dfl.conv.weight'\n",
      "\u001b[34m\u001b[1mAMP: \u001b[0mrunning Automatic Mixed Precision (AMP) checks...\n",
      "\u001b[34m\u001b[1mAMP: \u001b[0mchecks passed ✅\n"
     ]
    },
    {
     "name": "stderr",
     "output_type": "stream",
     "text": [
      "\u001b[34m\u001b[1mtrain: \u001b[0mScanning /users/eleves-b/2024/mattia.martino/synthetic_dataset_v3/train_full/labels... 1485 images, 7992 backgrounds, 43 corrupt: 100%|██████████| 9477/9477 [00:10<00:00, 920.50it/s] "
     ]
    },
    {
     "name": "stdout",
     "output_type": "stream",
     "text": [
      "\u001b[34m\u001b[1mtrain: \u001b[0mWARNING ⚠️ /users/eleves-b/2024/mattia.martino/synthetic_dataset_v3/train_full/images/image_00040.png: ignoring corrupt image/label: non-normalized or out of bounds coordinates [     1.0821]\n",
      "\u001b[34m\u001b[1mtrain: \u001b[0mWARNING ⚠️ /users/eleves-b/2024/mattia.martino/synthetic_dataset_v3/train_full/images/image_00079.png: ignoring corrupt image/label: non-normalized or out of bounds coordinates [     1.0381]\n",
      "\u001b[34m\u001b[1mtrain: \u001b[0mWARNING ⚠️ /users/eleves-b/2024/mattia.martino/synthetic_dataset_v3/train_full/images/image_00281.png: ignoring corrupt image/label: non-normalized or out of bounds coordinates [      1.073]\n",
      "\u001b[34m\u001b[1mtrain: \u001b[0mWARNING ⚠️ /users/eleves-b/2024/mattia.martino/synthetic_dataset_v3/train_full/images/image_00342.png: ignoring corrupt image/label: non-normalized or out of bounds coordinates [      1.062]\n",
      "\u001b[34m\u001b[1mtrain: \u001b[0mWARNING ⚠️ /users/eleves-b/2024/mattia.martino/synthetic_dataset_v3/train_full/images/image_00394.png: ignoring corrupt image/label: non-normalized or out of bounds coordinates [     1.0267]\n",
      "\u001b[34m\u001b[1mtrain: \u001b[0mWARNING ⚠️ /users/eleves-b/2024/mattia.martino/synthetic_dataset_v3/train_full/images/image_00414.png: ignoring corrupt image/label: non-normalized or out of bounds coordinates [     1.0494]\n",
      "\u001b[34m\u001b[1mtrain: \u001b[0mWARNING ⚠️ /users/eleves-b/2024/mattia.martino/synthetic_dataset_v3/train_full/images/image_00610.png: ignoring corrupt image/label: non-normalized or out of bounds coordinates [     1.0109]\n",
      "\u001b[34m\u001b[1mtrain: \u001b[0mWARNING ⚠️ /users/eleves-b/2024/mattia.martino/synthetic_dataset_v3/train_full/images/image_00682.png: ignoring corrupt image/label: non-normalized or out of bounds coordinates [     1.0069]\n",
      "\u001b[34m\u001b[1mtrain: \u001b[0mWARNING ⚠️ /users/eleves-b/2024/mattia.martino/synthetic_dataset_v3/train_full/images/image_00695.png: ignoring corrupt image/label: non-normalized or out of bounds coordinates [     1.0275]\n",
      "\u001b[34m\u001b[1mtrain: \u001b[0mWARNING ⚠️ /users/eleves-b/2024/mattia.martino/synthetic_dataset_v3/train_full/images/image_00718.png: ignoring corrupt image/label: non-normalized or out of bounds coordinates [      1.048]\n",
      "\u001b[34m\u001b[1mtrain: \u001b[0mWARNING ⚠️ /users/eleves-b/2024/mattia.martino/synthetic_dataset_v3/train_full/images/image_00762.png: ignoring corrupt image/label: non-normalized or out of bounds coordinates [     1.1291]\n",
      "\u001b[34m\u001b[1mtrain: \u001b[0mWARNING ⚠️ /users/eleves-b/2024/mattia.martino/synthetic_dataset_v3/train_full/images/image_00771.png: ignoring corrupt image/label: non-normalized or out of bounds coordinates [     1.0279]\n",
      "\u001b[34m\u001b[1mtrain: \u001b[0mWARNING ⚠️ /users/eleves-b/2024/mattia.martino/synthetic_dataset_v3/train_full/images/image_00775.png: ignoring corrupt image/label: non-normalized or out of bounds coordinates [     1.1355]\n",
      "\u001b[34m\u001b[1mtrain: \u001b[0mWARNING ⚠️ /users/eleves-b/2024/mattia.martino/synthetic_dataset_v3/train_full/images/image_00863.png: ignoring corrupt image/label: non-normalized or out of bounds coordinates [     1.0746]\n",
      "\u001b[34m\u001b[1mtrain: \u001b[0mWARNING ⚠️ /users/eleves-b/2024/mattia.martino/synthetic_dataset_v3/train_full/images/image_00893.png: ignoring corrupt image/label: non-normalized or out of bounds coordinates [     1.1121]\n",
      "\u001b[34m\u001b[1mtrain: \u001b[0mWARNING ⚠️ /users/eleves-b/2024/mattia.martino/synthetic_dataset_v3/train_full/images/image_00900.png: ignoring corrupt image/label: non-normalized or out of bounds coordinates [     1.0282]\n",
      "\u001b[34m\u001b[1mtrain: \u001b[0mWARNING ⚠️ /users/eleves-b/2024/mattia.martino/synthetic_dataset_v3/train_full/images/image_00919.png: ignoring corrupt image/label: non-normalized or out of bounds coordinates [     1.0893]\n",
      "\u001b[34m\u001b[1mtrain: \u001b[0mWARNING ⚠️ /users/eleves-b/2024/mattia.martino/synthetic_dataset_v3/train_full/images/image_01080.png: ignoring corrupt image/label: non-normalized or out of bounds coordinates [     1.0324]\n",
      "\u001b[34m\u001b[1mtrain: \u001b[0mWARNING ⚠️ /users/eleves-b/2024/mattia.martino/synthetic_dataset_v3/train_full/images/image_01122.png: ignoring corrupt image/label: non-normalized or out of bounds coordinates [     1.0941]\n",
      "\u001b[34m\u001b[1mtrain: \u001b[0mWARNING ⚠️ /users/eleves-b/2024/mattia.martino/synthetic_dataset_v3/train_full/images/image_01165.png: ignoring corrupt image/label: non-normalized or out of bounds coordinates [     1.0506]\n",
      "\u001b[34m\u001b[1mtrain: \u001b[0mWARNING ⚠️ /users/eleves-b/2024/mattia.martino/synthetic_dataset_v3/train_full/images/image_01182.png: ignoring corrupt image/label: non-normalized or out of bounds coordinates [     1.1189]\n",
      "\u001b[34m\u001b[1mtrain: \u001b[0mWARNING ⚠️ /users/eleves-b/2024/mattia.martino/synthetic_dataset_v3/train_full/images/image_01210.png: ignoring corrupt image/label: non-normalized or out of bounds coordinates [      1.176]\n",
      "\u001b[34m\u001b[1mtrain: \u001b[0mWARNING ⚠️ /users/eleves-b/2024/mattia.martino/synthetic_dataset_v3/train_full/images/image_01295.png: ignoring corrupt image/label: non-normalized or out of bounds coordinates [     1.0649]\n",
      "\u001b[34m\u001b[1mtrain: \u001b[0mWARNING ⚠️ /users/eleves-b/2024/mattia.martino/synthetic_dataset_v3/train_full/images/image_01316.png: ignoring corrupt image/label: non-normalized or out of bounds coordinates [     1.0681]\n",
      "\u001b[34m\u001b[1mtrain: \u001b[0mWARNING ⚠️ /users/eleves-b/2024/mattia.martino/synthetic_dataset_v3/train_full/images/image_01345.png: ignoring corrupt image/label: non-normalized or out of bounds coordinates [     1.0684]\n",
      "\u001b[34m\u001b[1mtrain: \u001b[0mWARNING ⚠️ /users/eleves-b/2024/mattia.martino/synthetic_dataset_v3/train_full/images/image_01388.png: ignoring corrupt image/label: non-normalized or out of bounds coordinates [     1.1837]\n",
      "\u001b[34m\u001b[1mtrain: \u001b[0mWARNING ⚠️ /users/eleves-b/2024/mattia.martino/synthetic_dataset_v3/train_full/images/image_01395.png: ignoring corrupt image/label: non-normalized or out of bounds coordinates [     1.1132]\n",
      "\u001b[34m\u001b[1mtrain: \u001b[0mWARNING ⚠️ /users/eleves-b/2024/mattia.martino/synthetic_dataset_v3/train_full/images/image_01432.png: ignoring corrupt image/label: non-normalized or out of bounds coordinates [     1.1272]\n",
      "\u001b[34m\u001b[1mtrain: \u001b[0mWARNING ⚠️ /users/eleves-b/2024/mattia.martino/synthetic_dataset_v3/train_full/images/image_01516.png: ignoring corrupt image/label: non-normalized or out of bounds coordinates [     1.0135]\n",
      "\u001b[34m\u001b[1mtrain: \u001b[0mWARNING ⚠️ /users/eleves-b/2024/mattia.martino/synthetic_dataset_v3/train_full/images/image_01551.png: ignoring corrupt image/label: non-normalized or out of bounds coordinates [     1.0466]\n",
      "\u001b[34m\u001b[1mtrain: \u001b[0mWARNING ⚠️ /users/eleves-b/2024/mattia.martino/synthetic_dataset_v3/train_full/images/image_01586.png: ignoring corrupt image/label: non-normalized or out of bounds coordinates [     1.1326]\n",
      "\u001b[34m\u001b[1mtrain: \u001b[0mWARNING ⚠️ /users/eleves-b/2024/mattia.martino/synthetic_dataset_v3/train_full/images/image_01666.png: ignoring corrupt image/label: non-normalized or out of bounds coordinates [     1.1088]\n",
      "\u001b[34m\u001b[1mtrain: \u001b[0mWARNING ⚠️ /users/eleves-b/2024/mattia.martino/synthetic_dataset_v3/train_full/images/image_01761.png: ignoring corrupt image/label: non-normalized or out of bounds coordinates [     1.0548]\n",
      "\u001b[34m\u001b[1mtrain: \u001b[0mWARNING ⚠️ /users/eleves-b/2024/mattia.martino/synthetic_dataset_v3/train_full/images/image_01866.png: ignoring corrupt image/label: non-normalized or out of bounds coordinates [     1.0954]\n",
      "\u001b[34m\u001b[1mtrain: \u001b[0mWARNING ⚠️ /users/eleves-b/2024/mattia.martino/synthetic_dataset_v3/train_full/images/image_01874.png: ignoring corrupt image/label: non-normalized or out of bounds coordinates [     1.0429]\n",
      "\u001b[34m\u001b[1mtrain: \u001b[0mWARNING ⚠️ /users/eleves-b/2024/mattia.martino/synthetic_dataset_v3/train_full/images/image_01945.png: ignoring corrupt image/label: non-normalized or out of bounds coordinates [     1.1507]\n",
      "\u001b[34m\u001b[1mtrain: \u001b[0mWARNING ⚠️ /users/eleves-b/2024/mattia.martino/synthetic_dataset_v3/train_full/images/image_01951.png: ignoring corrupt image/label: non-normalized or out of bounds coordinates [     1.0891]\n",
      "\u001b[34m\u001b[1mtrain: \u001b[0mWARNING ⚠️ /users/eleves-b/2024/mattia.martino/synthetic_dataset_v3/train_full/images/image_01956.png: ignoring corrupt image/label: non-normalized or out of bounds coordinates [     1.0805]\n",
      "\u001b[34m\u001b[1mtrain: \u001b[0mWARNING ⚠️ /users/eleves-b/2024/mattia.martino/synthetic_dataset_v3/train_full/images/image_02012.png: ignoring corrupt image/label: non-normalized or out of bounds coordinates [      1.016]\n",
      "\u001b[34m\u001b[1mtrain: \u001b[0mWARNING ⚠️ /users/eleves-b/2024/mattia.martino/synthetic_dataset_v3/train_full/images/image_02048.png: ignoring corrupt image/label: non-normalized or out of bounds coordinates [     1.0763]\n",
      "\u001b[34m\u001b[1mtrain: \u001b[0mWARNING ⚠️ /users/eleves-b/2024/mattia.martino/synthetic_dataset_v3/train_full/images/image_02143.png: ignoring corrupt image/label: non-normalized or out of bounds coordinates [     1.1477]\n",
      "\u001b[34m\u001b[1mtrain: \u001b[0mWARNING ⚠️ /users/eleves-b/2024/mattia.martino/synthetic_dataset_v3/train_full/images/image_02206.png: ignoring corrupt image/label: non-normalized or out of bounds coordinates [      1.002]\n",
      "\u001b[34m\u001b[1mtrain: \u001b[0mWARNING ⚠️ /users/eleves-b/2024/mattia.martino/synthetic_dataset_v3/train_full/images/image_02243.png: ignoring corrupt image/label: non-normalized or out of bounds coordinates [      1.112]\n"
     ]
    },
    {
     "name": "stderr",
     "output_type": "stream",
     "text": [
      "\n"
     ]
    },
    {
     "name": "stdout",
     "output_type": "stream",
     "text": [
      "\u001b[34m\u001b[1mtrain: \u001b[0mNew cache created: /users/eleves-b/2024/mattia.martino/synthetic_dataset_v3/train_full/labels.cache\n"
     ]
    },
    {
     "name": "stderr",
     "output_type": "stream",
     "text": [
      "\u001b[34m\u001b[1mval: \u001b[0mScanning /users/eleves-b/2024/mattia.martino/synthetic_dataset_v3/val_full/labels... 1569 images, 0 backgrounds, 50 corrupt: 100%|██████████| 1569/1569 [00:03<00:00, 496.88it/s]"
     ]
    },
    {
     "name": "stdout",
     "output_type": "stream",
     "text": [
      "\u001b[34m\u001b[1mval: \u001b[0mWARNING ⚠️ /users/eleves-b/2024/mattia.martino/synthetic_dataset_v3/val_full/images/image_00043.png: ignoring corrupt image/label: non-normalized or out of bounds coordinates [     1.1581]\n",
      "\u001b[34m\u001b[1mval: \u001b[0mWARNING ⚠️ /users/eleves-b/2024/mattia.martino/synthetic_dataset_v3/val_full/images/image_00076.png: ignoring corrupt image/label: non-normalized or out of bounds coordinates [     1.0118]\n",
      "\u001b[34m\u001b[1mval: \u001b[0mWARNING ⚠️ /users/eleves-b/2024/mattia.martino/synthetic_dataset_v3/val_full/images/image_00108.png: ignoring corrupt image/label: non-normalized or out of bounds coordinates [     1.0698]\n",
      "\u001b[34m\u001b[1mval: \u001b[0mWARNING ⚠️ /users/eleves-b/2024/mattia.martino/synthetic_dataset_v3/val_full/images/image_00121.png: ignoring corrupt image/label: non-normalized or out of bounds coordinates [     1.1635]\n",
      "\u001b[34m\u001b[1mval: \u001b[0mWARNING ⚠️ /users/eleves-b/2024/mattia.martino/synthetic_dataset_v3/val_full/images/image_00138.png: ignoring corrupt image/label: non-normalized or out of bounds coordinates [     1.0626]\n",
      "\u001b[34m\u001b[1mval: \u001b[0mWARNING ⚠️ /users/eleves-b/2024/mattia.martino/synthetic_dataset_v3/val_full/images/image_00216.png: ignoring corrupt image/label: non-normalized or out of bounds coordinates [     1.0961]\n",
      "\u001b[34m\u001b[1mval: \u001b[0mWARNING ⚠️ /users/eleves-b/2024/mattia.martino/synthetic_dataset_v3/val_full/images/image_00252.png: ignoring corrupt image/label: non-normalized or out of bounds coordinates [     1.0404]\n",
      "\u001b[34m\u001b[1mval: \u001b[0mWARNING ⚠️ /users/eleves-b/2024/mattia.martino/synthetic_dataset_v3/val_full/images/image_00254.png: ignoring corrupt image/label: non-normalized or out of bounds coordinates [      1.051]\n",
      "\u001b[34m\u001b[1mval: \u001b[0mWARNING ⚠️ /users/eleves-b/2024/mattia.martino/synthetic_dataset_v3/val_full/images/image_00325.png: ignoring corrupt image/label: non-normalized or out of bounds coordinates [     1.0412]\n",
      "\u001b[34m\u001b[1mval: \u001b[0mWARNING ⚠️ /users/eleves-b/2024/mattia.martino/synthetic_dataset_v3/val_full/images/image_00405.png: ignoring corrupt image/label: non-normalized or out of bounds coordinates [     1.1064]\n",
      "\u001b[34m\u001b[1mval: \u001b[0mWARNING ⚠️ /users/eleves-b/2024/mattia.martino/synthetic_dataset_v3/val_full/images/image_00461.png: ignoring corrupt image/label: non-normalized or out of bounds coordinates [     1.1047]\n",
      "\u001b[34m\u001b[1mval: \u001b[0mWARNING ⚠️ /users/eleves-b/2024/mattia.martino/synthetic_dataset_v3/val_full/images/image_00526.png: ignoring corrupt image/label: non-normalized or out of bounds coordinates [     1.0111]\n",
      "\u001b[34m\u001b[1mval: \u001b[0mWARNING ⚠️ /users/eleves-b/2024/mattia.martino/synthetic_dataset_v3/val_full/images/image_00589.png: ignoring corrupt image/label: non-normalized or out of bounds coordinates [     1.0822]\n",
      "\u001b[34m\u001b[1mval: \u001b[0mWARNING ⚠️ /users/eleves-b/2024/mattia.martino/synthetic_dataset_v3/val_full/images/image_00602.png: ignoring corrupt image/label: non-normalized or out of bounds coordinates [     1.0381]\n",
      "\u001b[34m\u001b[1mval: \u001b[0mWARNING ⚠️ /users/eleves-b/2024/mattia.martino/synthetic_dataset_v3/val_full/images/image_00667.png: ignoring corrupt image/label: non-normalized or out of bounds coordinates [     1.0324]\n",
      "\u001b[34m\u001b[1mval: \u001b[0mWARNING ⚠️ /users/eleves-b/2024/mattia.martino/synthetic_dataset_v3/val_full/images/image_00725.png: ignoring corrupt image/label: non-normalized or out of bounds coordinates [     1.0652]\n",
      "\u001b[34m\u001b[1mval: \u001b[0mWARNING ⚠️ /users/eleves-b/2024/mattia.martino/synthetic_dataset_v3/val_full/images/image_00772.png: ignoring corrupt image/label: non-normalized or out of bounds coordinates [     1.0427]\n",
      "\u001b[34m\u001b[1mval: \u001b[0mWARNING ⚠️ /users/eleves-b/2024/mattia.martino/synthetic_dataset_v3/val_full/images/image_00791.png: ignoring corrupt image/label: non-normalized or out of bounds coordinates [     1.0706]\n",
      "\u001b[34m\u001b[1mval: \u001b[0mWARNING ⚠️ /users/eleves-b/2024/mattia.martino/synthetic_dataset_v3/val_full/images/image_00794.png: ignoring corrupt image/label: non-normalized or out of bounds coordinates [     1.0281]\n",
      "\u001b[34m\u001b[1mval: \u001b[0mWARNING ⚠️ /users/eleves-b/2024/mattia.martino/synthetic_dataset_v3/val_full/images/image_00846.png: ignoring corrupt image/label: non-normalized or out of bounds coordinates [     1.0841]\n",
      "\u001b[34m\u001b[1mval: \u001b[0mWARNING ⚠️ /users/eleves-b/2024/mattia.martino/synthetic_dataset_v3/val_full/images/image_00904.png: ignoring corrupt image/label: non-normalized or out of bounds coordinates [     1.0306]\n",
      "\u001b[34m\u001b[1mval: \u001b[0mWARNING ⚠️ /users/eleves-b/2024/mattia.martino/synthetic_dataset_v3/val_full/images/image_00944.png: ignoring corrupt image/label: non-normalized or out of bounds coordinates [     1.0894]\n",
      "\u001b[34m\u001b[1mval: \u001b[0mWARNING ⚠️ /users/eleves-b/2024/mattia.martino/synthetic_dataset_v3/val_full/images/image_00961.png: ignoring corrupt image/label: non-normalized or out of bounds coordinates [     1.0753]\n",
      "\u001b[34m\u001b[1mval: \u001b[0mWARNING ⚠️ /users/eleves-b/2024/mattia.martino/synthetic_dataset_v3/val_full/images/image_00978.png: ignoring corrupt image/label: non-normalized or out of bounds coordinates [     1.1444]\n",
      "\u001b[34m\u001b[1mval: \u001b[0mWARNING ⚠️ /users/eleves-b/2024/mattia.martino/synthetic_dataset_v3/val_full/images/image_00989.png: ignoring corrupt image/label: non-normalized or out of bounds coordinates [     1.0473]\n",
      "\u001b[34m\u001b[1mval: \u001b[0mWARNING ⚠️ /users/eleves-b/2024/mattia.martino/synthetic_dataset_v3/val_full/images/image_01002.png: ignoring corrupt image/label: non-normalized or out of bounds coordinates [     1.0674]\n",
      "\u001b[34m\u001b[1mval: \u001b[0mWARNING ⚠️ /users/eleves-b/2024/mattia.martino/synthetic_dataset_v3/val_full/images/image_01069.png: ignoring corrupt image/label: non-normalized or out of bounds coordinates [     1.0873]\n",
      "\u001b[34m\u001b[1mval: \u001b[0mWARNING ⚠️ /users/eleves-b/2024/mattia.martino/synthetic_dataset_v3/val_full/images/image_01109.png: ignoring corrupt image/label: non-normalized or out of bounds coordinates [      1.162]\n",
      "\u001b[34m\u001b[1mval: \u001b[0mWARNING ⚠️ /users/eleves-b/2024/mattia.martino/synthetic_dataset_v3/val_full/images/image_01174.png: ignoring corrupt image/label: non-normalized or out of bounds coordinates [     1.0743]\n",
      "\u001b[34m\u001b[1mval: \u001b[0mWARNING ⚠️ /users/eleves-b/2024/mattia.martino/synthetic_dataset_v3/val_full/images/image_01317.png: ignoring corrupt image/label: non-normalized or out of bounds coordinates [     1.1335]\n",
      "\u001b[34m\u001b[1mval: \u001b[0mWARNING ⚠️ /users/eleves-b/2024/mattia.martino/synthetic_dataset_v3/val_full/images/image_01334.png: ignoring corrupt image/label: non-normalized or out of bounds coordinates [     1.0125]\n",
      "\u001b[34m\u001b[1mval: \u001b[0mWARNING ⚠️ /users/eleves-b/2024/mattia.martino/synthetic_dataset_v3/val_full/images/image_01456.png: ignoring corrupt image/label: non-normalized or out of bounds coordinates [     1.0011]\n",
      "\u001b[34m\u001b[1mval: \u001b[0mWARNING ⚠️ /users/eleves-b/2024/mattia.martino/synthetic_dataset_v3/val_full/images/image_01536.png: ignoring corrupt image/label: non-normalized or out of bounds coordinates [     1.0293]\n",
      "\u001b[34m\u001b[1mval: \u001b[0mWARNING ⚠️ /users/eleves-b/2024/mattia.martino/synthetic_dataset_v3/val_full/images/image_01547.png: ignoring corrupt image/label: non-normalized or out of bounds coordinates [     1.0215]\n",
      "\u001b[34m\u001b[1mval: \u001b[0mWARNING ⚠️ /users/eleves-b/2024/mattia.martino/synthetic_dataset_v3/val_full/images/image_01702.png: ignoring corrupt image/label: non-normalized or out of bounds coordinates [     1.0164]\n",
      "\u001b[34m\u001b[1mval: \u001b[0mWARNING ⚠️ /users/eleves-b/2024/mattia.martino/synthetic_dataset_v3/val_full/images/image_01730.png: ignoring corrupt image/label: non-normalized or out of bounds coordinates [     1.0507]\n",
      "\u001b[34m\u001b[1mval: \u001b[0mWARNING ⚠️ /users/eleves-b/2024/mattia.martino/synthetic_dataset_v3/val_full/images/image_01910.png: ignoring corrupt image/label: non-normalized or out of bounds coordinates [     1.1041]\n",
      "\u001b[34m\u001b[1mval: \u001b[0mWARNING ⚠️ /users/eleves-b/2024/mattia.martino/synthetic_dataset_v3/val_full/images/image_01916.png: ignoring corrupt image/label: non-normalized or out of bounds coordinates [     1.0851]\n",
      "\u001b[34m\u001b[1mval: \u001b[0mWARNING ⚠️ /users/eleves-b/2024/mattia.martino/synthetic_dataset_v3/val_full/images/image_01929.png: ignoring corrupt image/label: non-normalized or out of bounds coordinates [     1.0702]\n",
      "\u001b[34m\u001b[1mval: \u001b[0mWARNING ⚠️ /users/eleves-b/2024/mattia.martino/synthetic_dataset_v3/val_full/images/image_01958.png: ignoring corrupt image/label: non-normalized or out of bounds coordinates [     1.0797]\n",
      "\u001b[34m\u001b[1mval: \u001b[0mWARNING ⚠️ /users/eleves-b/2024/mattia.martino/synthetic_dataset_v3/val_full/images/image_01959.png: ignoring corrupt image/label: non-normalized or out of bounds coordinates [     1.0213]\n",
      "\u001b[34m\u001b[1mval: \u001b[0mWARNING ⚠️ /users/eleves-b/2024/mattia.martino/synthetic_dataset_v3/val_full/images/image_01990.png: ignoring corrupt image/label: non-normalized or out of bounds coordinates [     1.0492]\n",
      "\u001b[34m\u001b[1mval: \u001b[0mWARNING ⚠️ /users/eleves-b/2024/mattia.martino/synthetic_dataset_v3/val_full/images/image_02089.png: ignoring corrupt image/label: non-normalized or out of bounds coordinates [     1.1506]\n",
      "\u001b[34m\u001b[1mval: \u001b[0mWARNING ⚠️ /users/eleves-b/2024/mattia.martino/synthetic_dataset_v3/val_full/images/image_02111.png: ignoring corrupt image/label: non-normalized or out of bounds coordinates [     1.0038]\n",
      "\u001b[34m\u001b[1mval: \u001b[0mWARNING ⚠️ /users/eleves-b/2024/mattia.martino/synthetic_dataset_v3/val_full/images/image_02173.png: ignoring corrupt image/label: non-normalized or out of bounds coordinates [     1.0117]\n",
      "\u001b[34m\u001b[1mval: \u001b[0mWARNING ⚠️ /users/eleves-b/2024/mattia.martino/synthetic_dataset_v3/val_full/images/image_02258.png: ignoring corrupt image/label: non-normalized or out of bounds coordinates [     1.0948]\n",
      "\u001b[34m\u001b[1mval: \u001b[0mWARNING ⚠️ /users/eleves-b/2024/mattia.martino/synthetic_dataset_v3/val_full/images/image_02261.png: ignoring corrupt image/label: non-normalized or out of bounds coordinates [     1.0645]\n",
      "\u001b[34m\u001b[1mval: \u001b[0mWARNING ⚠️ /users/eleves-b/2024/mattia.martino/synthetic_dataset_v3/val_full/images/image_02420.png: ignoring corrupt image/label: non-normalized or out of bounds coordinates [     1.0758]\n",
      "\u001b[34m\u001b[1mval: \u001b[0mWARNING ⚠️ /users/eleves-b/2024/mattia.martino/synthetic_dataset_v3/val_full/images/image_02435.png: ignoring corrupt image/label: non-normalized or out of bounds coordinates [     1.0204]\n",
      "\u001b[34m\u001b[1mval: \u001b[0mWARNING ⚠️ /users/eleves-b/2024/mattia.martino/synthetic_dataset_v3/val_full/images/image_02441.png: ignoring corrupt image/label: non-normalized or out of bounds coordinates [     1.0708]\n",
      "\u001b[34m\u001b[1mval: \u001b[0mNew cache created: /users/eleves-b/2024/mattia.martino/synthetic_dataset_v3/val_full/labels.cache\n"
     ]
    },
    {
     "name": "stderr",
     "output_type": "stream",
     "text": [
      "\n"
     ]
    },
    {
     "name": "stdout",
     "output_type": "stream",
     "text": [
      "Plotting labels to runs/detect/train/labels.jpg... \n",
      "\u001b[34m\u001b[1moptimizer:\u001b[0m 'optimizer=auto' found, ignoring 'lr0=0.01' and 'momentum=0.937' and determining best 'optimizer', 'lr0' and 'momentum' automatically... \n",
      "\u001b[34m\u001b[1moptimizer:\u001b[0m SGD(lr=0.01, momentum=0.9) with parameter groups 81 weight(decay=0.0), 88 weight(decay=0.0005), 87 bias(decay=0.0)\n",
      "Image sizes 640 train, 640 val\n",
      "Using 8 dataloader workers\n",
      "Logging results to \u001b[1mruns/detect/train\u001b[0m\n",
      "Starting training for 75 epochs...\n",
      "\n",
      "      Epoch    GPU_mem   box_loss   cls_loss   dfl_loss  Instances       Size\n"
     ]
    },
    {
     "name": "stderr",
     "output_type": "stream",
     "text": [
      "       1/75      2.69G       2.65      10.24      2.554         20        640: 100%|██████████| 590/590 [00:51<00:00, 11.39it/s]\n",
      "                 Class     Images  Instances      Box(P          R      mAP50  mAP50-95): 100%|██████████| 48/48 [00:03<00:00, 12.83it/s]"
     ]
    },
    {
     "name": "stdout",
     "output_type": "stream",
     "text": [
      "                   all       1519      11420    0.00182     0.0146    0.00144   0.000478\n"
     ]
    },
    {
     "name": "stderr",
     "output_type": "stream",
     "text": [
      "\n"
     ]
    },
    {
     "name": "stdout",
     "output_type": "stream",
     "text": [
      "\n",
      "      Epoch    GPU_mem   box_loss   cls_loss   dfl_loss  Instances       Size\n"
     ]
    },
    {
     "name": "stderr",
     "output_type": "stream",
     "text": [
      "       2/75      2.64G      2.459      7.921      2.368         20        640: 100%|██████████| 590/590 [00:50<00:00, 11.60it/s]\n",
      "                 Class     Images  Instances      Box(P          R      mAP50  mAP50-95): 100%|██████████| 48/48 [00:03<00:00, 12.44it/s]"
     ]
    },
    {
     "name": "stdout",
     "output_type": "stream",
     "text": [
      "                   all       1519      11420   0.000277     0.0234   0.000963   0.000234\n"
     ]
    },
    {
     "name": "stderr",
     "output_type": "stream",
     "text": [
      "\n"
     ]
    },
    {
     "name": "stdout",
     "output_type": "stream",
     "text": [
      "\n",
      "      Epoch    GPU_mem   box_loss   cls_loss   dfl_loss  Instances       Size\n"
     ]
    },
    {
     "name": "stderr",
     "output_type": "stream",
     "text": [
      "       3/75      2.67G      2.495      6.554      2.467          7        640: 100%|██████████| 590/590 [00:50<00:00, 11.69it/s]\n",
      "                 Class     Images  Instances      Box(P          R      mAP50  mAP50-95): 100%|██████████| 48/48 [00:03<00:00, 13.96it/s]"
     ]
    },
    {
     "name": "stdout",
     "output_type": "stream",
     "text": [
      "                   all       1519      11420    0.00113   0.000951   0.000588   0.000213\n"
     ]
    },
    {
     "name": "stderr",
     "output_type": "stream",
     "text": [
      "\n"
     ]
    },
    {
     "name": "stdout",
     "output_type": "stream",
     "text": [
      "\n",
      "      Epoch    GPU_mem   box_loss   cls_loss   dfl_loss  Instances       Size\n"
     ]
    },
    {
     "name": "stderr",
     "output_type": "stream",
     "text": [
      "       4/75      2.71G      2.504      5.507      2.625         17        640: 100%|██████████| 590/590 [00:50<00:00, 11.72it/s]\n",
      "                 Class     Images  Instances      Box(P          R      mAP50  mAP50-95): 100%|██████████| 48/48 [00:03<00:00, 12.35it/s]"
     ]
    },
    {
     "name": "stdout",
     "output_type": "stream",
     "text": [
      "                   all       1519      11420   0.000348     0.0265   0.000672   0.000264\n"
     ]
    },
    {
     "name": "stderr",
     "output_type": "stream",
     "text": [
      "\n"
     ]
    },
    {
     "name": "stdout",
     "output_type": "stream",
     "text": [
      "\n",
      "      Epoch    GPU_mem   box_loss   cls_loss   dfl_loss  Instances       Size\n"
     ]
    },
    {
     "name": "stderr",
     "output_type": "stream",
     "text": [
      "       5/75      2.67G      2.449       5.27      2.611         14        640: 100%|██████████| 590/590 [00:50<00:00, 11.72it/s]\n",
      "                 Class     Images  Instances      Box(P          R      mAP50  mAP50-95): 100%|██████████| 48/48 [00:03<00:00, 12.43it/s]"
     ]
    },
    {
     "name": "stdout",
     "output_type": "stream",
     "text": [
      "                   all       1519      11420   0.000523     0.0235   0.000781   0.000269\n"
     ]
    },
    {
     "name": "stderr",
     "output_type": "stream",
     "text": [
      "\n"
     ]
    },
    {
     "name": "stdout",
     "output_type": "stream",
     "text": [
      "\n",
      "      Epoch    GPU_mem   box_loss   cls_loss   dfl_loss  Instances       Size\n"
     ]
    },
    {
     "name": "stderr",
     "output_type": "stream",
     "text": [
      "       6/75      2.68G      2.392      5.319      2.563         35        640: 100%|██████████| 590/590 [00:50<00:00, 11.70it/s]\n",
      "                 Class     Images  Instances      Box(P          R      mAP50  mAP50-95): 100%|██████████| 48/48 [00:03<00:00, 12.29it/s]"
     ]
    },
    {
     "name": "stdout",
     "output_type": "stream",
     "text": [
      "                   all       1519      11420   0.000526     0.0293   0.000897   0.000308\n"
     ]
    },
    {
     "name": "stderr",
     "output_type": "stream",
     "text": [
      "\n"
     ]
    },
    {
     "name": "stdout",
     "output_type": "stream",
     "text": [
      "\n",
      "      Epoch    GPU_mem   box_loss   cls_loss   dfl_loss  Instances       Size\n"
     ]
    },
    {
     "name": "stderr",
     "output_type": "stream",
     "text": [
      "       7/75      2.67G      2.339      5.227      2.535         39        640: 100%|██████████| 590/590 [00:51<00:00, 11.54it/s]\n",
      "                 Class     Images  Instances      Box(P          R      mAP50  mAP50-95): 100%|██████████| 48/48 [00:03<00:00, 13.28it/s]"
     ]
    },
    {
     "name": "stdout",
     "output_type": "stream",
     "text": [
      "                   all       1519      11420   0.000811    0.00126   0.000489   0.000102\n"
     ]
    },
    {
     "name": "stderr",
     "output_type": "stream",
     "text": [
      "\n"
     ]
    },
    {
     "name": "stdout",
     "output_type": "stream",
     "text": [
      "\n",
      "      Epoch    GPU_mem   box_loss   cls_loss   dfl_loss  Instances       Size\n"
     ]
    },
    {
     "name": "stderr",
     "output_type": "stream",
     "text": [
      "       8/75      2.67G      2.345      5.172      2.496         40        640: 100%|██████████| 590/590 [00:51<00:00, 11.51it/s]\n",
      "                 Class     Images  Instances      Box(P          R      mAP50  mAP50-95): 100%|██████████| 48/48 [00:03<00:00, 12.24it/s]"
     ]
    },
    {
     "name": "stdout",
     "output_type": "stream",
     "text": [
      "                   all       1519      11420   0.000596     0.0339    0.00232   0.000852\n"
     ]
    },
    {
     "name": "stderr",
     "output_type": "stream",
     "text": [
      "\n"
     ]
    },
    {
     "name": "stdout",
     "output_type": "stream",
     "text": [
      "\n",
      "      Epoch    GPU_mem   box_loss   cls_loss   dfl_loss  Instances       Size\n"
     ]
    },
    {
     "name": "stderr",
     "output_type": "stream",
     "text": [
      "       9/75      2.67G      2.289      5.187      2.484         14        640: 100%|██████████| 590/590 [00:51<00:00, 11.54it/s]\n",
      "                 Class     Images  Instances      Box(P          R      mAP50  mAP50-95): 100%|██████████| 48/48 [00:03<00:00, 12.46it/s]"
     ]
    },
    {
     "name": "stdout",
     "output_type": "stream",
     "text": [
      "                   all       1519      11420   0.000954     0.0256   0.000908   0.000341\n"
     ]
    },
    {
     "name": "stderr",
     "output_type": "stream",
     "text": [
      "\n"
     ]
    },
    {
     "name": "stdout",
     "output_type": "stream",
     "text": [
      "\n",
      "      Epoch    GPU_mem   box_loss   cls_loss   dfl_loss  Instances       Size\n"
     ]
    },
    {
     "name": "stderr",
     "output_type": "stream",
     "text": [
      "      10/75      2.67G      2.296      5.177      2.454          6        640: 100%|██████████| 590/590 [00:51<00:00, 11.55it/s]\n",
      "                 Class     Images  Instances      Box(P          R      mAP50  mAP50-95): 100%|██████████| 48/48 [00:03<00:00, 12.25it/s]"
     ]
    },
    {
     "name": "stdout",
     "output_type": "stream",
     "text": [
      "                   all       1519      11420   0.000486     0.0293     0.0011   0.000405\n"
     ]
    },
    {
     "name": "stderr",
     "output_type": "stream",
     "text": [
      "\n"
     ]
    },
    {
     "name": "stdout",
     "output_type": "stream",
     "text": [
      "\n",
      "      Epoch    GPU_mem   box_loss   cls_loss   dfl_loss  Instances       Size\n"
     ]
    },
    {
     "name": "stderr",
     "output_type": "stream",
     "text": [
      "      11/75      2.67G       2.25      5.027      2.438         14        640: 100%|██████████| 590/590 [00:51<00:00, 11.53it/s]\n",
      "                 Class     Images  Instances      Box(P          R      mAP50  mAP50-95): 100%|██████████| 48/48 [00:03<00:00, 12.94it/s]"
     ]
    },
    {
     "name": "stdout",
     "output_type": "stream",
     "text": [
      "                   all       1519      11420   6.92e-06   3.66e-05   3.47e-06   8.09e-07\n"
     ]
    },
    {
     "name": "stderr",
     "output_type": "stream",
     "text": [
      "\n"
     ]
    },
    {
     "name": "stdout",
     "output_type": "stream",
     "text": [
      "\n",
      "      Epoch    GPU_mem   box_loss   cls_loss   dfl_loss  Instances       Size\n"
     ]
    },
    {
     "name": "stderr",
     "output_type": "stream",
     "text": [
      "      12/75      2.68G      2.279      5.134      2.446          7        640: 100%|██████████| 590/590 [00:51<00:00, 11.53it/s]\n",
      "                 Class     Images  Instances      Box(P          R      mAP50  mAP50-95): 100%|██████████| 48/48 [00:03<00:00, 12.38it/s]"
     ]
    },
    {
     "name": "stdout",
     "output_type": "stream",
     "text": [
      "                   all       1519      11420    0.00139     0.0307    0.00315    0.00114\n"
     ]
    },
    {
     "name": "stderr",
     "output_type": "stream",
     "text": [
      "\n"
     ]
    },
    {
     "name": "stdout",
     "output_type": "stream",
     "text": [
      "\n",
      "      Epoch    GPU_mem   box_loss   cls_loss   dfl_loss  Instances       Size\n"
     ]
    },
    {
     "name": "stderr",
     "output_type": "stream",
     "text": [
      "      13/75      2.67G      2.224       5.26      2.406         18        640: 100%|██████████| 590/590 [00:51<00:00, 11.54it/s]\n",
      "                 Class     Images  Instances      Box(P          R      mAP50  mAP50-95): 100%|██████████| 48/48 [00:03<00:00, 12.26it/s]"
     ]
    },
    {
     "name": "stdout",
     "output_type": "stream",
     "text": [
      "                   all       1519      11420   0.000631      0.034    0.00362    0.00112\n"
     ]
    },
    {
     "name": "stderr",
     "output_type": "stream",
     "text": [
      "\n"
     ]
    },
    {
     "name": "stdout",
     "output_type": "stream",
     "text": [
      "\n",
      "      Epoch    GPU_mem   box_loss   cls_loss   dfl_loss  Instances       Size\n"
     ]
    },
    {
     "name": "stderr",
     "output_type": "stream",
     "text": [
      "      14/75      2.65G      2.198      4.957      2.405         15        640:  67%|██████▋   | 395/590 [00:34<00:16, 11.49it/s]\n"
     ]
    },
    {
     "ename": "KeyboardInterrupt",
     "evalue": "",
     "output_type": "error",
     "traceback": [
      "\u001b[0;31m---------------------------------------------------------------------------\u001b[0m",
      "\u001b[0;31mKeyboardInterrupt\u001b[0m                         Traceback (most recent call last)",
      "Cell \u001b[0;32mIn[17], line 3\u001b[0m\n\u001b[1;32m      1\u001b[0m model2 \u001b[38;5;241m=\u001b[39m YOLO(\u001b[38;5;124m'\u001b[39m\u001b[38;5;124myolo11n.pt\u001b[39m\u001b[38;5;124m'\u001b[39m)\n\u001b[0;32m----> 3\u001b[0m results2 \u001b[38;5;241m=\u001b[39m \u001b[43mmodel2\u001b[49m\u001b[38;5;241;43m.\u001b[39;49m\u001b[43mtrain\u001b[49m\u001b[43m(\u001b[49m\n\u001b[1;32m      4\u001b[0m \u001b[43m    \u001b[49m\u001b[43mdata\u001b[49m\u001b[38;5;241;43m=\u001b[39;49m\u001b[38;5;124;43m'\u001b[39;49m\u001b[38;5;124;43msynthetic_dataset_v3/data_full.yaml\u001b[39;49m\u001b[38;5;124;43m'\u001b[39;49m\u001b[43m,\u001b[49m\n\u001b[1;32m      5\u001b[0m \u001b[43m    \u001b[49m\u001b[43mepochs\u001b[49m\u001b[38;5;241;43m=\u001b[39;49m\u001b[38;5;241;43m75\u001b[39;49m\u001b[43m,\u001b[49m\n\u001b[1;32m      6\u001b[0m \u001b[43m    \u001b[49m\u001b[43mimgsz\u001b[49m\u001b[38;5;241;43m=\u001b[39;49m\u001b[38;5;241;43m640\u001b[39;49m\u001b[43m,\u001b[49m\n\u001b[1;32m      7\u001b[0m \u001b[43m    \u001b[49m\u001b[43mbatch\u001b[49m\u001b[38;5;241;43m=\u001b[39;49m\u001b[38;5;241;43m16\u001b[39;49m\u001b[43m,\u001b[49m\n\u001b[1;32m      8\u001b[0m \u001b[43m    \u001b[49m\u001b[43mworkers\u001b[49m\u001b[38;5;241;43m=\u001b[39;49m\u001b[38;5;241;43m8\u001b[39;49m\u001b[43m,\u001b[49m\n\u001b[1;32m      9\u001b[0m \u001b[43m    \u001b[49m\u001b[43mdevice\u001b[49m\u001b[38;5;241;43m=\u001b[39;49m\u001b[38;5;241;43m0\u001b[39;49m\n\u001b[1;32m     10\u001b[0m \u001b[43m)\u001b[49m\n",
      "File \u001b[0;32m~/miniconda3/lib/python3.12/site-packages/ultralytics/engine/model.py:805\u001b[0m, in \u001b[0;36mModel.train\u001b[0;34m(self, trainer, **kwargs)\u001b[0m\n\u001b[1;32m    802\u001b[0m     \u001b[38;5;28mself\u001b[39m\u001b[38;5;241m.\u001b[39mmodel \u001b[38;5;241m=\u001b[39m \u001b[38;5;28mself\u001b[39m\u001b[38;5;241m.\u001b[39mtrainer\u001b[38;5;241m.\u001b[39mmodel\n\u001b[1;32m    804\u001b[0m \u001b[38;5;28mself\u001b[39m\u001b[38;5;241m.\u001b[39mtrainer\u001b[38;5;241m.\u001b[39mhub_session \u001b[38;5;241m=\u001b[39m \u001b[38;5;28mself\u001b[39m\u001b[38;5;241m.\u001b[39msession  \u001b[38;5;66;03m# attach optional HUB session\u001b[39;00m\n\u001b[0;32m--> 805\u001b[0m \u001b[38;5;28;43mself\u001b[39;49m\u001b[38;5;241;43m.\u001b[39;49m\u001b[43mtrainer\u001b[49m\u001b[38;5;241;43m.\u001b[39;49m\u001b[43mtrain\u001b[49m\u001b[43m(\u001b[49m\u001b[43m)\u001b[49m\n\u001b[1;32m    806\u001b[0m \u001b[38;5;66;03m# Update model and cfg after training\u001b[39;00m\n\u001b[1;32m    807\u001b[0m \u001b[38;5;28;01mif\u001b[39;00m RANK \u001b[38;5;129;01min\u001b[39;00m {\u001b[38;5;241m-\u001b[39m\u001b[38;5;241m1\u001b[39m, \u001b[38;5;241m0\u001b[39m}:\n",
      "File \u001b[0;32m~/miniconda3/lib/python3.12/site-packages/ultralytics/engine/trainer.py:207\u001b[0m, in \u001b[0;36mBaseTrainer.train\u001b[0;34m(self)\u001b[0m\n\u001b[1;32m    204\u001b[0m         ddp_cleanup(\u001b[38;5;28mself\u001b[39m, \u001b[38;5;28mstr\u001b[39m(file))\n\u001b[1;32m    206\u001b[0m \u001b[38;5;28;01melse\u001b[39;00m:\n\u001b[0;32m--> 207\u001b[0m     \u001b[38;5;28;43mself\u001b[39;49m\u001b[38;5;241;43m.\u001b[39;49m\u001b[43m_do_train\u001b[49m\u001b[43m(\u001b[49m\u001b[43mworld_size\u001b[49m\u001b[43m)\u001b[49m\n",
      "File \u001b[0;32m~/miniconda3/lib/python3.12/site-packages/ultralytics/engine/trainer.py:408\u001b[0m, in \u001b[0;36mBaseTrainer._do_train\u001b[0;34m(self, world_size)\u001b[0m\n\u001b[1;32m    406\u001b[0m \u001b[38;5;28;01mif\u001b[39;00m RANK \u001b[38;5;129;01min\u001b[39;00m {\u001b[38;5;241m-\u001b[39m\u001b[38;5;241m1\u001b[39m, \u001b[38;5;241m0\u001b[39m}:\n\u001b[1;32m    407\u001b[0m     loss_length \u001b[38;5;241m=\u001b[39m \u001b[38;5;28mself\u001b[39m\u001b[38;5;241m.\u001b[39mtloss\u001b[38;5;241m.\u001b[39mshape[\u001b[38;5;241m0\u001b[39m] \u001b[38;5;28;01mif\u001b[39;00m \u001b[38;5;28mlen\u001b[39m(\u001b[38;5;28mself\u001b[39m\u001b[38;5;241m.\u001b[39mtloss\u001b[38;5;241m.\u001b[39mshape) \u001b[38;5;28;01melse\u001b[39;00m \u001b[38;5;241m1\u001b[39m\n\u001b[0;32m--> 408\u001b[0m     \u001b[43mpbar\u001b[49m\u001b[38;5;241;43m.\u001b[39;49m\u001b[43mset_description\u001b[49m\u001b[43m(\u001b[49m\n\u001b[1;32m    409\u001b[0m \u001b[43m        \u001b[49m\u001b[43m(\u001b[49m\u001b[38;5;124;43m\"\u001b[39;49m\u001b[38;5;132;43;01m%11s\u001b[39;49;00m\u001b[38;5;124;43m\"\u001b[39;49m\u001b[43m \u001b[49m\u001b[38;5;241;43m*\u001b[39;49m\u001b[43m \u001b[49m\u001b[38;5;241;43m2\u001b[39;49m\u001b[43m \u001b[49m\u001b[38;5;241;43m+\u001b[39;49m\u001b[43m \u001b[49m\u001b[38;5;124;43m\"\u001b[39;49m\u001b[38;5;132;43;01m%11.4g\u001b[39;49;00m\u001b[38;5;124;43m\"\u001b[39;49m\u001b[43m \u001b[49m\u001b[38;5;241;43m*\u001b[39;49m\u001b[43m \u001b[49m\u001b[43m(\u001b[49m\u001b[38;5;241;43m2\u001b[39;49m\u001b[43m \u001b[49m\u001b[38;5;241;43m+\u001b[39;49m\u001b[43m \u001b[49m\u001b[43mloss_length\u001b[49m\u001b[43m)\u001b[49m\u001b[43m)\u001b[49m\n\u001b[1;32m    410\u001b[0m \u001b[43m        \u001b[49m\u001b[38;5;241;43m%\u001b[39;49m\u001b[43m \u001b[49m\u001b[43m(\u001b[49m\n\u001b[1;32m    411\u001b[0m \u001b[43m            \u001b[49m\u001b[38;5;124;43mf\u001b[39;49m\u001b[38;5;124;43m\"\u001b[39;49m\u001b[38;5;132;43;01m{\u001b[39;49;00m\u001b[43mepoch\u001b[49m\u001b[38;5;250;43m \u001b[39;49m\u001b[38;5;241;43m+\u001b[39;49m\u001b[38;5;250;43m \u001b[39;49m\u001b[38;5;241;43m1\u001b[39;49m\u001b[38;5;132;43;01m}\u001b[39;49;00m\u001b[38;5;124;43m/\u001b[39;49m\u001b[38;5;132;43;01m{\u001b[39;49;00m\u001b[38;5;28;43mself\u001b[39;49m\u001b[38;5;241;43m.\u001b[39;49m\u001b[43mepochs\u001b[49m\u001b[38;5;132;43;01m}\u001b[39;49;00m\u001b[38;5;124;43m\"\u001b[39;49m\u001b[43m,\u001b[49m\n\u001b[1;32m    412\u001b[0m \u001b[43m            \u001b[49m\u001b[38;5;124;43mf\u001b[39;49m\u001b[38;5;124;43m\"\u001b[39;49m\u001b[38;5;132;43;01m{\u001b[39;49;00m\u001b[38;5;28;43mself\u001b[39;49m\u001b[38;5;241;43m.\u001b[39;49m\u001b[43m_get_memory\u001b[49m\u001b[43m(\u001b[49m\u001b[43m)\u001b[49m\u001b[38;5;132;43;01m:\u001b[39;49;00m\u001b[38;5;124;43m.3g\u001b[39;49m\u001b[38;5;132;43;01m}\u001b[39;49;00m\u001b[38;5;124;43mG\u001b[39;49m\u001b[38;5;124;43m\"\u001b[39;49m\u001b[43m,\u001b[49m\u001b[43m  \u001b[49m\u001b[38;5;66;43;03m# (GB) GPU memory util\u001b[39;49;00m\n\u001b[1;32m    413\u001b[0m \u001b[43m            \u001b[49m\u001b[38;5;241;43m*\u001b[39;49m\u001b[43m(\u001b[49m\u001b[38;5;28;43mself\u001b[39;49m\u001b[38;5;241;43m.\u001b[39;49m\u001b[43mtloss\u001b[49m\u001b[43m \u001b[49m\u001b[38;5;28;43;01mif\u001b[39;49;00m\u001b[43m \u001b[49m\u001b[43mloss_length\u001b[49m\u001b[43m \u001b[49m\u001b[38;5;241;43m>\u001b[39;49m\u001b[43m \u001b[49m\u001b[38;5;241;43m1\u001b[39;49m\u001b[43m \u001b[49m\u001b[38;5;28;43;01melse\u001b[39;49;00m\u001b[43m \u001b[49m\u001b[43mtorch\u001b[49m\u001b[38;5;241;43m.\u001b[39;49m\u001b[43munsqueeze\u001b[49m\u001b[43m(\u001b[49m\u001b[38;5;28;43mself\u001b[39;49m\u001b[38;5;241;43m.\u001b[39;49m\u001b[43mtloss\u001b[49m\u001b[43m,\u001b[49m\u001b[43m \u001b[49m\u001b[38;5;241;43m0\u001b[39;49m\u001b[43m)\u001b[49m\u001b[43m)\u001b[49m\u001b[43m,\u001b[49m\u001b[43m  \u001b[49m\u001b[38;5;66;43;03m# losses\u001b[39;49;00m\n\u001b[1;32m    414\u001b[0m \u001b[43m            \u001b[49m\u001b[43mbatch\u001b[49m\u001b[43m[\u001b[49m\u001b[38;5;124;43m\"\u001b[39;49m\u001b[38;5;124;43mcls\u001b[39;49m\u001b[38;5;124;43m\"\u001b[39;49m\u001b[43m]\u001b[49m\u001b[38;5;241;43m.\u001b[39;49m\u001b[43mshape\u001b[49m\u001b[43m[\u001b[49m\u001b[38;5;241;43m0\u001b[39;49m\u001b[43m]\u001b[49m\u001b[43m,\u001b[49m\u001b[43m  \u001b[49m\u001b[38;5;66;43;03m# batch size, i.e. 8\u001b[39;49;00m\n\u001b[1;32m    415\u001b[0m \u001b[43m            \u001b[49m\u001b[43mbatch\u001b[49m\u001b[43m[\u001b[49m\u001b[38;5;124;43m\"\u001b[39;49m\u001b[38;5;124;43mimg\u001b[39;49m\u001b[38;5;124;43m\"\u001b[39;49m\u001b[43m]\u001b[49m\u001b[38;5;241;43m.\u001b[39;49m\u001b[43mshape\u001b[49m\u001b[43m[\u001b[49m\u001b[38;5;241;43m-\u001b[39;49m\u001b[38;5;241;43m1\u001b[39;49m\u001b[43m]\u001b[49m\u001b[43m,\u001b[49m\u001b[43m  \u001b[49m\u001b[38;5;66;43;03m# imgsz, i.e 640\u001b[39;49;00m\n\u001b[1;32m    416\u001b[0m \u001b[43m        \u001b[49m\u001b[43m)\u001b[49m\n\u001b[1;32m    417\u001b[0m \u001b[43m    \u001b[49m\u001b[43m)\u001b[49m\n\u001b[1;32m    418\u001b[0m     \u001b[38;5;28mself\u001b[39m\u001b[38;5;241m.\u001b[39mrun_callbacks(\u001b[38;5;124m\"\u001b[39m\u001b[38;5;124mon_batch_end\u001b[39m\u001b[38;5;124m\"\u001b[39m)\n\u001b[1;32m    419\u001b[0m     \u001b[38;5;28;01mif\u001b[39;00m \u001b[38;5;28mself\u001b[39m\u001b[38;5;241m.\u001b[39margs\u001b[38;5;241m.\u001b[39mplots \u001b[38;5;129;01mand\u001b[39;00m ni \u001b[38;5;129;01min\u001b[39;00m \u001b[38;5;28mself\u001b[39m\u001b[38;5;241m.\u001b[39mplot_idx:\n",
      "File \u001b[0;32m~/miniconda3/lib/python3.12/site-packages/tqdm/std.py:1382\u001b[0m, in \u001b[0;36mtqdm.set_description\u001b[0;34m(self, desc, refresh)\u001b[0m\n\u001b[1;32m   1379\u001b[0m     \u001b[38;5;28mself\u001b[39m\u001b[38;5;241m.\u001b[39m_ema_miniters \u001b[38;5;241m=\u001b[39m EMA(\u001b[38;5;28mself\u001b[39m\u001b[38;5;241m.\u001b[39msmoothing)\n\u001b[1;32m   1380\u001b[0m     \u001b[38;5;28mself\u001b[39m\u001b[38;5;241m.\u001b[39mrefresh()\n\u001b[0;32m-> 1382\u001b[0m \u001b[38;5;28;01mdef\u001b[39;00m \u001b[38;5;21mset_description\u001b[39m(\u001b[38;5;28mself\u001b[39m, desc\u001b[38;5;241m=\u001b[39m\u001b[38;5;28;01mNone\u001b[39;00m, refresh\u001b[38;5;241m=\u001b[39m\u001b[38;5;28;01mTrue\u001b[39;00m):\n\u001b[1;32m   1383\u001b[0m \u001b[38;5;250m    \u001b[39m\u001b[38;5;124;03m\"\"\"\u001b[39;00m\n\u001b[1;32m   1384\u001b[0m \u001b[38;5;124;03m    Set/modify description of the progress bar.\u001b[39;00m\n\u001b[1;32m   1385\u001b[0m \n\u001b[0;32m   (...)\u001b[0m\n\u001b[1;32m   1390\u001b[0m \u001b[38;5;124;03m        Forces refresh [default: True].\u001b[39;00m\n\u001b[1;32m   1391\u001b[0m \u001b[38;5;124;03m    \"\"\"\u001b[39;00m\n\u001b[1;32m   1392\u001b[0m     \u001b[38;5;28mself\u001b[39m\u001b[38;5;241m.\u001b[39mdesc \u001b[38;5;241m=\u001b[39m desc \u001b[38;5;241m+\u001b[39m \u001b[38;5;124m'\u001b[39m\u001b[38;5;124m: \u001b[39m\u001b[38;5;124m'\u001b[39m \u001b[38;5;28;01mif\u001b[39;00m desc \u001b[38;5;28;01melse\u001b[39;00m \u001b[38;5;124m'\u001b[39m\u001b[38;5;124m'\u001b[39m\n",
      "\u001b[0;31mKeyboardInterrupt\u001b[0m: "
     ]
    }
   ],
   "source": [
    "model2 = YOLO('yolo11n.pt')\n",
    "\n",
    "results2 = model2.train(\n",
    "    data='synthetic_dataset_v3/data_full.yaml',\n",
    "    epochs=75,\n",
    "    imgsz=640,\n",
    "    batch=16,\n",
    "    workers=8,\n",
    "    device=0\n",
    ")"
   ]
  }
 ],
 "metadata": {
  "kernelspec": {
   "display_name": "base",
   "language": "python",
   "name": "python3"
  },
  "language_info": {
   "codemirror_mode": {
    "name": "ipython",
    "version": 3
   },
   "file_extension": ".py",
   "mimetype": "text/x-python",
   "name": "python",
   "nbconvert_exporter": "python",
   "pygments_lexer": "ipython3",
   "version": "undefined.undefined.undefined"
  }
 },
 "nbformat": 4,
 "nbformat_minor": 2
}
